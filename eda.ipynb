{
 "cells": [
  {
   "cell_type": "code",
   "execution_count": null,
   "metadata": {},
   "outputs": [],
   "source": [
    "import pandas as pd\n",
    "import plotly.express as px\n",
    "\n",
    "pd.set_option('display.max_columns', None)\n",
    "pd.set_option('display.max_rows', None)\n",
    "pd.set_option('display.max_colwidth', None)"
   ]
  },
  {
   "cell_type": "code",
   "execution_count": null,
   "metadata": {},
   "outputs": [],
   "source": [
    "# https://www.kaggle.com/datasets/sahirmaharajj/fuel-economy\n",
    "df = pd.read_csv('data/vehicle.csv')\n",
    "df.dropna(axis=1, how='all', inplace=True)\n",
    "df = df[df['year'] >= 2000]\n",
    "\n",
    "is_single_value = df.nunique() == 1\n",
    "\n",
    "columns_to_drop = is_single_value[is_single_value].index\n",
    "\n",
    "df.drop(columns=columns_to_drop, inplace=True)\n",
    "\n",
    "\n",
    "df.head()"
   ]
  },
  {
   "cell_type": "code",
   "execution_count": null,
   "metadata": {},
   "outputs": [],
   "source": [
    "df.info()"
   ]
  },
  {
   "cell_type": "code",
   "execution_count": null,
   "metadata": {},
   "outputs": [],
   "source": [
    "df.describe()"
   ]
  },
  {
   "cell_type": "code",
   "execution_count": null,
   "metadata": {},
   "outputs": [],
   "source": [
    "top_car_brands = [\n",
    "    \"Toyota\",\n",
    "    \"Volkswagen\",\n",
    "    \"Ford\",\n",
    "    \"Honda\",\n",
    "    \"Chevrolet\",\n",
    "    \"Nissan\",\n",
    "    \"Hyundai\",\n",
    "    \"Mercedes-Benz\",\n",
    "    \"BMW\",\n",
    "    \"Audi\",\n",
    "    \"Kia\",\n",
    "    \"Subaru\",\n",
    "    \"Tesla\",\n",
    "    \"Fiat\",\n",
    "    \"Jeep\",\n",
    "    \"Volvo\",\n",
    "    \"Porsche\",\n",
    "    \"Mazda\",\n",
    "    \"Lexus\",\n",
    "    \"Land Rover\"\n",
    "][:10]\n",
    "\n",
    "df = df[df['make'].isin(top_car_brands)]\n",
    "df.shape"
   ]
  },
  {
   "cell_type": "code",
   "execution_count": null,
   "metadata": {},
   "outputs": [],
   "source": [
    "mpg_ft1 = df.groupby(['make', 'year'])[['unadjusted_city_mpg_ft1', 'unadjusted_highway_mpg_ft1']].mean().mean(axis=1).reset_index()\n",
    "mpg_ft2 = df.groupby(['make', 'year'])[['unadjusted_city_mpg_ft2', 'unadjusted_highway_mpg_ft2']].mean().mean(axis=1).reset_index()\n",
    "mpg_ft1.columns = ['make', 'year', 'average_mpg_ft1']\n",
    "mpg_ft2.columns = ['make', 'year', 'average_mpg_ft2']"
   ]
  },
  {
   "cell_type": "code",
   "execution_count": null,
   "metadata": {},
   "outputs": [],
   "source": [
    "fig = px.line(data_frame=mpg_ft1, \n",
    "              x=\"year\", y=\"average_mpg_ft1\", \n",
    "                 color=\"make\", \n",
    "                 hover_name=\"make\", \n",
    "                 )\n",
    "fig"
   ]
  },
  {
   "cell_type": "code",
   "execution_count": null,
   "metadata": {},
   "outputs": [],
   "source": [
    "# df[df['make'] == 'Mercedes-Benz'][['make', 'year', 'model', 'unadjusted_highway_mpg_ft2']]"
   ]
  },
  {
   "cell_type": "code",
   "execution_count": null,
   "metadata": {},
   "outputs": [],
   "source": [
    "temp = df[df['fuel_economy_score'] != -1][['make', 'model', 'year', 'fuel_economy_score']]\n",
    "temp.shape"
   ]
  },
  {
   "cell_type": "code",
   "execution_count": null,
   "metadata": {},
   "outputs": [],
   "source": [
    "temp = df[df['fuel_economy_score'] != -1][['make', 'model', 'year', 'fuel_economy_score']]\n",
    "most_recent_dates_idx = temp.groupby('model')['year'].idxmax()\n",
    "temp = temp.loc[most_recent_dates_idx].sort_values(by=['make', 'model', 'year'], ascending=False)\n",
    "\n",
    "fig = px.scatter(data_frame=temp, \n",
    "              x=\"fuel_economy_score\", y=\"make\", \n",
    "                 color=\"make\", \n",
    "                 hover_name=\"model\", \n",
    "                 )\n",
    "fig"
   ]
  },
  {
   "cell_type": "code",
   "execution_count": null,
   "metadata": {},
   "outputs": [],
   "source": [
    "temp = df[df['fuel_economy_score'] != -1][['make', 'model', 'year', 'fuel_economy_score']].sort_values(by=['model', 'year'])\n",
    "#most_recent_dates_idx = temp.groupby('model')['year'].idxmax()\n",
    "\n",
    "temp = temp[temp['make'] == 'BMW']\n",
    "fig = px.line(data_frame=temp, \n",
    "              x=\"year\", y=\"fuel_economy_score\", \n",
    "                 color=\"model\", \n",
    "                 hover_name=\"model\", \n",
    "                 )\n",
    "fig"
   ]
  },
  {
   "cell_type": "code",
   "execution_count": null,
   "metadata": {},
   "outputs": [],
   "source": [
    "df.head()"
   ]
  },
  {
   "cell_type": "code",
   "execution_count": null,
   "metadata": {},
   "outputs": [],
   "source": [
    "df[df['fuel_type'] == 'Electricity'].head(10)"
   ]
  },
  {
   "cell_type": "code",
   "execution_count": null,
   "metadata": {},
   "outputs": [],
   "source": [
    "df[(df['city_mpg_ft1'] != 0.0) & (df['city_mpg_ft2'] != 0.0)].head()"
   ]
  },
  {
   "cell_type": "code",
   "execution_count": null,
   "metadata": {},
   "outputs": [],
   "source": [
    "#list(df['fuel_type_1'].unique()) + [' '] + \n",
    "list(df['fuel_type_1'].unique())"
   ]
  },
  {
   "cell_type": "code",
   "execution_count": null,
   "metadata": {},
   "outputs": [],
   "source": [
    "# which car brands have the best:\n",
    "\n",
    "## CAPABILITIES\n",
    "# mpg? (highway and city)\n",
    "# range (city and highway)\n",
    "\n",
    "\n",
    "## CONSUMPTION\n",
    "# highest combined electricty consumption? (highway and city)\n",
    "# highest combined gasoline consumption? (highway and city)\n",
    "# annual consumption in barrels\n",
    "\n",
    "# annual fuel cost\n",
    "\n",
    "## CLEANLINESS RATING\n",
    "# tailpipe co2 in grams per mile\n",
    "\n",
    "df.head()#[df['hours_to_charge_120v'] != 0.0]\n"
   ]
  },
  {
   "cell_type": "code",
   "execution_count": null,
   "metadata": {},
   "outputs": [],
   "source": [
    "df.head()"
   ]
  },
  {
   "cell_type": "code",
   "execution_count": null,
   "metadata": {},
   "outputs": [],
   "source": [
    "df['fuel_type_1'].unique()"
   ]
  },
  {
   "cell_type": "code",
   "execution_count": null,
   "metadata": {},
   "outputs": [],
   "source": [
    "most_recent_year = df['year'].max()\n",
    "temp = df[df['year'] == most_recent_year].groupby(['make', 'fuel_type_1']).count()\n",
    "temp = temp.reset_index().iloc[:, :3]\n",
    "temp.columns = ['make', 'type', 'count']\n",
    "\n",
    "temp2 = df[df['year'] == most_recent_year].groupby(['make']).count()\n",
    "temp2 = temp2.reset_index().iloc[:, :2]\n",
    "temp2.columns = ['make', 'total_count']\n",
    "temp = temp.merge(temp2, on='make')\n",
    "#temp['total_count'] = temp2.iloc[:, 0]\n",
    "#temp"
   ]
  },
  {
   "cell_type": "code",
   "execution_count": null,
   "metadata": {},
   "outputs": [],
   "source": [
    "df = pd.read_csv('data/vehicle.csv', low_memory=False)\n",
    "\n",
    "most_recent_year = df['year'].max()\n",
    "temp = df[df['year'] == most_recent_year].groupby(['make', 'fuel_type_1']).count()\n",
    "temp = temp.reset_index().iloc[:, :3]\n",
    "temp.columns = ['make', 'type', 'count']\n",
    "\n",
    "temp2 = df[df['year'] == most_recent_year].groupby(['make']).count()\n",
    "temp2 = temp2.reset_index().iloc[:, :2]\n",
    "temp2.columns = ['make', 'total_count']\n",
    "temp = temp.merge(temp2, on='make').sort_values(by=['total_count'])\n",
    "fig = px.bar(temp,\n",
    "            x='make',\n",
    "            y='count',\n",
    "            color='type',\n",
    "            title=f'Number of Models Per Brand ({most_recent_year})',\n",
    "            hover_data='total_count',\n",
    "            category_orders={'make': temp['make'].tolist()[::-1]}\n",
    "            )   \n",
    "fig"
   ]
  },
  {
   "cell_type": "code",
   "execution_count": null,
   "metadata": {},
   "outputs": [],
   "source": [
    "temp.sort_values(by=['total_count', 'count'], ascending=False).head(20)"
   ]
  },
  {
   "cell_type": "code",
   "execution_count": null,
   "metadata": {},
   "outputs": [],
   "source": [
    "popular_car_brands_us = [\n",
    "    \"Ford\",\n",
    "    \"Chevrolet\",\n",
    "    \"Toyota\",\n",
    "    \"Honda\",\n",
    "    \"Nissan\",\n",
    "    \"Jeep\",\n",
    "    \"RAM\",\n",
    "    \"GMC\",\n",
    "    \"Hyundai\",\n",
    "    \"Subaru\",\n",
    "    \"Kia\",\n",
    "    \"Volkswagen\",\n",
    "    \"Mercedes-Benz\",\n",
    "    \"BMW\",\n",
    "    \"Audi\",\n",
    "    \"Lexus\",\n",
    "    \"Tesla\",\n",
    "    \"Cadillac\",\n",
    "    \"Mazda\",\n",
    "    \"Buick\",\n",
    "    \"Chrysler\",\n",
    "    \"Lincoln\",\n",
    "    \"Volvo\",\n",
    "    \"Acura\",\n",
    "    \"Infiniti\",\n",
    "    \"Porsche\",\n",
    "    \"Land Rover\",\n",
    "    \"Jaguar\",\n",
    "    \"Mini\",\n",
    "    \"Mitsubishi\"\n",
    "]\n",
    "df = df[df['make'].isin(popular_car_brands_us)]\n",
    "df.shape"
   ]
  },
  {
   "cell_type": "code",
   "execution_count": null,
   "metadata": {},
   "outputs": [],
   "source": [
    "df.head(10)"
   ]
  },
  {
   "cell_type": "code",
   "execution_count": null,
   "metadata": {},
   "outputs": [],
   "source": [
    "temp[temp['fuel_type_1'] == 'Regular Gasoline'].head()"
   ]
  },
  {
   "cell_type": "code",
   "execution_count": null,
   "metadata": {},
   "outputs": [],
   "source": [
    "import plotly.graph_objects as go\n",
    "from plotly.subplots import make_subplots\n",
    "temp = df[df['year'] == most_recent_year]\n",
    "\n",
    "fig = make_subplots(rows=5, cols=1)\n",
    "range_max = temp['highway_mpg_ft1'].max() + 20\n",
    "range_min = temp['highway_mpg_ft1'].min() - 20\n",
    "\n",
    "fig.add_trace(go.Histogram(x=temp[temp['fuel_type_1'] == 'Regular Gasoline']['highway_mpg_ft1'],\n",
    "                           nbinsx=50,\n",
    "                           histnorm='percent',\n",
    "                           marker_color=px.colors.qualitative.D3[0]\n",
    "                           ), 1, 1)\n",
    "\n",
    "fig.add_trace(go.Histogram(x=temp[temp['fuel_type_1'] == 'Midgrade Gasoline']['highway_mpg_ft1'],\n",
    "                           nbinsx=50,\n",
    "                           histnorm='percent',\n",
    "                           marker_color=px.colors.qualitative.D3[1]\n",
    "                           ), 2, 1)\n",
    "\n",
    "fig.add_trace(go.Histogram(x=temp[temp['fuel_type_1'] == 'Premium Gasoline']['highway_mpg_ft1'],\n",
    "                           nbinsx=50,\n",
    "                           histnorm='percent',\n",
    "                           marker_color=px.colors.qualitative.D3[2]\n",
    "                           ), 3, 1)\n",
    "\n",
    "fig.add_trace(go.Histogram(x=temp[temp['fuel_type_1'] == 'Diesel']['highway_mpg_ft1'],\n",
    "                           nbinsx=50,\n",
    "                           histnorm='percent',\n",
    "                           marker_color=px.colors.qualitative.D3[3]\n",
    "                           ), 4, 1)\n",
    "\n",
    "fig.add_trace(go.Histogram(x=temp[temp['fuel_type_1'] == 'Electricity']['highway_mpg_ft1'],\n",
    "                           nbinsx=50,\n",
    "                           histnorm='percent',\n",
    "                           marker_color=px.colors.qualitative.D3[4]\n",
    "                           ), 5, 1)\n",
    "fig.update_xaxes(range=[range_min, range_max])\n",
    "for i in range(4):\n",
    "    fig.update_xaxes(showticklabels=False, row=i+1, col=1)\n",
    "fig.update_layout(\n",
    "        title='MPG(e) Distribution',\n",
    "        font=dict(\n",
    "                    size=14  # Set the font size to 14\n",
    "                ),\n",
    "        #plot_bgcolor='#111111',\n",
    "        paper_bgcolor='#f0f0f0',\n",
    "        margin=dict(t=60)\n",
    "    )\n",
    "fig"
   ]
  },
  {
   "cell_type": "code",
   "execution_count": null,
   "metadata": {},
   "outputs": [],
   "source": [
    "fig = make_subplots(rows=1, cols=1)\n",
    "range_max = temp['highway_mpg_ft1'].max() + 20\n",
    "range_min = temp['highway_mpg_ft1'].min() - 20\n",
    "\n",
    "fig.add_trace(go.Histogram(x=temp[temp['fuel_type_1'] == 'Regular Gasoline']['highway_mpg_ft1'],\n",
    "                           xbins=dict(start=range_min, end=range_max)\n",
    "                           ), 1, 1)\n",
    "\n",
    "fig"
   ]
  },
  {
   "cell_type": "code",
   "execution_count": null,
   "metadata": {},
   "outputs": [],
   "source": [
    "fig = px.histogram(temp, x='highway_mpg_ft1',\n",
    "                 facet_row='fuel_type_1',\n",
    "                 histnorm='probability density',\n",
    "                 title='Sepal Length vs Sepal Width by Species')\n",
    "\n",
    "# Update layout\n",
    "fig.update_layout(height=800, width=800, title_font_size=20)\n",
    "\n",
    "# Show plot\n",
    "fig"
   ]
  },
  {
   "cell_type": "code",
   "execution_count": null,
   "metadata": {},
   "outputs": [],
   "source": [
    "temp[temp['fuel_type_1'] == 'Electricity Gasoline']"
   ]
  },
  {
   "cell_type": "code",
   "execution_count": null,
   "metadata": {},
   "outputs": [],
   "source": [
    "import plotly.express as px\n",
    "import seaborn as sns\n",
    "\n",
    "# Load sample dataset\n",
    "iris = sns.load_dataset('iris')\n",
    "\n",
    "# Create subplots using Plotly Express\n",
    "fig = px.scatter(iris, x='sepal_length', y='sepal_width', color='species',\n",
    "                 facet_row='species',\n",
    "                 title='Sepal Length vs Sepal Width by Species')\n",
    "\n",
    "# Update layout\n",
    "fig.update_layout(height=800, width=800, title_font_size=20)\n",
    "\n",
    "# Show plot\n",
    "fig\n"
   ]
  },
  {
   "cell_type": "code",
   "execution_count": null,
   "metadata": {},
   "outputs": [],
   "source": [
    "temp = df[df['year'] == 2017]"
   ]
  },
  {
   "cell_type": "code",
   "execution_count": null,
   "metadata": {},
   "outputs": [],
   "source": [
    "df.transmission.unique()"
   ]
  },
  {
   "cell_type": "code",
   "execution_count": null,
   "metadata": {},
   "outputs": [],
   "source": [
    "temp.groupby('class').count().sort_values(by=['vehicle_id'], ascending=False).iloc[:13, 1]"
   ]
  },
  {
   "cell_type": "code",
   "execution_count": null,
   "metadata": {},
   "outputs": [],
   "source": [
    "temp.head()"
   ]
  },
  {
   "cell_type": "code",
   "execution_count": null,
   "metadata": {},
   "outputs": [],
   "source": [
    "temp.groupby(['fuel_type_1']).count()"
   ]
  },
  {
   "cell_type": "code",
   "execution_count": null,
   "metadata": {},
   "outputs": [],
   "source": [
    "most_recent_year = df['year'].max()\n",
    "temp = df[df['year'] == most_recent_year].groupby(['fuel_type_1']).count()\n",
    "temp = temp.reset_index().iloc[:, :2]\n",
    "temp.columns = ['fuel_type', 'count']\n",
    "\n",
    "fig = px.pie(temp,\n",
    "            values='count',\n",
    "            color='fuel_type',\n",
    "            title=f'Number of Models Per Brand ({most_recent_year})',\n",
    "            #hover_data='total_count',\n",
    "            #category_orders={'make': temp['make'].tolist()[::-1]}\n",
    "            names='fuel_type',\n",
    "            category_orders={'fuel_type': ['Regular Gasoline', 'Midgrade Gasoline', 'Premium Gasoline', 'Diesel', 'Electricity']},\n",
    "            color_discrete_sequence=px.colors.qualitative.D3,\n",
    "            )   \n",
    "fig.update_layout(\n",
    "    font=dict(\n",
    "                size=14  # Set the font size to 14\n",
    "            ),\n",
    "    #plot_bgcolor='#111111',\n",
    "    paper_bgcolor='#f0f0f0',\n",
    "    margin=dict(t=60)\n",
    ")\n",
    "fig"
   ]
  },
  {
   "cell_type": "code",
   "execution_count": null,
   "metadata": {},
   "outputs": [],
   "source": [
    "most_recent_year = df['year'].max()\n",
    "temp = df[df['year'] == most_recent_year]\n",
    "temp.head()"
   ]
  },
  {
   "cell_type": "code",
   "execution_count": null,
   "metadata": {},
   "outputs": [],
   "source": [
    "temp = pd.read_csv('data/vehicle.csv')\n",
    "most_recent_year = temp['year'].max()\n",
    "temp = temp[temp['year'] == most_recent_year]\n",
    "mpg_ft1 = temp.groupby(['fuel_type_1', 'year'])[['unadjusted_city_mpg_ft1', 'unadjusted_highway_mpg_ft1']].mean().mean(axis=1).reset_index()\n",
    "mpg_ft1.columns = ['fuel type', 'year', 'average mpg']\n",
    "\n",
    "fig = px.line(data_frame=mpg_ft1, \n",
    "        x=\"year\", y=\"average mpg\", \n",
    "        color=\"fuel type\", \n",
    "        hover_name=\"fuel type\", \n",
    "        category_orders={'fuel type': ['Regular Gasoline', 'Midgrade Gasoline', 'Premium Gasoline', 'Diesel', 'Electricity']},\n",
    "        color_discrete_sequence=px.colors.qualitative.D3,\n",
    "        )\n",
    "\n",
    "fig"
   ]
  },
  {
   "cell_type": "code",
   "execution_count": null,
   "metadata": {},
   "outputs": [],
   "source": [
    "temp = pd.read_csv('data/vehicle.csv')\n",
    "most_recent_year = temp['year'].max()\n",
    "temp = temp[temp['year'] == most_recent_year]\n",
    "\n",
    "mpg_ft1 = temp.groupby(['fuel_type_1'])[['unadjusted_city_mpg_ft1', 'unadjusted_highway_mpg_ft1']].mean().mean(axis=1)#.reset_index()\n",
    "mpg_ft1.columns = ['average mpg']\n",
    "mpg_ft1.loc['Electricity']"
   ]
  },
  {
   "cell_type": "code",
   "execution_count": null,
   "metadata": {},
   "outputs": [],
   "source": [
    "temp = pd.read_csv('data/vehicle.csv')\n",
    "\n",
    "mpg_ft1 = temp.groupby(['fuel_type_1', 'year']).count().reset_index().iloc[:, :3]\n",
    "mpg_ft1.columns = ['fuel type', 'year', 'count']\n",
    "\n",
    "fig = px.line(data_frame=mpg_ft1, \n",
    "        x=\"year\", y=\"count\", \n",
    "        color=\"fuel type\", \n",
    "        hover_name=\"fuel type\", \n",
    "        category_orders={'fuel type': ['Regular Gasoline', 'Midgrade Gasoline', 'Premium Gasoline', 'Diesel', 'Electricity']},\n",
    "        color_discrete_sequence=px.colors.qualitative.D3,\n",
    "        )\n",
    "\n",
    "fig"
   ]
  },
  {
   "cell_type": "code",
   "execution_count": null,
   "metadata": {},
   "outputs": [],
   "source": [
    "df.head()"
   ]
  },
  {
   "cell_type": "code",
   "execution_count": null,
   "metadata": {},
   "outputs": [],
   "source": [
    "most_recent_year = df['year'].max()\n",
    "temp = df[df['year'] == most_recent_year]\n",
    "\n",
    "temp.describe()"
   ]
  },
  {
   "cell_type": "code",
   "execution_count": null,
   "metadata": {},
   "outputs": [],
   "source": [
    "most_recent_year = df['year'].max()\n",
    "temp = df[df['year'] == most_recent_year]\n",
    "temp = temp.groupby(['fuel_type_1'])['save_or_spend_5_year'].mean().reset_index().iloc[:, :2]\n",
    "temp.columns = ['fuel type', 'saved/spent']\n",
    "\n",
    "fig = px.bar(data_frame=temp, \n",
    "              x=\"fuel type\", y=\"saved/spent\", \n",
    "              color=\"fuel type\", \n",
    "              hover_name=\"fuel type\", \n",
    "              category_orders={'fuel type': ['Regular Gasoline', 'Midgrade Gasoline', 'Premium Gasoline', 'Diesel', 'Electricity']},\n",
    "              color_discrete_sequence=px.colors.qualitative.D3,\n",
    "              )\n",
    "\n",
    "fig.update_layout(showlegend=False)\n",
    "fig.show()"
   ]
  },
  {
   "cell_type": "code",
   "execution_count": null,
   "metadata": {},
   "outputs": [],
   "source": [
    "import pandas as pd\n",
    "import plotly.express as px\n",
    "\n",
    "# Assuming 'df' is your DataFrame\n",
    "\n",
    "most_recent_year = df['year'].max()\n",
    "temp = df[df['year'] == most_recent_year]\n",
    "temp = temp.groupby(['fuel_type_1'])['save_or_spend_5_year'].mean().reset_index().iloc[:, :2]\n",
    "temp.columns = ['fuel type', 'saved/spent']\n",
    "\n",
    "# Define colors for positive and negative bars\n",
    "color_discrete_map = {'saved/spent': 'green'}  # Positive bars will be green by default\n",
    "# Update colors for negative bars to red\n",
    "color_discrete_map.update({value: 'red' for value in temp['saved/spent'] if value < 0})\n",
    "\n",
    "fig = px.bar(data_frame=temp, \n",
    "              x=\"fuel type\", y=\"saved/spent\", \n",
    "              color=\"saved/spent\",\n",
    "              color_continuous_scale=[[0, 'red'], [0.5, 'yellow'], [1, 'green']],\n",
    "              hover_name=\"fuel type\", \n",
    "              category_orders={'fuel type': ['Regular Gasoline', 'Midgrade Gasoline', 'Premium Gasoline', 'Diesel', 'Electricity']},\n",
    "              )\n",
    "fig.update_traces(opacity=0.7)\n",
    "fig.update_layout(coloraxis_showscale=False)\n",
    "fig.show()\n"
   ]
  },
  {
   "cell_type": "code",
   "execution_count": null,
   "metadata": {},
   "outputs": [],
   "source": [
    "import pandas as pd\n",
    "import plotly.express as px\n",
    "\n",
    "temp = pd.read_csv('data/vehicle.csv')\n",
    "\n",
    "mpg_ft1 = temp.groupby(['fuel_type_1', 'year'])['save_or_spend_5_year'].mean().reset_index().iloc[:, :3]\n",
    "mpg_ft1.columns = ['fuel type', 'year', 'save_spend']\n",
    "\n",
    "fig = px.line(data_frame=mpg_ft1[mpg_ft1['fuel type'] == 'Diesel'], \n",
    "              x=\"year\", y=\"save_spend\", \n",
    "              color=\"fuel type\", \n",
    "              hover_name=\"fuel type\", \n",
    "              category_orders={'fuel type': ['Regular Gasoline', 'Midgrade Gasoline', 'Premium Gasoline', 'Diesel', 'Electricity']},\n",
    "              color_discrete_sequence=px.colors.qualitative.D3,\n",
    "              )\n",
    "\n",
    "# To color the area above the curve green and the area under red\n",
    "#fig.update_traces(fill='toself', fillcolor='red', line=dict(color='green'))\n",
    "\n",
    "fig.show()\n"
   ]
  },
  {
   "cell_type": "code",
   "execution_count": null,
   "metadata": {},
   "outputs": [],
   "source": [
    "import plotly.graph_objects as go\n",
    "\n",
    "temp = pd.read_csv('data/vehicle.csv')\n",
    "\n",
    "mpg_ft1 = temp.groupby(['fuel_type_1', 'year'])['save_or_spend_5_year'].mean().reset_index().iloc[:, :3]\n",
    "mpg_ft1.columns = ['fuel type', 'year', 'save_spend']\n",
    "type = 'Diesel'\n",
    "temp = mpg_ft1[mpg_ft1['fuel type'] == type]\n",
    "fig = go.Figure()\n",
    "positive = temp[temp['save_spend'] >= 0]\n",
    "fig.add_trace(go.Scatter(\n",
    "                x=positive['year'], \n",
    "                y=positive['save_spend'],\n",
    "                #hover_name=\"fuel type\", \n",
    "                line=dict(color='black'), \n",
    "                fill='tozeroy',\n",
    "                fillcolor='rgba(0,255,0,0.5)'\n",
    "                )\n",
    "        )\n",
    "negative = temp[temp['save_spend'] <= 0]\n",
    "fig.add_trace(go.Scatter(\n",
    "                x=negative['year'], \n",
    "                y=negative['save_spend'], \n",
    "                #hover_name=\"fuel type\", \n",
    "                line=dict(color='black'), \n",
    "                fill='tozeroy',\n",
    "                fillcolor='rgba(255,0,0,0.5)'\n",
    "                )\n",
    "        )\n",
    "#fig.update_traces(line=dict(color='black'), fill='tozeroy', fillcolor='rgba(255,0,0,0.5)')\n",
    "\n",
    "fig"
   ]
  },
  {
   "cell_type": "code",
   "execution_count": null,
   "metadata": {},
   "outputs": [],
   "source": [
    "import plotly.graph_objects as go\n",
    "import numpy as np\n",
    "\n",
    "temp = pd.read_csv('data/vehicle.csv')\n",
    "\n",
    "mpg_ft1 = temp.groupby(['fuel_type_1', 'year'])['save_or_spend_5_year'].mean().reset_index().iloc[:, :3]\n",
    "mpg_ft1.columns = ['fuel type', 'year', 'save_spend']\n",
    "type = 'Electricity'\n",
    "temp = mpg_ft1[mpg_ft1['fuel type'] == type]\n",
    "fig = go.Figure()\n",
    "temp['above'] = np.where(temp['save_spend'] >= 0, temp['save_spend'], 0) #temp[temp['save_spend'] >= 0]\n",
    "fig.add_trace(go.Scatter(\n",
    "                x=temp['year'], \n",
    "                y=temp['above'],\n",
    "                #hover_name=\"fuel type\", \n",
    "                line=dict(color='black'), \n",
    "                fill='tozeroy',\n",
    "                fillcolor='rgba(0,255,0,0.5)',\n",
    "                mode='none'\n",
    "                )\n",
    "        )\n",
    "temp['below'] = np.where(temp['save_spend'] < 0, temp['save_spend'], 0)\n",
    "fig.add_trace(go.Scatter(\n",
    "                x=temp['year'], \n",
    "                y=temp['below'], \n",
    "                #hover_name=\"fuel type\", \n",
    "                line=dict(color='black'), \n",
    "                fill='tozeroy',\n",
    "                fillcolor='rgba(255,0,0,0.5)',\n",
    "                mode='none'\n",
    "                )\n",
    "        )\n",
    "#fig.update_traces(line=dict(color='black'), fill='tozeroy', fillcolor='rgba(255,0,0,0.5)')\n",
    "\n",
    "fig"
   ]
  },
  {
   "cell_type": "code",
   "execution_count": null,
   "metadata": {},
   "outputs": [],
   "source": [
    "temp.groupby('fuel_type_1')['save_or_spend_5_year'].mean()"
   ]
  },
  {
   "cell_type": "code",
   "execution_count": null,
   "metadata": {},
   "outputs": [],
   "source": [
    "temp.groupby('fuel_type_1')['annual_consumption_in_barrels_ft1'].mean()"
   ]
  },
  {
   "cell_type": "code",
   "execution_count": null,
   "metadata": {},
   "outputs": [],
   "source": [
    "import pandas as pd\n",
    "import plotly.express as px\n",
    "\n",
    "temp = pd.read_csv('data/vehicle.csv')\n",
    "\n",
    "gallons_consumed = temp.groupby(['fuel_type_1', 'year'])['annual_consumption_in_barrels_ft1'].mean().reset_index().iloc[:, :3]\n",
    "gallons_consumed.columns = ['fuel type', 'year', 'annual_consumption_in_barrels_ft1']\n",
    "gallons_consumed['annual consumed gallons'] = gallons_consumed['annual_consumption_in_barrels_ft1'] * 42\n",
    "\n",
    "fig = px.line(data_frame=gallons_consumed,#[mpg_ft1['fuel type'] == 'Diesel'], \n",
    "              x=\"year\", y=\"annual consumed gallons\", \n",
    "              color=\"fuel type\", \n",
    "              hover_name=\"fuel type\", \n",
    "              category_orders={'fuel type': ['Regular Gasoline', 'Midgrade Gasoline', 'Premium Gasoline', 'Diesel', 'Electricity']},\n",
    "              color_discrete_sequence=px.colors.qualitative.D3,\n",
    "              )\n",
    "\n",
    "# To color the area above the curve green and the area under red\n",
    "#fig.update_traces(fill='toself', fillcolor='red', line=dict(color='green'))\n",
    "\n",
    "fig.show()\n"
   ]
  },
  {
   "cell_type": "code",
   "execution_count": null,
   "metadata": {},
   "outputs": [],
   "source": [
    "most_recent_year = df['year'].max()\n",
    "temp = df[df['year'] == most_recent_year].groupby(['fuel_type_1']).count()\n",
    "temp = temp.reset_index().iloc[:, :2]\n",
    "temp.columns = ['fuel_type', 'count']\n",
    "\n",
    "fig = px.pie(temp,\n",
    "            values='count',\n",
    "            color='fuel_type',\n",
    "            title=f'Number of Models Per Brand ({most_recent_year})',\n",
    "            hover_name=\"fuel_type\", \n",
    "            category_orders={'fuel type': ['Regular Gasoline', 'Midgrade Gasoline', 'Premium Gasoline', 'Diesel', 'Electricity']},\n",
    "            color_discrete_sequence=px.colors.qualitative.D3,\n",
    "            )   \n",
    "fig.update_layout(\n",
    "        title=f'Fuel Type Distribution',\n",
    "        font=dict(\n",
    "                    size=14  # Set the font size to 14\n",
    "                ),\n",
    "        #plot_bgcolor='#111111',\n",
    "        paper_bgcolor='#f0f0f0',\n",
    "        margin=dict(t=60)\n",
    "    )\n",
    "fig.update_layout(\n",
    "    title=f'Fuel Type Distribution',\n",
    "    font=dict(size=14),  # Set the font size to 14\n",
    "    paper_bgcolor='#f0f0f0',\n",
    "    margin=dict(t=60),\n",
    "    showlegend=True,\n",
    "    legend=dict(orientation='h', yanchor='bottom', y=1.02, xanchor='right', x=1)  # Move legend to the bottom\n",
    ")\n",
    "\n",
    "fig"
   ]
  }
 ],
 "metadata": {
  "kernelspec": {
   "display_name": "base",
   "language": "python",
   "name": "python3"
  },
  "language_info": {
   "codemirror_mode": {
    "name": "ipython",
    "version": 3
   },
   "file_extension": ".py",
   "mimetype": "text/x-python",
   "name": "python",
   "nbconvert_exporter": "python",
   "pygments_lexer": "ipython3",
   "version": "3.12.1"
  },
  "orig_nbformat": 4
 },
 "nbformat": 4,
 "nbformat_minor": 2
}
