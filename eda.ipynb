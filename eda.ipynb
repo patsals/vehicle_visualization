{
 "cells": [
  {
   "cell_type": "code",
   "execution_count": 3,
   "metadata": {},
   "outputs": [],
   "source": [
    "import pandas as pd\n",
    "import plotly.express as px\n",
    "\n",
    "pd.set_option('display.max_columns', None)\n",
    "pd.set_option('display.max_rows', None)\n",
    "pd.set_option('display.max_colwidth', None)"
   ]
  },
  {
   "cell_type": "code",
   "execution_count": 4,
   "metadata": {},
   "outputs": [
    {
     "name": "stderr",
     "output_type": "stream",
     "text": [
      "/var/folders/4t/47cy89rj4996w028nn5k5mlh0000gn/T/ipykernel_13206/2991000020.py:1: DtypeWarning: Columns (7,44) have mixed types. Specify dtype option on import or set low_memory=False.\n",
      "  df = pd.read_csv('data/vehicle.csv')\n"
     ]
    },
    {
     "data": {
      "text/html": [
       "<div>\n",
       "<style scoped>\n",
       "    .dataframe tbody tr th:only-of-type {\n",
       "        vertical-align: middle;\n",
       "    }\n",
       "\n",
       "    .dataframe tbody tr th {\n",
       "        vertical-align: top;\n",
       "    }\n",
       "\n",
       "    .dataframe thead th {\n",
       "        text-align: right;\n",
       "    }\n",
       "</style>\n",
       "<table border=\"1\" class=\"dataframe\">\n",
       "  <thead>\n",
       "    <tr style=\"text-align: right;\">\n",
       "      <th></th>\n",
       "      <th>vehicle_id</th>\n",
       "      <th>year</th>\n",
       "      <th>make</th>\n",
       "      <th>model</th>\n",
       "      <th>class</th>\n",
       "      <th>drive</th>\n",
       "      <th>transmission</th>\n",
       "      <th>transmission_type</th>\n",
       "      <th>engine_index</th>\n",
       "      <th>engine_descriptor</th>\n",
       "      <th>engine_cylinders</th>\n",
       "      <th>engine_displacement</th>\n",
       "      <th>turbocharger</th>\n",
       "      <th>supercharger</th>\n",
       "      <th>fuel_type</th>\n",
       "      <th>fuel_type_1</th>\n",
       "      <th>fuel_type_2</th>\n",
       "      <th>city_mpg_ft1</th>\n",
       "      <th>unrounded_city_mpg_ft1</th>\n",
       "      <th>city_mpg_ft2</th>\n",
       "      <th>unrounded_city_mpg_ft2</th>\n",
       "      <th>city_gasoline_consumption_cd</th>\n",
       "      <th>city_electricity_consumption</th>\n",
       "      <th>city_utility_factor</th>\n",
       "      <th>highway_mpg_ft1</th>\n",
       "      <th>unrounded_highway_mpg_ft1</th>\n",
       "      <th>highway_mpg_ft2</th>\n",
       "      <th>unrounded_highway_mpg_ft2</th>\n",
       "      <th>highway_gasoline_consumption_cd</th>\n",
       "      <th>highway_electricity_consumption</th>\n",
       "      <th>highway_utility_factor</th>\n",
       "      <th>unadjusted_city_mpg_ft1</th>\n",
       "      <th>unadjusted_highway_mpg_ft1</th>\n",
       "      <th>unadjusted_city_mpg_ft2</th>\n",
       "      <th>unadjusted_highway_mpg_ft2</th>\n",
       "      <th>combined_mpg_ft1</th>\n",
       "      <th>unrounded_combined_mpg_ft1</th>\n",
       "      <th>combined_mpg_ft2</th>\n",
       "      <th>unrounded_combined_mpg_ft2</th>\n",
       "      <th>combined_electricity_consumption</th>\n",
       "      <th>combined_gasoline_consumption_cd</th>\n",
       "      <th>combined_utility_factor</th>\n",
       "      <th>annual_fuel_cost_ft1</th>\n",
       "      <th>annual_fuel_cost_ft2</th>\n",
       "      <th>gas_guzzler_tax</th>\n",
       "      <th>save_or_spend_5_year</th>\n",
       "      <th>annual_consumption_in_barrels_ft1</th>\n",
       "      <th>annual_consumption_in_barrels_ft2</th>\n",
       "      <th>tailpipe_co2_ft1</th>\n",
       "      <th>tailpipe_co2_in_grams_mile_ft1</th>\n",
       "      <th>tailpipe_co2_ft2</th>\n",
       "      <th>tailpipe_co2_in_grams_mile_ft2</th>\n",
       "      <th>fuel_economy_score</th>\n",
       "      <th>ghg_score</th>\n",
       "      <th>ghg_score_alt_fuel</th>\n",
       "      <th>my_mpg_data</th>\n",
       "      <th>x2d_passenger_volume</th>\n",
       "      <th>x2d_luggage_volume</th>\n",
       "      <th>x4d_passenger_volume</th>\n",
       "      <th>x4d_luggage_volume</th>\n",
       "      <th>hatchback_passenger_volume</th>\n",
       "      <th>hatchback_luggage_volume</th>\n",
       "      <th>start_stop_technology</th>\n",
       "      <th>alternative_fuel_technology</th>\n",
       "      <th>electric_motor</th>\n",
       "      <th>manufacturer_code</th>\n",
       "      <th>gasoline_electricity_blended_cd</th>\n",
       "      <th>vehicle_charger</th>\n",
       "      <th>alternate_charger</th>\n",
       "      <th>hours_to_charge_120v</th>\n",
       "      <th>hours_to_charge_240v</th>\n",
       "      <th>hours_to_charge_ac_240v</th>\n",
       "      <th>composite_city_mpg</th>\n",
       "      <th>composite_highway_mpg</th>\n",
       "      <th>composite_combined_mpg</th>\n",
       "      <th>range_ft1</th>\n",
       "      <th>city_range_ft1</th>\n",
       "      <th>highway_range_ft1</th>\n",
       "      <th>range_ft2</th>\n",
       "      <th>city_range_ft2</th>\n",
       "      <th>highway_range_ft2</th>\n",
       "    </tr>\n",
       "  </thead>\n",
       "  <tbody>\n",
       "    <tr>\n",
       "      <th>0</th>\n",
       "      <td>26587</td>\n",
       "      <td>1984</td>\n",
       "      <td>Alfa Romeo</td>\n",
       "      <td>GT V6 2.5</td>\n",
       "      <td>Minicompact Cars</td>\n",
       "      <td>NaN</td>\n",
       "      <td>Manual 5-Speed</td>\n",
       "      <td>NaN</td>\n",
       "      <td>9001</td>\n",
       "      <td>(FFS)</td>\n",
       "      <td>6.0</td>\n",
       "      <td>2.5</td>\n",
       "      <td>NaN</td>\n",
       "      <td>NaN</td>\n",
       "      <td>Regular</td>\n",
       "      <td>Regular Gasoline</td>\n",
       "      <td>NaN</td>\n",
       "      <td>17</td>\n",
       "      <td>0.0</td>\n",
       "      <td>0</td>\n",
       "      <td>0.0</td>\n",
       "      <td>0.0</td>\n",
       "      <td>0.0</td>\n",
       "      <td>0.0</td>\n",
       "      <td>24</td>\n",
       "      <td>0.0</td>\n",
       "      <td>0</td>\n",
       "      <td>0.0</td>\n",
       "      <td>0.0</td>\n",
       "      <td>0.0</td>\n",
       "      <td>0.0</td>\n",
       "      <td>21.0</td>\n",
       "      <td>34.0</td>\n",
       "      <td>0.0</td>\n",
       "      <td>0.0</td>\n",
       "      <td>20</td>\n",
       "      <td>0.0</td>\n",
       "      <td>0</td>\n",
       "      <td>0.0</td>\n",
       "      <td>0.0</td>\n",
       "      <td>0.0</td>\n",
       "      <td>0.0</td>\n",
       "      <td>1750</td>\n",
       "      <td>0</td>\n",
       "      <td>NaN</td>\n",
       "      <td>-2000</td>\n",
       "      <td>16.480500</td>\n",
       "      <td>0.0</td>\n",
       "      <td>-1</td>\n",
       "      <td>444.350000</td>\n",
       "      <td>-1</td>\n",
       "      <td>0.0</td>\n",
       "      <td>-1</td>\n",
       "      <td>-1</td>\n",
       "      <td>-1</td>\n",
       "      <td>N</td>\n",
       "      <td>74</td>\n",
       "      <td>7</td>\n",
       "      <td>0</td>\n",
       "      <td>0</td>\n",
       "      <td>0</td>\n",
       "      <td>0</td>\n",
       "      <td>NaN</td>\n",
       "      <td>NaN</td>\n",
       "      <td>NaN</td>\n",
       "      <td>NaN</td>\n",
       "      <td>False</td>\n",
       "      <td>NaN</td>\n",
       "      <td>NaN</td>\n",
       "      <td>0</td>\n",
       "      <td>0.0</td>\n",
       "      <td>0.0</td>\n",
       "      <td>0</td>\n",
       "      <td>0</td>\n",
       "      <td>0</td>\n",
       "      <td>0</td>\n",
       "      <td>0.0</td>\n",
       "      <td>0.0</td>\n",
       "      <td>NaN</td>\n",
       "      <td>0.0</td>\n",
       "      <td>0.0</td>\n",
       "    </tr>\n",
       "    <tr>\n",
       "      <th>1</th>\n",
       "      <td>27705</td>\n",
       "      <td>1984</td>\n",
       "      <td>Alfa Romeo</td>\n",
       "      <td>GT V6 2.5</td>\n",
       "      <td>Minicompact Cars</td>\n",
       "      <td>NaN</td>\n",
       "      <td>Manual 5-Speed</td>\n",
       "      <td>NaN</td>\n",
       "      <td>9005</td>\n",
       "      <td>(FFS) CA model</td>\n",
       "      <td>6.0</td>\n",
       "      <td>2.5</td>\n",
       "      <td>NaN</td>\n",
       "      <td>NaN</td>\n",
       "      <td>Regular</td>\n",
       "      <td>Regular Gasoline</td>\n",
       "      <td>NaN</td>\n",
       "      <td>17</td>\n",
       "      <td>0.0</td>\n",
       "      <td>0</td>\n",
       "      <td>0.0</td>\n",
       "      <td>0.0</td>\n",
       "      <td>0.0</td>\n",
       "      <td>0.0</td>\n",
       "      <td>24</td>\n",
       "      <td>0.0</td>\n",
       "      <td>0</td>\n",
       "      <td>0.0</td>\n",
       "      <td>0.0</td>\n",
       "      <td>0.0</td>\n",
       "      <td>0.0</td>\n",
       "      <td>21.0</td>\n",
       "      <td>34.0</td>\n",
       "      <td>0.0</td>\n",
       "      <td>0.0</td>\n",
       "      <td>20</td>\n",
       "      <td>0.0</td>\n",
       "      <td>0</td>\n",
       "      <td>0.0</td>\n",
       "      <td>0.0</td>\n",
       "      <td>0.0</td>\n",
       "      <td>0.0</td>\n",
       "      <td>1750</td>\n",
       "      <td>0</td>\n",
       "      <td>NaN</td>\n",
       "      <td>-2000</td>\n",
       "      <td>16.480500</td>\n",
       "      <td>0.0</td>\n",
       "      <td>-1</td>\n",
       "      <td>444.350000</td>\n",
       "      <td>-1</td>\n",
       "      <td>0.0</td>\n",
       "      <td>-1</td>\n",
       "      <td>-1</td>\n",
       "      <td>-1</td>\n",
       "      <td>N</td>\n",
       "      <td>74</td>\n",
       "      <td>7</td>\n",
       "      <td>0</td>\n",
       "      <td>0</td>\n",
       "      <td>0</td>\n",
       "      <td>0</td>\n",
       "      <td>NaN</td>\n",
       "      <td>NaN</td>\n",
       "      <td>NaN</td>\n",
       "      <td>NaN</td>\n",
       "      <td>False</td>\n",
       "      <td>NaN</td>\n",
       "      <td>NaN</td>\n",
       "      <td>0</td>\n",
       "      <td>0.0</td>\n",
       "      <td>0.0</td>\n",
       "      <td>0</td>\n",
       "      <td>0</td>\n",
       "      <td>0</td>\n",
       "      <td>0</td>\n",
       "      <td>0.0</td>\n",
       "      <td>0.0</td>\n",
       "      <td>NaN</td>\n",
       "      <td>0.0</td>\n",
       "      <td>0.0</td>\n",
       "    </tr>\n",
       "    <tr>\n",
       "      <th>2</th>\n",
       "      <td>26561</td>\n",
       "      <td>1984</td>\n",
       "      <td>Alfa Romeo</td>\n",
       "      <td>Spider Veloce 2000</td>\n",
       "      <td>Two Seaters</td>\n",
       "      <td>NaN</td>\n",
       "      <td>Manual 5-Speed</td>\n",
       "      <td>NaN</td>\n",
       "      <td>9002</td>\n",
       "      <td>(FFS)</td>\n",
       "      <td>4.0</td>\n",
       "      <td>2.0</td>\n",
       "      <td>NaN</td>\n",
       "      <td>NaN</td>\n",
       "      <td>Regular</td>\n",
       "      <td>Regular Gasoline</td>\n",
       "      <td>NaN</td>\n",
       "      <td>18</td>\n",
       "      <td>0.0</td>\n",
       "      <td>0</td>\n",
       "      <td>0.0</td>\n",
       "      <td>0.0</td>\n",
       "      <td>0.0</td>\n",
       "      <td>0.0</td>\n",
       "      <td>25</td>\n",
       "      <td>0.0</td>\n",
       "      <td>0</td>\n",
       "      <td>0.0</td>\n",
       "      <td>0.0</td>\n",
       "      <td>0.0</td>\n",
       "      <td>0.0</td>\n",
       "      <td>23.0</td>\n",
       "      <td>35.0</td>\n",
       "      <td>0.0</td>\n",
       "      <td>0.0</td>\n",
       "      <td>21</td>\n",
       "      <td>0.0</td>\n",
       "      <td>0</td>\n",
       "      <td>0.0</td>\n",
       "      <td>0.0</td>\n",
       "      <td>0.0</td>\n",
       "      <td>0.0</td>\n",
       "      <td>1650</td>\n",
       "      <td>0</td>\n",
       "      <td>NaN</td>\n",
       "      <td>-1500</td>\n",
       "      <td>15.695714</td>\n",
       "      <td>0.0</td>\n",
       "      <td>-1</td>\n",
       "      <td>423.190476</td>\n",
       "      <td>-1</td>\n",
       "      <td>0.0</td>\n",
       "      <td>-1</td>\n",
       "      <td>-1</td>\n",
       "      <td>-1</td>\n",
       "      <td>N</td>\n",
       "      <td>0</td>\n",
       "      <td>0</td>\n",
       "      <td>0</td>\n",
       "      <td>0</td>\n",
       "      <td>0</td>\n",
       "      <td>0</td>\n",
       "      <td>NaN</td>\n",
       "      <td>NaN</td>\n",
       "      <td>NaN</td>\n",
       "      <td>NaN</td>\n",
       "      <td>False</td>\n",
       "      <td>NaN</td>\n",
       "      <td>NaN</td>\n",
       "      <td>0</td>\n",
       "      <td>0.0</td>\n",
       "      <td>0.0</td>\n",
       "      <td>0</td>\n",
       "      <td>0</td>\n",
       "      <td>0</td>\n",
       "      <td>0</td>\n",
       "      <td>0.0</td>\n",
       "      <td>0.0</td>\n",
       "      <td>NaN</td>\n",
       "      <td>0.0</td>\n",
       "      <td>0.0</td>\n",
       "    </tr>\n",
       "    <tr>\n",
       "      <th>3</th>\n",
       "      <td>27681</td>\n",
       "      <td>1984</td>\n",
       "      <td>Alfa Romeo</td>\n",
       "      <td>Spider Veloce 2000</td>\n",
       "      <td>Two Seaters</td>\n",
       "      <td>NaN</td>\n",
       "      <td>Manual 5-Speed</td>\n",
       "      <td>NaN</td>\n",
       "      <td>9006</td>\n",
       "      <td>(FFS) CA model</td>\n",
       "      <td>4.0</td>\n",
       "      <td>2.0</td>\n",
       "      <td>NaN</td>\n",
       "      <td>NaN</td>\n",
       "      <td>Regular</td>\n",
       "      <td>Regular Gasoline</td>\n",
       "      <td>NaN</td>\n",
       "      <td>18</td>\n",
       "      <td>0.0</td>\n",
       "      <td>0</td>\n",
       "      <td>0.0</td>\n",
       "      <td>0.0</td>\n",
       "      <td>0.0</td>\n",
       "      <td>0.0</td>\n",
       "      <td>25</td>\n",
       "      <td>0.0</td>\n",
       "      <td>0</td>\n",
       "      <td>0.0</td>\n",
       "      <td>0.0</td>\n",
       "      <td>0.0</td>\n",
       "      <td>0.0</td>\n",
       "      <td>23.0</td>\n",
       "      <td>35.0</td>\n",
       "      <td>0.0</td>\n",
       "      <td>0.0</td>\n",
       "      <td>21</td>\n",
       "      <td>0.0</td>\n",
       "      <td>0</td>\n",
       "      <td>0.0</td>\n",
       "      <td>0.0</td>\n",
       "      <td>0.0</td>\n",
       "      <td>0.0</td>\n",
       "      <td>1650</td>\n",
       "      <td>0</td>\n",
       "      <td>NaN</td>\n",
       "      <td>-1500</td>\n",
       "      <td>15.695714</td>\n",
       "      <td>0.0</td>\n",
       "      <td>-1</td>\n",
       "      <td>423.190476</td>\n",
       "      <td>-1</td>\n",
       "      <td>0.0</td>\n",
       "      <td>-1</td>\n",
       "      <td>-1</td>\n",
       "      <td>-1</td>\n",
       "      <td>N</td>\n",
       "      <td>0</td>\n",
       "      <td>0</td>\n",
       "      <td>0</td>\n",
       "      <td>0</td>\n",
       "      <td>0</td>\n",
       "      <td>0</td>\n",
       "      <td>NaN</td>\n",
       "      <td>NaN</td>\n",
       "      <td>NaN</td>\n",
       "      <td>NaN</td>\n",
       "      <td>False</td>\n",
       "      <td>NaN</td>\n",
       "      <td>NaN</td>\n",
       "      <td>0</td>\n",
       "      <td>0.0</td>\n",
       "      <td>0.0</td>\n",
       "      <td>0</td>\n",
       "      <td>0</td>\n",
       "      <td>0</td>\n",
       "      <td>0</td>\n",
       "      <td>0.0</td>\n",
       "      <td>0.0</td>\n",
       "      <td>NaN</td>\n",
       "      <td>0.0</td>\n",
       "      <td>0.0</td>\n",
       "    </tr>\n",
       "    <tr>\n",
       "      <th>4</th>\n",
       "      <td>27550</td>\n",
       "      <td>1984</td>\n",
       "      <td>AM General</td>\n",
       "      <td>DJ Po Vehicle 2WD</td>\n",
       "      <td>Special Purpose Vehicle 2WD</td>\n",
       "      <td>2-Wheel Drive</td>\n",
       "      <td>Automatic 3-Speed</td>\n",
       "      <td>NaN</td>\n",
       "      <td>1830</td>\n",
       "      <td>(FFS)</td>\n",
       "      <td>4.0</td>\n",
       "      <td>2.5</td>\n",
       "      <td>NaN</td>\n",
       "      <td>NaN</td>\n",
       "      <td>Regular</td>\n",
       "      <td>Regular Gasoline</td>\n",
       "      <td>NaN</td>\n",
       "      <td>18</td>\n",
       "      <td>0.0</td>\n",
       "      <td>0</td>\n",
       "      <td>0.0</td>\n",
       "      <td>0.0</td>\n",
       "      <td>0.0</td>\n",
       "      <td>0.0</td>\n",
       "      <td>17</td>\n",
       "      <td>0.0</td>\n",
       "      <td>0</td>\n",
       "      <td>0.0</td>\n",
       "      <td>0.0</td>\n",
       "      <td>0.0</td>\n",
       "      <td>0.0</td>\n",
       "      <td>22.0</td>\n",
       "      <td>24.0</td>\n",
       "      <td>0.0</td>\n",
       "      <td>0.0</td>\n",
       "      <td>17</td>\n",
       "      <td>0.0</td>\n",
       "      <td>0</td>\n",
       "      <td>0.0</td>\n",
       "      <td>0.0</td>\n",
       "      <td>0.0</td>\n",
       "      <td>0.0</td>\n",
       "      <td>2050</td>\n",
       "      <td>0</td>\n",
       "      <td>NaN</td>\n",
       "      <td>-3500</td>\n",
       "      <td>19.388824</td>\n",
       "      <td>0.0</td>\n",
       "      <td>-1</td>\n",
       "      <td>522.764706</td>\n",
       "      <td>-1</td>\n",
       "      <td>0.0</td>\n",
       "      <td>-1</td>\n",
       "      <td>-1</td>\n",
       "      <td>-1</td>\n",
       "      <td>N</td>\n",
       "      <td>0</td>\n",
       "      <td>0</td>\n",
       "      <td>0</td>\n",
       "      <td>0</td>\n",
       "      <td>0</td>\n",
       "      <td>0</td>\n",
       "      <td>NaN</td>\n",
       "      <td>NaN</td>\n",
       "      <td>NaN</td>\n",
       "      <td>NaN</td>\n",
       "      <td>False</td>\n",
       "      <td>NaN</td>\n",
       "      <td>NaN</td>\n",
       "      <td>0</td>\n",
       "      <td>0.0</td>\n",
       "      <td>0.0</td>\n",
       "      <td>0</td>\n",
       "      <td>0</td>\n",
       "      <td>0</td>\n",
       "      <td>0</td>\n",
       "      <td>0.0</td>\n",
       "      <td>0.0</td>\n",
       "      <td>NaN</td>\n",
       "      <td>0.0</td>\n",
       "      <td>0.0</td>\n",
       "    </tr>\n",
       "  </tbody>\n",
       "</table>\n",
       "</div>"
      ],
      "text/plain": [
       "   vehicle_id  year        make               model  \\\n",
       "0       26587  1984  Alfa Romeo           GT V6 2.5   \n",
       "1       27705  1984  Alfa Romeo           GT V6 2.5   \n",
       "2       26561  1984  Alfa Romeo  Spider Veloce 2000   \n",
       "3       27681  1984  Alfa Romeo  Spider Veloce 2000   \n",
       "4       27550  1984  AM General   DJ Po Vehicle 2WD   \n",
       "\n",
       "                         class          drive       transmission  \\\n",
       "0             Minicompact Cars            NaN     Manual 5-Speed   \n",
       "1             Minicompact Cars            NaN     Manual 5-Speed   \n",
       "2                  Two Seaters            NaN     Manual 5-Speed   \n",
       "3                  Two Seaters            NaN     Manual 5-Speed   \n",
       "4  Special Purpose Vehicle 2WD  2-Wheel Drive  Automatic 3-Speed   \n",
       "\n",
       "  transmission_type  engine_index engine_descriptor  engine_cylinders  \\\n",
       "0               NaN          9001             (FFS)               6.0   \n",
       "1               NaN          9005    (FFS) CA model               6.0   \n",
       "2               NaN          9002             (FFS)               4.0   \n",
       "3               NaN          9006    (FFS) CA model               4.0   \n",
       "4               NaN          1830             (FFS)               4.0   \n",
       "\n",
       "   engine_displacement turbocharger  supercharger fuel_type       fuel_type_1  \\\n",
       "0                  2.5          NaN           NaN   Regular  Regular Gasoline   \n",
       "1                  2.5          NaN           NaN   Regular  Regular Gasoline   \n",
       "2                  2.0          NaN           NaN   Regular  Regular Gasoline   \n",
       "3                  2.0          NaN           NaN   Regular  Regular Gasoline   \n",
       "4                  2.5          NaN           NaN   Regular  Regular Gasoline   \n",
       "\n",
       "   fuel_type_2  city_mpg_ft1  unrounded_city_mpg_ft1  city_mpg_ft2  \\\n",
       "0          NaN            17                     0.0             0   \n",
       "1          NaN            17                     0.0             0   \n",
       "2          NaN            18                     0.0             0   \n",
       "3          NaN            18                     0.0             0   \n",
       "4          NaN            18                     0.0             0   \n",
       "\n",
       "   unrounded_city_mpg_ft2  city_gasoline_consumption_cd  \\\n",
       "0                     0.0                           0.0   \n",
       "1                     0.0                           0.0   \n",
       "2                     0.0                           0.0   \n",
       "3                     0.0                           0.0   \n",
       "4                     0.0                           0.0   \n",
       "\n",
       "   city_electricity_consumption  city_utility_factor  highway_mpg_ft1  \\\n",
       "0                           0.0                  0.0               24   \n",
       "1                           0.0                  0.0               24   \n",
       "2                           0.0                  0.0               25   \n",
       "3                           0.0                  0.0               25   \n",
       "4                           0.0                  0.0               17   \n",
       "\n",
       "   unrounded_highway_mpg_ft1  highway_mpg_ft2  unrounded_highway_mpg_ft2  \\\n",
       "0                        0.0                0                        0.0   \n",
       "1                        0.0                0                        0.0   \n",
       "2                        0.0                0                        0.0   \n",
       "3                        0.0                0                        0.0   \n",
       "4                        0.0                0                        0.0   \n",
       "\n",
       "   highway_gasoline_consumption_cd  highway_electricity_consumption  \\\n",
       "0                              0.0                              0.0   \n",
       "1                              0.0                              0.0   \n",
       "2                              0.0                              0.0   \n",
       "3                              0.0                              0.0   \n",
       "4                              0.0                              0.0   \n",
       "\n",
       "   highway_utility_factor  unadjusted_city_mpg_ft1  \\\n",
       "0                     0.0                     21.0   \n",
       "1                     0.0                     21.0   \n",
       "2                     0.0                     23.0   \n",
       "3                     0.0                     23.0   \n",
       "4                     0.0                     22.0   \n",
       "\n",
       "   unadjusted_highway_mpg_ft1  unadjusted_city_mpg_ft2  \\\n",
       "0                        34.0                      0.0   \n",
       "1                        34.0                      0.0   \n",
       "2                        35.0                      0.0   \n",
       "3                        35.0                      0.0   \n",
       "4                        24.0                      0.0   \n",
       "\n",
       "   unadjusted_highway_mpg_ft2  combined_mpg_ft1  unrounded_combined_mpg_ft1  \\\n",
       "0                         0.0                20                         0.0   \n",
       "1                         0.0                20                         0.0   \n",
       "2                         0.0                21                         0.0   \n",
       "3                         0.0                21                         0.0   \n",
       "4                         0.0                17                         0.0   \n",
       "\n",
       "   combined_mpg_ft2  unrounded_combined_mpg_ft2  \\\n",
       "0                 0                         0.0   \n",
       "1                 0                         0.0   \n",
       "2                 0                         0.0   \n",
       "3                 0                         0.0   \n",
       "4                 0                         0.0   \n",
       "\n",
       "   combined_electricity_consumption  combined_gasoline_consumption_cd  \\\n",
       "0                               0.0                               0.0   \n",
       "1                               0.0                               0.0   \n",
       "2                               0.0                               0.0   \n",
       "3                               0.0                               0.0   \n",
       "4                               0.0                               0.0   \n",
       "\n",
       "   combined_utility_factor  annual_fuel_cost_ft1  annual_fuel_cost_ft2  \\\n",
       "0                      0.0                  1750                     0   \n",
       "1                      0.0                  1750                     0   \n",
       "2                      0.0                  1650                     0   \n",
       "3                      0.0                  1650                     0   \n",
       "4                      0.0                  2050                     0   \n",
       "\n",
       "  gas_guzzler_tax  save_or_spend_5_year  annual_consumption_in_barrels_ft1  \\\n",
       "0             NaN                 -2000                          16.480500   \n",
       "1             NaN                 -2000                          16.480500   \n",
       "2             NaN                 -1500                          15.695714   \n",
       "3             NaN                 -1500                          15.695714   \n",
       "4             NaN                 -3500                          19.388824   \n",
       "\n",
       "   annual_consumption_in_barrels_ft2  tailpipe_co2_ft1  \\\n",
       "0                                0.0                -1   \n",
       "1                                0.0                -1   \n",
       "2                                0.0                -1   \n",
       "3                                0.0                -1   \n",
       "4                                0.0                -1   \n",
       "\n",
       "   tailpipe_co2_in_grams_mile_ft1  tailpipe_co2_ft2  \\\n",
       "0                      444.350000                -1   \n",
       "1                      444.350000                -1   \n",
       "2                      423.190476                -1   \n",
       "3                      423.190476                -1   \n",
       "4                      522.764706                -1   \n",
       "\n",
       "   tailpipe_co2_in_grams_mile_ft2  fuel_economy_score  ghg_score  \\\n",
       "0                             0.0                  -1         -1   \n",
       "1                             0.0                  -1         -1   \n",
       "2                             0.0                  -1         -1   \n",
       "3                             0.0                  -1         -1   \n",
       "4                             0.0                  -1         -1   \n",
       "\n",
       "   ghg_score_alt_fuel my_mpg_data  x2d_passenger_volume  x2d_luggage_volume  \\\n",
       "0                  -1           N                    74                   7   \n",
       "1                  -1           N                    74                   7   \n",
       "2                  -1           N                     0                   0   \n",
       "3                  -1           N                     0                   0   \n",
       "4                  -1           N                     0                   0   \n",
       "\n",
       "   x4d_passenger_volume  x4d_luggage_volume  hatchback_passenger_volume  \\\n",
       "0                     0                   0                           0   \n",
       "1                     0                   0                           0   \n",
       "2                     0                   0                           0   \n",
       "3                     0                   0                           0   \n",
       "4                     0                   0                           0   \n",
       "\n",
       "   hatchback_luggage_volume  start_stop_technology  \\\n",
       "0                         0                    NaN   \n",
       "1                         0                    NaN   \n",
       "2                         0                    NaN   \n",
       "3                         0                    NaN   \n",
       "4                         0                    NaN   \n",
       "\n",
       "  alternative_fuel_technology  electric_motor  manufacturer_code  \\\n",
       "0                         NaN             NaN                NaN   \n",
       "1                         NaN             NaN                NaN   \n",
       "2                         NaN             NaN                NaN   \n",
       "3                         NaN             NaN                NaN   \n",
       "4                         NaN             NaN                NaN   \n",
       "\n",
       "   gasoline_electricity_blended_cd  vehicle_charger  alternate_charger  \\\n",
       "0                            False              NaN                NaN   \n",
       "1                            False              NaN                NaN   \n",
       "2                            False              NaN                NaN   \n",
       "3                            False              NaN                NaN   \n",
       "4                            False              NaN                NaN   \n",
       "\n",
       "   hours_to_charge_120v  hours_to_charge_240v  hours_to_charge_ac_240v  \\\n",
       "0                     0                   0.0                      0.0   \n",
       "1                     0                   0.0                      0.0   \n",
       "2                     0                   0.0                      0.0   \n",
       "3                     0                   0.0                      0.0   \n",
       "4                     0                   0.0                      0.0   \n",
       "\n",
       "   composite_city_mpg  composite_highway_mpg  composite_combined_mpg  \\\n",
       "0                   0                      0                       0   \n",
       "1                   0                      0                       0   \n",
       "2                   0                      0                       0   \n",
       "3                   0                      0                       0   \n",
       "4                   0                      0                       0   \n",
       "\n",
       "   range_ft1  city_range_ft1  highway_range_ft1  range_ft2  city_range_ft2  \\\n",
       "0          0             0.0                0.0        NaN             0.0   \n",
       "1          0             0.0                0.0        NaN             0.0   \n",
       "2          0             0.0                0.0        NaN             0.0   \n",
       "3          0             0.0                0.0        NaN             0.0   \n",
       "4          0             0.0                0.0        NaN             0.0   \n",
       "\n",
       "   highway_range_ft2  \n",
       "0                0.0  \n",
       "1                0.0  \n",
       "2                0.0  \n",
       "3                0.0  \n",
       "4                0.0  "
      ]
     },
     "execution_count": 4,
     "metadata": {},
     "output_type": "execute_result"
    }
   ],
   "source": [
    "# https://www.kaggle.com/datasets/sahirmaharajj/fuel-economy\n",
    "df = pd.read_csv('data/vehicle.csv')\n",
    "df.head()"
   ]
  },
  {
   "cell_type": "code",
   "execution_count": 5,
   "metadata": {},
   "outputs": [
    {
     "name": "stdout",
     "output_type": "stream",
     "text": [
      "<class 'pandas.core.frame.DataFrame'>\n",
      "RangeIndex: 38113 entries, 0 to 38112\n",
      "Data columns (total 81 columns):\n",
      " #   Column                             Non-Null Count  Dtype  \n",
      "---  ------                             --------------  -----  \n",
      " 0   vehicle_id                         38113 non-null  int64  \n",
      " 1   year                               38113 non-null  int64  \n",
      " 2   make                               38113 non-null  object \n",
      " 3   model                              38113 non-null  object \n",
      " 4   class                              38113 non-null  object \n",
      " 5   drive                              36924 non-null  object \n",
      " 6   transmission                       38102 non-null  object \n",
      " 7   transmission_type                  15045 non-null  object \n",
      " 8   engine_index                       38113 non-null  int64  \n",
      " 9   engine_descriptor                  22693 non-null  object \n",
      " 10  engine_cylinders                   37977 non-null  float64\n",
      " 11  engine_displacement                37979 non-null  float64\n",
      " 12  turbocharger                       5239 non-null   object \n",
      " 13  supercharger                       0 non-null      float64\n",
      " 14  fuel_type                          38113 non-null  object \n",
      " 15  fuel_type_1                        38113 non-null  object \n",
      " 16  fuel_type_2                        0 non-null      float64\n",
      " 17  city_mpg_ft1                       38113 non-null  int64  \n",
      " 18  unrounded_city_mpg_ft1             38113 non-null  float64\n",
      " 19  city_mpg_ft2                       38113 non-null  int64  \n",
      " 20  unrounded_city_mpg_ft2             38113 non-null  float64\n",
      " 21  city_gasoline_consumption_cd       38113 non-null  float64\n",
      " 22  city_electricity_consumption       38113 non-null  float64\n",
      " 23  city_utility_factor                38113 non-null  float64\n",
      " 24  highway_mpg_ft1                    38113 non-null  int64  \n",
      " 25  unrounded_highway_mpg_ft1          38113 non-null  float64\n",
      " 26  highway_mpg_ft2                    38113 non-null  int64  \n",
      " 27  unrounded_highway_mpg_ft2          38113 non-null  float64\n",
      " 28  highway_gasoline_consumption_cd    38113 non-null  float64\n",
      " 29  highway_electricity_consumption    38113 non-null  float64\n",
      " 30  highway_utility_factor             38113 non-null  float64\n",
      " 31  unadjusted_city_mpg_ft1            38113 non-null  float64\n",
      " 32  unadjusted_highway_mpg_ft1         38113 non-null  float64\n",
      " 33  unadjusted_city_mpg_ft2            38113 non-null  float64\n",
      " 34  unadjusted_highway_mpg_ft2         38113 non-null  float64\n",
      " 35  combined_mpg_ft1                   38113 non-null  int64  \n",
      " 36  unrounded_combined_mpg_ft1         38113 non-null  float64\n",
      " 37  combined_mpg_ft2                   38113 non-null  int64  \n",
      " 38  unrounded_combined_mpg_ft2         38113 non-null  float64\n",
      " 39  combined_electricity_consumption   38113 non-null  float64\n",
      " 40  combined_gasoline_consumption_cd   38113 non-null  float64\n",
      " 41  combined_utility_factor            38113 non-null  float64\n",
      " 42  annual_fuel_cost_ft1               38113 non-null  int64  \n",
      " 43  annual_fuel_cost_ft2               38113 non-null  int64  \n",
      " 44  gas_guzzler_tax                    964 non-null    object \n",
      " 45  save_or_spend_5_year               38113 non-null  int64  \n",
      " 46  annual_consumption_in_barrels_ft1  38113 non-null  float64\n",
      " 47  annual_consumption_in_barrels_ft2  38113 non-null  float64\n",
      " 48  tailpipe_co2_ft1                   38113 non-null  int64  \n",
      " 49  tailpipe_co2_in_grams_mile_ft1     38113 non-null  float64\n",
      " 50  tailpipe_co2_ft2                   38113 non-null  int64  \n",
      " 51  tailpipe_co2_in_grams_mile_ft2     38113 non-null  float64\n",
      " 52  fuel_economy_score                 38113 non-null  int64  \n",
      " 53  ghg_score                          38113 non-null  int64  \n",
      " 54  ghg_score_alt_fuel                 38113 non-null  int64  \n",
      " 55  my_mpg_data                        38113 non-null  object \n",
      " 56  x2d_passenger_volume               38113 non-null  int64  \n",
      " 57  x2d_luggage_volume                 38113 non-null  int64  \n",
      " 58  x4d_passenger_volume               38113 non-null  int64  \n",
      " 59  x4d_luggage_volume                 38113 non-null  int64  \n",
      " 60  hatchback_passenger_volume         38113 non-null  int64  \n",
      " 61  hatchback_luggage_volume           38113 non-null  int64  \n",
      " 62  start_stop_technology              0 non-null      float64\n",
      " 63  alternative_fuel_technology        3047 non-null   object \n",
      " 64  electric_motor                     0 non-null      float64\n",
      " 65  manufacturer_code                  0 non-null      float64\n",
      " 66  gasoline_electricity_blended_cd    38113 non-null  bool   \n",
      " 67  vehicle_charger                    0 non-null      float64\n",
      " 68  alternate_charger                  0 non-null      float64\n",
      " 69  hours_to_charge_120v               38113 non-null  int64  \n",
      " 70  hours_to_charge_240v               38113 non-null  float64\n",
      " 71  hours_to_charge_ac_240v            38113 non-null  float64\n",
      " 72  composite_city_mpg                 38113 non-null  int64  \n",
      " 73  composite_highway_mpg              38113 non-null  int64  \n",
      " 74  composite_combined_mpg             38113 non-null  int64  \n",
      " 75  range_ft1                          38113 non-null  int64  \n",
      " 76  city_range_ft1                     38113 non-null  float64\n",
      " 77  highway_range_ft1                  38113 non-null  float64\n",
      " 78  range_ft2                          0 non-null      float64\n",
      " 79  city_range_ft2                     38113 non-null  float64\n",
      " 80  highway_range_ft2                  38113 non-null  float64\n",
      "dtypes: bool(1), float64(39), int64(28), object(13)\n",
      "memory usage: 23.3+ MB\n"
     ]
    }
   ],
   "source": [
    "df.info()"
   ]
  },
  {
   "cell_type": "code",
   "execution_count": 6,
   "metadata": {},
   "outputs": [
    {
     "data": {
      "text/html": [
       "<div>\n",
       "<style scoped>\n",
       "    .dataframe tbody tr th:only-of-type {\n",
       "        vertical-align: middle;\n",
       "    }\n",
       "\n",
       "    .dataframe tbody tr th {\n",
       "        vertical-align: top;\n",
       "    }\n",
       "\n",
       "    .dataframe thead th {\n",
       "        text-align: right;\n",
       "    }\n",
       "</style>\n",
       "<table border=\"1\" class=\"dataframe\">\n",
       "  <thead>\n",
       "    <tr style=\"text-align: right;\">\n",
       "      <th></th>\n",
       "      <th>vehicle_id</th>\n",
       "      <th>year</th>\n",
       "      <th>engine_index</th>\n",
       "      <th>engine_cylinders</th>\n",
       "      <th>engine_displacement</th>\n",
       "      <th>supercharger</th>\n",
       "      <th>fuel_type_2</th>\n",
       "      <th>city_mpg_ft1</th>\n",
       "      <th>unrounded_city_mpg_ft1</th>\n",
       "      <th>city_mpg_ft2</th>\n",
       "      <th>unrounded_city_mpg_ft2</th>\n",
       "      <th>city_gasoline_consumption_cd</th>\n",
       "      <th>city_electricity_consumption</th>\n",
       "      <th>city_utility_factor</th>\n",
       "      <th>highway_mpg_ft1</th>\n",
       "      <th>unrounded_highway_mpg_ft1</th>\n",
       "      <th>highway_mpg_ft2</th>\n",
       "      <th>unrounded_highway_mpg_ft2</th>\n",
       "      <th>highway_gasoline_consumption_cd</th>\n",
       "      <th>highway_electricity_consumption</th>\n",
       "      <th>highway_utility_factor</th>\n",
       "      <th>unadjusted_city_mpg_ft1</th>\n",
       "      <th>unadjusted_highway_mpg_ft1</th>\n",
       "      <th>unadjusted_city_mpg_ft2</th>\n",
       "      <th>unadjusted_highway_mpg_ft2</th>\n",
       "      <th>combined_mpg_ft1</th>\n",
       "      <th>unrounded_combined_mpg_ft1</th>\n",
       "      <th>combined_mpg_ft2</th>\n",
       "      <th>unrounded_combined_mpg_ft2</th>\n",
       "      <th>combined_electricity_consumption</th>\n",
       "      <th>combined_gasoline_consumption_cd</th>\n",
       "      <th>combined_utility_factor</th>\n",
       "      <th>annual_fuel_cost_ft1</th>\n",
       "      <th>annual_fuel_cost_ft2</th>\n",
       "      <th>save_or_spend_5_year</th>\n",
       "      <th>annual_consumption_in_barrels_ft1</th>\n",
       "      <th>annual_consumption_in_barrels_ft2</th>\n",
       "      <th>tailpipe_co2_ft1</th>\n",
       "      <th>tailpipe_co2_in_grams_mile_ft1</th>\n",
       "      <th>tailpipe_co2_ft2</th>\n",
       "      <th>tailpipe_co2_in_grams_mile_ft2</th>\n",
       "      <th>fuel_economy_score</th>\n",
       "      <th>ghg_score</th>\n",
       "      <th>ghg_score_alt_fuel</th>\n",
       "      <th>x2d_passenger_volume</th>\n",
       "      <th>x2d_luggage_volume</th>\n",
       "      <th>x4d_passenger_volume</th>\n",
       "      <th>x4d_luggage_volume</th>\n",
       "      <th>hatchback_passenger_volume</th>\n",
       "      <th>hatchback_luggage_volume</th>\n",
       "      <th>start_stop_technology</th>\n",
       "      <th>electric_motor</th>\n",
       "      <th>manufacturer_code</th>\n",
       "      <th>vehicle_charger</th>\n",
       "      <th>alternate_charger</th>\n",
       "      <th>hours_to_charge_120v</th>\n",
       "      <th>hours_to_charge_240v</th>\n",
       "      <th>hours_to_charge_ac_240v</th>\n",
       "      <th>composite_city_mpg</th>\n",
       "      <th>composite_highway_mpg</th>\n",
       "      <th>composite_combined_mpg</th>\n",
       "      <th>range_ft1</th>\n",
       "      <th>city_range_ft1</th>\n",
       "      <th>highway_range_ft1</th>\n",
       "      <th>range_ft2</th>\n",
       "      <th>city_range_ft2</th>\n",
       "      <th>highway_range_ft2</th>\n",
       "    </tr>\n",
       "  </thead>\n",
       "  <tbody>\n",
       "    <tr>\n",
       "      <th>count</th>\n",
       "      <td>38113.000000</td>\n",
       "      <td>38113.000000</td>\n",
       "      <td>38113.000000</td>\n",
       "      <td>37977.000000</td>\n",
       "      <td>37979.000000</td>\n",
       "      <td>0.0</td>\n",
       "      <td>0.0</td>\n",
       "      <td>38113.000000</td>\n",
       "      <td>38113.000000</td>\n",
       "      <td>38113.000000</td>\n",
       "      <td>38113.000000</td>\n",
       "      <td>38113.000000</td>\n",
       "      <td>38113.000000</td>\n",
       "      <td>38113.000000</td>\n",
       "      <td>38113.000000</td>\n",
       "      <td>38113.000000</td>\n",
       "      <td>38113.000000</td>\n",
       "      <td>38113.000000</td>\n",
       "      <td>38113.000000</td>\n",
       "      <td>38113.000000</td>\n",
       "      <td>38113.000000</td>\n",
       "      <td>38113.000000</td>\n",
       "      <td>38113.000000</td>\n",
       "      <td>38113.000000</td>\n",
       "      <td>38113.000000</td>\n",
       "      <td>38113.000000</td>\n",
       "      <td>38113.000000</td>\n",
       "      <td>38113.00000</td>\n",
       "      <td>38113.000000</td>\n",
       "      <td>38113.000000</td>\n",
       "      <td>38113.000000</td>\n",
       "      <td>38113.000000</td>\n",
       "      <td>38113.000000</td>\n",
       "      <td>38113.000000</td>\n",
       "      <td>38113.000000</td>\n",
       "      <td>38113.000000</td>\n",
       "      <td>38113.000000</td>\n",
       "      <td>38113.000000</td>\n",
       "      <td>38113.000000</td>\n",
       "      <td>38113.000000</td>\n",
       "      <td>38113.000000</td>\n",
       "      <td>38113.000000</td>\n",
       "      <td>38113.000000</td>\n",
       "      <td>38113.000000</td>\n",
       "      <td>38113.000000</td>\n",
       "      <td>38113.000000</td>\n",
       "      <td>38113.000000</td>\n",
       "      <td>38113.000000</td>\n",
       "      <td>38113.000000</td>\n",
       "      <td>38113.000000</td>\n",
       "      <td>0.0</td>\n",
       "      <td>0.0</td>\n",
       "      <td>0.0</td>\n",
       "      <td>0.0</td>\n",
       "      <td>0.0</td>\n",
       "      <td>38113.0</td>\n",
       "      <td>38113.000000</td>\n",
       "      <td>38113.000000</td>\n",
       "      <td>38113.000000</td>\n",
       "      <td>38113.000000</td>\n",
       "      <td>38113.000000</td>\n",
       "      <td>38113.000000</td>\n",
       "      <td>38113.000000</td>\n",
       "      <td>38113.000000</td>\n",
       "      <td>0.0</td>\n",
       "      <td>38113.000000</td>\n",
       "      <td>38113.000000</td>\n",
       "    </tr>\n",
       "    <tr>\n",
       "      <th>mean</th>\n",
       "      <td>19170.638496</td>\n",
       "      <td>2000.194527</td>\n",
       "      <td>8799.389001</td>\n",
       "      <td>5.736656</td>\n",
       "      <td>3.317583</td>\n",
       "      <td>NaN</td>\n",
       "      <td>NaN</td>\n",
       "      <td>17.981109</td>\n",
       "      <td>4.606426</td>\n",
       "      <td>0.546218</td>\n",
       "      <td>0.386633</td>\n",
       "      <td>0.000432</td>\n",
       "      <td>0.205802</td>\n",
       "      <td>0.000828</td>\n",
       "      <td>24.080786</td>\n",
       "      <td>6.131892</td>\n",
       "      <td>0.711437</td>\n",
       "      <td>0.491544</td>\n",
       "      <td>0.000236</td>\n",
       "      <td>0.219221</td>\n",
       "      <td>0.000792</td>\n",
       "      <td>22.653390</td>\n",
       "      <td>33.677988</td>\n",
       "      <td>0.688632</td>\n",
       "      <td>0.972516</td>\n",
       "      <td>20.216068</td>\n",
       "      <td>5.164352</td>\n",
       "      <td>0.60688</td>\n",
       "      <td>0.423415</td>\n",
       "      <td>0.211561</td>\n",
       "      <td>0.000348</td>\n",
       "      <td>0.000812</td>\n",
       "      <td>1970.675360</td>\n",
       "      <td>83.722090</td>\n",
       "      <td>-3101.750059</td>\n",
       "      <td>17.517635</td>\n",
       "      <td>0.218184</td>\n",
       "      <td>64.281794</td>\n",
       "      <td>472.761382</td>\n",
       "      <td>5.276677</td>\n",
       "      <td>17.853074</td>\n",
       "      <td>0.005457</td>\n",
       "      <td>0.004802</td>\n",
       "      <td>-0.926849</td>\n",
       "      <td>13.686905</td>\n",
       "      <td>1.846745</td>\n",
       "      <td>33.770472</td>\n",
       "      <td>6.153858</td>\n",
       "      <td>10.413035</td>\n",
       "      <td>2.028337</td>\n",
       "      <td>NaN</td>\n",
       "      <td>NaN</td>\n",
       "      <td>NaN</td>\n",
       "      <td>NaN</td>\n",
       "      <td>NaN</td>\n",
       "      <td>0.0</td>\n",
       "      <td>0.027635</td>\n",
       "      <td>0.005549</td>\n",
       "      <td>0.082203</td>\n",
       "      <td>0.080891</td>\n",
       "      <td>0.081311</td>\n",
       "      <td>0.469708</td>\n",
       "      <td>0.426249</td>\n",
       "      <td>0.419197</td>\n",
       "      <td>NaN</td>\n",
       "      <td>0.043973</td>\n",
       "      <td>0.040051</td>\n",
       "    </tr>\n",
       "    <tr>\n",
       "      <th>std</th>\n",
       "      <td>11134.878665</td>\n",
       "      <td>10.464573</td>\n",
       "      <td>17781.058490</td>\n",
       "      <td>1.752254</td>\n",
       "      <td>1.361995</td>\n",
       "      <td>NaN</td>\n",
       "      <td>NaN</td>\n",
       "      <td>6.849728</td>\n",
       "      <td>10.113963</td>\n",
       "      <td>4.109282</td>\n",
       "      <td>3.861179</td>\n",
       "      <td>0.039976</td>\n",
       "      <td>3.043951</td>\n",
       "      <td>0.021113</td>\n",
       "      <td>7.026649</td>\n",
       "      <td>12.364612</td>\n",
       "      <td>4.515554</td>\n",
       "      <td>4.120152</td>\n",
       "      <td>0.029477</td>\n",
       "      <td>3.218547</td>\n",
       "      <td>0.020200</td>\n",
       "      <td>9.650185</td>\n",
       "      <td>10.233036</td>\n",
       "      <td>5.682309</td>\n",
       "      <td>6.378065</td>\n",
       "      <td>6.772655</td>\n",
       "      <td>10.849430</td>\n",
       "      <td>4.21010</td>\n",
       "      <td>3.902242</td>\n",
       "      <td>3.113066</td>\n",
       "      <td>0.035210</td>\n",
       "      <td>0.020691</td>\n",
       "      <td>532.555234</td>\n",
       "      <td>440.128132</td>\n",
       "      <td>2664.984809</td>\n",
       "      <td>4.577019</td>\n",
       "      <td>1.143768</td>\n",
       "      <td>156.148536</td>\n",
       "      <td>122.200358</td>\n",
       "      <td>54.964666</td>\n",
       "      <td>94.156241</td>\n",
       "      <td>2.418697</td>\n",
       "      <td>2.417402</td>\n",
       "      <td>0.640151</td>\n",
       "      <td>31.258711</td>\n",
       "      <td>4.426373</td>\n",
       "      <td>45.925292</td>\n",
       "      <td>9.722525</td>\n",
       "      <td>28.141638</td>\n",
       "      <td>5.957147</td>\n",
       "      <td>NaN</td>\n",
       "      <td>NaN</td>\n",
       "      <td>NaN</td>\n",
       "      <td>NaN</td>\n",
       "      <td>NaN</td>\n",
       "      <td>0.0</td>\n",
       "      <td>0.473685</td>\n",
       "      <td>0.161014</td>\n",
       "      <td>2.156682</td>\n",
       "      <td>2.052187</td>\n",
       "      <td>2.097794</td>\n",
       "      <td>9.352069</td>\n",
       "      <td>9.104702</td>\n",
       "      <td>9.315914</td>\n",
       "      <td>NaN</td>\n",
       "      <td>1.311628</td>\n",
       "      <td>1.169281</td>\n",
       "    </tr>\n",
       "    <tr>\n",
       "      <th>min</th>\n",
       "      <td>1.000000</td>\n",
       "      <td>1984.000000</td>\n",
       "      <td>0.000000</td>\n",
       "      <td>2.000000</td>\n",
       "      <td>0.000000</td>\n",
       "      <td>NaN</td>\n",
       "      <td>NaN</td>\n",
       "      <td>6.000000</td>\n",
       "      <td>0.000000</td>\n",
       "      <td>0.000000</td>\n",
       "      <td>0.000000</td>\n",
       "      <td>0.000000</td>\n",
       "      <td>0.000000</td>\n",
       "      <td>0.000000</td>\n",
       "      <td>9.000000</td>\n",
       "      <td>0.000000</td>\n",
       "      <td>0.000000</td>\n",
       "      <td>0.000000</td>\n",
       "      <td>0.000000</td>\n",
       "      <td>0.000000</td>\n",
       "      <td>0.000000</td>\n",
       "      <td>0.000000</td>\n",
       "      <td>0.000000</td>\n",
       "      <td>0.000000</td>\n",
       "      <td>0.000000</td>\n",
       "      <td>7.000000</td>\n",
       "      <td>0.000000</td>\n",
       "      <td>0.00000</td>\n",
       "      <td>0.000000</td>\n",
       "      <td>0.000000</td>\n",
       "      <td>0.000000</td>\n",
       "      <td>0.000000</td>\n",
       "      <td>500.000000</td>\n",
       "      <td>0.000000</td>\n",
       "      <td>-23500.000000</td>\n",
       "      <td>0.060000</td>\n",
       "      <td>0.000000</td>\n",
       "      <td>-1.000000</td>\n",
       "      <td>0.000000</td>\n",
       "      <td>-1.000000</td>\n",
       "      <td>0.000000</td>\n",
       "      <td>-1.000000</td>\n",
       "      <td>-1.000000</td>\n",
       "      <td>-1.000000</td>\n",
       "      <td>0.000000</td>\n",
       "      <td>0.000000</td>\n",
       "      <td>0.000000</td>\n",
       "      <td>0.000000</td>\n",
       "      <td>0.000000</td>\n",
       "      <td>0.000000</td>\n",
       "      <td>NaN</td>\n",
       "      <td>NaN</td>\n",
       "      <td>NaN</td>\n",
       "      <td>NaN</td>\n",
       "      <td>NaN</td>\n",
       "      <td>0.0</td>\n",
       "      <td>0.000000</td>\n",
       "      <td>0.000000</td>\n",
       "      <td>0.000000</td>\n",
       "      <td>0.000000</td>\n",
       "      <td>0.000000</td>\n",
       "      <td>0.000000</td>\n",
       "      <td>0.000000</td>\n",
       "      <td>0.000000</td>\n",
       "      <td>NaN</td>\n",
       "      <td>0.000000</td>\n",
       "      <td>0.000000</td>\n",
       "    </tr>\n",
       "    <tr>\n",
       "      <th>25%</th>\n",
       "      <td>9529.000000</td>\n",
       "      <td>1991.000000</td>\n",
       "      <td>0.000000</td>\n",
       "      <td>4.000000</td>\n",
       "      <td>2.200000</td>\n",
       "      <td>NaN</td>\n",
       "      <td>NaN</td>\n",
       "      <td>15.000000</td>\n",
       "      <td>0.000000</td>\n",
       "      <td>0.000000</td>\n",
       "      <td>0.000000</td>\n",
       "      <td>0.000000</td>\n",
       "      <td>0.000000</td>\n",
       "      <td>0.000000</td>\n",
       "      <td>20.000000</td>\n",
       "      <td>0.000000</td>\n",
       "      <td>0.000000</td>\n",
       "      <td>0.000000</td>\n",
       "      <td>0.000000</td>\n",
       "      <td>0.000000</td>\n",
       "      <td>0.000000</td>\n",
       "      <td>18.000000</td>\n",
       "      <td>27.117400</td>\n",
       "      <td>0.000000</td>\n",
       "      <td>0.000000</td>\n",
       "      <td>17.000000</td>\n",
       "      <td>0.000000</td>\n",
       "      <td>0.00000</td>\n",
       "      <td>0.000000</td>\n",
       "      <td>0.000000</td>\n",
       "      <td>0.000000</td>\n",
       "      <td>0.000000</td>\n",
       "      <td>1600.000000</td>\n",
       "      <td>0.000000</td>\n",
       "      <td>-5000.000000</td>\n",
       "      <td>14.330870</td>\n",
       "      <td>0.000000</td>\n",
       "      <td>-1.000000</td>\n",
       "      <td>388.000000</td>\n",
       "      <td>-1.000000</td>\n",
       "      <td>0.000000</td>\n",
       "      <td>-1.000000</td>\n",
       "      <td>-1.000000</td>\n",
       "      <td>-1.000000</td>\n",
       "      <td>0.000000</td>\n",
       "      <td>0.000000</td>\n",
       "      <td>0.000000</td>\n",
       "      <td>0.000000</td>\n",
       "      <td>0.000000</td>\n",
       "      <td>0.000000</td>\n",
       "      <td>NaN</td>\n",
       "      <td>NaN</td>\n",
       "      <td>NaN</td>\n",
       "      <td>NaN</td>\n",
       "      <td>NaN</td>\n",
       "      <td>0.0</td>\n",
       "      <td>0.000000</td>\n",
       "      <td>0.000000</td>\n",
       "      <td>0.000000</td>\n",
       "      <td>0.000000</td>\n",
       "      <td>0.000000</td>\n",
       "      <td>0.000000</td>\n",
       "      <td>0.000000</td>\n",
       "      <td>0.000000</td>\n",
       "      <td>NaN</td>\n",
       "      <td>0.000000</td>\n",
       "      <td>0.000000</td>\n",
       "    </tr>\n",
       "    <tr>\n",
       "      <th>50%</th>\n",
       "      <td>19058.000000</td>\n",
       "      <td>2001.000000</td>\n",
       "      <td>212.000000</td>\n",
       "      <td>6.000000</td>\n",
       "      <td>3.000000</td>\n",
       "      <td>NaN</td>\n",
       "      <td>NaN</td>\n",
       "      <td>17.000000</td>\n",
       "      <td>0.000000</td>\n",
       "      <td>0.000000</td>\n",
       "      <td>0.000000</td>\n",
       "      <td>0.000000</td>\n",
       "      <td>0.000000</td>\n",
       "      <td>0.000000</td>\n",
       "      <td>24.000000</td>\n",
       "      <td>0.000000</td>\n",
       "      <td>0.000000</td>\n",
       "      <td>0.000000</td>\n",
       "      <td>0.000000</td>\n",
       "      <td>0.000000</td>\n",
       "      <td>0.000000</td>\n",
       "      <td>21.048900</td>\n",
       "      <td>33.000000</td>\n",
       "      <td>0.000000</td>\n",
       "      <td>0.000000</td>\n",
       "      <td>19.000000</td>\n",
       "      <td>0.000000</td>\n",
       "      <td>0.00000</td>\n",
       "      <td>0.000000</td>\n",
       "      <td>0.000000</td>\n",
       "      <td>0.000000</td>\n",
       "      <td>0.000000</td>\n",
       "      <td>1950.000000</td>\n",
       "      <td>0.000000</td>\n",
       "      <td>-3000.000000</td>\n",
       "      <td>17.347895</td>\n",
       "      <td>0.000000</td>\n",
       "      <td>-1.000000</td>\n",
       "      <td>467.736842</td>\n",
       "      <td>-1.000000</td>\n",
       "      <td>0.000000</td>\n",
       "      <td>-1.000000</td>\n",
       "      <td>-1.000000</td>\n",
       "      <td>-1.000000</td>\n",
       "      <td>0.000000</td>\n",
       "      <td>0.000000</td>\n",
       "      <td>0.000000</td>\n",
       "      <td>0.000000</td>\n",
       "      <td>0.000000</td>\n",
       "      <td>0.000000</td>\n",
       "      <td>NaN</td>\n",
       "      <td>NaN</td>\n",
       "      <td>NaN</td>\n",
       "      <td>NaN</td>\n",
       "      <td>NaN</td>\n",
       "      <td>0.0</td>\n",
       "      <td>0.000000</td>\n",
       "      <td>0.000000</td>\n",
       "      <td>0.000000</td>\n",
       "      <td>0.000000</td>\n",
       "      <td>0.000000</td>\n",
       "      <td>0.000000</td>\n",
       "      <td>0.000000</td>\n",
       "      <td>0.000000</td>\n",
       "      <td>NaN</td>\n",
       "      <td>0.000000</td>\n",
       "      <td>0.000000</td>\n",
       "    </tr>\n",
       "    <tr>\n",
       "      <th>75%</th>\n",
       "      <td>28779.000000</td>\n",
       "      <td>2009.000000</td>\n",
       "      <td>4451.000000</td>\n",
       "      <td>6.000000</td>\n",
       "      <td>4.300000</td>\n",
       "      <td>NaN</td>\n",
       "      <td>NaN</td>\n",
       "      <td>20.000000</td>\n",
       "      <td>0.000000</td>\n",
       "      <td>0.000000</td>\n",
       "      <td>0.000000</td>\n",
       "      <td>0.000000</td>\n",
       "      <td>0.000000</td>\n",
       "      <td>0.000000</td>\n",
       "      <td>27.000000</td>\n",
       "      <td>0.000000</td>\n",
       "      <td>0.000000</td>\n",
       "      <td>0.000000</td>\n",
       "      <td>0.000000</td>\n",
       "      <td>0.000000</td>\n",
       "      <td>0.000000</td>\n",
       "      <td>25.200000</td>\n",
       "      <td>38.200000</td>\n",
       "      <td>0.000000</td>\n",
       "      <td>0.000000</td>\n",
       "      <td>23.000000</td>\n",
       "      <td>0.000000</td>\n",
       "      <td>0.00000</td>\n",
       "      <td>0.000000</td>\n",
       "      <td>0.000000</td>\n",
       "      <td>0.000000</td>\n",
       "      <td>0.000000</td>\n",
       "      <td>2350.000000</td>\n",
       "      <td>0.000000</td>\n",
       "      <td>-1250.000000</td>\n",
       "      <td>20.600625</td>\n",
       "      <td>0.000000</td>\n",
       "      <td>-1.000000</td>\n",
       "      <td>555.437500</td>\n",
       "      <td>-1.000000</td>\n",
       "      <td>0.000000</td>\n",
       "      <td>-1.000000</td>\n",
       "      <td>-1.000000</td>\n",
       "      <td>-1.000000</td>\n",
       "      <td>0.000000</td>\n",
       "      <td>0.000000</td>\n",
       "      <td>91.000000</td>\n",
       "      <td>13.000000</td>\n",
       "      <td>0.000000</td>\n",
       "      <td>0.000000</td>\n",
       "      <td>NaN</td>\n",
       "      <td>NaN</td>\n",
       "      <td>NaN</td>\n",
       "      <td>NaN</td>\n",
       "      <td>NaN</td>\n",
       "      <td>0.0</td>\n",
       "      <td>0.000000</td>\n",
       "      <td>0.000000</td>\n",
       "      <td>0.000000</td>\n",
       "      <td>0.000000</td>\n",
       "      <td>0.000000</td>\n",
       "      <td>0.000000</td>\n",
       "      <td>0.000000</td>\n",
       "      <td>0.000000</td>\n",
       "      <td>NaN</td>\n",
       "      <td>0.000000</td>\n",
       "      <td>0.000000</td>\n",
       "    </tr>\n",
       "    <tr>\n",
       "      <th>max</th>\n",
       "      <td>38542.000000</td>\n",
       "      <td>2017.000000</td>\n",
       "      <td>69102.000000</td>\n",
       "      <td>16.000000</td>\n",
       "      <td>8.400000</td>\n",
       "      <td>NaN</td>\n",
       "      <td>NaN</td>\n",
       "      <td>150.000000</td>\n",
       "      <td>150.000000</td>\n",
       "      <td>145.000000</td>\n",
       "      <td>145.083500</td>\n",
       "      <td>5.350000</td>\n",
       "      <td>122.000000</td>\n",
       "      <td>0.896000</td>\n",
       "      <td>122.000000</td>\n",
       "      <td>122.000000</td>\n",
       "      <td>121.000000</td>\n",
       "      <td>121.200500</td>\n",
       "      <td>4.060000</td>\n",
       "      <td>120.000000</td>\n",
       "      <td>0.877000</td>\n",
       "      <td>224.800000</td>\n",
       "      <td>182.700000</td>\n",
       "      <td>207.262200</td>\n",
       "      <td>173.143600</td>\n",
       "      <td>136.000000</td>\n",
       "      <td>136.000000</td>\n",
       "      <td>133.00000</td>\n",
       "      <td>133.266200</td>\n",
       "      <td>121.000000</td>\n",
       "      <td>4.800000</td>\n",
       "      <td>0.888000</td>\n",
       "      <td>6050.000000</td>\n",
       "      <td>3650.000000</td>\n",
       "      <td>4250.000000</td>\n",
       "      <td>47.087143</td>\n",
       "      <td>18.311667</td>\n",
       "      <td>847.000000</td>\n",
       "      <td>1269.571429</td>\n",
       "      <td>713.000000</td>\n",
       "      <td>713.000000</td>\n",
       "      <td>10.000000</td>\n",
       "      <td>10.000000</td>\n",
       "      <td>8.000000</td>\n",
       "      <td>194.000000</td>\n",
       "      <td>41.000000</td>\n",
       "      <td>192.000000</td>\n",
       "      <td>55.000000</td>\n",
       "      <td>195.000000</td>\n",
       "      <td>49.000000</td>\n",
       "      <td>NaN</td>\n",
       "      <td>NaN</td>\n",
       "      <td>NaN</td>\n",
       "      <td>NaN</td>\n",
       "      <td>NaN</td>\n",
       "      <td>0.0</td>\n",
       "      <td>12.000000</td>\n",
       "      <td>7.000000</td>\n",
       "      <td>97.000000</td>\n",
       "      <td>81.000000</td>\n",
       "      <td>88.000000</td>\n",
       "      <td>315.000000</td>\n",
       "      <td>305.900000</td>\n",
       "      <td>346.900000</td>\n",
       "      <td>NaN</td>\n",
       "      <td>103.030000</td>\n",
       "      <td>90.550000</td>\n",
       "    </tr>\n",
       "  </tbody>\n",
       "</table>\n",
       "</div>"
      ],
      "text/plain": [
       "         vehicle_id          year  engine_index  engine_cylinders  \\\n",
       "count  38113.000000  38113.000000  38113.000000      37977.000000   \n",
       "mean   19170.638496   2000.194527   8799.389001          5.736656   \n",
       "std    11134.878665     10.464573  17781.058490          1.752254   \n",
       "min        1.000000   1984.000000      0.000000          2.000000   \n",
       "25%     9529.000000   1991.000000      0.000000          4.000000   \n",
       "50%    19058.000000   2001.000000    212.000000          6.000000   \n",
       "75%    28779.000000   2009.000000   4451.000000          6.000000   \n",
       "max    38542.000000   2017.000000  69102.000000         16.000000   \n",
       "\n",
       "       engine_displacement  supercharger  fuel_type_2  city_mpg_ft1  \\\n",
       "count         37979.000000           0.0          0.0  38113.000000   \n",
       "mean              3.317583           NaN          NaN     17.981109   \n",
       "std               1.361995           NaN          NaN      6.849728   \n",
       "min               0.000000           NaN          NaN      6.000000   \n",
       "25%               2.200000           NaN          NaN     15.000000   \n",
       "50%               3.000000           NaN          NaN     17.000000   \n",
       "75%               4.300000           NaN          NaN     20.000000   \n",
       "max               8.400000           NaN          NaN    150.000000   \n",
       "\n",
       "       unrounded_city_mpg_ft1  city_mpg_ft2  unrounded_city_mpg_ft2  \\\n",
       "count            38113.000000  38113.000000            38113.000000   \n",
       "mean                 4.606426      0.546218                0.386633   \n",
       "std                 10.113963      4.109282                3.861179   \n",
       "min                  0.000000      0.000000                0.000000   \n",
       "25%                  0.000000      0.000000                0.000000   \n",
       "50%                  0.000000      0.000000                0.000000   \n",
       "75%                  0.000000      0.000000                0.000000   \n",
       "max                150.000000    145.000000              145.083500   \n",
       "\n",
       "       city_gasoline_consumption_cd  city_electricity_consumption  \\\n",
       "count                  38113.000000                  38113.000000   \n",
       "mean                       0.000432                      0.205802   \n",
       "std                        0.039976                      3.043951   \n",
       "min                        0.000000                      0.000000   \n",
       "25%                        0.000000                      0.000000   \n",
       "50%                        0.000000                      0.000000   \n",
       "75%                        0.000000                      0.000000   \n",
       "max                        5.350000                    122.000000   \n",
       "\n",
       "       city_utility_factor  highway_mpg_ft1  unrounded_highway_mpg_ft1  \\\n",
       "count         38113.000000     38113.000000               38113.000000   \n",
       "mean              0.000828        24.080786                   6.131892   \n",
       "std               0.021113         7.026649                  12.364612   \n",
       "min               0.000000         9.000000                   0.000000   \n",
       "25%               0.000000        20.000000                   0.000000   \n",
       "50%               0.000000        24.000000                   0.000000   \n",
       "75%               0.000000        27.000000                   0.000000   \n",
       "max               0.896000       122.000000                 122.000000   \n",
       "\n",
       "       highway_mpg_ft2  unrounded_highway_mpg_ft2  \\\n",
       "count     38113.000000               38113.000000   \n",
       "mean          0.711437                   0.491544   \n",
       "std           4.515554                   4.120152   \n",
       "min           0.000000                   0.000000   \n",
       "25%           0.000000                   0.000000   \n",
       "50%           0.000000                   0.000000   \n",
       "75%           0.000000                   0.000000   \n",
       "max         121.000000                 121.200500   \n",
       "\n",
       "       highway_gasoline_consumption_cd  highway_electricity_consumption  \\\n",
       "count                     38113.000000                     38113.000000   \n",
       "mean                          0.000236                         0.219221   \n",
       "std                           0.029477                         3.218547   \n",
       "min                           0.000000                         0.000000   \n",
       "25%                           0.000000                         0.000000   \n",
       "50%                           0.000000                         0.000000   \n",
       "75%                           0.000000                         0.000000   \n",
       "max                           4.060000                       120.000000   \n",
       "\n",
       "       highway_utility_factor  unadjusted_city_mpg_ft1  \\\n",
       "count            38113.000000             38113.000000   \n",
       "mean                 0.000792                22.653390   \n",
       "std                  0.020200                 9.650185   \n",
       "min                  0.000000                 0.000000   \n",
       "25%                  0.000000                18.000000   \n",
       "50%                  0.000000                21.048900   \n",
       "75%                  0.000000                25.200000   \n",
       "max                  0.877000               224.800000   \n",
       "\n",
       "       unadjusted_highway_mpg_ft1  unadjusted_city_mpg_ft2  \\\n",
       "count                38113.000000             38113.000000   \n",
       "mean                    33.677988                 0.688632   \n",
       "std                     10.233036                 5.682309   \n",
       "min                      0.000000                 0.000000   \n",
       "25%                     27.117400                 0.000000   \n",
       "50%                     33.000000                 0.000000   \n",
       "75%                     38.200000                 0.000000   \n",
       "max                    182.700000               207.262200   \n",
       "\n",
       "       unadjusted_highway_mpg_ft2  combined_mpg_ft1  \\\n",
       "count                38113.000000      38113.000000   \n",
       "mean                     0.972516         20.216068   \n",
       "std                      6.378065          6.772655   \n",
       "min                      0.000000          7.000000   \n",
       "25%                      0.000000         17.000000   \n",
       "50%                      0.000000         19.000000   \n",
       "75%                      0.000000         23.000000   \n",
       "max                    173.143600        136.000000   \n",
       "\n",
       "       unrounded_combined_mpg_ft1  combined_mpg_ft2  \\\n",
       "count                38113.000000       38113.00000   \n",
       "mean                     5.164352           0.60688   \n",
       "std                     10.849430           4.21010   \n",
       "min                      0.000000           0.00000   \n",
       "25%                      0.000000           0.00000   \n",
       "50%                      0.000000           0.00000   \n",
       "75%                      0.000000           0.00000   \n",
       "max                    136.000000         133.00000   \n",
       "\n",
       "       unrounded_combined_mpg_ft2  combined_electricity_consumption  \\\n",
       "count                38113.000000                      38113.000000   \n",
       "mean                     0.423415                          0.211561   \n",
       "std                      3.902242                          3.113066   \n",
       "min                      0.000000                          0.000000   \n",
       "25%                      0.000000                          0.000000   \n",
       "50%                      0.000000                          0.000000   \n",
       "75%                      0.000000                          0.000000   \n",
       "max                    133.266200                        121.000000   \n",
       "\n",
       "       combined_gasoline_consumption_cd  combined_utility_factor  \\\n",
       "count                      38113.000000             38113.000000   \n",
       "mean                           0.000348                 0.000812   \n",
       "std                            0.035210                 0.020691   \n",
       "min                            0.000000                 0.000000   \n",
       "25%                            0.000000                 0.000000   \n",
       "50%                            0.000000                 0.000000   \n",
       "75%                            0.000000                 0.000000   \n",
       "max                            4.800000                 0.888000   \n",
       "\n",
       "       annual_fuel_cost_ft1  annual_fuel_cost_ft2  save_or_spend_5_year  \\\n",
       "count          38113.000000          38113.000000          38113.000000   \n",
       "mean            1970.675360             83.722090          -3101.750059   \n",
       "std              532.555234            440.128132           2664.984809   \n",
       "min              500.000000              0.000000         -23500.000000   \n",
       "25%             1600.000000              0.000000          -5000.000000   \n",
       "50%             1950.000000              0.000000          -3000.000000   \n",
       "75%             2350.000000              0.000000          -1250.000000   \n",
       "max             6050.000000           3650.000000           4250.000000   \n",
       "\n",
       "       annual_consumption_in_barrels_ft1  annual_consumption_in_barrels_ft2  \\\n",
       "count                       38113.000000                       38113.000000   \n",
       "mean                           17.517635                           0.218184   \n",
       "std                             4.577019                           1.143768   \n",
       "min                             0.060000                           0.000000   \n",
       "25%                            14.330870                           0.000000   \n",
       "50%                            17.347895                           0.000000   \n",
       "75%                            20.600625                           0.000000   \n",
       "max                            47.087143                          18.311667   \n",
       "\n",
       "       tailpipe_co2_ft1  tailpipe_co2_in_grams_mile_ft1  tailpipe_co2_ft2  \\\n",
       "count      38113.000000                    38113.000000      38113.000000   \n",
       "mean          64.281794                      472.761382          5.276677   \n",
       "std          156.148536                      122.200358         54.964666   \n",
       "min           -1.000000                        0.000000         -1.000000   \n",
       "25%           -1.000000                      388.000000         -1.000000   \n",
       "50%           -1.000000                      467.736842         -1.000000   \n",
       "75%           -1.000000                      555.437500         -1.000000   \n",
       "max          847.000000                     1269.571429        713.000000   \n",
       "\n",
       "       tailpipe_co2_in_grams_mile_ft2  fuel_economy_score     ghg_score  \\\n",
       "count                    38113.000000        38113.000000  38113.000000   \n",
       "mean                        17.853074            0.005457      0.004802   \n",
       "std                         94.156241            2.418697      2.417402   \n",
       "min                          0.000000           -1.000000     -1.000000   \n",
       "25%                          0.000000           -1.000000     -1.000000   \n",
       "50%                          0.000000           -1.000000     -1.000000   \n",
       "75%                          0.000000           -1.000000     -1.000000   \n",
       "max                        713.000000           10.000000     10.000000   \n",
       "\n",
       "       ghg_score_alt_fuel  x2d_passenger_volume  x2d_luggage_volume  \\\n",
       "count        38113.000000          38113.000000        38113.000000   \n",
       "mean            -0.926849             13.686905            1.846745   \n",
       "std              0.640151             31.258711            4.426373   \n",
       "min             -1.000000              0.000000            0.000000   \n",
       "25%             -1.000000              0.000000            0.000000   \n",
       "50%             -1.000000              0.000000            0.000000   \n",
       "75%             -1.000000              0.000000            0.000000   \n",
       "max              8.000000            194.000000           41.000000   \n",
       "\n",
       "       x4d_passenger_volume  x4d_luggage_volume  hatchback_passenger_volume  \\\n",
       "count          38113.000000        38113.000000                38113.000000   \n",
       "mean              33.770472            6.153858                   10.413035   \n",
       "std               45.925292            9.722525                   28.141638   \n",
       "min                0.000000            0.000000                    0.000000   \n",
       "25%                0.000000            0.000000                    0.000000   \n",
       "50%                0.000000            0.000000                    0.000000   \n",
       "75%               91.000000           13.000000                    0.000000   \n",
       "max              192.000000           55.000000                  195.000000   \n",
       "\n",
       "       hatchback_luggage_volume  start_stop_technology  electric_motor  \\\n",
       "count              38113.000000                    0.0             0.0   \n",
       "mean                   2.028337                    NaN             NaN   \n",
       "std                    5.957147                    NaN             NaN   \n",
       "min                    0.000000                    NaN             NaN   \n",
       "25%                    0.000000                    NaN             NaN   \n",
       "50%                    0.000000                    NaN             NaN   \n",
       "75%                    0.000000                    NaN             NaN   \n",
       "max                   49.000000                    NaN             NaN   \n",
       "\n",
       "       manufacturer_code  vehicle_charger  alternate_charger  \\\n",
       "count                0.0              0.0                0.0   \n",
       "mean                 NaN              NaN                NaN   \n",
       "std                  NaN              NaN                NaN   \n",
       "min                  NaN              NaN                NaN   \n",
       "25%                  NaN              NaN                NaN   \n",
       "50%                  NaN              NaN                NaN   \n",
       "75%                  NaN              NaN                NaN   \n",
       "max                  NaN              NaN                NaN   \n",
       "\n",
       "       hours_to_charge_120v  hours_to_charge_240v  hours_to_charge_ac_240v  \\\n",
       "count               38113.0          38113.000000             38113.000000   \n",
       "mean                    0.0              0.027635                 0.005549   \n",
       "std                     0.0              0.473685                 0.161014   \n",
       "min                     0.0              0.000000                 0.000000   \n",
       "25%                     0.0              0.000000                 0.000000   \n",
       "50%                     0.0              0.000000                 0.000000   \n",
       "75%                     0.0              0.000000                 0.000000   \n",
       "max                     0.0             12.000000                 7.000000   \n",
       "\n",
       "       composite_city_mpg  composite_highway_mpg  composite_combined_mpg  \\\n",
       "count        38113.000000           38113.000000            38113.000000   \n",
       "mean             0.082203               0.080891                0.081311   \n",
       "std              2.156682               2.052187                2.097794   \n",
       "min              0.000000               0.000000                0.000000   \n",
       "25%              0.000000               0.000000                0.000000   \n",
       "50%              0.000000               0.000000                0.000000   \n",
       "75%              0.000000               0.000000                0.000000   \n",
       "max             97.000000              81.000000               88.000000   \n",
       "\n",
       "          range_ft1  city_range_ft1  highway_range_ft1  range_ft2  \\\n",
       "count  38113.000000    38113.000000       38113.000000        0.0   \n",
       "mean       0.469708        0.426249           0.419197        NaN   \n",
       "std        9.352069        9.104702           9.315914        NaN   \n",
       "min        0.000000        0.000000           0.000000        NaN   \n",
       "25%        0.000000        0.000000           0.000000        NaN   \n",
       "50%        0.000000        0.000000           0.000000        NaN   \n",
       "75%        0.000000        0.000000           0.000000        NaN   \n",
       "max      315.000000      305.900000         346.900000        NaN   \n",
       "\n",
       "       city_range_ft2  highway_range_ft2  \n",
       "count    38113.000000       38113.000000  \n",
       "mean         0.043973           0.040051  \n",
       "std          1.311628           1.169281  \n",
       "min          0.000000           0.000000  \n",
       "25%          0.000000           0.000000  \n",
       "50%          0.000000           0.000000  \n",
       "75%          0.000000           0.000000  \n",
       "max        103.030000          90.550000  "
      ]
     },
     "execution_count": 6,
     "metadata": {},
     "output_type": "execute_result"
    }
   ],
   "source": [
    "df.describe()"
   ]
  },
  {
   "cell_type": "code",
   "execution_count": 29,
   "metadata": {},
   "outputs": [
    {
     "data": {
      "text/plain": [
       "(16880, 81)"
      ]
     },
     "execution_count": 29,
     "metadata": {},
     "output_type": "execute_result"
    }
   ],
   "source": [
    "top_car_brands = [\n",
    "    \"Toyota\",\n",
    "    \"Volkswagen\",\n",
    "    \"Ford\",\n",
    "    \"Honda\",\n",
    "    \"Chevrolet\",\n",
    "    \"Nissan\",\n",
    "    \"Hyundai\",\n",
    "    \"Mercedes-Benz\",\n",
    "    \"BMW\",\n",
    "    \"Audi\",\n",
    "    \"Kia\",\n",
    "    \"Subaru\",\n",
    "    \"Tesla\",\n",
    "    \"Fiat\",\n",
    "    \"Jeep\",\n",
    "    \"Volvo\",\n",
    "    \"Porsche\",\n",
    "    \"Mazda\",\n",
    "    \"Lexus\",\n",
    "    \"Land Rover\"\n",
    "][:10]\n",
    "\n",
    "df = df[df['make'].isin(top_car_brands)]\n",
    "df.shape"
   ]
  },
  {
   "cell_type": "code",
   "execution_count": 30,
   "metadata": {},
   "outputs": [],
   "source": [
    "mpg_ft1 = df.groupby(['make', 'year'])[['unadjusted_city_mpg_ft1', 'unadjusted_highway_mpg_ft1']].mean().mean(axis=1).reset_index()\n",
    "mpg_ft2 = df.groupby(['make', 'year'])[['unadjusted_city_mpg_ft2', 'unadjusted_highway_mpg_ft2']].mean().mean(axis=1).reset_index()\n",
    "mpg_ft1.columns = ['make', 'year', 'average_mpg_ft1']\n",
    "mpg_ft2.columns = ['make', 'year', 'average_mpg_ft2']"
   ]
  },
  {
   "cell_type": "code",
   "execution_count": 31,
   "metadata": {},
   "outputs": [
    {
     "data": {
      "application/vnd.plotly.v1+json": {
       "config": {
        "plotlyServerURL": "https://plot.ly"
       },
       "data": [
        {
         "hovertemplate": "<b>%{hovertext}</b><br><br>make=Audi<br>year=%{x}<br>average_mpg_ft1=%{y}<extra></extra>",
         "hovertext": [
          "Audi",
          "Audi",
          "Audi",
          "Audi",
          "Audi",
          "Audi",
          "Audi",
          "Audi",
          "Audi",
          "Audi",
          "Audi",
          "Audi",
          "Audi",
          "Audi",
          "Audi",
          "Audi",
          "Audi",
          "Audi",
          "Audi",
          "Audi",
          "Audi",
          "Audi",
          "Audi",
          "Audi",
          "Audi",
          "Audi",
          "Audi",
          "Audi",
          "Audi",
          "Audi",
          "Audi",
          "Audi",
          "Audi",
          "Audi"
         ],
         "legendgroup": "Audi",
         "line": {
          "color": "#636efa",
          "dash": "solid"
         },
         "marker": {
          "symbol": "circle"
         },
         "mode": "lines",
         "name": "Audi",
         "orientation": "v",
         "showlegend": true,
         "type": "scatter",
         "x": [
          1984,
          1985,
          1986,
          1987,
          1988,
          1989,
          1990,
          1991,
          1992,
          1993,
          1994,
          1995,
          1996,
          1997,
          1998,
          1999,
          2000,
          2001,
          2002,
          2003,
          2004,
          2005,
          2006,
          2007,
          2008,
          2009,
          2010,
          2011,
          2012,
          2013,
          2014,
          2015,
          2016,
          2017
         ],
         "xaxis": "x",
         "y": [
          25.73076923076923,
          25.46351153846154,
          26.23603076923077,
          25.8491425,
          26.318865384615385,
          26.208174999999997,
          25.23361333333333,
          24.684829166666667,
          25.045236363636363,
          24.726840000000003,
          25.208333333333336,
          25.91879642857143,
          26.857544444444443,
          27.15186923076923,
          28.045285294117647,
          28.143408823529413,
          27.11061923076923,
          26.713175806451616,
          26.6641828125,
          27.300269999999998,
          27.1275375,
          27.681601219512196,
          27.890007142857144,
          27.07344857142857,
          27.060067708333335,
          28.091758749999997,
          28.23448181818182,
          27.981606944444444,
          28.356880555555556,
          30.850765476190475,
          28.540058139534885,
          30.217249,
          33.43020512820513,
          33.222729487179485
         ],
         "yaxis": "y"
        },
        {
         "hovertemplate": "<b>%{hovertext}</b><br><br>make=BMW<br>year=%{x}<br>average_mpg_ft1=%{y}<extra></extra>",
         "hovertext": [
          "BMW",
          "BMW",
          "BMW",
          "BMW",
          "BMW",
          "BMW",
          "BMW",
          "BMW",
          "BMW",
          "BMW",
          "BMW",
          "BMW",
          "BMW",
          "BMW",
          "BMW",
          "BMW",
          "BMW",
          "BMW",
          "BMW",
          "BMW",
          "BMW",
          "BMW",
          "BMW",
          "BMW",
          "BMW",
          "BMW",
          "BMW",
          "BMW",
          "BMW",
          "BMW",
          "BMW",
          "BMW",
          "BMW",
          "BMW"
         ],
         "legendgroup": "BMW",
         "line": {
          "color": "#EF553B",
          "dash": "solid"
         },
         "marker": {
          "symbol": "circle"
         },
         "mode": "lines",
         "name": "BMW",
         "orientation": "v",
         "showlegend": true,
         "type": "scatter",
         "x": [
          1984,
          1985,
          1986,
          1987,
          1988,
          1989,
          1990,
          1991,
          1992,
          1993,
          1994,
          1995,
          1996,
          1997,
          1998,
          1999,
          2000,
          2001,
          2002,
          2003,
          2004,
          2005,
          2006,
          2007,
          2008,
          2009,
          2010,
          2011,
          2012,
          2013,
          2014,
          2015,
          2016,
          2017
         ],
         "xaxis": "x",
         "y": [
          27.9375,
          26.366203846153848,
          24.959595454545454,
          23.867519230769233,
          23.242689473684212,
          22.530113636363637,
          23.810826666666664,
          22.74014193548387,
          23.49945,
          24.580125000000002,
          26.193815384615387,
          26.780401923076923,
          28.840876470588235,
          29.232940322580646,
          28.3422625,
          27.28378783783784,
          26.10982948717949,
          26.10385098039216,
          26.467563043478258,
          26.880919607843136,
          27.1946765625,
          26.88956949152542,
          26.611911904761904,
          26.949063846153848,
          26.793621428571427,
          26.899637837837837,
          26.514387951807226,
          29.425172619047622,
          28.57315882352941,
          29.8196095,
          34.34725102040816,
          34.07047231404959,
          34.42321785714285,
          35.87316930693069
         ],
         "yaxis": "y"
        },
        {
         "hovertemplate": "<b>%{hovertext}</b><br><br>make=Chevrolet<br>year=%{x}<br>average_mpg_ft1=%{y}<extra></extra>",
         "hovertext": [
          "Chevrolet",
          "Chevrolet",
          "Chevrolet",
          "Chevrolet",
          "Chevrolet",
          "Chevrolet",
          "Chevrolet",
          "Chevrolet",
          "Chevrolet",
          "Chevrolet",
          "Chevrolet",
          "Chevrolet",
          "Chevrolet",
          "Chevrolet",
          "Chevrolet",
          "Chevrolet",
          "Chevrolet",
          "Chevrolet",
          "Chevrolet",
          "Chevrolet",
          "Chevrolet",
          "Chevrolet",
          "Chevrolet",
          "Chevrolet",
          "Chevrolet",
          "Chevrolet",
          "Chevrolet",
          "Chevrolet",
          "Chevrolet",
          "Chevrolet",
          "Chevrolet",
          "Chevrolet",
          "Chevrolet",
          "Chevrolet"
         ],
         "legendgroup": "Chevrolet",
         "line": {
          "color": "#00cc96",
          "dash": "solid"
         },
         "marker": {
          "symbol": "circle"
         },
         "mode": "lines",
         "name": "Chevrolet",
         "orientation": "v",
         "showlegend": true,
         "type": "scatter",
         "x": [
          1984,
          1985,
          1986,
          1987,
          1988,
          1989,
          1990,
          1991,
          1992,
          1993,
          1994,
          1995,
          1996,
          1997,
          1998,
          1999,
          2000,
          2001,
          2002,
          2003,
          2004,
          2005,
          2006,
          2007,
          2008,
          2009,
          2010,
          2011,
          2012,
          2013,
          2014,
          2015,
          2016,
          2017
         ],
         "xaxis": "x",
         "y": [
          25.738,
          25.706958494208493,
          25.24857891891892,
          25.468415606936418,
          25.426615723270437,
          24.14686948529412,
          23.8918628,
          23.80934251968504,
          23.962263524590163,
          23.83147901785714,
          23.731028695652174,
          22.388286274509802,
          24.28096641791045,
          23.782924166666668,
          26.52906168831169,
          25.89818716216216,
          26.227438749999997,
          25.740811643835613,
          24.52736264367816,
          22.633344680851064,
          22.75373027522936,
          24.50406759259259,
          24.953061650485438,
          25.217209375,
          26.345746938775513,
          26.48045091743119,
          29.10668181818182,
          27.74858611111111,
          27.814842631578948,
          29.825754938271608,
          33.64650855263158,
          32.65375543478261,
          34.99560617977528,
          34.40924337349398
         ],
         "yaxis": "y"
        },
        {
         "hovertemplate": "<b>%{hovertext}</b><br><br>make=Ford<br>year=%{x}<br>average_mpg_ft1=%{y}<extra></extra>",
         "hovertext": [
          "Ford",
          "Ford",
          "Ford",
          "Ford",
          "Ford",
          "Ford",
          "Ford",
          "Ford",
          "Ford",
          "Ford",
          "Ford",
          "Ford",
          "Ford",
          "Ford",
          "Ford",
          "Ford",
          "Ford",
          "Ford",
          "Ford",
          "Ford",
          "Ford",
          "Ford",
          "Ford",
          "Ford",
          "Ford",
          "Ford",
          "Ford",
          "Ford",
          "Ford",
          "Ford",
          "Ford",
          "Ford",
          "Ford",
          "Ford"
         ],
         "legendgroup": "Ford",
         "line": {
          "color": "#ab63fa",
          "dash": "solid"
         },
         "marker": {
          "symbol": "circle"
         },
         "mode": "lines",
         "name": "Ford",
         "orientation": "v",
         "showlegend": true,
         "type": "scatter",
         "x": [
          1984,
          1985,
          1986,
          1987,
          1988,
          1989,
          1990,
          1991,
          1992,
          1993,
          1994,
          1995,
          1996,
          1997,
          1998,
          1999,
          2000,
          2001,
          2002,
          2003,
          2004,
          2005,
          2006,
          2007,
          2008,
          2009,
          2010,
          2011,
          2012,
          2013,
          2014,
          2015,
          2016,
          2017
         ],
         "xaxis": "x",
         "y": [
          23.177966101694913,
          24.917447311827956,
          25.64679375,
          24.07492695652174,
          24.043259090909093,
          23.478928971962617,
          22.893853982300882,
          23.718449999999997,
          24.234018229166665,
          24.53490894736842,
          24.83368294117647,
          24.91029827586207,
          24.77817882352941,
          24.65397409638554,
          23.712857894736842,
          24.56073417721519,
          25.912755625,
          24.965692021276595,
          23.696884090909094,
          24.042062087912086,
          24.046959876543212,
          25.14359705882353,
          25.57918015873016,
          25.8194390625,
          25.57575277777778,
          26.60570612244898,
          27.978495535714288,
          27.605982499999996,
          31.31857435897436,
          32.478711445783134,
          32.75696091954023,
          35.493718831168835,
          34.30732670454545,
          33.432413636363634
         ],
         "yaxis": "y"
        },
        {
         "hovertemplate": "<b>%{hovertext}</b><br><br>make=Honda<br>year=%{x}<br>average_mpg_ft1=%{y}<extra></extra>",
         "hovertext": [
          "Honda",
          "Honda",
          "Honda",
          "Honda",
          "Honda",
          "Honda",
          "Honda",
          "Honda",
          "Honda",
          "Honda",
          "Honda",
          "Honda",
          "Honda",
          "Honda",
          "Honda",
          "Honda",
          "Honda",
          "Honda",
          "Honda",
          "Honda",
          "Honda",
          "Honda",
          "Honda",
          "Honda",
          "Honda",
          "Honda",
          "Honda",
          "Honda",
          "Honda",
          "Honda",
          "Honda",
          "Honda",
          "Honda",
          "Honda"
         ],
         "legendgroup": "Honda",
         "line": {
          "color": "#FFA15A",
          "dash": "solid"
         },
         "marker": {
          "symbol": "circle"
         },
         "mode": "lines",
         "name": "Honda",
         "orientation": "v",
         "showlegend": true,
         "type": "scatter",
         "x": [
          1984,
          1985,
          1986,
          1987,
          1988,
          1989,
          1990,
          1991,
          1992,
          1993,
          1994,
          1995,
          1996,
          1997,
          1998,
          1999,
          2000,
          2001,
          2002,
          2003,
          2004,
          2005,
          2006,
          2007,
          2008,
          2009,
          2010,
          2011,
          2012,
          2013,
          2014,
          2015,
          2016,
          2017
         ],
         "xaxis": "x",
         "y": [
          39.04166666666667,
          37.191768749999994,
          38.6074775,
          38.68013,
          38.50637291666666,
          37.304325,
          35.79137272727273,
          35.27777291666667,
          38.43993055555556,
          38.42942727272727,
          34.97284193548387,
          34.59267878787879,
          32.586463333333334,
          32.84319038461538,
          33.64913913043478,
          32.88737037037037,
          33.437664,
          36.77156153846154,
          36.263814583333335,
          39.787062500000005,
          39.664567857142856,
          39.37461166666667,
          35.247192,
          33.554496,
          33.43113148148148,
          33.53970185185185,
          35.28042333333333,
          37.136275806451614,
          39.25726,
          44.580351666666665,
          47.00150172413793,
          42.28102777777778,
          41.49434310344827,
          42.21480921052632
         ],
         "yaxis": "y"
        },
        {
         "hovertemplate": "<b>%{hovertext}</b><br><br>make=Hyundai<br>year=%{x}<br>average_mpg_ft1=%{y}<extra></extra>",
         "hovertext": [
          "Hyundai",
          "Hyundai",
          "Hyundai",
          "Hyundai",
          "Hyundai",
          "Hyundai",
          "Hyundai",
          "Hyundai",
          "Hyundai",
          "Hyundai",
          "Hyundai",
          "Hyundai",
          "Hyundai",
          "Hyundai",
          "Hyundai",
          "Hyundai",
          "Hyundai",
          "Hyundai",
          "Hyundai",
          "Hyundai",
          "Hyundai",
          "Hyundai",
          "Hyundai",
          "Hyundai",
          "Hyundai",
          "Hyundai",
          "Hyundai",
          "Hyundai",
          "Hyundai",
          "Hyundai",
          "Hyundai",
          "Hyundai"
         ],
         "legendgroup": "Hyundai",
         "line": {
          "color": "#19d3f3",
          "dash": "solid"
         },
         "marker": {
          "symbol": "circle"
         },
         "mode": "lines",
         "name": "Hyundai",
         "orientation": "v",
         "showlegend": true,
         "type": "scatter",
         "x": [
          1986,
          1987,
          1988,
          1989,
          1990,
          1991,
          1992,
          1993,
          1994,
          1995,
          1996,
          1997,
          1998,
          1999,
          2000,
          2001,
          2002,
          2003,
          2004,
          2005,
          2006,
          2007,
          2008,
          2009,
          2010,
          2011,
          2012,
          2013,
          2014,
          2015,
          2016,
          2017
         ],
         "xaxis": "x",
         "y": [
          35.45726666666667,
          35.45726666666667,
          36.71795,
          32.00640833333333,
          32.53418333333333,
          34.12051,
          33.44764583333333,
          32.750704166666665,
          31.80313,
          32.73136923076923,
          33.94510384615385,
          32.088296428571425,
          32.002213636363635,
          32.54946666666667,
          32.4413875,
          31.809108823529414,
          31.209476315789473,
          30.784084,
          30.69103913043478,
          30.067424074074076,
          30.272509999999997,
          29.947953571428574,
          30.09519107142857,
          30.933483333333335,
          33.543354838709675,
          34.37826617647059,
          35.21774142857143,
          38.29419868421053,
          35.32011842105263,
          35.68960348837209,
          36.87428863636364,
          44.254948837209305
         ],
         "yaxis": "y"
        },
        {
         "hovertemplate": "<b>%{hovertext}</b><br><br>make=Mercedes-Benz<br>year=%{x}<br>average_mpg_ft1=%{y}<extra></extra>",
         "hovertext": [
          "Mercedes-Benz",
          "Mercedes-Benz",
          "Mercedes-Benz",
          "Mercedes-Benz",
          "Mercedes-Benz",
          "Mercedes-Benz",
          "Mercedes-Benz",
          "Mercedes-Benz",
          "Mercedes-Benz",
          "Mercedes-Benz",
          "Mercedes-Benz",
          "Mercedes-Benz",
          "Mercedes-Benz",
          "Mercedes-Benz",
          "Mercedes-Benz",
          "Mercedes-Benz",
          "Mercedes-Benz",
          "Mercedes-Benz",
          "Mercedes-Benz",
          "Mercedes-Benz",
          "Mercedes-Benz",
          "Mercedes-Benz",
          "Mercedes-Benz",
          "Mercedes-Benz",
          "Mercedes-Benz",
          "Mercedes-Benz",
          "Mercedes-Benz",
          "Mercedes-Benz",
          "Mercedes-Benz",
          "Mercedes-Benz",
          "Mercedes-Benz",
          "Mercedes-Benz",
          "Mercedes-Benz",
          "Mercedes-Benz"
         ],
         "legendgroup": "Mercedes-Benz",
         "line": {
          "color": "#FF6692",
          "dash": "solid"
         },
         "marker": {
          "symbol": "circle"
         },
         "mode": "lines",
         "name": "Mercedes-Benz",
         "orientation": "v",
         "showlegend": true,
         "type": "scatter",
         "x": [
          1984,
          1985,
          1986,
          1987,
          1988,
          1989,
          1990,
          1991,
          1992,
          1993,
          1994,
          1995,
          1996,
          1997,
          1998,
          1999,
          2000,
          2001,
          2002,
          2003,
          2004,
          2005,
          2006,
          2007,
          2008,
          2009,
          2010,
          2011,
          2012,
          2013,
          2014,
          2015,
          2016,
          2017
         ],
         "xaxis": "x",
         "y": [
          28.61111111111111,
          23.504656818181818,
          26.038265384615386,
          27.14780882352941,
          24.323273529411765,
          23.200853571428574,
          22.94353157894737,
          23.751065277777776,
          21.221629310344827,
          23.853765217391306,
          23.462961111111113,
          24.6371775,
          24.870086666666666,
          25.010684375,
          25.511904761904763,
          25.927378846153847,
          25.84060416666667,
          25.688646774193547,
          25.07108289473684,
          24.828667647058822,
          25.01996785714286,
          24.535397115384615,
          23.96997358490566,
          23.573867,
          23.070015384615385,
          23.456489583333333,
          24.21111956521739,
          24.67137452830189,
          27.341443442622953,
          28.155157792207792,
          29.943011764705886,
          31.52181125,
          31.23118717948718,
          30.14032962962963
         ],
         "yaxis": "y"
        },
        {
         "hovertemplate": "<b>%{hovertext}</b><br><br>make=Nissan<br>year=%{x}<br>average_mpg_ft1=%{y}<extra></extra>",
         "hovertext": [
          "Nissan",
          "Nissan",
          "Nissan",
          "Nissan",
          "Nissan",
          "Nissan",
          "Nissan",
          "Nissan",
          "Nissan",
          "Nissan",
          "Nissan",
          "Nissan",
          "Nissan",
          "Nissan",
          "Nissan",
          "Nissan",
          "Nissan",
          "Nissan",
          "Nissan",
          "Nissan",
          "Nissan",
          "Nissan",
          "Nissan",
          "Nissan",
          "Nissan",
          "Nissan",
          "Nissan",
          "Nissan",
          "Nissan",
          "Nissan",
          "Nissan",
          "Nissan",
          "Nissan",
          "Nissan"
         ],
         "legendgroup": "Nissan",
         "line": {
          "color": "#B6E880",
          "dash": "solid"
         },
         "marker": {
          "symbol": "circle"
         },
         "mode": "lines",
         "name": "Nissan",
         "orientation": "v",
         "showlegend": true,
         "type": "scatter",
         "x": [
          1984,
          1985,
          1986,
          1987,
          1988,
          1989,
          1990,
          1991,
          1992,
          1993,
          1994,
          1995,
          1996,
          1997,
          1998,
          1999,
          2000,
          2001,
          2002,
          2003,
          2004,
          2005,
          2006,
          2007,
          2008,
          2009,
          2010,
          2011,
          2012,
          2013,
          2014,
          2015,
          2016,
          2017
         ],
         "xaxis": "x",
         "y": [
          32.761538461538464,
          31.393693749999997,
          28.785255,
          27.30611195652174,
          27.237267708333334,
          27.29486875,
          28.00630125,
          28.57422105263158,
          28.187155128205127,
          27.838700000000003,
          26.5613625,
          27.32147580645161,
          27.629091666666667,
          28.229341666666667,
          28.470291666666665,
          26.314925000000002,
          29.20099230769231,
          27.352784999999997,
          24.541404166666666,
          25.287580263157892,
          25.30086904761905,
          26.056952631578945,
          25.895968918918918,
          27.503902500000002,
          28.010626086956524,
          28.96765344827586,
          29.075119607843135,
          31.873615740740746,
          31.803714150943396,
          33.915475,
          34.094198039215684,
          34.521096,
          41.870973750000005,
          36.94905208333333
         ],
         "yaxis": "y"
        },
        {
         "hovertemplate": "<b>%{hovertext}</b><br><br>make=Toyota<br>year=%{x}<br>average_mpg_ft1=%{y}<extra></extra>",
         "hovertext": [
          "Toyota",
          "Toyota",
          "Toyota",
          "Toyota",
          "Toyota",
          "Toyota",
          "Toyota",
          "Toyota",
          "Toyota",
          "Toyota",
          "Toyota",
          "Toyota",
          "Toyota",
          "Toyota",
          "Toyota",
          "Toyota",
          "Toyota",
          "Toyota",
          "Toyota",
          "Toyota",
          "Toyota",
          "Toyota",
          "Toyota",
          "Toyota",
          "Toyota",
          "Toyota",
          "Toyota",
          "Toyota",
          "Toyota",
          "Toyota",
          "Toyota",
          "Toyota",
          "Toyota",
          "Toyota"
         ],
         "legendgroup": "Toyota",
         "line": {
          "color": "#FF97FF",
          "dash": "solid"
         },
         "marker": {
          "symbol": "circle"
         },
         "mode": "lines",
         "name": "Toyota",
         "orientation": "v",
         "showlegend": true,
         "type": "scatter",
         "x": [
          1984,
          1985,
          1986,
          1987,
          1988,
          1989,
          1990,
          1991,
          1992,
          1993,
          1994,
          1995,
          1996,
          1997,
          1998,
          1999,
          2000,
          2001,
          2002,
          2003,
          2004,
          2005,
          2006,
          2007,
          2008,
          2009,
          2010,
          2011,
          2012,
          2013,
          2014,
          2015,
          2016,
          2017
         ],
         "xaxis": "x",
         "y": [
          33.14935064935065,
          32.30516721311476,
          29.8450850877193,
          30.002934375,
          29.335498591549296,
          28.793574242424242,
          28.38070862068966,
          27.650971551724137,
          27.388370689655172,
          26.279089830508475,
          27.71576530612245,
          28.304243548387095,
          29.2648,
          28.685897222222223,
          28.617533636363635,
          30.099231000000003,
          29.786376363636364,
          30.286548113207548,
          30.55941568627451,
          30.832930172413793,
          29.623801785714285,
          30.553835849056604,
          29.477022340425528,
          29.607388999999998,
          29.304595918367347,
          29.353180701754386,
          29.888425438596492,
          30.068187288135594,
          33.97452372881356,
          34.74418644067797,
          35.85168275862068,
          35.37511886792453,
          36.147189,
          37.24648644067796
         ],
         "yaxis": "y"
        },
        {
         "hovertemplate": "<b>%{hovertext}</b><br><br>make=Volkswagen<br>year=%{x}<br>average_mpg_ft1=%{y}<extra></extra>",
         "hovertext": [
          "Volkswagen",
          "Volkswagen",
          "Volkswagen",
          "Volkswagen",
          "Volkswagen",
          "Volkswagen",
          "Volkswagen",
          "Volkswagen",
          "Volkswagen",
          "Volkswagen",
          "Volkswagen",
          "Volkswagen",
          "Volkswagen",
          "Volkswagen",
          "Volkswagen",
          "Volkswagen",
          "Volkswagen",
          "Volkswagen",
          "Volkswagen",
          "Volkswagen",
          "Volkswagen",
          "Volkswagen",
          "Volkswagen",
          "Volkswagen",
          "Volkswagen",
          "Volkswagen",
          "Volkswagen",
          "Volkswagen",
          "Volkswagen",
          "Volkswagen",
          "Volkswagen",
          "Volkswagen",
          "Volkswagen",
          "Volkswagen"
         ],
         "legendgroup": "Volkswagen",
         "line": {
          "color": "#FECB52",
          "dash": "solid"
         },
         "marker": {
          "symbol": "circle"
         },
         "mode": "lines",
         "name": "Volkswagen",
         "orientation": "v",
         "showlegend": true,
         "type": "scatter",
         "x": [
          1984,
          1985,
          1986,
          1987,
          1988,
          1989,
          1990,
          1991,
          1992,
          1993,
          1994,
          1995,
          1996,
          1997,
          1998,
          1999,
          2000,
          2001,
          2002,
          2003,
          2004,
          2005,
          2006,
          2007,
          2008,
          2009,
          2010,
          2011,
          2012,
          2013,
          2014,
          2015,
          2016,
          2017
         ],
         "xaxis": "x",
         "y": [
          34.698412698412696,
          32.382394000000005,
          30.922051999999997,
          29.616044230769234,
          28.163462499999998,
          31.798878124999998,
          30.6841875,
          31.329061904761904,
          31.53508947368421,
          28.204992307692308,
          26.787835714285713,
          27.952241176470594,
          33.516868421052635,
          33.58618611111111,
          35.486698076923076,
          32.68073367346939,
          33.05872948717949,
          33.02745975609756,
          33.523503,
          33.645366326530606,
          32.52272327586207,
          33.77695925925926,
          33.17705806451613,
          30.489488461538464,
          30.712849999999996,
          30.96811935483871,
          31.81476296296296,
          32.851083333333335,
          33.32568166666667,
          33.90221714285715,
          35.189994594594594,
          43.59138555555555,
          41.962636764705884,
          36.84760172413793
         ],
         "yaxis": "y"
        }
       ],
       "layout": {
        "legend": {
         "title": {
          "text": "make"
         },
         "tracegroupgap": 0
        },
        "margin": {
         "t": 60
        },
        "template": {
         "data": {
          "bar": [
           {
            "error_x": {
             "color": "#2a3f5f"
            },
            "error_y": {
             "color": "#2a3f5f"
            },
            "marker": {
             "line": {
              "color": "#E5ECF6",
              "width": 0.5
             },
             "pattern": {
              "fillmode": "overlay",
              "size": 10,
              "solidity": 0.2
             }
            },
            "type": "bar"
           }
          ],
          "barpolar": [
           {
            "marker": {
             "line": {
              "color": "#E5ECF6",
              "width": 0.5
             },
             "pattern": {
              "fillmode": "overlay",
              "size": 10,
              "solidity": 0.2
             }
            },
            "type": "barpolar"
           }
          ],
          "carpet": [
           {
            "aaxis": {
             "endlinecolor": "#2a3f5f",
             "gridcolor": "white",
             "linecolor": "white",
             "minorgridcolor": "white",
             "startlinecolor": "#2a3f5f"
            },
            "baxis": {
             "endlinecolor": "#2a3f5f",
             "gridcolor": "white",
             "linecolor": "white",
             "minorgridcolor": "white",
             "startlinecolor": "#2a3f5f"
            },
            "type": "carpet"
           }
          ],
          "choropleth": [
           {
            "colorbar": {
             "outlinewidth": 0,
             "ticks": ""
            },
            "type": "choropleth"
           }
          ],
          "contour": [
           {
            "colorbar": {
             "outlinewidth": 0,
             "ticks": ""
            },
            "colorscale": [
             [
              0,
              "#0d0887"
             ],
             [
              0.1111111111111111,
              "#46039f"
             ],
             [
              0.2222222222222222,
              "#7201a8"
             ],
             [
              0.3333333333333333,
              "#9c179e"
             ],
             [
              0.4444444444444444,
              "#bd3786"
             ],
             [
              0.5555555555555556,
              "#d8576b"
             ],
             [
              0.6666666666666666,
              "#ed7953"
             ],
             [
              0.7777777777777778,
              "#fb9f3a"
             ],
             [
              0.8888888888888888,
              "#fdca26"
             ],
             [
              1,
              "#f0f921"
             ]
            ],
            "type": "contour"
           }
          ],
          "contourcarpet": [
           {
            "colorbar": {
             "outlinewidth": 0,
             "ticks": ""
            },
            "type": "contourcarpet"
           }
          ],
          "heatmap": [
           {
            "colorbar": {
             "outlinewidth": 0,
             "ticks": ""
            },
            "colorscale": [
             [
              0,
              "#0d0887"
             ],
             [
              0.1111111111111111,
              "#46039f"
             ],
             [
              0.2222222222222222,
              "#7201a8"
             ],
             [
              0.3333333333333333,
              "#9c179e"
             ],
             [
              0.4444444444444444,
              "#bd3786"
             ],
             [
              0.5555555555555556,
              "#d8576b"
             ],
             [
              0.6666666666666666,
              "#ed7953"
             ],
             [
              0.7777777777777778,
              "#fb9f3a"
             ],
             [
              0.8888888888888888,
              "#fdca26"
             ],
             [
              1,
              "#f0f921"
             ]
            ],
            "type": "heatmap"
           }
          ],
          "heatmapgl": [
           {
            "colorbar": {
             "outlinewidth": 0,
             "ticks": ""
            },
            "colorscale": [
             [
              0,
              "#0d0887"
             ],
             [
              0.1111111111111111,
              "#46039f"
             ],
             [
              0.2222222222222222,
              "#7201a8"
             ],
             [
              0.3333333333333333,
              "#9c179e"
             ],
             [
              0.4444444444444444,
              "#bd3786"
             ],
             [
              0.5555555555555556,
              "#d8576b"
             ],
             [
              0.6666666666666666,
              "#ed7953"
             ],
             [
              0.7777777777777778,
              "#fb9f3a"
             ],
             [
              0.8888888888888888,
              "#fdca26"
             ],
             [
              1,
              "#f0f921"
             ]
            ],
            "type": "heatmapgl"
           }
          ],
          "histogram": [
           {
            "marker": {
             "pattern": {
              "fillmode": "overlay",
              "size": 10,
              "solidity": 0.2
             }
            },
            "type": "histogram"
           }
          ],
          "histogram2d": [
           {
            "colorbar": {
             "outlinewidth": 0,
             "ticks": ""
            },
            "colorscale": [
             [
              0,
              "#0d0887"
             ],
             [
              0.1111111111111111,
              "#46039f"
             ],
             [
              0.2222222222222222,
              "#7201a8"
             ],
             [
              0.3333333333333333,
              "#9c179e"
             ],
             [
              0.4444444444444444,
              "#bd3786"
             ],
             [
              0.5555555555555556,
              "#d8576b"
             ],
             [
              0.6666666666666666,
              "#ed7953"
             ],
             [
              0.7777777777777778,
              "#fb9f3a"
             ],
             [
              0.8888888888888888,
              "#fdca26"
             ],
             [
              1,
              "#f0f921"
             ]
            ],
            "type": "histogram2d"
           }
          ],
          "histogram2dcontour": [
           {
            "colorbar": {
             "outlinewidth": 0,
             "ticks": ""
            },
            "colorscale": [
             [
              0,
              "#0d0887"
             ],
             [
              0.1111111111111111,
              "#46039f"
             ],
             [
              0.2222222222222222,
              "#7201a8"
             ],
             [
              0.3333333333333333,
              "#9c179e"
             ],
             [
              0.4444444444444444,
              "#bd3786"
             ],
             [
              0.5555555555555556,
              "#d8576b"
             ],
             [
              0.6666666666666666,
              "#ed7953"
             ],
             [
              0.7777777777777778,
              "#fb9f3a"
             ],
             [
              0.8888888888888888,
              "#fdca26"
             ],
             [
              1,
              "#f0f921"
             ]
            ],
            "type": "histogram2dcontour"
           }
          ],
          "mesh3d": [
           {
            "colorbar": {
             "outlinewidth": 0,
             "ticks": ""
            },
            "type": "mesh3d"
           }
          ],
          "parcoords": [
           {
            "line": {
             "colorbar": {
              "outlinewidth": 0,
              "ticks": ""
             }
            },
            "type": "parcoords"
           }
          ],
          "pie": [
           {
            "automargin": true,
            "type": "pie"
           }
          ],
          "scatter": [
           {
            "fillpattern": {
             "fillmode": "overlay",
             "size": 10,
             "solidity": 0.2
            },
            "type": "scatter"
           }
          ],
          "scatter3d": [
           {
            "line": {
             "colorbar": {
              "outlinewidth": 0,
              "ticks": ""
             }
            },
            "marker": {
             "colorbar": {
              "outlinewidth": 0,
              "ticks": ""
             }
            },
            "type": "scatter3d"
           }
          ],
          "scattercarpet": [
           {
            "marker": {
             "colorbar": {
              "outlinewidth": 0,
              "ticks": ""
             }
            },
            "type": "scattercarpet"
           }
          ],
          "scattergeo": [
           {
            "marker": {
             "colorbar": {
              "outlinewidth": 0,
              "ticks": ""
             }
            },
            "type": "scattergeo"
           }
          ],
          "scattergl": [
           {
            "marker": {
             "colorbar": {
              "outlinewidth": 0,
              "ticks": ""
             }
            },
            "type": "scattergl"
           }
          ],
          "scattermapbox": [
           {
            "marker": {
             "colorbar": {
              "outlinewidth": 0,
              "ticks": ""
             }
            },
            "type": "scattermapbox"
           }
          ],
          "scatterpolar": [
           {
            "marker": {
             "colorbar": {
              "outlinewidth": 0,
              "ticks": ""
             }
            },
            "type": "scatterpolar"
           }
          ],
          "scatterpolargl": [
           {
            "marker": {
             "colorbar": {
              "outlinewidth": 0,
              "ticks": ""
             }
            },
            "type": "scatterpolargl"
           }
          ],
          "scatterternary": [
           {
            "marker": {
             "colorbar": {
              "outlinewidth": 0,
              "ticks": ""
             }
            },
            "type": "scatterternary"
           }
          ],
          "surface": [
           {
            "colorbar": {
             "outlinewidth": 0,
             "ticks": ""
            },
            "colorscale": [
             [
              0,
              "#0d0887"
             ],
             [
              0.1111111111111111,
              "#46039f"
             ],
             [
              0.2222222222222222,
              "#7201a8"
             ],
             [
              0.3333333333333333,
              "#9c179e"
             ],
             [
              0.4444444444444444,
              "#bd3786"
             ],
             [
              0.5555555555555556,
              "#d8576b"
             ],
             [
              0.6666666666666666,
              "#ed7953"
             ],
             [
              0.7777777777777778,
              "#fb9f3a"
             ],
             [
              0.8888888888888888,
              "#fdca26"
             ],
             [
              1,
              "#f0f921"
             ]
            ],
            "type": "surface"
           }
          ],
          "table": [
           {
            "cells": {
             "fill": {
              "color": "#EBF0F8"
             },
             "line": {
              "color": "white"
             }
            },
            "header": {
             "fill": {
              "color": "#C8D4E3"
             },
             "line": {
              "color": "white"
             }
            },
            "type": "table"
           }
          ]
         },
         "layout": {
          "annotationdefaults": {
           "arrowcolor": "#2a3f5f",
           "arrowhead": 0,
           "arrowwidth": 1
          },
          "autotypenumbers": "strict",
          "coloraxis": {
           "colorbar": {
            "outlinewidth": 0,
            "ticks": ""
           }
          },
          "colorscale": {
           "diverging": [
            [
             0,
             "#8e0152"
            ],
            [
             0.1,
             "#c51b7d"
            ],
            [
             0.2,
             "#de77ae"
            ],
            [
             0.3,
             "#f1b6da"
            ],
            [
             0.4,
             "#fde0ef"
            ],
            [
             0.5,
             "#f7f7f7"
            ],
            [
             0.6,
             "#e6f5d0"
            ],
            [
             0.7,
             "#b8e186"
            ],
            [
             0.8,
             "#7fbc41"
            ],
            [
             0.9,
             "#4d9221"
            ],
            [
             1,
             "#276419"
            ]
           ],
           "sequential": [
            [
             0,
             "#0d0887"
            ],
            [
             0.1111111111111111,
             "#46039f"
            ],
            [
             0.2222222222222222,
             "#7201a8"
            ],
            [
             0.3333333333333333,
             "#9c179e"
            ],
            [
             0.4444444444444444,
             "#bd3786"
            ],
            [
             0.5555555555555556,
             "#d8576b"
            ],
            [
             0.6666666666666666,
             "#ed7953"
            ],
            [
             0.7777777777777778,
             "#fb9f3a"
            ],
            [
             0.8888888888888888,
             "#fdca26"
            ],
            [
             1,
             "#f0f921"
            ]
           ],
           "sequentialminus": [
            [
             0,
             "#0d0887"
            ],
            [
             0.1111111111111111,
             "#46039f"
            ],
            [
             0.2222222222222222,
             "#7201a8"
            ],
            [
             0.3333333333333333,
             "#9c179e"
            ],
            [
             0.4444444444444444,
             "#bd3786"
            ],
            [
             0.5555555555555556,
             "#d8576b"
            ],
            [
             0.6666666666666666,
             "#ed7953"
            ],
            [
             0.7777777777777778,
             "#fb9f3a"
            ],
            [
             0.8888888888888888,
             "#fdca26"
            ],
            [
             1,
             "#f0f921"
            ]
           ]
          },
          "colorway": [
           "#636efa",
           "#EF553B",
           "#00cc96",
           "#ab63fa",
           "#FFA15A",
           "#19d3f3",
           "#FF6692",
           "#B6E880",
           "#FF97FF",
           "#FECB52"
          ],
          "font": {
           "color": "#2a3f5f"
          },
          "geo": {
           "bgcolor": "white",
           "lakecolor": "white",
           "landcolor": "#E5ECF6",
           "showlakes": true,
           "showland": true,
           "subunitcolor": "white"
          },
          "hoverlabel": {
           "align": "left"
          },
          "hovermode": "closest",
          "mapbox": {
           "style": "light"
          },
          "paper_bgcolor": "white",
          "plot_bgcolor": "#E5ECF6",
          "polar": {
           "angularaxis": {
            "gridcolor": "white",
            "linecolor": "white",
            "ticks": ""
           },
           "bgcolor": "#E5ECF6",
           "radialaxis": {
            "gridcolor": "white",
            "linecolor": "white",
            "ticks": ""
           }
          },
          "scene": {
           "xaxis": {
            "backgroundcolor": "#E5ECF6",
            "gridcolor": "white",
            "gridwidth": 2,
            "linecolor": "white",
            "showbackground": true,
            "ticks": "",
            "zerolinecolor": "white"
           },
           "yaxis": {
            "backgroundcolor": "#E5ECF6",
            "gridcolor": "white",
            "gridwidth": 2,
            "linecolor": "white",
            "showbackground": true,
            "ticks": "",
            "zerolinecolor": "white"
           },
           "zaxis": {
            "backgroundcolor": "#E5ECF6",
            "gridcolor": "white",
            "gridwidth": 2,
            "linecolor": "white",
            "showbackground": true,
            "ticks": "",
            "zerolinecolor": "white"
           }
          },
          "shapedefaults": {
           "line": {
            "color": "#2a3f5f"
           }
          },
          "ternary": {
           "aaxis": {
            "gridcolor": "white",
            "linecolor": "white",
            "ticks": ""
           },
           "baxis": {
            "gridcolor": "white",
            "linecolor": "white",
            "ticks": ""
           },
           "bgcolor": "#E5ECF6",
           "caxis": {
            "gridcolor": "white",
            "linecolor": "white",
            "ticks": ""
           }
          },
          "title": {
           "x": 0.05
          },
          "xaxis": {
           "automargin": true,
           "gridcolor": "white",
           "linecolor": "white",
           "ticks": "",
           "title": {
            "standoff": 15
           },
           "zerolinecolor": "white",
           "zerolinewidth": 2
          },
          "yaxis": {
           "automargin": true,
           "gridcolor": "white",
           "linecolor": "white",
           "ticks": "",
           "title": {
            "standoff": 15
           },
           "zerolinecolor": "white",
           "zerolinewidth": 2
          }
         }
        },
        "xaxis": {
         "anchor": "y",
         "domain": [
          0,
          1
         ],
         "title": {
          "text": "year"
         }
        },
        "yaxis": {
         "anchor": "x",
         "domain": [
          0,
          1
         ],
         "title": {
          "text": "average_mpg_ft1"
         }
        }
       }
      }
     },
     "metadata": {},
     "output_type": "display_data"
    }
   ],
   "source": [
    "fig = px.line(data_frame=mpg_ft1, \n",
    "              x=\"year\", y=\"average_mpg_ft1\", \n",
    "                 color=\"make\", \n",
    "                 hover_name=\"make\", \n",
    "                 )\n",
    "fig"
   ]
  },
  {
   "cell_type": "code",
   "execution_count": 38,
   "metadata": {},
   "outputs": [],
   "source": [
    "# df[df['make'] == 'Mercedes-Benz'][['make', 'year', 'model', 'unadjusted_highway_mpg_ft2']]"
   ]
  },
  {
   "cell_type": "code",
   "execution_count": 46,
   "metadata": {},
   "outputs": [
    {
     "data": {
      "text/plain": [
       "(3056, 4)"
      ]
     },
     "execution_count": 46,
     "metadata": {},
     "output_type": "execute_result"
    }
   ],
   "source": [
    "temp = df[df['fuel_economy_score'] != -1][['make', 'model', 'year', 'fuel_economy_score']]\n",
    "temp.shape"
   ]
  },
  {
   "cell_type": "code",
   "execution_count": 50,
   "metadata": {},
   "outputs": [
    {
     "data": {
      "application/vnd.plotly.v1+json": {
       "config": {
        "plotlyServerURL": "https://plot.ly"
       },
       "data": [
        {
         "hovertemplate": "<b>%{hovertext}</b><br><br>make=%{y}<br>fuel_economy_score=%{x}<extra></extra>",
         "hovertext": [
          "e-Golf",
          "Touareg Hybrid",
          "Touareg",
          "Tiguan 4motion",
          "Tiguan",
          "Routan",
          "Passat",
          "Jetta SportWagen",
          "Jetta Hybrid",
          "Jetta",
          "Golf SportWagen 4motion",
          "Golf SportWagen",
          "Golf R",
          "Golf Alltrack",
          "Golf",
          "GTI",
          "Eos",
          "CC 4motion",
          "CC",
          "Beetle Dune Convertible",
          "Beetle Dune",
          "Beetle Convertible",
          "Beetle"
         ],
         "legendgroup": "Volkswagen",
         "marker": {
          "color": "#636efa",
          "symbol": "circle"
         },
         "mode": "markers",
         "name": "Volkswagen",
         "orientation": "h",
         "showlegend": true,
         "type": "scatter",
         "x": [
          10,
          5,
          4,
          4,
          5,
          5,
          5,
          7,
          9,
          6,
          5,
          7,
          5,
          5,
          7,
          6,
          6,
          4,
          5,
          6,
          6,
          6,
          6
         ],
         "xaxis": "x",
         "y": [
          "Volkswagen",
          "Volkswagen",
          "Volkswagen",
          "Volkswagen",
          "Volkswagen",
          "Volkswagen",
          "Volkswagen",
          "Volkswagen",
          "Volkswagen",
          "Volkswagen",
          "Volkswagen",
          "Volkswagen",
          "Volkswagen",
          "Volkswagen",
          "Volkswagen",
          "Volkswagen",
          "Volkswagen",
          "Volkswagen",
          "Volkswagen",
          "Volkswagen",
          "Volkswagen",
          "Volkswagen",
          "Volkswagen"
         ],
         "yaxis": "y"
        },
        {
         "hovertemplate": "<b>%{hovertext}</b><br><br>make=%{y}<br>fuel_economy_score=%{x}<extra></extra>",
         "hovertext": [
          "Yaris iA",
          "Yaris",
          "Venza AWD",
          "Venza 4WD",
          "Venza",
          "Tundra 4WD FFV",
          "Tundra 4WD",
          "Tundra 2WD FFV",
          "Tundra 2WD",
          "Tacoma 4WD Double Cab",
          "Tacoma 4WD",
          "Tacoma 2WD",
          "Sienna AWD",
          "Sienna 2WD",
          "Sequoia 4WD FFV",
          "Sequoia 4WD",
          "Sequoia 2WD",
          "RAV4 Limited AWD/SE AWD",
          "RAV4 Limited AWD",
          "RAV4 LE/XLE",
          "RAV4 Hybrid AWD",
          "RAV4 EV",
          "RAV4 AWD",
          "RAV4 2WD",
          "RAV4",
          "Prius v",
          "Prius c",
          "Prius Prime",
          "Prius Plug-in Hybrid",
          "Prius Eco",
          "Prius",
          "Matrix",
          "Land Cruiser Wagon 4WD",
          "Highlander LE/XLE/SE/LTD",
          "Highlander Hybrid 4WD LE Plus",
          "Highlander Hybrid 4WD",
          "Highlander AWD LE",
          "Highlander AWD",
          "Highlander 4WD",
          "Highlander 2WD",
          "Highlander",
          "FJ Cruiser 4WD",
          "FJ Cruiser 2WD",
          "Corolla iM",
          "Corolla LE Eco",
          "Corolla",
          "Camry Hybrid XLE/SE",
          "Camry Hybrid XLE",
          "Camry Hybrid LE",
          "Camry",
          "Avalon Hybrid",
          "Avalon",
          "86",
          "4Runner 4WD",
          "4Runner 2WD"
         ],
         "legendgroup": "Toyota",
         "marker": {
          "color": "#EF553B",
          "symbol": "circle"
         },
         "mode": "markers",
         "name": "Toyota",
         "orientation": "h",
         "showlegend": true,
         "type": "scatter",
         "x": [
          8,
          7,
          5,
          5,
          5,
          2,
          2,
          2,
          2,
          3,
          4,
          4,
          4,
          5,
          1,
          1,
          2,
          5,
          6,
          6,
          7,
          10,
          5,
          7,
          5,
          9,
          10,
          10,
          10,
          10,
          10,
          5,
          2,
          5,
          7,
          6,
          5,
          5,
          4,
          5,
          5,
          3,
          4,
          7,
          8,
          7,
          9,
          10,
          9,
          5,
          9,
          5,
          6,
          3,
          3
         ],
         "xaxis": "x",
         "y": [
          "Toyota",
          "Toyota",
          "Toyota",
          "Toyota",
          "Toyota",
          "Toyota",
          "Toyota",
          "Toyota",
          "Toyota",
          "Toyota",
          "Toyota",
          "Toyota",
          "Toyota",
          "Toyota",
          "Toyota",
          "Toyota",
          "Toyota",
          "Toyota",
          "Toyota",
          "Toyota",
          "Toyota",
          "Toyota",
          "Toyota",
          "Toyota",
          "Toyota",
          "Toyota",
          "Toyota",
          "Toyota",
          "Toyota",
          "Toyota",
          "Toyota",
          "Toyota",
          "Toyota",
          "Toyota",
          "Toyota",
          "Toyota",
          "Toyota",
          "Toyota",
          "Toyota",
          "Toyota",
          "Toyota",
          "Toyota",
          "Toyota",
          "Toyota",
          "Toyota",
          "Toyota",
          "Toyota",
          "Toyota",
          "Toyota",
          "Toyota",
          "Toyota",
          "Toyota",
          "Toyota",
          "Toyota",
          "Toyota"
         ],
         "yaxis": "y"
        },
        {
         "hovertemplate": "<b>%{hovertext}</b><br><br>make=%{y}<br>fuel_economy_score=%{x}<extra></extra>",
         "hovertext": [
          "Xterra 4WD",
          "Xterra 2WD",
          "Versa",
          "Titan 4WD  PRO4X",
          "Titan 4WD",
          "Titan 2WD",
          "Sentra Nismo",
          "Sentra FE",
          "Sentra",
          "Rogue Select FWD",
          "Rogue Select AWD",
          "Rogue Hybrid  FWD",
          "Rogue Hybrid  AWD",
          "Rogue FWD",
          "Rogue AWD",
          "Quest",
          "Pathfinder Hybrid 4WD",
          "Pathfinder Hybrid 2WD",
          "Pathfinder 4WD Platinum",
          "Pathfinder 4WD",
          "Pathfinder 2WD",
          "NV200 NYC Taxi",
          "NV200 Cargo Van",
          "Murano Hybrid FWD",
          "Murano Hybrid AWD",
          "Murano FWD",
          "Murano CrossCabriolet",
          "Murano AWD",
          "Maxima",
          "Leaf (30 kW-hr battery pack)",
          "Leaf (24 kW-hr battery pack)",
          "Leaf",
          "Juke Nismo RS AWD",
          "Juke Nismo RS",
          "Juke AWD",
          "Juke",
          "GT-R",
          "Frontier 4WD FFV",
          "Frontier 4WD",
          "Frontier 2WD FFV",
          "Frontier 2WD",
          "Cube",
          "Armada 4WD",
          "Armada 2WD",
          "Altima SR",
          "Altima Coupe",
          "Altima",
          "370Z Roadster",
          "370Z"
         ],
         "legendgroup": "Nissan",
         "marker": {
          "color": "#00cc96",
          "symbol": "circle"
         },
         "mode": "markers",
         "name": "Nissan",
         "orientation": "h",
         "showlegend": true,
         "type": "scatter",
         "x": [
          4,
          4,
          8,
          3,
          3,
          3,
          6,
          8,
          7,
          6,
          6,
          8,
          8,
          7,
          6,
          5,
          6,
          6,
          4,
          5,
          5,
          5,
          5,
          7,
          7,
          5,
          4,
          5,
          5,
          10,
          10,
          10,
          6,
          6,
          6,
          7,
          3,
          3,
          3,
          3,
          4,
          7,
          2,
          2,
          7,
          7,
          6,
          4,
          5
         ],
         "xaxis": "x",
         "y": [
          "Nissan",
          "Nissan",
          "Nissan",
          "Nissan",
          "Nissan",
          "Nissan",
          "Nissan",
          "Nissan",
          "Nissan",
          "Nissan",
          "Nissan",
          "Nissan",
          "Nissan",
          "Nissan",
          "Nissan",
          "Nissan",
          "Nissan",
          "Nissan",
          "Nissan",
          "Nissan",
          "Nissan",
          "Nissan",
          "Nissan",
          "Nissan",
          "Nissan",
          "Nissan",
          "Nissan",
          "Nissan",
          "Nissan",
          "Nissan",
          "Nissan",
          "Nissan",
          "Nissan",
          "Nissan",
          "Nissan",
          "Nissan",
          "Nissan",
          "Nissan",
          "Nissan",
          "Nissan",
          "Nissan",
          "Nissan",
          "Nissan",
          "Nissan",
          "Nissan",
          "Nissan",
          "Nissan",
          "Nissan",
          "Nissan"
         ],
         "yaxis": "y"
        },
        {
         "hovertemplate": "<b>%{hovertext}</b><br><br>make=%{y}<br>fuel_economy_score=%{x}<extra></extra>",
         "hovertext": [
          "SLS AMG Roadster",
          "SLS AMG GT Roadster",
          "SLS AMG GT Coupe",
          "SLS AMG Coupe",
          "SLS AMG Black Series Coupe",
          "SLK55 AMG",
          "SLK350",
          "SLK300",
          "SLK250",
          "SLC300",
          "SL65 AMG",
          "SL63 AMG",
          "SL550",
          "SL450",
          "SL400",
          "S65 AMG Coupe",
          "S65 AMG Convertible",
          "S65 AMG",
          "S63 AMG 4matic Coupe",
          "S63 AMG 4matic",
          "S63 AMG",
          "S600",
          "S550e",
          "S550 Convertible",
          "S550 4matic Coupe",
          "S550 4matic",
          "S550",
          "S400 Hybrid",
          "S350 Bluetec 4matic",
          "R350 4matic",
          "Metris (Passenger Van)",
          "Metris (Cargo Van)",
          "Maybach S600",
          "Maybach S550 4matic",
          "Maybach S 600",
          "ML63 AMG",
          "ML550 4matic",
          "ML400 4matic",
          "ML350 Bluetec 4matic",
          "ML350 4matic",
          "ML350",
          "ML250 Bluetec 4matic",
          "GLS550 4matic",
          "GLS450 4matic",
          "GLK350 4matic",
          "GLK350",
          "GLK250 Bluetec 4matic",
          "GLE550e 4matic",
          "GLE450 AMG Coupe",
          "GLE400 4matic",
          "GLE350 d 4matic",
          "GLE350 4matic",
          "GLE350",
          "GLE300 d 4matic",
          "GLC300 4matic Coupe",
          "GLC300 4matic",
          "GLC300",
          "GLA45 AMG 4matic",
          "GLA250 4matic",
          "GLA250",
          "GL63 AMG",
          "GL550 4matic",
          "GL450 4matic",
          "GL350 Bluetec 4matic",
          "G63 AMG",
          "G550",
          "E63 AMG S 4matic (wagon)",
          "E63 AMG S 4matic",
          "E63 AMG S",
          "E63 AMG 4matic (wagon)",
          "E63 AMG 4matic",
          "E63 AMG (wagon)",
          "E63 AMG",
          "E550 Coupe",
          "E550 Convertible",
          "E550 4matic",
          "E400 Hybrid",
          "E400 Coupe",
          "E400 Convertible",
          "E400 4matic Coupe",
          "E400 4matic (wagon)",
          "E400 4matic",
          "E400",
          "E350 Coupe",
          "E350 Convertible",
          "E350 Bluetec",
          "E350 4matic Coupe",
          "E350 4matic (wagon)",
          "E350 4matic",
          "E350 4Matic",
          "E350",
          "E300 4matic",
          "E300",
          "E250 Bluetec 4matic",
          "E250 Bluetec",
          "CLS63 AMG S 4matic",
          "CLS63 AMG S",
          "CLS63 AMG 4matic",
          "CLS63 AMG",
          "CLS550 4matic",
          "CLS550",
          "CLS400 4matic",
          "CLS400",
          "CLA45 AMG 4matic",
          "CLA250 4matic",
          "CLA250",
          "CL65 AMG",
          "CL63 AMG",
          "CL600",
          "CL550 4matic",
          "C63 AMG Coupe",
          "C63 AMG Black Series Coupe",
          "C63 AMG",
          "C450 AMG",
          "C400 4matic",
          "C350e",
          "C350 Coupe",
          "C350 4matic Coupe",
          "C350",
          "C300 Coupe",
          "C300 Convertible",
          "C300 4matic Coupe",
          "C300 4matic Convertible",
          "C300 4matic",
          "C300",
          "C250 Coupe",
          "C250",
          "B250e",
          "B-Class Electric Drive",
          "AMG SLK55",
          "AMG SLC43",
          "AMG SL65",
          "AMG SL63",
          "AMG S65 Coupe",
          "AMG S65",
          "AMG S63 4matic Coupe",
          "AMG S63 4matic Convertible",
          "AMG S63 4matic",
          "AMG GT S",
          "AMG GT",
          "AMG GLS63",
          "AMG GLE63 S Coupe",
          "AMG GLE63 S",
          "AMG GLE63",
          "AMG GLE43 4matic Coupe",
          "AMG GLE43 4matic",
          "AMG GLC43 4matic Coupe",
          "AMG GLC43 4matic",
          "AMG GLA45 4matic",
          "AMG GL63",
          "AMG G65",
          "AMG G63",
          "AMG E63 S 4matic (wagon)",
          "AMG E63 S 4matic",
          "AMG E63 4matic",
          "AMG E43 4matic",
          "AMG CLS63 S 4matic",
          "AMG CLA45 4matic",
          "AMG C63 S Coupe",
          "AMG C63 S Convertible",
          "AMG C63 S",
          "AMG C63 Coupe",
          "AMG C63 Convertible",
          "AMG C63",
          "AMG C43 4matic Coupe",
          "AMG C43 4matic Convertible",
          "AMG C43 4matic"
         ],
         "legendgroup": "Mercedes-Benz",
         "marker": {
          "color": "#ab63fa",
          "symbol": "circle"
         },
         "mode": "markers",
         "name": "Mercedes-Benz",
         "orientation": "h",
         "showlegend": true,
         "type": "scatter",
         "x": [
          2,
          3,
          3,
          2,
          2,
          5,
          5,
          7,
          6,
          6,
          4,
          4,
          4,
          5,
          5,
          2,
          2,
          3,
          4,
          4,
          4,
          2,
          7,
          4,
          4,
          4,
          4,
          5,
          6,
          4,
          5,
          5,
          2,
          4,
          2,
          3,
          3,
          5,
          6,
          4,
          5,
          6,
          2,
          4,
          5,
          5,
          7,
          5,
          4,
          4,
          6,
          4,
          4,
          5,
          5,
          5,
          5,
          6,
          6,
          6,
          2,
          2,
          4,
          5,
          1,
          1,
          4,
          4,
          4,
          3,
          4,
          4,
          4,
          4,
          4,
          5,
          6,
          5,
          5,
          5,
          5,
          5,
          5,
          5,
          5,
          6,
          6,
          5,
          5,
          5,
          5,
          5,
          5,
          7,
          8,
          4,
          4,
          4,
          4,
          4,
          4,
          5,
          5,
          6,
          6,
          7,
          2,
          4,
          2,
          4,
          3,
          3,
          2,
          5,
          6,
          8,
          5,
          5,
          6,
          6,
          6,
          5,
          5,
          6,
          6,
          6,
          6,
          10,
          10,
          5,
          5,
          2,
          4,
          2,
          2,
          3,
          3,
          3,
          3,
          3,
          1,
          2,
          2,
          2,
          4,
          4,
          4,
          4,
          5,
          2,
          1,
          1,
          4,
          4,
          4,
          4,
          3,
          6,
          4,
          4,
          4,
          4,
          4,
          4,
          5,
          5,
          5
         ],
         "xaxis": "x",
         "y": [
          "Mercedes-Benz",
          "Mercedes-Benz",
          "Mercedes-Benz",
          "Mercedes-Benz",
          "Mercedes-Benz",
          "Mercedes-Benz",
          "Mercedes-Benz",
          "Mercedes-Benz",
          "Mercedes-Benz",
          "Mercedes-Benz",
          "Mercedes-Benz",
          "Mercedes-Benz",
          "Mercedes-Benz",
          "Mercedes-Benz",
          "Mercedes-Benz",
          "Mercedes-Benz",
          "Mercedes-Benz",
          "Mercedes-Benz",
          "Mercedes-Benz",
          "Mercedes-Benz",
          "Mercedes-Benz",
          "Mercedes-Benz",
          "Mercedes-Benz",
          "Mercedes-Benz",
          "Mercedes-Benz",
          "Mercedes-Benz",
          "Mercedes-Benz",
          "Mercedes-Benz",
          "Mercedes-Benz",
          "Mercedes-Benz",
          "Mercedes-Benz",
          "Mercedes-Benz",
          "Mercedes-Benz",
          "Mercedes-Benz",
          "Mercedes-Benz",
          "Mercedes-Benz",
          "Mercedes-Benz",
          "Mercedes-Benz",
          "Mercedes-Benz",
          "Mercedes-Benz",
          "Mercedes-Benz",
          "Mercedes-Benz",
          "Mercedes-Benz",
          "Mercedes-Benz",
          "Mercedes-Benz",
          "Mercedes-Benz",
          "Mercedes-Benz",
          "Mercedes-Benz",
          "Mercedes-Benz",
          "Mercedes-Benz",
          "Mercedes-Benz",
          "Mercedes-Benz",
          "Mercedes-Benz",
          "Mercedes-Benz",
          "Mercedes-Benz",
          "Mercedes-Benz",
          "Mercedes-Benz",
          "Mercedes-Benz",
          "Mercedes-Benz",
          "Mercedes-Benz",
          "Mercedes-Benz",
          "Mercedes-Benz",
          "Mercedes-Benz",
          "Mercedes-Benz",
          "Mercedes-Benz",
          "Mercedes-Benz",
          "Mercedes-Benz",
          "Mercedes-Benz",
          "Mercedes-Benz",
          "Mercedes-Benz",
          "Mercedes-Benz",
          "Mercedes-Benz",
          "Mercedes-Benz",
          "Mercedes-Benz",
          "Mercedes-Benz",
          "Mercedes-Benz",
          "Mercedes-Benz",
          "Mercedes-Benz",
          "Mercedes-Benz",
          "Mercedes-Benz",
          "Mercedes-Benz",
          "Mercedes-Benz",
          "Mercedes-Benz",
          "Mercedes-Benz",
          "Mercedes-Benz",
          "Mercedes-Benz",
          "Mercedes-Benz",
          "Mercedes-Benz",
          "Mercedes-Benz",
          "Mercedes-Benz",
          "Mercedes-Benz",
          "Mercedes-Benz",
          "Mercedes-Benz",
          "Mercedes-Benz",
          "Mercedes-Benz",
          "Mercedes-Benz",
          "Mercedes-Benz",
          "Mercedes-Benz",
          "Mercedes-Benz",
          "Mercedes-Benz",
          "Mercedes-Benz",
          "Mercedes-Benz",
          "Mercedes-Benz",
          "Mercedes-Benz",
          "Mercedes-Benz",
          "Mercedes-Benz",
          "Mercedes-Benz",
          "Mercedes-Benz",
          "Mercedes-Benz",
          "Mercedes-Benz",
          "Mercedes-Benz",
          "Mercedes-Benz",
          "Mercedes-Benz",
          "Mercedes-Benz",
          "Mercedes-Benz",
          "Mercedes-Benz",
          "Mercedes-Benz",
          "Mercedes-Benz",
          "Mercedes-Benz",
          "Mercedes-Benz",
          "Mercedes-Benz",
          "Mercedes-Benz",
          "Mercedes-Benz",
          "Mercedes-Benz",
          "Mercedes-Benz",
          "Mercedes-Benz",
          "Mercedes-Benz",
          "Mercedes-Benz",
          "Mercedes-Benz",
          "Mercedes-Benz",
          "Mercedes-Benz",
          "Mercedes-Benz",
          "Mercedes-Benz",
          "Mercedes-Benz",
          "Mercedes-Benz",
          "Mercedes-Benz",
          "Mercedes-Benz",
          "Mercedes-Benz",
          "Mercedes-Benz",
          "Mercedes-Benz",
          "Mercedes-Benz",
          "Mercedes-Benz",
          "Mercedes-Benz",
          "Mercedes-Benz",
          "Mercedes-Benz",
          "Mercedes-Benz",
          "Mercedes-Benz",
          "Mercedes-Benz",
          "Mercedes-Benz",
          "Mercedes-Benz",
          "Mercedes-Benz",
          "Mercedes-Benz",
          "Mercedes-Benz",
          "Mercedes-Benz",
          "Mercedes-Benz",
          "Mercedes-Benz",
          "Mercedes-Benz",
          "Mercedes-Benz",
          "Mercedes-Benz",
          "Mercedes-Benz",
          "Mercedes-Benz",
          "Mercedes-Benz",
          "Mercedes-Benz",
          "Mercedes-Benz",
          "Mercedes-Benz",
          "Mercedes-Benz",
          "Mercedes-Benz"
         ],
         "yaxis": "y"
        },
        {
         "hovertemplate": "<b>%{hovertext}</b><br><br>make=%{y}<br>fuel_economy_score=%{x}<extra></extra>",
         "hovertext": [
          "Veloster",
          "Tucson FWD",
          "Tucson Eco FWD",
          "Tucson Eco AWD",
          "Tucson AWD",
          "Tucson 4WD",
          "Tucson 2WD",
          "Sonata Sport Limited",
          "Sonata Plug-in Hybrid",
          "Sonata Limited",
          "Sonata Hybrid SE",
          "Sonata Hybrid Limited",
          "Sonata Hybrid",
          "Sonata",
          "Santa Fe Ultimate FWD",
          "Santa Fe Ultimate AWD",
          "Santa Fe Ultimate 4WD",
          "Santa Fe Ultimate 2WD",
          "Santa Fe Sport Ultimate FWD",
          "Santa Fe Sport Ultimate AWD",
          "Santa Fe Sport FWD",
          "Santa Fe Sport AWD",
          "Santa Fe Sport 4WD",
          "Santa Fe Sport 2WD",
          "Santa Fe FWD",
          "Santa Fe AWD",
          "Santa Fe 4WD",
          "Santa Fe 2WD",
          "Ioniq Electric",
          "Ioniq Blue",
          "Ioniq",
          "Genesis RWD",
          "Genesis R-Spec",
          "Genesis R Spec",
          "Genesis Coupe",
          "Genesis AWD",
          "Genesis",
          "Equus",
          "Elantra SE",
          "Elantra Limited",
          "Elantra GT",
          "Elantra Coupe",
          "Elantra Blue",
          "Elantra",
          "Azera Limited",
          "Azera",
          "Accent"
         ],
         "legendgroup": "Hyundai",
         "marker": {
          "color": "#FFA15A",
          "symbol": "circle"
         },
         "mode": "markers",
         "name": "Hyundai",
         "orientation": "h",
         "showlegend": true,
         "type": "scatter",
         "x": [
          7,
          6,
          6,
          6,
          5,
          5,
          6,
          6,
          10,
          5,
          9,
          9,
          9,
          7,
          4,
          4,
          4,
          5,
          5,
          4,
          5,
          5,
          5,
          6,
          4,
          4,
          5,
          5,
          10,
          10,
          10,
          5,
          4,
          4,
          4,
          4,
          5,
          4,
          8,
          7,
          6,
          7,
          8,
          8,
          5,
          5,
          7
         ],
         "xaxis": "x",
         "y": [
          "Hyundai",
          "Hyundai",
          "Hyundai",
          "Hyundai",
          "Hyundai",
          "Hyundai",
          "Hyundai",
          "Hyundai",
          "Hyundai",
          "Hyundai",
          "Hyundai",
          "Hyundai",
          "Hyundai",
          "Hyundai",
          "Hyundai",
          "Hyundai",
          "Hyundai",
          "Hyundai",
          "Hyundai",
          "Hyundai",
          "Hyundai",
          "Hyundai",
          "Hyundai",
          "Hyundai",
          "Hyundai",
          "Hyundai",
          "Hyundai",
          "Hyundai",
          "Hyundai",
          "Hyundai",
          "Hyundai",
          "Hyundai",
          "Hyundai",
          "Hyundai",
          "Hyundai",
          "Hyundai",
          "Hyundai",
          "Hyundai",
          "Hyundai",
          "Hyundai",
          "Hyundai",
          "Hyundai",
          "Hyundai",
          "Hyundai",
          "Hyundai",
          "Hyundai",
          "Hyundai"
         ],
         "yaxis": "y"
        },
        {
         "hovertemplate": "<b>%{hovertext}</b><br><br>make=%{y}<br>fuel_economy_score=%{x}<extra></extra>",
         "hovertext": [
          "Ridgeline Truck 4WD",
          "Ridgeline FWD",
          "Ridgeline AWD",
          "Pilot FWD",
          "Pilot AWD",
          "Pilot 4WD",
          "Pilot 2WD",
          "Odyssey",
          "Insight",
          "HR-V FWD",
          "HR-V AWD",
          "HR-V 4WD",
          "HR-V 2WD",
          "Fit EV",
          "Fit",
          "Crosstour 4WD",
          "Crosstour 2WD",
          "Civic Natural Gas",
          "Civic Hybrid",
          "Civic HF",
          "Civic 5Dr Sport",
          "Civic 5Dr",
          "Civic 4Dr",
          "Civic 2Dr",
          "Civic",
          "CR-Z",
          "CR-V FWD",
          "CR-V AWD",
          "CR-V 4WD",
          "CR-V 2WD",
          "Accord Plug-in Hybrid",
          "Accord Hybrid",
          "Accord"
         ],
         "legendgroup": "Honda",
         "marker": {
          "color": "#19d3f3",
          "symbol": "circle"
         },
         "mode": "markers",
         "name": "Honda",
         "orientation": "h",
         "showlegend": true,
         "type": "scatter",
         "x": [
          3,
          5,
          4,
          5,
          5,
          5,
          5,
          5,
          9,
          7,
          7,
          7,
          7,
          10,
          8,
          5,
          5,
          8,
          10,
          8,
          7,
          8,
          8,
          8,
          8,
          8,
          6,
          6,
          6,
          7,
          10,
          10,
          7
         ],
         "xaxis": "x",
         "y": [
          "Honda",
          "Honda",
          "Honda",
          "Honda",
          "Honda",
          "Honda",
          "Honda",
          "Honda",
          "Honda",
          "Honda",
          "Honda",
          "Honda",
          "Honda",
          "Honda",
          "Honda",
          "Honda",
          "Honda",
          "Honda",
          "Honda",
          "Honda",
          "Honda",
          "Honda",
          "Honda",
          "Honda",
          "Honda",
          "Honda",
          "Honda",
          "Honda",
          "Honda",
          "Honda",
          "Honda",
          "Honda",
          "Honda"
         ],
         "yaxis": "y"
        },
        {
         "hovertemplate": "<b>%{hovertext}</b><br><br>make=%{y}<br>fuel_economy_score=%{x}<extra></extra>",
         "hovertext": [
          "Transit T150 Wagon FFV",
          "Transit T150 Wagon",
          "Transit Connect Wagon LWB FWD",
          "Transit Connect Wagon LWB FFV",
          "Transit Connect Wagon FWD",
          "Transit Connect Wagon FFV",
          "Transit Connect Van FFV",
          "Transit Connect Van 2WD",
          "Transit Connect Van",
          "Taurus FWD FFV",
          "Taurus FWD",
          "Taurus AWD FFV",
          "Taurus AWD",
          "Shelby GT350 Mustang",
          "Mustang Performance Package",
          "Mustang Convertible",
          "Mustang",
          "GT",
          "Fusion Hybrid FWD",
          "Fusion FWD",
          "Fusion Energi Plug-in Hybrid",
          "Fusion AWD",
          "Focus ST FWD",
          "Focus SFE FWD FFV",
          "Focus SFE FWD",
          "Focus RS AWD",
          "Focus FWD FFV",
          "Focus FWD",
          "Focus Electric",
          "Flex FWD",
          "Flex AWD",
          "Fiesta ST FWD",
          "Fiesta SFE FWD",
          "Fiesta FWD",
          "F150 Raptor Pickup 4WD",
          "F150 RAPTOR 4WD",
          "F150 Pickup 4WD FFV",
          "F150 Pickup 4WD",
          "F150 Pickup 2WD FFV",
          "F150 Pickup 2WD",
          "F150 5.0L 4WD FFV GVWR>7599 LBS PAYLOAD PACKAGE",
          "F150 5.0L 4WD FFV GVWR>7599 LBS",
          "F150 5.0L 2WD FFV GVWR>7599 LBS PAYLOAD PACKAGE",
          "F150 5.0L 2WD FFV GVWR>7599 LBS",
          "F150 4WD FFV BASE PAYLOAD LT TIRE",
          "F150 4WD BASE PAYLOAD LT TIRE",
          "F150 3.5L 4WD GVWR>7599 LBS PAYLOAD PACKAGE",
          "F150 3.5L 4WD GVWR>7599 LBS",
          "F150 3.5L 2WD GVWR>7599 LBS PAYLOAD PACKAGE",
          "F150 3.5L 2WD GVWR>7599 LBS",
          "F150 2WD BASE PAYLOAD LT TIRE",
          "F150 2.7L 4WD GVWR>6799 LBS PAYLOAD PACKAGE",
          "F150 2.7L 4WD GVWR>6649 LBS",
          "F150 2.7L 2WD GVWR>6649 LBS PAYLOAD PACKAGE",
          "F150 2.7L 2WD GVWR>6649 LBS",
          "Explorer FWD",
          "Explorer AWD FFV",
          "Explorer AWD",
          "Explorer 2WD FFV",
          "Expedition EL 4WD",
          "Expedition EL 2WD",
          "Expedition 4WD FFV",
          "Expedition 4WD",
          "Expedition 2WD FFV",
          "Expedition 2WD",
          "Escape FWD FFV",
          "Escape FWD",
          "Escape AWD",
          "Edge FWD",
          "Edge AWD",
          "E350 Wagon FFV",
          "E350 Wagon",
          "E350 Van FFV",
          "E350 Van",
          "E250 Van FFV",
          "E150 Wagon FFV",
          "E150 Van FFV",
          "C-MAX Hybrid FWD",
          "C-MAX Energi Plug-in Hybrid",
          "C-MAX Energi Plug-In Hybrid"
         ],
         "legendgroup": "Ford",
         "marker": {
          "color": "#FF6692",
          "symbol": "circle"
         },
         "mode": "markers",
         "name": "Ford",
         "orientation": "h",
         "showlegend": true,
         "type": "scatter",
         "x": [
          2,
          2,
          5,
          5,
          5,
          5,
          5,
          5,
          6,
          4,
          5,
          4,
          4,
          2,
          5,
          5,
          5,
          1,
          9,
          6,
          10,
          5,
          5,
          8,
          8,
          5,
          7,
          7,
          10,
          4,
          3,
          7,
          8,
          7,
          1,
          2,
          3,
          4,
          3,
          4,
          3,
          2,
          3,
          2,
          3,
          4,
          3,
          4,
          4,
          4,
          4,
          4,
          4,
          5,
          4,
          5,
          4,
          4,
          4,
          2,
          3,
          2,
          3,
          3,
          3,
          5,
          5,
          5,
          5,
          5,
          1,
          1,
          1,
          1,
          2,
          1,
          2,
          9,
          10,
          10
         ],
         "xaxis": "x",
         "y": [
          "Ford",
          "Ford",
          "Ford",
          "Ford",
          "Ford",
          "Ford",
          "Ford",
          "Ford",
          "Ford",
          "Ford",
          "Ford",
          "Ford",
          "Ford",
          "Ford",
          "Ford",
          "Ford",
          "Ford",
          "Ford",
          "Ford",
          "Ford",
          "Ford",
          "Ford",
          "Ford",
          "Ford",
          "Ford",
          "Ford",
          "Ford",
          "Ford",
          "Ford",
          "Ford",
          "Ford",
          "Ford",
          "Ford",
          "Ford",
          "Ford",
          "Ford",
          "Ford",
          "Ford",
          "Ford",
          "Ford",
          "Ford",
          "Ford",
          "Ford",
          "Ford",
          "Ford",
          "Ford",
          "Ford",
          "Ford",
          "Ford",
          "Ford",
          "Ford",
          "Ford",
          "Ford",
          "Ford",
          "Ford",
          "Ford",
          "Ford",
          "Ford",
          "Ford",
          "Ford",
          "Ford",
          "Ford",
          "Ford",
          "Ford",
          "Ford",
          "Ford",
          "Ford",
          "Ford",
          "Ford",
          "Ford",
          "Ford",
          "Ford",
          "Ford",
          "Ford",
          "Ford",
          "Ford",
          "Ford",
          "Ford",
          "Ford",
          "Ford"
         ],
         "yaxis": "y"
        },
        {
         "hovertemplate": "<b>%{hovertext}</b><br><br>make=%{y}<br>fuel_economy_score=%{x}<extra></extra>",
         "hovertext": [
          "Volt",
          "Trax AWD",
          "Trax",
          "Traverse FWD",
          "Traverse AWD",
          "Tahoe K1500 4WD",
          "Tahoe K10 4WD",
          "Tahoe Hybrid 4WD",
          "Tahoe Hybrid 2WD",
          "Tahoe C1500 2WD",
          "Tahoe C10 2WD",
          "Tahoe 1500 4WD",
          "Tahoe 1500 2WD",
          "Suburban K1500 4WD",
          "Suburban K10 4WD",
          "Suburban C1500 2WD",
          "Suburban C10 2WD",
          "Suburban 2500 4WD",
          "Suburban 2500 2WD",
          "Suburban 1500 4WD",
          "Suburban 1500 2WD",
          "Spark EV",
          "Spark ACTIV",
          "Spark",
          "Sonic RS",
          "Sonic 5 RS",
          "Sonic 5",
          "Sonic",
          "Silverado K15 Cab Chassis 4WD",
          "Silverado K15 4WD",
          "Silverado C15 XFE 2WD",
          "Silverado C15 Cab Chassis 2WD",
          "Silverado C15 2WD",
          "Silverado 15 Hybrid 4WD",
          "Silverado 15 Hybrid 2WD",
          "SS",
          "Malibu eAssist",
          "Malibu Limited",
          "Malibu Hybrid",
          "Malibu",
          "Impala eAssist",
          "Impala Limited",
          "Impala Bi-Fuel  (CNG)",
          "Impala",
          "Express 3500 2WD Passenger",
          "Express 2500 2WD Passenger",
          "Express 2500 2WD Conversion Cargo",
          "Express 1500 AWD Passenger",
          "Express 1500 AWD Conversion Cargo",
          "Express 1500 AWD Cargo",
          "Express 1500 2WD Passenger",
          "Express 1500 2WD Conversion Cargo",
          "Express 1500 2WD Cargo",
          "Equinox FWD",
          "Equinox AWD",
          "Cruze Premier Hatchback",
          "Cruze Premier",
          "Cruze Limited  Eco",
          "Cruze Limited",
          "Cruze Hatchback",
          "Cruze Eco",
          "Cruze",
          "Corvette",
          "Colorado Cab Chassis 2WD",
          "Colorado 4WD",
          "Colorado 2WD",
          "City Express Cargo Van",
          "Captiva FWD",
          "Captiva AWD",
          "Camaro",
          "Bolt",
          "Avalanche 1500 4WD",
          "Avalanche 1500 2WD"
         ],
         "legendgroup": "Chevrolet",
         "marker": {
          "color": "#B6E880",
          "symbol": "circle"
         },
         "mode": "markers",
         "name": "Chevrolet",
         "orientation": "h",
         "showlegend": true,
         "type": "scatter",
         "x": [
          10,
          6,
          6,
          3,
          3,
          3,
          3,
          5,
          5,
          4,
          3,
          4,
          4,
          3,
          3,
          4,
          3,
          1,
          1,
          4,
          4,
          10,
          8,
          8,
          7,
          7,
          6,
          6,
          3,
          3,
          4,
          3,
          4,
          3,
          4,
          2,
          7,
          6,
          10,
          7,
          7,
          5,
          4,
          5,
          1,
          1,
          1,
          2,
          2,
          2,
          2,
          2,
          3,
          5,
          5,
          7,
          8,
          7,
          7,
          7,
          8,
          8,
          4,
          2,
          4,
          5,
          5,
          5,
          4,
          2,
          10,
          4,
          4
         ],
         "xaxis": "x",
         "y": [
          "Chevrolet",
          "Chevrolet",
          "Chevrolet",
          "Chevrolet",
          "Chevrolet",
          "Chevrolet",
          "Chevrolet",
          "Chevrolet",
          "Chevrolet",
          "Chevrolet",
          "Chevrolet",
          "Chevrolet",
          "Chevrolet",
          "Chevrolet",
          "Chevrolet",
          "Chevrolet",
          "Chevrolet",
          "Chevrolet",
          "Chevrolet",
          "Chevrolet",
          "Chevrolet",
          "Chevrolet",
          "Chevrolet",
          "Chevrolet",
          "Chevrolet",
          "Chevrolet",
          "Chevrolet",
          "Chevrolet",
          "Chevrolet",
          "Chevrolet",
          "Chevrolet",
          "Chevrolet",
          "Chevrolet",
          "Chevrolet",
          "Chevrolet",
          "Chevrolet",
          "Chevrolet",
          "Chevrolet",
          "Chevrolet",
          "Chevrolet",
          "Chevrolet",
          "Chevrolet",
          "Chevrolet",
          "Chevrolet",
          "Chevrolet",
          "Chevrolet",
          "Chevrolet",
          "Chevrolet",
          "Chevrolet",
          "Chevrolet",
          "Chevrolet",
          "Chevrolet",
          "Chevrolet",
          "Chevrolet",
          "Chevrolet",
          "Chevrolet",
          "Chevrolet",
          "Chevrolet",
          "Chevrolet",
          "Chevrolet",
          "Chevrolet",
          "Chevrolet",
          "Chevrolet",
          "Chevrolet",
          "Chevrolet",
          "Chevrolet",
          "Chevrolet",
          "Chevrolet",
          "Chevrolet",
          "Chevrolet",
          "Chevrolet",
          "Chevrolet",
          "Chevrolet"
         ],
         "yaxis": "y"
        },
        {
         "hovertemplate": "<b>%{hovertext}</b><br><br>make=%{y}<br>fuel_economy_score=%{x}<extra></extra>",
         "hovertext": [
          "i8",
          "i3 REX  (94 Amp-hour battery)",
          "i3 REX",
          "i3 BEV (94 Amp-hour battery)",
          "i3 BEV (60  Amp-hour battery)",
          "i3 BEV",
          "Z4 sDrive35is",
          "Z4 sDrive35i",
          "Z4 sDrive28i",
          "X6 xDrive50i",
          "X6 xDrive35i",
          "X6 sDrive35i",
          "X6 M",
          "X5 xDrive50i",
          "X5 xDrive40e",
          "X5 xDrive35i",
          "X5 xDrive35d",
          "X5 xDrive 35d",
          "X5 sDrive35i",
          "X5 M",
          "X4 xDrive35i",
          "X4 xDrive28i",
          "X4 M40i",
          "X3 xDrive35i",
          "X3 xDrive28i",
          "X3 xDrive28d",
          "X3 sDrive28i",
          "X3 sDrive 28i",
          "X1 xDrive35i",
          "X1 xDrive28i",
          "X1 sDrive28i",
          "M760i xDrive",
          "M6 Gran Coupe",
          "M6 Coupe",
          "M6 Convertible",
          "M5",
          "M4 GTS",
          "M4 Coupe",
          "M4 Convertible",
          "M3 Coupe",
          "M3 Convertible",
          "M3",
          "M240i xDrive Coupe",
          "M240i xDrive Convertible",
          "M240i Coupe",
          "M240i Convertible",
          "M235i xDrive Convertible",
          "M235i xDrive",
          "M235i Convertible",
          "M235i",
          "M2",
          "Alpina B7 xDrive",
          "Alpina B7 SWB xDrive",
          "Alpina B7 SWB",
          "Alpina B7 LWB xDrive",
          "Alpina B7 LWB",
          "Alpina B6 xDrive Gran Coupe",
          "Alpina B6 Gran Coupe xDrive",
          "ActiveHybrid 7L",
          "ActiveHybrid 5",
          "ActiveHybrid 3",
          "760Li",
          "750i xDrive",
          "750i",
          "750Li xDrive",
          "750Li",
          "740i xDrive",
          "740i",
          "740e xDrive",
          "740Li xDrive",
          "740Li",
          "740Ld xDrive",
          "650i xDrive Gran Coupe",
          "650i xDrive Coupe",
          "650i xDrive Convertible",
          "650i Gran Coupe",
          "650i Coupe xDrive",
          "650i Coupe",
          "650i Convertible xDrive",
          "650i Convertible",
          "640i xDrive Gran Coupe",
          "640i xDrive Coupe",
          "640i xDrive Convertible",
          "640i Gran Coupe",
          "640i Coupe",
          "640i Convertible",
          "550i xDrive Gran Turismo",
          "550i xDrive",
          "550i Gran Turismo",
          "550i",
          "535i xDrive Gran Turismo",
          "535i xDrive",
          "535i Gran Turismo",
          "535i",
          "535d xDrive",
          "535d",
          "528i xDrive",
          "528i",
          "440i xDrive Gran Coupe",
          "440i xDrive Coupe",
          "440i xDrive Convertible",
          "440i Gran Coupe",
          "440i Coupe",
          "440i Convertible",
          "435i xDrive Gran Coupe",
          "435i xDrive Coupe",
          "435i xDrive Convertible",
          "435i Gran Coupe",
          "435i Coupe",
          "435i Convertible",
          "430i xDrive Gran Coupe",
          "430i xDrive Coupe",
          "430i xDrive Convertible",
          "430i Gran Coupe",
          "430i Coupe",
          "430i Convertible",
          "428i xDrive Gran Coupe",
          "428i xDrive Coupe",
          "428i xDrive Convertible",
          "428i Gran Coupe",
          "428i Coupe",
          "428i Convertible",
          "340i xDrive Gran Turismo",
          "340i xDrive",
          "340i",
          "335is Coupe",
          "335is Convertible",
          "335i xDrive Gran Turismo",
          "335i xDrive",
          "335i Coupe xDrive",
          "335i Coupe",
          "335i Convertible",
          "335i",
          "330i xDrive Sports Wagon",
          "330i xDrive Gran Turismo",
          "330i xDrive",
          "330i",
          "330e",
          "328i xDrive Sports Wagon",
          "328i xDrive Gran Turismo",
          "328i xDrive",
          "328i Coupe xDrive",
          "328i Coupe",
          "328i Convertible",
          "328i",
          "328d xDrive Sports Wagon",
          "328d xDrive",
          "328d",
          "320i xDrive",
          "320i",
          "230i xDrive Coupe",
          "230i xDrive Convertible",
          "230i Coupe",
          "230i Convertible",
          "228i xDrive Convertible",
          "228i xDrive",
          "228i Convertible",
          "228i",
          "135i Convertible",
          "135i",
          "128i",
          "128ci Convertible"
         ],
         "legendgroup": "BMW",
         "marker": {
          "color": "#FF97FF",
          "symbol": "circle"
         },
         "mode": "markers",
         "name": "BMW",
         "orientation": "h",
         "showlegend": true,
         "type": "scatter",
         "x": [
          8,
          10,
          10,
          10,
          10,
          10,
          4,
          4,
          6,
          3,
          4,
          4,
          2,
          3,
          7,
          4,
          6,
          5,
          4,
          2,
          5,
          5,
          4,
          4,
          5,
          7,
          5,
          5,
          5,
          5,
          6,
          2,
          2,
          2,
          2,
          3,
          4,
          4,
          4,
          3,
          3,
          4,
          5,
          5,
          5,
          5,
          5,
          5,
          5,
          5,
          5,
          3,
          4,
          4,
          4,
          4,
          3,
          4,
          6,
          6,
          7,
          3,
          4,
          4,
          4,
          4,
          5,
          5,
          8,
          5,
          5,
          6,
          3,
          4,
          3,
          4,
          4,
          4,
          4,
          4,
          5,
          5,
          5,
          5,
          5,
          5,
          3,
          4,
          4,
          4,
          4,
          5,
          5,
          5,
          7,
          7,
          6,
          6,
          5,
          5,
          5,
          5,
          5,
          5,
          5,
          5,
          5,
          5,
          5,
          5,
          6,
          6,
          6,
          6,
          6,
          6,
          6,
          6,
          6,
          6,
          6,
          6,
          5,
          5,
          5,
          4,
          4,
          5,
          6,
          5,
          5,
          5,
          6,
          6,
          6,
          6,
          6,
          9,
          6,
          6,
          6,
          5,
          5,
          5,
          6,
          8,
          8,
          8,
          6,
          6,
          6,
          6,
          6,
          6,
          6,
          6,
          6,
          6,
          5,
          5,
          5,
          5
         ],
         "xaxis": "x",
         "y": [
          "BMW",
          "BMW",
          "BMW",
          "BMW",
          "BMW",
          "BMW",
          "BMW",
          "BMW",
          "BMW",
          "BMW",
          "BMW",
          "BMW",
          "BMW",
          "BMW",
          "BMW",
          "BMW",
          "BMW",
          "BMW",
          "BMW",
          "BMW",
          "BMW",
          "BMW",
          "BMW",
          "BMW",
          "BMW",
          "BMW",
          "BMW",
          "BMW",
          "BMW",
          "BMW",
          "BMW",
          "BMW",
          "BMW",
          "BMW",
          "BMW",
          "BMW",
          "BMW",
          "BMW",
          "BMW",
          "BMW",
          "BMW",
          "BMW",
          "BMW",
          "BMW",
          "BMW",
          "BMW",
          "BMW",
          "BMW",
          "BMW",
          "BMW",
          "BMW",
          "BMW",
          "BMW",
          "BMW",
          "BMW",
          "BMW",
          "BMW",
          "BMW",
          "BMW",
          "BMW",
          "BMW",
          "BMW",
          "BMW",
          "BMW",
          "BMW",
          "BMW",
          "BMW",
          "BMW",
          "BMW",
          "BMW",
          "BMW",
          "BMW",
          "BMW",
          "BMW",
          "BMW",
          "BMW",
          "BMW",
          "BMW",
          "BMW",
          "BMW",
          "BMW",
          "BMW",
          "BMW",
          "BMW",
          "BMW",
          "BMW",
          "BMW",
          "BMW",
          "BMW",
          "BMW",
          "BMW",
          "BMW",
          "BMW",
          "BMW",
          "BMW",
          "BMW",
          "BMW",
          "BMW",
          "BMW",
          "BMW",
          "BMW",
          "BMW",
          "BMW",
          "BMW",
          "BMW",
          "BMW",
          "BMW",
          "BMW",
          "BMW",
          "BMW",
          "BMW",
          "BMW",
          "BMW",
          "BMW",
          "BMW",
          "BMW",
          "BMW",
          "BMW",
          "BMW",
          "BMW",
          "BMW",
          "BMW",
          "BMW",
          "BMW",
          "BMW",
          "BMW",
          "BMW",
          "BMW",
          "BMW",
          "BMW",
          "BMW",
          "BMW",
          "BMW",
          "BMW",
          "BMW",
          "BMW",
          "BMW",
          "BMW",
          "BMW",
          "BMW",
          "BMW",
          "BMW",
          "BMW",
          "BMW",
          "BMW",
          "BMW",
          "BMW",
          "BMW",
          "BMW",
          "BMW",
          "BMW",
          "BMW",
          "BMW",
          "BMW",
          "BMW",
          "BMW",
          "BMW",
          "BMW",
          "BMW",
          "BMW",
          "BMW",
          "BMW"
         ],
         "yaxis": "y"
        },
        {
         "hovertemplate": "<b>%{hovertext}</b><br><br>make=%{y}<br>fuel_economy_score=%{x}<extra></extra>",
         "hovertext": [
          "allroad quattro",
          "TTS Coupe",
          "TT Roadster quattro",
          "TT RS Coupe",
          "TT Coupe quattro",
          "SQ5",
          "S8",
          "S7",
          "S6",
          "S5 Cabriolet",
          "S5",
          "S4",
          "S3",
          "RS 7",
          "RS 5 Cabriolet",
          "RS 5",
          "R8 Spyder",
          "R8",
          "Q7",
          "Q5 Hybrid",
          "Q5",
          "Q3 quattro",
          "Q3",
          "A8 L",
          "A8",
          "A7 quattro",
          "A6 quattro",
          "A6",
          "A5 quattro",
          "A5 Cabriolet quattro",
          "A5 Cabriolet",
          "A4 quattro",
          "A4 allroad quattro",
          "A4 Ultra",
          "A4",
          "A3 quattro",
          "A3 e-tron ultra",
          "A3 e-tron",
          "A3 Cabriolet quattro",
          "A3 Cabriolet",
          "A3"
         ],
         "legendgroup": "Audi",
         "marker": {
          "color": "#FECB52",
          "symbol": "circle"
         },
         "mode": "markers",
         "name": "Audi",
         "orientation": "h",
         "showlegend": true,
         "type": "scatter",
         "x": [
          5,
          5,
          6,
          5,
          6,
          4,
          3,
          4,
          4,
          4,
          4,
          5,
          5,
          3,
          4,
          4,
          3,
          3,
          4,
          6,
          5,
          5,
          5,
          5,
          5,
          5,
          5,
          6,
          5,
          5,
          7,
          6,
          5,
          7,
          6,
          6,
          10,
          10,
          5,
          6,
          7
         ],
         "xaxis": "x",
         "y": [
          "Audi",
          "Audi",
          "Audi",
          "Audi",
          "Audi",
          "Audi",
          "Audi",
          "Audi",
          "Audi",
          "Audi",
          "Audi",
          "Audi",
          "Audi",
          "Audi",
          "Audi",
          "Audi",
          "Audi",
          "Audi",
          "Audi",
          "Audi",
          "Audi",
          "Audi",
          "Audi",
          "Audi",
          "Audi",
          "Audi",
          "Audi",
          "Audi",
          "Audi",
          "Audi",
          "Audi",
          "Audi",
          "Audi",
          "Audi",
          "Audi",
          "Audi",
          "Audi",
          "Audi",
          "Audi",
          "Audi",
          "Audi"
         ],
         "yaxis": "y"
        }
       ],
       "layout": {
        "legend": {
         "title": {
          "text": "make"
         },
         "tracegroupgap": 0
        },
        "margin": {
         "t": 60
        },
        "template": {
         "data": {
          "bar": [
           {
            "error_x": {
             "color": "#2a3f5f"
            },
            "error_y": {
             "color": "#2a3f5f"
            },
            "marker": {
             "line": {
              "color": "#E5ECF6",
              "width": 0.5
             },
             "pattern": {
              "fillmode": "overlay",
              "size": 10,
              "solidity": 0.2
             }
            },
            "type": "bar"
           }
          ],
          "barpolar": [
           {
            "marker": {
             "line": {
              "color": "#E5ECF6",
              "width": 0.5
             },
             "pattern": {
              "fillmode": "overlay",
              "size": 10,
              "solidity": 0.2
             }
            },
            "type": "barpolar"
           }
          ],
          "carpet": [
           {
            "aaxis": {
             "endlinecolor": "#2a3f5f",
             "gridcolor": "white",
             "linecolor": "white",
             "minorgridcolor": "white",
             "startlinecolor": "#2a3f5f"
            },
            "baxis": {
             "endlinecolor": "#2a3f5f",
             "gridcolor": "white",
             "linecolor": "white",
             "minorgridcolor": "white",
             "startlinecolor": "#2a3f5f"
            },
            "type": "carpet"
           }
          ],
          "choropleth": [
           {
            "colorbar": {
             "outlinewidth": 0,
             "ticks": ""
            },
            "type": "choropleth"
           }
          ],
          "contour": [
           {
            "colorbar": {
             "outlinewidth": 0,
             "ticks": ""
            },
            "colorscale": [
             [
              0,
              "#0d0887"
             ],
             [
              0.1111111111111111,
              "#46039f"
             ],
             [
              0.2222222222222222,
              "#7201a8"
             ],
             [
              0.3333333333333333,
              "#9c179e"
             ],
             [
              0.4444444444444444,
              "#bd3786"
             ],
             [
              0.5555555555555556,
              "#d8576b"
             ],
             [
              0.6666666666666666,
              "#ed7953"
             ],
             [
              0.7777777777777778,
              "#fb9f3a"
             ],
             [
              0.8888888888888888,
              "#fdca26"
             ],
             [
              1,
              "#f0f921"
             ]
            ],
            "type": "contour"
           }
          ],
          "contourcarpet": [
           {
            "colorbar": {
             "outlinewidth": 0,
             "ticks": ""
            },
            "type": "contourcarpet"
           }
          ],
          "heatmap": [
           {
            "colorbar": {
             "outlinewidth": 0,
             "ticks": ""
            },
            "colorscale": [
             [
              0,
              "#0d0887"
             ],
             [
              0.1111111111111111,
              "#46039f"
             ],
             [
              0.2222222222222222,
              "#7201a8"
             ],
             [
              0.3333333333333333,
              "#9c179e"
             ],
             [
              0.4444444444444444,
              "#bd3786"
             ],
             [
              0.5555555555555556,
              "#d8576b"
             ],
             [
              0.6666666666666666,
              "#ed7953"
             ],
             [
              0.7777777777777778,
              "#fb9f3a"
             ],
             [
              0.8888888888888888,
              "#fdca26"
             ],
             [
              1,
              "#f0f921"
             ]
            ],
            "type": "heatmap"
           }
          ],
          "heatmapgl": [
           {
            "colorbar": {
             "outlinewidth": 0,
             "ticks": ""
            },
            "colorscale": [
             [
              0,
              "#0d0887"
             ],
             [
              0.1111111111111111,
              "#46039f"
             ],
             [
              0.2222222222222222,
              "#7201a8"
             ],
             [
              0.3333333333333333,
              "#9c179e"
             ],
             [
              0.4444444444444444,
              "#bd3786"
             ],
             [
              0.5555555555555556,
              "#d8576b"
             ],
             [
              0.6666666666666666,
              "#ed7953"
             ],
             [
              0.7777777777777778,
              "#fb9f3a"
             ],
             [
              0.8888888888888888,
              "#fdca26"
             ],
             [
              1,
              "#f0f921"
             ]
            ],
            "type": "heatmapgl"
           }
          ],
          "histogram": [
           {
            "marker": {
             "pattern": {
              "fillmode": "overlay",
              "size": 10,
              "solidity": 0.2
             }
            },
            "type": "histogram"
           }
          ],
          "histogram2d": [
           {
            "colorbar": {
             "outlinewidth": 0,
             "ticks": ""
            },
            "colorscale": [
             [
              0,
              "#0d0887"
             ],
             [
              0.1111111111111111,
              "#46039f"
             ],
             [
              0.2222222222222222,
              "#7201a8"
             ],
             [
              0.3333333333333333,
              "#9c179e"
             ],
             [
              0.4444444444444444,
              "#bd3786"
             ],
             [
              0.5555555555555556,
              "#d8576b"
             ],
             [
              0.6666666666666666,
              "#ed7953"
             ],
             [
              0.7777777777777778,
              "#fb9f3a"
             ],
             [
              0.8888888888888888,
              "#fdca26"
             ],
             [
              1,
              "#f0f921"
             ]
            ],
            "type": "histogram2d"
           }
          ],
          "histogram2dcontour": [
           {
            "colorbar": {
             "outlinewidth": 0,
             "ticks": ""
            },
            "colorscale": [
             [
              0,
              "#0d0887"
             ],
             [
              0.1111111111111111,
              "#46039f"
             ],
             [
              0.2222222222222222,
              "#7201a8"
             ],
             [
              0.3333333333333333,
              "#9c179e"
             ],
             [
              0.4444444444444444,
              "#bd3786"
             ],
             [
              0.5555555555555556,
              "#d8576b"
             ],
             [
              0.6666666666666666,
              "#ed7953"
             ],
             [
              0.7777777777777778,
              "#fb9f3a"
             ],
             [
              0.8888888888888888,
              "#fdca26"
             ],
             [
              1,
              "#f0f921"
             ]
            ],
            "type": "histogram2dcontour"
           }
          ],
          "mesh3d": [
           {
            "colorbar": {
             "outlinewidth": 0,
             "ticks": ""
            },
            "type": "mesh3d"
           }
          ],
          "parcoords": [
           {
            "line": {
             "colorbar": {
              "outlinewidth": 0,
              "ticks": ""
             }
            },
            "type": "parcoords"
           }
          ],
          "pie": [
           {
            "automargin": true,
            "type": "pie"
           }
          ],
          "scatter": [
           {
            "fillpattern": {
             "fillmode": "overlay",
             "size": 10,
             "solidity": 0.2
            },
            "type": "scatter"
           }
          ],
          "scatter3d": [
           {
            "line": {
             "colorbar": {
              "outlinewidth": 0,
              "ticks": ""
             }
            },
            "marker": {
             "colorbar": {
              "outlinewidth": 0,
              "ticks": ""
             }
            },
            "type": "scatter3d"
           }
          ],
          "scattercarpet": [
           {
            "marker": {
             "colorbar": {
              "outlinewidth": 0,
              "ticks": ""
             }
            },
            "type": "scattercarpet"
           }
          ],
          "scattergeo": [
           {
            "marker": {
             "colorbar": {
              "outlinewidth": 0,
              "ticks": ""
             }
            },
            "type": "scattergeo"
           }
          ],
          "scattergl": [
           {
            "marker": {
             "colorbar": {
              "outlinewidth": 0,
              "ticks": ""
             }
            },
            "type": "scattergl"
           }
          ],
          "scattermapbox": [
           {
            "marker": {
             "colorbar": {
              "outlinewidth": 0,
              "ticks": ""
             }
            },
            "type": "scattermapbox"
           }
          ],
          "scatterpolar": [
           {
            "marker": {
             "colorbar": {
              "outlinewidth": 0,
              "ticks": ""
             }
            },
            "type": "scatterpolar"
           }
          ],
          "scatterpolargl": [
           {
            "marker": {
             "colorbar": {
              "outlinewidth": 0,
              "ticks": ""
             }
            },
            "type": "scatterpolargl"
           }
          ],
          "scatterternary": [
           {
            "marker": {
             "colorbar": {
              "outlinewidth": 0,
              "ticks": ""
             }
            },
            "type": "scatterternary"
           }
          ],
          "surface": [
           {
            "colorbar": {
             "outlinewidth": 0,
             "ticks": ""
            },
            "colorscale": [
             [
              0,
              "#0d0887"
             ],
             [
              0.1111111111111111,
              "#46039f"
             ],
             [
              0.2222222222222222,
              "#7201a8"
             ],
             [
              0.3333333333333333,
              "#9c179e"
             ],
             [
              0.4444444444444444,
              "#bd3786"
             ],
             [
              0.5555555555555556,
              "#d8576b"
             ],
             [
              0.6666666666666666,
              "#ed7953"
             ],
             [
              0.7777777777777778,
              "#fb9f3a"
             ],
             [
              0.8888888888888888,
              "#fdca26"
             ],
             [
              1,
              "#f0f921"
             ]
            ],
            "type": "surface"
           }
          ],
          "table": [
           {
            "cells": {
             "fill": {
              "color": "#EBF0F8"
             },
             "line": {
              "color": "white"
             }
            },
            "header": {
             "fill": {
              "color": "#C8D4E3"
             },
             "line": {
              "color": "white"
             }
            },
            "type": "table"
           }
          ]
         },
         "layout": {
          "annotationdefaults": {
           "arrowcolor": "#2a3f5f",
           "arrowhead": 0,
           "arrowwidth": 1
          },
          "autotypenumbers": "strict",
          "coloraxis": {
           "colorbar": {
            "outlinewidth": 0,
            "ticks": ""
           }
          },
          "colorscale": {
           "diverging": [
            [
             0,
             "#8e0152"
            ],
            [
             0.1,
             "#c51b7d"
            ],
            [
             0.2,
             "#de77ae"
            ],
            [
             0.3,
             "#f1b6da"
            ],
            [
             0.4,
             "#fde0ef"
            ],
            [
             0.5,
             "#f7f7f7"
            ],
            [
             0.6,
             "#e6f5d0"
            ],
            [
             0.7,
             "#b8e186"
            ],
            [
             0.8,
             "#7fbc41"
            ],
            [
             0.9,
             "#4d9221"
            ],
            [
             1,
             "#276419"
            ]
           ],
           "sequential": [
            [
             0,
             "#0d0887"
            ],
            [
             0.1111111111111111,
             "#46039f"
            ],
            [
             0.2222222222222222,
             "#7201a8"
            ],
            [
             0.3333333333333333,
             "#9c179e"
            ],
            [
             0.4444444444444444,
             "#bd3786"
            ],
            [
             0.5555555555555556,
             "#d8576b"
            ],
            [
             0.6666666666666666,
             "#ed7953"
            ],
            [
             0.7777777777777778,
             "#fb9f3a"
            ],
            [
             0.8888888888888888,
             "#fdca26"
            ],
            [
             1,
             "#f0f921"
            ]
           ],
           "sequentialminus": [
            [
             0,
             "#0d0887"
            ],
            [
             0.1111111111111111,
             "#46039f"
            ],
            [
             0.2222222222222222,
             "#7201a8"
            ],
            [
             0.3333333333333333,
             "#9c179e"
            ],
            [
             0.4444444444444444,
             "#bd3786"
            ],
            [
             0.5555555555555556,
             "#d8576b"
            ],
            [
             0.6666666666666666,
             "#ed7953"
            ],
            [
             0.7777777777777778,
             "#fb9f3a"
            ],
            [
             0.8888888888888888,
             "#fdca26"
            ],
            [
             1,
             "#f0f921"
            ]
           ]
          },
          "colorway": [
           "#636efa",
           "#EF553B",
           "#00cc96",
           "#ab63fa",
           "#FFA15A",
           "#19d3f3",
           "#FF6692",
           "#B6E880",
           "#FF97FF",
           "#FECB52"
          ],
          "font": {
           "color": "#2a3f5f"
          },
          "geo": {
           "bgcolor": "white",
           "lakecolor": "white",
           "landcolor": "#E5ECF6",
           "showlakes": true,
           "showland": true,
           "subunitcolor": "white"
          },
          "hoverlabel": {
           "align": "left"
          },
          "hovermode": "closest",
          "mapbox": {
           "style": "light"
          },
          "paper_bgcolor": "white",
          "plot_bgcolor": "#E5ECF6",
          "polar": {
           "angularaxis": {
            "gridcolor": "white",
            "linecolor": "white",
            "ticks": ""
           },
           "bgcolor": "#E5ECF6",
           "radialaxis": {
            "gridcolor": "white",
            "linecolor": "white",
            "ticks": ""
           }
          },
          "scene": {
           "xaxis": {
            "backgroundcolor": "#E5ECF6",
            "gridcolor": "white",
            "gridwidth": 2,
            "linecolor": "white",
            "showbackground": true,
            "ticks": "",
            "zerolinecolor": "white"
           },
           "yaxis": {
            "backgroundcolor": "#E5ECF6",
            "gridcolor": "white",
            "gridwidth": 2,
            "linecolor": "white",
            "showbackground": true,
            "ticks": "",
            "zerolinecolor": "white"
           },
           "zaxis": {
            "backgroundcolor": "#E5ECF6",
            "gridcolor": "white",
            "gridwidth": 2,
            "linecolor": "white",
            "showbackground": true,
            "ticks": "",
            "zerolinecolor": "white"
           }
          },
          "shapedefaults": {
           "line": {
            "color": "#2a3f5f"
           }
          },
          "ternary": {
           "aaxis": {
            "gridcolor": "white",
            "linecolor": "white",
            "ticks": ""
           },
           "baxis": {
            "gridcolor": "white",
            "linecolor": "white",
            "ticks": ""
           },
           "bgcolor": "#E5ECF6",
           "caxis": {
            "gridcolor": "white",
            "linecolor": "white",
            "ticks": ""
           }
          },
          "title": {
           "x": 0.05
          },
          "xaxis": {
           "automargin": true,
           "gridcolor": "white",
           "linecolor": "white",
           "ticks": "",
           "title": {
            "standoff": 15
           },
           "zerolinecolor": "white",
           "zerolinewidth": 2
          },
          "yaxis": {
           "automargin": true,
           "gridcolor": "white",
           "linecolor": "white",
           "ticks": "",
           "title": {
            "standoff": 15
           },
           "zerolinecolor": "white",
           "zerolinewidth": 2
          }
         }
        },
        "xaxis": {
         "anchor": "y",
         "domain": [
          0,
          1
         ],
         "title": {
          "text": "fuel_economy_score"
         }
        },
        "yaxis": {
         "anchor": "x",
         "categoryarray": [
          "Audi",
          "BMW",
          "Chevrolet",
          "Ford",
          "Honda",
          "Hyundai",
          "Mercedes-Benz",
          "Nissan",
          "Toyota",
          "Volkswagen"
         ],
         "categoryorder": "array",
         "domain": [
          0,
          1
         ],
         "title": {
          "text": "make"
         }
        }
       }
      }
     },
     "metadata": {},
     "output_type": "display_data"
    }
   ],
   "source": [
    "temp = df[df['fuel_economy_score'] != -1][['make', 'model', 'year', 'fuel_economy_score']]\n",
    "most_recent_dates_idx = temp.groupby('model')['year'].idxmax()\n",
    "temp = temp.loc[most_recent_dates_idx].sort_values(by=['make', 'model', 'year'], ascending=False)\n",
    "\n",
    "fig = px.scatter(data_frame=temp, \n",
    "              x=\"fuel_economy_score\", y=\"make\", \n",
    "                 color=\"make\", \n",
    "                 hover_name=\"model\", \n",
    "                 )\n",
    "fig"
   ]
  },
  {
   "cell_type": "code",
   "execution_count": 55,
   "metadata": {},
   "outputs": [
    {
     "data": {
      "application/vnd.plotly.v1+json": {
       "config": {
        "plotlyServerURL": "https://plot.ly"
       },
       "data": [
        {
         "hovertemplate": "<b>%{hovertext}</b><br><br>model=128ci Convertible<br>year=%{x}<br>fuel_economy_score=%{y}<extra></extra>",
         "hovertext": [
          "128ci Convertible",
          "128ci Convertible"
         ],
         "legendgroup": "128ci Convertible",
         "line": {
          "color": "#636efa",
          "dash": "solid"
         },
         "marker": {
          "symbol": "circle"
         },
         "mode": "lines",
         "name": "128ci Convertible",
         "orientation": "v",
         "showlegend": true,
         "type": "scatter",
         "x": [
          2013,
          2013
         ],
         "xaxis": "x",
         "y": [
          5,
          5
         ],
         "yaxis": "y"
        },
        {
         "hovertemplate": "<b>%{hovertext}</b><br><br>model=128i<br>year=%{x}<br>fuel_economy_score=%{y}<extra></extra>",
         "hovertext": [
          "128i",
          "128i"
         ],
         "legendgroup": "128i",
         "line": {
          "color": "#EF553B",
          "dash": "solid"
         },
         "marker": {
          "symbol": "circle"
         },
         "mode": "lines",
         "name": "128i",
         "orientation": "v",
         "showlegend": true,
         "type": "scatter",
         "x": [
          2013,
          2013
         ],
         "xaxis": "x",
         "y": [
          5,
          5
         ],
         "yaxis": "y"
        },
        {
         "hovertemplate": "<b>%{hovertext}</b><br><br>model=135i<br>year=%{x}<br>fuel_economy_score=%{y}<extra></extra>",
         "hovertext": [
          "135i",
          "135i"
         ],
         "legendgroup": "135i",
         "line": {
          "color": "#00cc96",
          "dash": "solid"
         },
         "marker": {
          "symbol": "circle"
         },
         "mode": "lines",
         "name": "135i",
         "orientation": "v",
         "showlegend": true,
         "type": "scatter",
         "x": [
          2013,
          2013
         ],
         "xaxis": "x",
         "y": [
          5,
          6
         ],
         "yaxis": "y"
        },
        {
         "hovertemplate": "<b>%{hovertext}</b><br><br>model=135i Convertible<br>year=%{x}<br>fuel_economy_score=%{y}<extra></extra>",
         "hovertext": [
          "135i Convertible",
          "135i Convertible"
         ],
         "legendgroup": "135i Convertible",
         "line": {
          "color": "#ab63fa",
          "dash": "solid"
         },
         "marker": {
          "symbol": "circle"
         },
         "mode": "lines",
         "name": "135i Convertible",
         "orientation": "v",
         "showlegend": true,
         "type": "scatter",
         "x": [
          2013,
          2013
         ],
         "xaxis": "x",
         "y": [
          5,
          5
         ],
         "yaxis": "y"
        },
        {
         "hovertemplate": "<b>%{hovertext}</b><br><br>model=228i<br>year=%{x}<br>fuel_economy_score=%{y}<extra></extra>",
         "hovertext": [
          "228i",
          "228i",
          "228i",
          "228i",
          "228i",
          "228i"
         ],
         "legendgroup": "228i",
         "line": {
          "color": "#FFA15A",
          "dash": "solid"
         },
         "marker": {
          "symbol": "circle"
         },
         "mode": "lines",
         "name": "228i",
         "orientation": "v",
         "showlegend": true,
         "type": "scatter",
         "x": [
          2014,
          2014,
          2015,
          2015,
          2016,
          2016
         ],
         "xaxis": "x",
         "y": [
          7,
          7,
          7,
          6,
          6,
          6
         ],
         "yaxis": "y"
        },
        {
         "hovertemplate": "<b>%{hovertext}</b><br><br>model=228i Convertible<br>year=%{x}<br>fuel_economy_score=%{y}<extra></extra>",
         "hovertext": [
          "228i Convertible",
          "228i Convertible"
         ],
         "legendgroup": "228i Convertible",
         "line": {
          "color": "#19d3f3",
          "dash": "solid"
         },
         "marker": {
          "symbol": "circle"
         },
         "mode": "lines",
         "name": "228i Convertible",
         "orientation": "v",
         "showlegend": true,
         "type": "scatter",
         "x": [
          2015,
          2016
         ],
         "xaxis": "x",
         "y": [
          7,
          6
         ],
         "yaxis": "y"
        },
        {
         "hovertemplate": "<b>%{hovertext}</b><br><br>model=228i xDrive<br>year=%{x}<br>fuel_economy_score=%{y}<extra></extra>",
         "hovertext": [
          "228i xDrive",
          "228i xDrive"
         ],
         "legendgroup": "228i xDrive",
         "line": {
          "color": "#FF6692",
          "dash": "solid"
         },
         "marker": {
          "symbol": "circle"
         },
         "mode": "lines",
         "name": "228i xDrive",
         "orientation": "v",
         "showlegend": true,
         "type": "scatter",
         "x": [
          2015,
          2016
         ],
         "xaxis": "x",
         "y": [
          7,
          6
         ],
         "yaxis": "y"
        },
        {
         "hovertemplate": "<b>%{hovertext}</b><br><br>model=228i xDrive Convertible<br>year=%{x}<br>fuel_economy_score=%{y}<extra></extra>",
         "hovertext": [
          "228i xDrive Convertible",
          "228i xDrive Convertible"
         ],
         "legendgroup": "228i xDrive Convertible",
         "line": {
          "color": "#B6E880",
          "dash": "solid"
         },
         "marker": {
          "symbol": "circle"
         },
         "mode": "lines",
         "name": "228i xDrive Convertible",
         "orientation": "v",
         "showlegend": true,
         "type": "scatter",
         "x": [
          2015,
          2016
         ],
         "xaxis": "x",
         "y": [
          6,
          6
         ],
         "yaxis": "y"
        },
        {
         "hovertemplate": "<b>%{hovertext}</b><br><br>model=230i Convertible<br>year=%{x}<br>fuel_economy_score=%{y}<extra></extra>",
         "hovertext": [
          "230i Convertible"
         ],
         "legendgroup": "230i Convertible",
         "line": {
          "color": "#FF97FF",
          "dash": "solid"
         },
         "marker": {
          "symbol": "circle"
         },
         "mode": "lines",
         "name": "230i Convertible",
         "orientation": "v",
         "showlegend": true,
         "type": "scatter",
         "x": [
          2017
         ],
         "xaxis": "x",
         "y": [
          6
         ],
         "yaxis": "y"
        },
        {
         "hovertemplate": "<b>%{hovertext}</b><br><br>model=230i Coupe<br>year=%{x}<br>fuel_economy_score=%{y}<extra></extra>",
         "hovertext": [
          "230i Coupe",
          "230i Coupe"
         ],
         "legendgroup": "230i Coupe",
         "line": {
          "color": "#FECB52",
          "dash": "solid"
         },
         "marker": {
          "symbol": "circle"
         },
         "mode": "lines",
         "name": "230i Coupe",
         "orientation": "v",
         "showlegend": true,
         "type": "scatter",
         "x": [
          2017,
          2017
         ],
         "xaxis": "x",
         "y": [
          6,
          5
         ],
         "yaxis": "y"
        },
        {
         "hovertemplate": "<b>%{hovertext}</b><br><br>model=230i xDrive Convertible<br>year=%{x}<br>fuel_economy_score=%{y}<extra></extra>",
         "hovertext": [
          "230i xDrive Convertible"
         ],
         "legendgroup": "230i xDrive Convertible",
         "line": {
          "color": "#636efa",
          "dash": "solid"
         },
         "marker": {
          "symbol": "circle"
         },
         "mode": "lines",
         "name": "230i xDrive Convertible",
         "orientation": "v",
         "showlegend": true,
         "type": "scatter",
         "x": [
          2017
         ],
         "xaxis": "x",
         "y": [
          6
         ],
         "yaxis": "y"
        },
        {
         "hovertemplate": "<b>%{hovertext}</b><br><br>model=230i xDrive Coupe<br>year=%{x}<br>fuel_economy_score=%{y}<extra></extra>",
         "hovertext": [
          "230i xDrive Coupe"
         ],
         "legendgroup": "230i xDrive Coupe",
         "line": {
          "color": "#EF553B",
          "dash": "solid"
         },
         "marker": {
          "symbol": "circle"
         },
         "mode": "lines",
         "name": "230i xDrive Coupe",
         "orientation": "v",
         "showlegend": true,
         "type": "scatter",
         "x": [
          2017
         ],
         "xaxis": "x",
         "y": [
          6
         ],
         "yaxis": "y"
        },
        {
         "hovertemplate": "<b>%{hovertext}</b><br><br>model=320i<br>year=%{x}<br>fuel_economy_score=%{y}<extra></extra>",
         "hovertext": [
          "320i",
          "320i",
          "320i",
          "320i",
          "320i",
          "320i",
          "320i",
          "320i",
          "320i",
          "320i"
         ],
         "legendgroup": "320i",
         "line": {
          "color": "#00cc96",
          "dash": "solid"
         },
         "marker": {
          "symbol": "circle"
         },
         "mode": "lines",
         "name": "320i",
         "orientation": "v",
         "showlegend": true,
         "type": "scatter",
         "x": [
          2013,
          2013,
          2014,
          2014,
          2015,
          2015,
          2016,
          2016,
          2017,
          2017
         ],
         "xaxis": "x",
         "y": [
          7,
          7,
          7,
          7,
          7,
          7,
          7,
          7,
          6,
          6
         ],
         "yaxis": "y"
        },
        {
         "hovertemplate": "<b>%{hovertext}</b><br><br>model=320i xDrive<br>year=%{x}<br>fuel_economy_score=%{y}<extra></extra>",
         "hovertext": [
          "320i xDrive",
          "320i xDrive",
          "320i xDrive",
          "320i xDrive",
          "320i xDrive",
          "320i xDrive"
         ],
         "legendgroup": "320i xDrive",
         "line": {
          "color": "#ab63fa",
          "dash": "solid"
         },
         "marker": {
          "symbol": "circle"
         },
         "mode": "lines",
         "name": "320i xDrive",
         "orientation": "v",
         "showlegend": true,
         "type": "scatter",
         "x": [
          2013,
          2013,
          2014,
          2015,
          2016,
          2017
         ],
         "xaxis": "x",
         "y": [
          7,
          7,
          7,
          7,
          6,
          6
         ],
         "yaxis": "y"
        },
        {
         "hovertemplate": "<b>%{hovertext}</b><br><br>model=328d<br>year=%{x}<br>fuel_economy_score=%{y}<extra></extra>",
         "hovertext": [
          "328d",
          "328d",
          "328d",
          "328d"
         ],
         "legendgroup": "328d",
         "line": {
          "color": "#FFA15A",
          "dash": "solid"
         },
         "marker": {
          "symbol": "circle"
         },
         "mode": "lines",
         "name": "328d",
         "orientation": "v",
         "showlegend": true,
         "type": "scatter",
         "x": [
          2014,
          2015,
          2016,
          2017
         ],
         "xaxis": "x",
         "y": [
          9,
          9,
          8,
          8
         ],
         "yaxis": "y"
        },
        {
         "hovertemplate": "<b>%{hovertext}</b><br><br>model=328d xDrive<br>year=%{x}<br>fuel_economy_score=%{y}<extra></extra>",
         "hovertext": [
          "328d xDrive",
          "328d xDrive",
          "328d xDrive",
          "328d xDrive"
         ],
         "legendgroup": "328d xDrive",
         "line": {
          "color": "#19d3f3",
          "dash": "solid"
         },
         "marker": {
          "symbol": "circle"
         },
         "mode": "lines",
         "name": "328d xDrive",
         "orientation": "v",
         "showlegend": true,
         "type": "scatter",
         "x": [
          2014,
          2015,
          2016,
          2017
         ],
         "xaxis": "x",
         "y": [
          9,
          8,
          8,
          8
         ],
         "yaxis": "y"
        },
        {
         "hovertemplate": "<b>%{hovertext}</b><br><br>model=328d xDrive Sports Wagon<br>year=%{x}<br>fuel_economy_score=%{y}<extra></extra>",
         "hovertext": [
          "328d xDrive Sports Wagon",
          "328d xDrive Sports Wagon",
          "328d xDrive Sports Wagon",
          "328d xDrive Sports Wagon"
         ],
         "legendgroup": "328d xDrive Sports Wagon",
         "line": {
          "color": "#FF6692",
          "dash": "solid"
         },
         "marker": {
          "symbol": "circle"
         },
         "mode": "lines",
         "name": "328d xDrive Sports Wagon",
         "orientation": "v",
         "showlegend": true,
         "type": "scatter",
         "x": [
          2014,
          2015,
          2016,
          2017
         ],
         "xaxis": "x",
         "y": [
          9,
          8,
          8,
          8
         ],
         "yaxis": "y"
        },
        {
         "hovertemplate": "<b>%{hovertext}</b><br><br>model=328i<br>year=%{x}<br>fuel_economy_score=%{y}<extra></extra>",
         "hovertext": [
          "328i",
          "328i",
          "328i",
          "328i",
          "328i",
          "328i",
          "328i",
          "328i"
         ],
         "legendgroup": "328i",
         "line": {
          "color": "#B6E880",
          "dash": "solid"
         },
         "marker": {
          "symbol": "circle"
         },
         "mode": "lines",
         "name": "328i",
         "orientation": "v",
         "showlegend": true,
         "type": "scatter",
         "x": [
          2013,
          2013,
          2014,
          2014,
          2015,
          2015,
          2016,
          2016
         ],
         "xaxis": "x",
         "y": [
          7,
          7,
          7,
          7,
          7,
          6,
          6,
          6
         ],
         "yaxis": "y"
        },
        {
         "hovertemplate": "<b>%{hovertext}</b><br><br>model=328i Convertible<br>year=%{x}<br>fuel_economy_score=%{y}<extra></extra>",
         "hovertext": [
          "328i Convertible",
          "328i Convertible"
         ],
         "legendgroup": "328i Convertible",
         "line": {
          "color": "#FF97FF",
          "dash": "solid"
         },
         "marker": {
          "symbol": "circle"
         },
         "mode": "lines",
         "name": "328i Convertible",
         "orientation": "v",
         "showlegend": true,
         "type": "scatter",
         "x": [
          2013,
          2013
         ],
         "xaxis": "x",
         "y": [
          5,
          5
         ],
         "yaxis": "y"
        },
        {
         "hovertemplate": "<b>%{hovertext}</b><br><br>model=328i Coupe<br>year=%{x}<br>fuel_economy_score=%{y}<extra></extra>",
         "hovertext": [
          "328i Coupe",
          "328i Coupe"
         ],
         "legendgroup": "328i Coupe",
         "line": {
          "color": "#FECB52",
          "dash": "solid"
         },
         "marker": {
          "symbol": "circle"
         },
         "mode": "lines",
         "name": "328i Coupe",
         "orientation": "v",
         "showlegend": true,
         "type": "scatter",
         "x": [
          2013,
          2013
         ],
         "xaxis": "x",
         "y": [
          5,
          5
         ],
         "yaxis": "y"
        },
        {
         "hovertemplate": "<b>%{hovertext}</b><br><br>model=328i Coupe xDrive<br>year=%{x}<br>fuel_economy_score=%{y}<extra></extra>",
         "hovertext": [
          "328i Coupe xDrive",
          "328i Coupe xDrive"
         ],
         "legendgroup": "328i Coupe xDrive",
         "line": {
          "color": "#636efa",
          "dash": "solid"
         },
         "marker": {
          "symbol": "circle"
         },
         "mode": "lines",
         "name": "328i Coupe xDrive",
         "orientation": "v",
         "showlegend": true,
         "type": "scatter",
         "x": [
          2013,
          2013
         ],
         "xaxis": "x",
         "y": [
          5,
          4
         ],
         "yaxis": "y"
        },
        {
         "hovertemplate": "<b>%{hovertext}</b><br><br>model=328i xDrive<br>year=%{x}<br>fuel_economy_score=%{y}<extra></extra>",
         "hovertext": [
          "328i xDrive",
          "328i xDrive",
          "328i xDrive",
          "328i xDrive"
         ],
         "legendgroup": "328i xDrive",
         "line": {
          "color": "#EF553B",
          "dash": "solid"
         },
         "marker": {
          "symbol": "circle"
         },
         "mode": "lines",
         "name": "328i xDrive",
         "orientation": "v",
         "showlegend": true,
         "type": "scatter",
         "x": [
          2013,
          2014,
          2015,
          2016
         ],
         "xaxis": "x",
         "y": [
          7,
          7,
          6,
          6
         ],
         "yaxis": "y"
        },
        {
         "hovertemplate": "<b>%{hovertext}</b><br><br>model=328i xDrive Gran Turismo<br>year=%{x}<br>fuel_economy_score=%{y}<extra></extra>",
         "hovertext": [
          "328i xDrive Gran Turismo",
          "328i xDrive Gran Turismo",
          "328i xDrive Gran Turismo"
         ],
         "legendgroup": "328i xDrive Gran Turismo",
         "line": {
          "color": "#00cc96",
          "dash": "solid"
         },
         "marker": {
          "symbol": "circle"
         },
         "mode": "lines",
         "name": "328i xDrive Gran Turismo",
         "orientation": "v",
         "showlegend": true,
         "type": "scatter",
         "x": [
          2014,
          2015,
          2016
         ],
         "xaxis": "x",
         "y": [
          7,
          6,
          6
         ],
         "yaxis": "y"
        },
        {
         "hovertemplate": "<b>%{hovertext}</b><br><br>model=328i xDrive Sports Wagon<br>year=%{x}<br>fuel_economy_score=%{y}<extra></extra>",
         "hovertext": [
          "328i xDrive Sports Wagon",
          "328i xDrive Sports Wagon",
          "328i xDrive Sports Wagon"
         ],
         "legendgroup": "328i xDrive Sports Wagon",
         "line": {
          "color": "#ab63fa",
          "dash": "solid"
         },
         "marker": {
          "symbol": "circle"
         },
         "mode": "lines",
         "name": "328i xDrive Sports Wagon",
         "orientation": "v",
         "showlegend": true,
         "type": "scatter",
         "x": [
          2014,
          2015,
          2016
         ],
         "xaxis": "x",
         "y": [
          7,
          6,
          6
         ],
         "yaxis": "y"
        },
        {
         "hovertemplate": "<b>%{hovertext}</b><br><br>model=330e<br>year=%{x}<br>fuel_economy_score=%{y}<extra></extra>",
         "hovertext": [
          "330e",
          "330e"
         ],
         "legendgroup": "330e",
         "line": {
          "color": "#FFA15A",
          "dash": "solid"
         },
         "marker": {
          "symbol": "circle"
         },
         "mode": "lines",
         "name": "330e",
         "orientation": "v",
         "showlegend": true,
         "type": "scatter",
         "x": [
          2016,
          2017
         ],
         "xaxis": "x",
         "y": [
          9,
          9
         ],
         "yaxis": "y"
        },
        {
         "hovertemplate": "<b>%{hovertext}</b><br><br>model=330i<br>year=%{x}<br>fuel_economy_score=%{y}<extra></extra>",
         "hovertext": [
          "330i",
          "330i"
         ],
         "legendgroup": "330i",
         "line": {
          "color": "#19d3f3",
          "dash": "solid"
         },
         "marker": {
          "symbol": "circle"
         },
         "mode": "lines",
         "name": "330i",
         "orientation": "v",
         "showlegend": true,
         "type": "scatter",
         "x": [
          2017,
          2017
         ],
         "xaxis": "x",
         "y": [
          6,
          5
         ],
         "yaxis": "y"
        },
        {
         "hovertemplate": "<b>%{hovertext}</b><br><br>model=330i xDrive<br>year=%{x}<br>fuel_economy_score=%{y}<extra></extra>",
         "hovertext": [
          "330i xDrive"
         ],
         "legendgroup": "330i xDrive",
         "line": {
          "color": "#FF6692",
          "dash": "solid"
         },
         "marker": {
          "symbol": "circle"
         },
         "mode": "lines",
         "name": "330i xDrive",
         "orientation": "v",
         "showlegend": true,
         "type": "scatter",
         "x": [
          2017
         ],
         "xaxis": "x",
         "y": [
          6
         ],
         "yaxis": "y"
        },
        {
         "hovertemplate": "<b>%{hovertext}</b><br><br>model=330i xDrive Gran Turismo<br>year=%{x}<br>fuel_economy_score=%{y}<extra></extra>",
         "hovertext": [
          "330i xDrive Gran Turismo"
         ],
         "legendgroup": "330i xDrive Gran Turismo",
         "line": {
          "color": "#B6E880",
          "dash": "solid"
         },
         "marker": {
          "symbol": "circle"
         },
         "mode": "lines",
         "name": "330i xDrive Gran Turismo",
         "orientation": "v",
         "showlegend": true,
         "type": "scatter",
         "x": [
          2017
         ],
         "xaxis": "x",
         "y": [
          6
         ],
         "yaxis": "y"
        },
        {
         "hovertemplate": "<b>%{hovertext}</b><br><br>model=330i xDrive Sports Wagon<br>year=%{x}<br>fuel_economy_score=%{y}<extra></extra>",
         "hovertext": [
          "330i xDrive Sports Wagon"
         ],
         "legendgroup": "330i xDrive Sports Wagon",
         "line": {
          "color": "#FF97FF",
          "dash": "solid"
         },
         "marker": {
          "symbol": "circle"
         },
         "mode": "lines",
         "name": "330i xDrive Sports Wagon",
         "orientation": "v",
         "showlegend": true,
         "type": "scatter",
         "x": [
          2017
         ],
         "xaxis": "x",
         "y": [
          6
         ],
         "yaxis": "y"
        },
        {
         "hovertemplate": "<b>%{hovertext}</b><br><br>model=335i<br>year=%{x}<br>fuel_economy_score=%{y}<extra></extra>",
         "hovertext": [
          "335i",
          "335i",
          "335i",
          "335i",
          "335i",
          "335i"
         ],
         "legendgroup": "335i",
         "line": {
          "color": "#FECB52",
          "dash": "solid"
         },
         "marker": {
          "symbol": "circle"
         },
         "mode": "lines",
         "name": "335i",
         "orientation": "v",
         "showlegend": true,
         "type": "scatter",
         "x": [
          2013,
          2013,
          2014,
          2014,
          2015,
          2015
         ],
         "xaxis": "x",
         "y": [
          7,
          6,
          6,
          6,
          6,
          6
         ],
         "yaxis": "y"
        },
        {
         "hovertemplate": "<b>%{hovertext}</b><br><br>model=335i Convertible<br>year=%{x}<br>fuel_economy_score=%{y}<extra></extra>",
         "hovertext": [
          "335i Convertible",
          "335i Convertible"
         ],
         "legendgroup": "335i Convertible",
         "line": {
          "color": "#636efa",
          "dash": "solid"
         },
         "marker": {
          "symbol": "circle"
         },
         "mode": "lines",
         "name": "335i Convertible",
         "orientation": "v",
         "showlegend": true,
         "type": "scatter",
         "x": [
          2013,
          2013
         ],
         "xaxis": "x",
         "y": [
          5,
          5
         ],
         "yaxis": "y"
        },
        {
         "hovertemplate": "<b>%{hovertext}</b><br><br>model=335i Coupe<br>year=%{x}<br>fuel_economy_score=%{y}<extra></extra>",
         "hovertext": [
          "335i Coupe",
          "335i Coupe"
         ],
         "legendgroup": "335i Coupe",
         "line": {
          "color": "#EF553B",
          "dash": "solid"
         },
         "marker": {
          "symbol": "circle"
         },
         "mode": "lines",
         "name": "335i Coupe",
         "orientation": "v",
         "showlegend": true,
         "type": "scatter",
         "x": [
          2013,
          2013
         ],
         "xaxis": "x",
         "y": [
          5,
          5
         ],
         "yaxis": "y"
        },
        {
         "hovertemplate": "<b>%{hovertext}</b><br><br>model=335i Coupe xDrive<br>year=%{x}<br>fuel_economy_score=%{y}<extra></extra>",
         "hovertext": [
          "335i Coupe xDrive",
          "335i Coupe xDrive"
         ],
         "legendgroup": "335i Coupe xDrive",
         "line": {
          "color": "#00cc96",
          "dash": "solid"
         },
         "marker": {
          "symbol": "circle"
         },
         "mode": "lines",
         "name": "335i Coupe xDrive",
         "orientation": "v",
         "showlegend": true,
         "type": "scatter",
         "x": [
          2013,
          2013
         ],
         "xaxis": "x",
         "y": [
          5,
          6
         ],
         "yaxis": "y"
        },
        {
         "hovertemplate": "<b>%{hovertext}</b><br><br>model=335i xDrive<br>year=%{x}<br>fuel_economy_score=%{y}<extra></extra>",
         "hovertext": [
          "335i xDrive",
          "335i xDrive",
          "335i xDrive",
          "335i xDrive",
          "335i xDrive",
          "335i xDrive"
         ],
         "legendgroup": "335i xDrive",
         "line": {
          "color": "#ab63fa",
          "dash": "solid"
         },
         "marker": {
          "symbol": "circle"
         },
         "mode": "lines",
         "name": "335i xDrive",
         "orientation": "v",
         "showlegend": true,
         "type": "scatter",
         "x": [
          2013,
          2013,
          2014,
          2014,
          2015,
          2015
         ],
         "xaxis": "x",
         "y": [
          6,
          6,
          6,
          6,
          6,
          5
         ],
         "yaxis": "y"
        },
        {
         "hovertemplate": "<b>%{hovertext}</b><br><br>model=335i xDrive Gran Turismo<br>year=%{x}<br>fuel_economy_score=%{y}<extra></extra>",
         "hovertext": [
          "335i xDrive Gran Turismo",
          "335i xDrive Gran Turismo",
          "335i xDrive Gran Turismo"
         ],
         "legendgroup": "335i xDrive Gran Turismo",
         "line": {
          "color": "#FFA15A",
          "dash": "solid"
         },
         "marker": {
          "symbol": "circle"
         },
         "mode": "lines",
         "name": "335i xDrive Gran Turismo",
         "orientation": "v",
         "showlegend": true,
         "type": "scatter",
         "x": [
          2014,
          2015,
          2016
         ],
         "xaxis": "x",
         "y": [
          6,
          6,
          5
         ],
         "yaxis": "y"
        },
        {
         "hovertemplate": "<b>%{hovertext}</b><br><br>model=335is Convertible<br>year=%{x}<br>fuel_economy_score=%{y}<extra></extra>",
         "hovertext": [
          "335is Convertible",
          "335is Convertible"
         ],
         "legendgroup": "335is Convertible",
         "line": {
          "color": "#19d3f3",
          "dash": "solid"
         },
         "marker": {
          "symbol": "circle"
         },
         "mode": "lines",
         "name": "335is Convertible",
         "orientation": "v",
         "showlegend": true,
         "type": "scatter",
         "x": [
          2013,
          2013
         ],
         "xaxis": "x",
         "y": [
          4,
          5
         ],
         "yaxis": "y"
        },
        {
         "hovertemplate": "<b>%{hovertext}</b><br><br>model=335is Coupe<br>year=%{x}<br>fuel_economy_score=%{y}<extra></extra>",
         "hovertext": [
          "335is Coupe",
          "335is Coupe"
         ],
         "legendgroup": "335is Coupe",
         "line": {
          "color": "#FF6692",
          "dash": "solid"
         },
         "marker": {
          "symbol": "circle"
         },
         "mode": "lines",
         "name": "335is Coupe",
         "orientation": "v",
         "showlegend": true,
         "type": "scatter",
         "x": [
          2013,
          2013
         ],
         "xaxis": "x",
         "y": [
          4,
          5
         ],
         "yaxis": "y"
        },
        {
         "hovertemplate": "<b>%{hovertext}</b><br><br>model=340i<br>year=%{x}<br>fuel_economy_score=%{y}<extra></extra>",
         "hovertext": [
          "340i",
          "340i",
          "340i",
          "340i"
         ],
         "legendgroup": "340i",
         "line": {
          "color": "#B6E880",
          "dash": "solid"
         },
         "marker": {
          "symbol": "circle"
         },
         "mode": "lines",
         "name": "340i",
         "orientation": "v",
         "showlegend": true,
         "type": "scatter",
         "x": [
          2016,
          2016,
          2017,
          2017
         ],
         "xaxis": "x",
         "y": [
          6,
          5,
          5,
          5
         ],
         "yaxis": "y"
        },
        {
         "hovertemplate": "<b>%{hovertext}</b><br><br>model=340i xDrive<br>year=%{x}<br>fuel_economy_score=%{y}<extra></extra>",
         "hovertext": [
          "340i xDrive",
          "340i xDrive",
          "340i xDrive",
          "340i xDrive"
         ],
         "legendgroup": "340i xDrive",
         "line": {
          "color": "#FF97FF",
          "dash": "solid"
         },
         "marker": {
          "symbol": "circle"
         },
         "mode": "lines",
         "name": "340i xDrive",
         "orientation": "v",
         "showlegend": true,
         "type": "scatter",
         "x": [
          2016,
          2016,
          2017,
          2017
         ],
         "xaxis": "x",
         "y": [
          6,
          5,
          5,
          5
         ],
         "yaxis": "y"
        },
        {
         "hovertemplate": "<b>%{hovertext}</b><br><br>model=340i xDrive Gran Turismo<br>year=%{x}<br>fuel_economy_score=%{y}<extra></extra>",
         "hovertext": [
          "340i xDrive Gran Turismo"
         ],
         "legendgroup": "340i xDrive Gran Turismo",
         "line": {
          "color": "#FECB52",
          "dash": "solid"
         },
         "marker": {
          "symbol": "circle"
         },
         "mode": "lines",
         "name": "340i xDrive Gran Turismo",
         "orientation": "v",
         "showlegend": true,
         "type": "scatter",
         "x": [
          2017
         ],
         "xaxis": "x",
         "y": [
          5
         ],
         "yaxis": "y"
        },
        {
         "hovertemplate": "<b>%{hovertext}</b><br><br>model=428i Convertible<br>year=%{x}<br>fuel_economy_score=%{y}<extra></extra>",
         "hovertext": [
          "428i Convertible",
          "428i Convertible",
          "428i Convertible"
         ],
         "legendgroup": "428i Convertible",
         "line": {
          "color": "#636efa",
          "dash": "solid"
         },
         "marker": {
          "symbol": "circle"
         },
         "mode": "lines",
         "name": "428i Convertible",
         "orientation": "v",
         "showlegend": true,
         "type": "scatter",
         "x": [
          2014,
          2015,
          2016
         ],
         "xaxis": "x",
         "y": [
          7,
          7,
          6
         ],
         "yaxis": "y"
        },
        {
         "hovertemplate": "<b>%{hovertext}</b><br><br>model=428i Coupe<br>year=%{x}<br>fuel_economy_score=%{y}<extra></extra>",
         "hovertext": [
          "428i Coupe",
          "428i Coupe",
          "428i Coupe",
          "428i Coupe",
          "428i Coupe",
          "428i Coupe"
         ],
         "legendgroup": "428i Coupe",
         "line": {
          "color": "#EF553B",
          "dash": "solid"
         },
         "marker": {
          "symbol": "circle"
         },
         "mode": "lines",
         "name": "428i Coupe",
         "orientation": "v",
         "showlegend": true,
         "type": "scatter",
         "x": [
          2014,
          2014,
          2015,
          2015,
          2016,
          2016
         ],
         "xaxis": "x",
         "y": [
          7,
          7,
          7,
          6,
          6,
          6
         ],
         "yaxis": "y"
        },
        {
         "hovertemplate": "<b>%{hovertext}</b><br><br>model=428i Gran Coupe<br>year=%{x}<br>fuel_economy_score=%{y}<extra></extra>",
         "hovertext": [
          "428i Gran Coupe",
          "428i Gran Coupe"
         ],
         "legendgroup": "428i Gran Coupe",
         "line": {
          "color": "#00cc96",
          "dash": "solid"
         },
         "marker": {
          "symbol": "circle"
         },
         "mode": "lines",
         "name": "428i Gran Coupe",
         "orientation": "v",
         "showlegend": true,
         "type": "scatter",
         "x": [
          2015,
          2016
         ],
         "xaxis": "x",
         "y": [
          7,
          6
         ],
         "yaxis": "y"
        },
        {
         "hovertemplate": "<b>%{hovertext}</b><br><br>model=428i xDrive Convertible<br>year=%{x}<br>fuel_economy_score=%{y}<extra></extra>",
         "hovertext": [
          "428i xDrive Convertible",
          "428i xDrive Convertible",
          "428i xDrive Convertible"
         ],
         "legendgroup": "428i xDrive Convertible",
         "line": {
          "color": "#ab63fa",
          "dash": "solid"
         },
         "marker": {
          "symbol": "circle"
         },
         "mode": "lines",
         "name": "428i xDrive Convertible",
         "orientation": "v",
         "showlegend": true,
         "type": "scatter",
         "x": [
          2014,
          2015,
          2016
         ],
         "xaxis": "x",
         "y": [
          6,
          6,
          6
         ],
         "yaxis": "y"
        },
        {
         "hovertemplate": "<b>%{hovertext}</b><br><br>model=428i xDrive Coupe<br>year=%{x}<br>fuel_economy_score=%{y}<extra></extra>",
         "hovertext": [
          "428i xDrive Coupe",
          "428i xDrive Coupe",
          "428i xDrive Coupe"
         ],
         "legendgroup": "428i xDrive Coupe",
         "line": {
          "color": "#FFA15A",
          "dash": "solid"
         },
         "marker": {
          "symbol": "circle"
         },
         "mode": "lines",
         "name": "428i xDrive Coupe",
         "orientation": "v",
         "showlegend": true,
         "type": "scatter",
         "x": [
          2014,
          2015,
          2016
         ],
         "xaxis": "x",
         "y": [
          7,
          6,
          6
         ],
         "yaxis": "y"
        },
        {
         "hovertemplate": "<b>%{hovertext}</b><br><br>model=428i xDrive Gran Coupe<br>year=%{x}<br>fuel_economy_score=%{y}<extra></extra>",
         "hovertext": [
          "428i xDrive Gran Coupe",
          "428i xDrive Gran Coupe"
         ],
         "legendgroup": "428i xDrive Gran Coupe",
         "line": {
          "color": "#19d3f3",
          "dash": "solid"
         },
         "marker": {
          "symbol": "circle"
         },
         "mode": "lines",
         "name": "428i xDrive Gran Coupe",
         "orientation": "v",
         "showlegend": true,
         "type": "scatter",
         "x": [
          2015,
          2016
         ],
         "xaxis": "x",
         "y": [
          6,
          6
         ],
         "yaxis": "y"
        },
        {
         "hovertemplate": "<b>%{hovertext}</b><br><br>model=430i Convertible<br>year=%{x}<br>fuel_economy_score=%{y}<extra></extra>",
         "hovertext": [
          "430i Convertible"
         ],
         "legendgroup": "430i Convertible",
         "line": {
          "color": "#FF6692",
          "dash": "solid"
         },
         "marker": {
          "symbol": "circle"
         },
         "mode": "lines",
         "name": "430i Convertible",
         "orientation": "v",
         "showlegend": true,
         "type": "scatter",
         "x": [
          2017
         ],
         "xaxis": "x",
         "y": [
          6
         ],
         "yaxis": "y"
        },
        {
         "hovertemplate": "<b>%{hovertext}</b><br><br>model=430i Coupe<br>year=%{x}<br>fuel_economy_score=%{y}<extra></extra>",
         "hovertext": [
          "430i Coupe",
          "430i Coupe"
         ],
         "legendgroup": "430i Coupe",
         "line": {
          "color": "#B6E880",
          "dash": "solid"
         },
         "marker": {
          "symbol": "circle"
         },
         "mode": "lines",
         "name": "430i Coupe",
         "orientation": "v",
         "showlegend": true,
         "type": "scatter",
         "x": [
          2017,
          2017
         ],
         "xaxis": "x",
         "y": [
          6,
          5
         ],
         "yaxis": "y"
        },
        {
         "hovertemplate": "<b>%{hovertext}</b><br><br>model=430i Gran Coupe<br>year=%{x}<br>fuel_economy_score=%{y}<extra></extra>",
         "hovertext": [
          "430i Gran Coupe"
         ],
         "legendgroup": "430i Gran Coupe",
         "line": {
          "color": "#FF97FF",
          "dash": "solid"
         },
         "marker": {
          "symbol": "circle"
         },
         "mode": "lines",
         "name": "430i Gran Coupe",
         "orientation": "v",
         "showlegend": true,
         "type": "scatter",
         "x": [
          2017
         ],
         "xaxis": "x",
         "y": [
          6
         ],
         "yaxis": "y"
        },
        {
         "hovertemplate": "<b>%{hovertext}</b><br><br>model=430i xDrive Convertible<br>year=%{x}<br>fuel_economy_score=%{y}<extra></extra>",
         "hovertext": [
          "430i xDrive Convertible"
         ],
         "legendgroup": "430i xDrive Convertible",
         "line": {
          "color": "#FECB52",
          "dash": "solid"
         },
         "marker": {
          "symbol": "circle"
         },
         "mode": "lines",
         "name": "430i xDrive Convertible",
         "orientation": "v",
         "showlegend": true,
         "type": "scatter",
         "x": [
          2017
         ],
         "xaxis": "x",
         "y": [
          6
         ],
         "yaxis": "y"
        },
        {
         "hovertemplate": "<b>%{hovertext}</b><br><br>model=430i xDrive Coupe<br>year=%{x}<br>fuel_economy_score=%{y}<extra></extra>",
         "hovertext": [
          "430i xDrive Coupe"
         ],
         "legendgroup": "430i xDrive Coupe",
         "line": {
          "color": "#636efa",
          "dash": "solid"
         },
         "marker": {
          "symbol": "circle"
         },
         "mode": "lines",
         "name": "430i xDrive Coupe",
         "orientation": "v",
         "showlegend": true,
         "type": "scatter",
         "x": [
          2017
         ],
         "xaxis": "x",
         "y": [
          6
         ],
         "yaxis": "y"
        },
        {
         "hovertemplate": "<b>%{hovertext}</b><br><br>model=430i xDrive Gran Coupe<br>year=%{x}<br>fuel_economy_score=%{y}<extra></extra>",
         "hovertext": [
          "430i xDrive Gran Coupe"
         ],
         "legendgroup": "430i xDrive Gran Coupe",
         "line": {
          "color": "#EF553B",
          "dash": "solid"
         },
         "marker": {
          "symbol": "circle"
         },
         "mode": "lines",
         "name": "430i xDrive Gran Coupe",
         "orientation": "v",
         "showlegend": true,
         "type": "scatter",
         "x": [
          2017
         ],
         "xaxis": "x",
         "y": [
          6
         ],
         "yaxis": "y"
        },
        {
         "hovertemplate": "<b>%{hovertext}</b><br><br>model=435i Convertible<br>year=%{x}<br>fuel_economy_score=%{y}<extra></extra>",
         "hovertext": [
          "435i Convertible",
          "435i Convertible",
          "435i Convertible"
         ],
         "legendgroup": "435i Convertible",
         "line": {
          "color": "#00cc96",
          "dash": "solid"
         },
         "marker": {
          "symbol": "circle"
         },
         "mode": "lines",
         "name": "435i Convertible",
         "orientation": "v",
         "showlegend": true,
         "type": "scatter",
         "x": [
          2014,
          2015,
          2016
         ],
         "xaxis": "x",
         "y": [
          6,
          6,
          5
         ],
         "yaxis": "y"
        },
        {
         "hovertemplate": "<b>%{hovertext}</b><br><br>model=435i Coupe<br>year=%{x}<br>fuel_economy_score=%{y}<extra></extra>",
         "hovertext": [
          "435i Coupe",
          "435i Coupe",
          "435i Coupe",
          "435i Coupe",
          "435i Coupe",
          "435i Coupe"
         ],
         "legendgroup": "435i Coupe",
         "line": {
          "color": "#ab63fa",
          "dash": "solid"
         },
         "marker": {
          "symbol": "circle"
         },
         "mode": "lines",
         "name": "435i Coupe",
         "orientation": "v",
         "showlegend": true,
         "type": "scatter",
         "x": [
          2014,
          2014,
          2015,
          2015,
          2016,
          2016
         ],
         "xaxis": "x",
         "y": [
          6,
          6,
          6,
          6,
          5,
          5
         ],
         "yaxis": "y"
        },
        {
         "hovertemplate": "<b>%{hovertext}</b><br><br>model=435i Gran Coupe<br>year=%{x}<br>fuel_economy_score=%{y}<extra></extra>",
         "hovertext": [
          "435i Gran Coupe",
          "435i Gran Coupe"
         ],
         "legendgroup": "435i Gran Coupe",
         "line": {
          "color": "#FFA15A",
          "dash": "solid"
         },
         "marker": {
          "symbol": "circle"
         },
         "mode": "lines",
         "name": "435i Gran Coupe",
         "orientation": "v",
         "showlegend": true,
         "type": "scatter",
         "x": [
          2015,
          2016
         ],
         "xaxis": "x",
         "y": [
          6,
          5
         ],
         "yaxis": "y"
        },
        {
         "hovertemplate": "<b>%{hovertext}</b><br><br>model=435i xDrive Convertible<br>year=%{x}<br>fuel_economy_score=%{y}<extra></extra>",
         "hovertext": [
          "435i xDrive Convertible",
          "435i xDrive Convertible"
         ],
         "legendgroup": "435i xDrive Convertible",
         "line": {
          "color": "#19d3f3",
          "dash": "solid"
         },
         "marker": {
          "symbol": "circle"
         },
         "mode": "lines",
         "name": "435i xDrive Convertible",
         "orientation": "v",
         "showlegend": true,
         "type": "scatter",
         "x": [
          2015,
          2016
         ],
         "xaxis": "x",
         "y": [
          5,
          5
         ],
         "yaxis": "y"
        },
        {
         "hovertemplate": "<b>%{hovertext}</b><br><br>model=435i xDrive Coupe<br>year=%{x}<br>fuel_economy_score=%{y}<extra></extra>",
         "hovertext": [
          "435i xDrive Coupe",
          "435i xDrive Coupe",
          "435i xDrive Coupe",
          "435i xDrive Coupe",
          "435i xDrive Coupe",
          "435i xDrive Coupe"
         ],
         "legendgroup": "435i xDrive Coupe",
         "line": {
          "color": "#FF6692",
          "dash": "solid"
         },
         "marker": {
          "symbol": "circle"
         },
         "mode": "lines",
         "name": "435i xDrive Coupe",
         "orientation": "v",
         "showlegend": true,
         "type": "scatter",
         "x": [
          2014,
          2014,
          2015,
          2015,
          2016,
          2016
         ],
         "xaxis": "x",
         "y": [
          6,
          6,
          6,
          5,
          5,
          5
         ],
         "yaxis": "y"
        },
        {
         "hovertemplate": "<b>%{hovertext}</b><br><br>model=435i xDrive Gran Coupe<br>year=%{x}<br>fuel_economy_score=%{y}<extra></extra>",
         "hovertext": [
          "435i xDrive Gran Coupe",
          "435i xDrive Gran Coupe"
         ],
         "legendgroup": "435i xDrive Gran Coupe",
         "line": {
          "color": "#B6E880",
          "dash": "solid"
         },
         "marker": {
          "symbol": "circle"
         },
         "mode": "lines",
         "name": "435i xDrive Gran Coupe",
         "orientation": "v",
         "showlegend": true,
         "type": "scatter",
         "x": [
          2015,
          2016
         ],
         "xaxis": "x",
         "y": [
          6,
          5
         ],
         "yaxis": "y"
        },
        {
         "hovertemplate": "<b>%{hovertext}</b><br><br>model=440i Convertible<br>year=%{x}<br>fuel_economy_score=%{y}<extra></extra>",
         "hovertext": [
          "440i Convertible"
         ],
         "legendgroup": "440i Convertible",
         "line": {
          "color": "#FF97FF",
          "dash": "solid"
         },
         "marker": {
          "symbol": "circle"
         },
         "mode": "lines",
         "name": "440i Convertible",
         "orientation": "v",
         "showlegend": true,
         "type": "scatter",
         "x": [
          2017
         ],
         "xaxis": "x",
         "y": [
          5
         ],
         "yaxis": "y"
        },
        {
         "hovertemplate": "<b>%{hovertext}</b><br><br>model=440i Coupe<br>year=%{x}<br>fuel_economy_score=%{y}<extra></extra>",
         "hovertext": [
          "440i Coupe",
          "440i Coupe"
         ],
         "legendgroup": "440i Coupe",
         "line": {
          "color": "#FECB52",
          "dash": "solid"
         },
         "marker": {
          "symbol": "circle"
         },
         "mode": "lines",
         "name": "440i Coupe",
         "orientation": "v",
         "showlegend": true,
         "type": "scatter",
         "x": [
          2017,
          2017
         ],
         "xaxis": "x",
         "y": [
          5,
          5
         ],
         "yaxis": "y"
        },
        {
         "hovertemplate": "<b>%{hovertext}</b><br><br>model=440i Gran Coupe<br>year=%{x}<br>fuel_economy_score=%{y}<extra></extra>",
         "hovertext": [
          "440i Gran Coupe"
         ],
         "legendgroup": "440i Gran Coupe",
         "line": {
          "color": "#636efa",
          "dash": "solid"
         },
         "marker": {
          "symbol": "circle"
         },
         "mode": "lines",
         "name": "440i Gran Coupe",
         "orientation": "v",
         "showlegend": true,
         "type": "scatter",
         "x": [
          2017
         ],
         "xaxis": "x",
         "y": [
          5
         ],
         "yaxis": "y"
        },
        {
         "hovertemplate": "<b>%{hovertext}</b><br><br>model=440i xDrive Convertible<br>year=%{x}<br>fuel_economy_score=%{y}<extra></extra>",
         "hovertext": [
          "440i xDrive Convertible"
         ],
         "legendgroup": "440i xDrive Convertible",
         "line": {
          "color": "#EF553B",
          "dash": "solid"
         },
         "marker": {
          "symbol": "circle"
         },
         "mode": "lines",
         "name": "440i xDrive Convertible",
         "orientation": "v",
         "showlegend": true,
         "type": "scatter",
         "x": [
          2017
         ],
         "xaxis": "x",
         "y": [
          5
         ],
         "yaxis": "y"
        },
        {
         "hovertemplate": "<b>%{hovertext}</b><br><br>model=440i xDrive Coupe<br>year=%{x}<br>fuel_economy_score=%{y}<extra></extra>",
         "hovertext": [
          "440i xDrive Coupe",
          "440i xDrive Coupe"
         ],
         "legendgroup": "440i xDrive Coupe",
         "line": {
          "color": "#00cc96",
          "dash": "solid"
         },
         "marker": {
          "symbol": "circle"
         },
         "mode": "lines",
         "name": "440i xDrive Coupe",
         "orientation": "v",
         "showlegend": true,
         "type": "scatter",
         "x": [
          2017,
          2017
         ],
         "xaxis": "x",
         "y": [
          5,
          5
         ],
         "yaxis": "y"
        },
        {
         "hovertemplate": "<b>%{hovertext}</b><br><br>model=440i xDrive Gran Coupe<br>year=%{x}<br>fuel_economy_score=%{y}<extra></extra>",
         "hovertext": [
          "440i xDrive Gran Coupe"
         ],
         "legendgroup": "440i xDrive Gran Coupe",
         "line": {
          "color": "#ab63fa",
          "dash": "solid"
         },
         "marker": {
          "symbol": "circle"
         },
         "mode": "lines",
         "name": "440i xDrive Gran Coupe",
         "orientation": "v",
         "showlegend": true,
         "type": "scatter",
         "x": [
          2017
         ],
         "xaxis": "x",
         "y": [
          5
         ],
         "yaxis": "y"
        },
        {
         "hovertemplate": "<b>%{hovertext}</b><br><br>model=528i<br>year=%{x}<br>fuel_economy_score=%{y}<extra></extra>",
         "hovertext": [
          "528i",
          "528i",
          "528i",
          "528i"
         ],
         "legendgroup": "528i",
         "line": {
          "color": "#FFA15A",
          "dash": "solid"
         },
         "marker": {
          "symbol": "circle"
         },
         "mode": "lines",
         "name": "528i",
         "orientation": "v",
         "showlegend": true,
         "type": "scatter",
         "x": [
          2013,
          2014,
          2015,
          2016
         ],
         "xaxis": "x",
         "y": [
          7,
          7,
          7,
          6
         ],
         "yaxis": "y"
        },
        {
         "hovertemplate": "<b>%{hovertext}</b><br><br>model=528i xDrive<br>year=%{x}<br>fuel_economy_score=%{y}<extra></extra>",
         "hovertext": [
          "528i xDrive",
          "528i xDrive",
          "528i xDrive",
          "528i xDrive"
         ],
         "legendgroup": "528i xDrive",
         "line": {
          "color": "#19d3f3",
          "dash": "solid"
         },
         "marker": {
          "symbol": "circle"
         },
         "mode": "lines",
         "name": "528i xDrive",
         "orientation": "v",
         "showlegend": true,
         "type": "scatter",
         "x": [
          2013,
          2014,
          2015,
          2016
         ],
         "xaxis": "x",
         "y": [
          7,
          7,
          6,
          6
         ],
         "yaxis": "y"
        },
        {
         "hovertemplate": "<b>%{hovertext}</b><br><br>model=535d<br>year=%{x}<br>fuel_economy_score=%{y}<extra></extra>",
         "hovertext": [
          "535d",
          "535d",
          "535d"
         ],
         "legendgroup": "535d",
         "line": {
          "color": "#FF6692",
          "dash": "solid"
         },
         "marker": {
          "symbol": "circle"
         },
         "mode": "lines",
         "name": "535d",
         "orientation": "v",
         "showlegend": true,
         "type": "scatter",
         "x": [
          2014,
          2015,
          2016
         ],
         "xaxis": "x",
         "y": [
          8,
          7,
          7
         ],
         "yaxis": "y"
        },
        {
         "hovertemplate": "<b>%{hovertext}</b><br><br>model=535d xDrive<br>year=%{x}<br>fuel_economy_score=%{y}<extra></extra>",
         "hovertext": [
          "535d xDrive",
          "535d xDrive",
          "535d xDrive"
         ],
         "legendgroup": "535d xDrive",
         "line": {
          "color": "#B6E880",
          "dash": "solid"
         },
         "marker": {
          "symbol": "circle"
         },
         "mode": "lines",
         "name": "535d xDrive",
         "orientation": "v",
         "showlegend": true,
         "type": "scatter",
         "x": [
          2014,
          2015,
          2016
         ],
         "xaxis": "x",
         "y": [
          8,
          7,
          7
         ],
         "yaxis": "y"
        },
        {
         "hovertemplate": "<b>%{hovertext}</b><br><br>model=535i<br>year=%{x}<br>fuel_economy_score=%{y}<extra></extra>",
         "hovertext": [
          "535i",
          "535i",
          "535i",
          "535i",
          "535i",
          "535i"
         ],
         "legendgroup": "535i",
         "line": {
          "color": "#FF97FF",
          "dash": "solid"
         },
         "marker": {
          "symbol": "circle"
         },
         "mode": "lines",
         "name": "535i",
         "orientation": "v",
         "showlegend": true,
         "type": "scatter",
         "x": [
          2013,
          2013,
          2014,
          2014,
          2015,
          2016
         ],
         "xaxis": "x",
         "y": [
          6,
          6,
          6,
          6,
          6,
          5
         ],
         "yaxis": "y"
        },
        {
         "hovertemplate": "<b>%{hovertext}</b><br><br>model=535i Gran Turismo<br>year=%{x}<br>fuel_economy_score=%{y}<extra></extra>",
         "hovertext": [
          "535i Gran Turismo",
          "535i Gran Turismo",
          "535i Gran Turismo",
          "535i Gran Turismo",
          "535i Gran Turismo"
         ],
         "legendgroup": "535i Gran Turismo",
         "line": {
          "color": "#FECB52",
          "dash": "solid"
         },
         "marker": {
          "symbol": "circle"
         },
         "mode": "lines",
         "name": "535i Gran Turismo",
         "orientation": "v",
         "showlegend": true,
         "type": "scatter",
         "x": [
          2013,
          2014,
          2015,
          2016,
          2017
         ],
         "xaxis": "x",
         "y": [
          6,
          5,
          5,
          5,
          5
         ],
         "yaxis": "y"
        },
        {
         "hovertemplate": "<b>%{hovertext}</b><br><br>model=535i xDrive<br>year=%{x}<br>fuel_economy_score=%{y}<extra></extra>",
         "hovertext": [
          "535i xDrive",
          "535i xDrive",
          "535i xDrive",
          "535i xDrive"
         ],
         "legendgroup": "535i xDrive",
         "line": {
          "color": "#636efa",
          "dash": "solid"
         },
         "marker": {
          "symbol": "circle"
         },
         "mode": "lines",
         "name": "535i xDrive",
         "orientation": "v",
         "showlegend": true,
         "type": "scatter",
         "x": [
          2013,
          2014,
          2015,
          2016
         ],
         "xaxis": "x",
         "y": [
          6,
          6,
          5,
          5
         ],
         "yaxis": "y"
        },
        {
         "hovertemplate": "<b>%{hovertext}</b><br><br>model=535i xDrive Gran Turismo<br>year=%{x}<br>fuel_economy_score=%{y}<extra></extra>",
         "hovertext": [
          "535i xDrive Gran Turismo",
          "535i xDrive Gran Turismo",
          "535i xDrive Gran Turismo",
          "535i xDrive Gran Turismo",
          "535i xDrive Gran Turismo"
         ],
         "legendgroup": "535i xDrive Gran Turismo",
         "line": {
          "color": "#EF553B",
          "dash": "solid"
         },
         "marker": {
          "symbol": "circle"
         },
         "mode": "lines",
         "name": "535i xDrive Gran Turismo",
         "orientation": "v",
         "showlegend": true,
         "type": "scatter",
         "x": [
          2013,
          2014,
          2015,
          2016,
          2017
         ],
         "xaxis": "x",
         "y": [
          5,
          5,
          5,
          5,
          4
         ],
         "yaxis": "y"
        },
        {
         "hovertemplate": "<b>%{hovertext}</b><br><br>model=550i<br>year=%{x}<br>fuel_economy_score=%{y}<extra></extra>",
         "hovertext": [
          "550i",
          "550i",
          "550i",
          "550i",
          "550i"
         ],
         "legendgroup": "550i",
         "line": {
          "color": "#00cc96",
          "dash": "solid"
         },
         "marker": {
          "symbol": "circle"
         },
         "mode": "lines",
         "name": "550i",
         "orientation": "v",
         "showlegend": true,
         "type": "scatter",
         "x": [
          2013,
          2013,
          2014,
          2015,
          2016
         ],
         "xaxis": "x",
         "y": [
          5,
          4,
          5,
          5,
          4
         ],
         "yaxis": "y"
        },
        {
         "hovertemplate": "<b>%{hovertext}</b><br><br>model=550i Gran Turismo<br>year=%{x}<br>fuel_economy_score=%{y}<extra></extra>",
         "hovertext": [
          "550i Gran Turismo",
          "550i Gran Turismo",
          "550i Gran Turismo"
         ],
         "legendgroup": "550i Gran Turismo",
         "line": {
          "color": "#ab63fa",
          "dash": "solid"
         },
         "marker": {
          "symbol": "circle"
         },
         "mode": "lines",
         "name": "550i Gran Turismo",
         "orientation": "v",
         "showlegend": true,
         "type": "scatter",
         "x": [
          2013,
          2014,
          2015
         ],
         "xaxis": "x",
         "y": [
          4,
          4,
          4
         ],
         "yaxis": "y"
        },
        {
         "hovertemplate": "<b>%{hovertext}</b><br><br>model=550i xDrive<br>year=%{x}<br>fuel_economy_score=%{y}<extra></extra>",
         "hovertext": [
          "550i xDrive",
          "550i xDrive",
          "550i xDrive",
          "550i xDrive"
         ],
         "legendgroup": "550i xDrive",
         "line": {
          "color": "#FFA15A",
          "dash": "solid"
         },
         "marker": {
          "symbol": "circle"
         },
         "mode": "lines",
         "name": "550i xDrive",
         "orientation": "v",
         "showlegend": true,
         "type": "scatter",
         "x": [
          2013,
          2014,
          2015,
          2016
         ],
         "xaxis": "x",
         "y": [
          4,
          4,
          4,
          4
         ],
         "yaxis": "y"
        },
        {
         "hovertemplate": "<b>%{hovertext}</b><br><br>model=550i xDrive Gran Turismo<br>year=%{x}<br>fuel_economy_score=%{y}<extra></extra>",
         "hovertext": [
          "550i xDrive Gran Turismo",
          "550i xDrive Gran Turismo",
          "550i xDrive Gran Turismo",
          "550i xDrive Gran Turismo"
         ],
         "legendgroup": "550i xDrive Gran Turismo",
         "line": {
          "color": "#19d3f3",
          "dash": "solid"
         },
         "marker": {
          "symbol": "circle"
         },
         "mode": "lines",
         "name": "550i xDrive Gran Turismo",
         "orientation": "v",
         "showlegend": true,
         "type": "scatter",
         "x": [
          2013,
          2014,
          2015,
          2017
         ],
         "xaxis": "x",
         "y": [
          4,
          4,
          4,
          3
         ],
         "yaxis": "y"
        },
        {
         "hovertemplate": "<b>%{hovertext}</b><br><br>model=640i Convertible<br>year=%{x}<br>fuel_economy_score=%{y}<extra></extra>",
         "hovertext": [
          "640i Convertible",
          "640i Convertible",
          "640i Convertible",
          "640i Convertible",
          "640i Convertible"
         ],
         "legendgroup": "640i Convertible",
         "line": {
          "color": "#FF6692",
          "dash": "solid"
         },
         "marker": {
          "symbol": "circle"
         },
         "mode": "lines",
         "name": "640i Convertible",
         "orientation": "v",
         "showlegend": true,
         "type": "scatter",
         "x": [
          2013,
          2014,
          2015,
          2016,
          2017
         ],
         "xaxis": "x",
         "y": [
          6,
          6,
          6,
          5,
          5
         ],
         "yaxis": "y"
        },
        {
         "hovertemplate": "<b>%{hovertext}</b><br><br>model=640i Coupe<br>year=%{x}<br>fuel_economy_score=%{y}<extra></extra>",
         "hovertext": [
          "640i Coupe",
          "640i Coupe",
          "640i Coupe",
          "640i Coupe",
          "640i Coupe"
         ],
         "legendgroup": "640i Coupe",
         "line": {
          "color": "#B6E880",
          "dash": "solid"
         },
         "marker": {
          "symbol": "circle"
         },
         "mode": "lines",
         "name": "640i Coupe",
         "orientation": "v",
         "showlegend": true,
         "type": "scatter",
         "x": [
          2013,
          2014,
          2015,
          2016,
          2017
         ],
         "xaxis": "x",
         "y": [
          7,
          6,
          6,
          5,
          5
         ],
         "yaxis": "y"
        },
        {
         "hovertemplate": "<b>%{hovertext}</b><br><br>model=640i Gran Coupe<br>year=%{x}<br>fuel_economy_score=%{y}<extra></extra>",
         "hovertext": [
          "640i Gran Coupe",
          "640i Gran Coupe",
          "640i Gran Coupe",
          "640i Gran Coupe",
          "640i Gran Coupe"
         ],
         "legendgroup": "640i Gran Coupe",
         "line": {
          "color": "#FF97FF",
          "dash": "solid"
         },
         "marker": {
          "symbol": "circle"
         },
         "mode": "lines",
         "name": "640i Gran Coupe",
         "orientation": "v",
         "showlegend": true,
         "type": "scatter",
         "x": [
          2013,
          2014,
          2015,
          2016,
          2017
         ],
         "xaxis": "x",
         "y": [
          6,
          6,
          6,
          5,
          5
         ],
         "yaxis": "y"
        },
        {
         "hovertemplate": "<b>%{hovertext}</b><br><br>model=640i xDrive Convertible<br>year=%{x}<br>fuel_economy_score=%{y}<extra></extra>",
         "hovertext": [
          "640i xDrive Convertible",
          "640i xDrive Convertible",
          "640i xDrive Convertible",
          "640i xDrive Convertible"
         ],
         "legendgroup": "640i xDrive Convertible",
         "line": {
          "color": "#FECB52",
          "dash": "solid"
         },
         "marker": {
          "symbol": "circle"
         },
         "mode": "lines",
         "name": "640i xDrive Convertible",
         "orientation": "v",
         "showlegend": true,
         "type": "scatter",
         "x": [
          2014,
          2015,
          2016,
          2017
         ],
         "xaxis": "x",
         "y": [
          6,
          5,
          5,
          5
         ],
         "yaxis": "y"
        },
        {
         "hovertemplate": "<b>%{hovertext}</b><br><br>model=640i xDrive Coupe<br>year=%{x}<br>fuel_economy_score=%{y}<extra></extra>",
         "hovertext": [
          "640i xDrive Coupe",
          "640i xDrive Coupe",
          "640i xDrive Coupe",
          "640i xDrive Coupe"
         ],
         "legendgroup": "640i xDrive Coupe",
         "line": {
          "color": "#636efa",
          "dash": "solid"
         },
         "marker": {
          "symbol": "circle"
         },
         "mode": "lines",
         "name": "640i xDrive Coupe",
         "orientation": "v",
         "showlegend": true,
         "type": "scatter",
         "x": [
          2014,
          2015,
          2016,
          2017
         ],
         "xaxis": "x",
         "y": [
          6,
          5,
          5,
          5
         ],
         "yaxis": "y"
        },
        {
         "hovertemplate": "<b>%{hovertext}</b><br><br>model=640i xDrive Gran Coupe<br>year=%{x}<br>fuel_economy_score=%{y}<extra></extra>",
         "hovertext": [
          "640i xDrive Gran Coupe",
          "640i xDrive Gran Coupe",
          "640i xDrive Gran Coupe",
          "640i xDrive Gran Coupe"
         ],
         "legendgroup": "640i xDrive Gran Coupe",
         "line": {
          "color": "#EF553B",
          "dash": "solid"
         },
         "marker": {
          "symbol": "circle"
         },
         "mode": "lines",
         "name": "640i xDrive Gran Coupe",
         "orientation": "v",
         "showlegend": true,
         "type": "scatter",
         "x": [
          2014,
          2015,
          2016,
          2017
         ],
         "xaxis": "x",
         "y": [
          6,
          5,
          5,
          5
         ],
         "yaxis": "y"
        },
        {
         "hovertemplate": "<b>%{hovertext}</b><br><br>model=650i Convertible<br>year=%{x}<br>fuel_economy_score=%{y}<extra></extra>",
         "hovertext": [
          "650i Convertible",
          "650i Convertible",
          "650i Convertible",
          "650i Convertible",
          "650i Convertible"
         ],
         "legendgroup": "650i Convertible",
         "line": {
          "color": "#00cc96",
          "dash": "solid"
         },
         "marker": {
          "symbol": "circle"
         },
         "mode": "lines",
         "name": "650i Convertible",
         "orientation": "v",
         "showlegend": true,
         "type": "scatter",
         "x": [
          2013,
          2014,
          2015,
          2016,
          2017
         ],
         "xaxis": "x",
         "y": [
          4,
          5,
          5,
          4,
          4
         ],
         "yaxis": "y"
        },
        {
         "hovertemplate": "<b>%{hovertext}</b><br><br>model=650i Convertible xDrive<br>year=%{x}<br>fuel_economy_score=%{y}<extra></extra>",
         "hovertext": [
          "650i Convertible xDrive"
         ],
         "legendgroup": "650i Convertible xDrive",
         "line": {
          "color": "#ab63fa",
          "dash": "solid"
         },
         "marker": {
          "symbol": "circle"
         },
         "mode": "lines",
         "name": "650i Convertible xDrive",
         "orientation": "v",
         "showlegend": true,
         "type": "scatter",
         "x": [
          2013
         ],
         "xaxis": "x",
         "y": [
          4
         ],
         "yaxis": "y"
        },
        {
         "hovertemplate": "<b>%{hovertext}</b><br><br>model=650i Coupe<br>year=%{x}<br>fuel_economy_score=%{y}<extra></extra>",
         "hovertext": [
          "650i Coupe",
          "650i Coupe",
          "650i Coupe",
          "650i Coupe",
          "650i Coupe"
         ],
         "legendgroup": "650i Coupe",
         "line": {
          "color": "#FFA15A",
          "dash": "solid"
         },
         "marker": {
          "symbol": "circle"
         },
         "mode": "lines",
         "name": "650i Coupe",
         "orientation": "v",
         "showlegend": true,
         "type": "scatter",
         "x": [
          2013,
          2014,
          2015,
          2016,
          2017
         ],
         "xaxis": "x",
         "y": [
          4,
          5,
          5,
          4,
          4
         ],
         "yaxis": "y"
        },
        {
         "hovertemplate": "<b>%{hovertext}</b><br><br>model=650i Coupe xDrive<br>year=%{x}<br>fuel_economy_score=%{y}<extra></extra>",
         "hovertext": [
          "650i Coupe xDrive"
         ],
         "legendgroup": "650i Coupe xDrive",
         "line": {
          "color": "#19d3f3",
          "dash": "solid"
         },
         "marker": {
          "symbol": "circle"
         },
         "mode": "lines",
         "name": "650i Coupe xDrive",
         "orientation": "v",
         "showlegend": true,
         "type": "scatter",
         "x": [
          2013
         ],
         "xaxis": "x",
         "y": [
          4
         ],
         "yaxis": "y"
        },
        {
         "hovertemplate": "<b>%{hovertext}</b><br><br>model=650i Gran Coupe<br>year=%{x}<br>fuel_economy_score=%{y}<extra></extra>",
         "hovertext": [
          "650i Gran Coupe",
          "650i Gran Coupe",
          "650i Gran Coupe",
          "650i Gran Coupe",
          "650i Gran Coupe"
         ],
         "legendgroup": "650i Gran Coupe",
         "line": {
          "color": "#FF6692",
          "dash": "solid"
         },
         "marker": {
          "symbol": "circle"
         },
         "mode": "lines",
         "name": "650i Gran Coupe",
         "orientation": "v",
         "showlegend": true,
         "type": "scatter",
         "x": [
          2013,
          2014,
          2015,
          2016,
          2017
         ],
         "xaxis": "x",
         "y": [
          4,
          5,
          5,
          4,
          4
         ],
         "yaxis": "y"
        },
        {
         "hovertemplate": "<b>%{hovertext}</b><br><br>model=650i xDrive Convertible<br>year=%{x}<br>fuel_economy_score=%{y}<extra></extra>",
         "hovertext": [
          "650i xDrive Convertible",
          "650i xDrive Convertible",
          "650i xDrive Convertible",
          "650i xDrive Convertible"
         ],
         "legendgroup": "650i xDrive Convertible",
         "line": {
          "color": "#B6E880",
          "dash": "solid"
         },
         "marker": {
          "symbol": "circle"
         },
         "mode": "lines",
         "name": "650i xDrive Convertible",
         "orientation": "v",
         "showlegend": true,
         "type": "scatter",
         "x": [
          2014,
          2015,
          2016,
          2017
         ],
         "xaxis": "x",
         "y": [
          4,
          4,
          4,
          3
         ],
         "yaxis": "y"
        },
        {
         "hovertemplate": "<b>%{hovertext}</b><br><br>model=650i xDrive Coupe<br>year=%{x}<br>fuel_economy_score=%{y}<extra></extra>",
         "hovertext": [
          "650i xDrive Coupe",
          "650i xDrive Coupe",
          "650i xDrive Coupe",
          "650i xDrive Coupe"
         ],
         "legendgroup": "650i xDrive Coupe",
         "line": {
          "color": "#FF97FF",
          "dash": "solid"
         },
         "marker": {
          "symbol": "circle"
         },
         "mode": "lines",
         "name": "650i xDrive Coupe",
         "orientation": "v",
         "showlegend": true,
         "type": "scatter",
         "x": [
          2014,
          2015,
          2016,
          2017
         ],
         "xaxis": "x",
         "y": [
          4,
          4,
          4,
          4
         ],
         "yaxis": "y"
        },
        {
         "hovertemplate": "<b>%{hovertext}</b><br><br>model=650i xDrive Gran Coupe<br>year=%{x}<br>fuel_economy_score=%{y}<extra></extra>",
         "hovertext": [
          "650i xDrive Gran Coupe",
          "650i xDrive Gran Coupe",
          "650i xDrive Gran Coupe",
          "650i xDrive Gran Coupe",
          "650i xDrive Gran Coupe"
         ],
         "legendgroup": "650i xDrive Gran Coupe",
         "line": {
          "color": "#FECB52",
          "dash": "solid"
         },
         "marker": {
          "symbol": "circle"
         },
         "mode": "lines",
         "name": "650i xDrive Gran Coupe",
         "orientation": "v",
         "showlegend": true,
         "type": "scatter",
         "x": [
          2013,
          2014,
          2015,
          2016,
          2017
         ],
         "xaxis": "x",
         "y": [
          4,
          4,
          4,
          4,
          3
         ],
         "yaxis": "y"
        },
        {
         "hovertemplate": "<b>%{hovertext}</b><br><br>model=740Ld xDrive<br>year=%{x}<br>fuel_economy_score=%{y}<extra></extra>",
         "hovertext": [
          "740Ld xDrive"
         ],
         "legendgroup": "740Ld xDrive",
         "line": {
          "color": "#636efa",
          "dash": "solid"
         },
         "marker": {
          "symbol": "circle"
         },
         "mode": "lines",
         "name": "740Ld xDrive",
         "orientation": "v",
         "showlegend": true,
         "type": "scatter",
         "x": [
          2015
         ],
         "xaxis": "x",
         "y": [
          6
         ],
         "yaxis": "y"
        },
        {
         "hovertemplate": "<b>%{hovertext}</b><br><br>model=740Li<br>year=%{x}<br>fuel_economy_score=%{y}<extra></extra>",
         "hovertext": [
          "740Li",
          "740Li",
          "740Li"
         ],
         "legendgroup": "740Li",
         "line": {
          "color": "#EF553B",
          "dash": "solid"
         },
         "marker": {
          "symbol": "circle"
         },
         "mode": "lines",
         "name": "740Li",
         "orientation": "v",
         "showlegend": true,
         "type": "scatter",
         "x": [
          2013,
          2014,
          2015
         ],
         "xaxis": "x",
         "y": [
          5,
          5,
          5
         ],
         "yaxis": "y"
        },
        {
         "hovertemplate": "<b>%{hovertext}</b><br><br>model=740Li xDrive<br>year=%{x}<br>fuel_economy_score=%{y}<extra></extra>",
         "hovertext": [
          "740Li xDrive",
          "740Li xDrive",
          "740Li xDrive"
         ],
         "legendgroup": "740Li xDrive",
         "line": {
          "color": "#00cc96",
          "dash": "solid"
         },
         "marker": {
          "symbol": "circle"
         },
         "mode": "lines",
         "name": "740Li xDrive",
         "orientation": "v",
         "showlegend": true,
         "type": "scatter",
         "x": [
          2013,
          2014,
          2015
         ],
         "xaxis": "x",
         "y": [
          5,
          5,
          5
         ],
         "yaxis": "y"
        },
        {
         "hovertemplate": "<b>%{hovertext}</b><br><br>model=740e xDrive<br>year=%{x}<br>fuel_economy_score=%{y}<extra></extra>",
         "hovertext": [
          "740e xDrive"
         ],
         "legendgroup": "740e xDrive",
         "line": {
          "color": "#ab63fa",
          "dash": "solid"
         },
         "marker": {
          "symbol": "circle"
         },
         "mode": "lines",
         "name": "740e xDrive",
         "orientation": "v",
         "showlegend": true,
         "type": "scatter",
         "x": [
          2017
         ],
         "xaxis": "x",
         "y": [
          8
         ],
         "yaxis": "y"
        },
        {
         "hovertemplate": "<b>%{hovertext}</b><br><br>model=740i<br>year=%{x}<br>fuel_economy_score=%{y}<extra></extra>",
         "hovertext": [
          "740i",
          "740i",
          "740i",
          "740i",
          "740i"
         ],
         "legendgroup": "740i",
         "line": {
          "color": "#FFA15A",
          "dash": "solid"
         },
         "marker": {
          "symbol": "circle"
         },
         "mode": "lines",
         "name": "740i",
         "orientation": "v",
         "showlegend": true,
         "type": "scatter",
         "x": [
          2013,
          2014,
          2015,
          2016,
          2017
         ],
         "xaxis": "x",
         "y": [
          5,
          5,
          5,
          5,
          5
         ],
         "yaxis": "y"
        },
        {
         "hovertemplate": "<b>%{hovertext}</b><br><br>model=740i xDrive<br>year=%{x}<br>fuel_economy_score=%{y}<extra></extra>",
         "hovertext": [
          "740i xDrive"
         ],
         "legendgroup": "740i xDrive",
         "line": {
          "color": "#19d3f3",
          "dash": "solid"
         },
         "marker": {
          "symbol": "circle"
         },
         "mode": "lines",
         "name": "740i xDrive",
         "orientation": "v",
         "showlegend": true,
         "type": "scatter",
         "x": [
          2017
         ],
         "xaxis": "x",
         "y": [
          5
         ],
         "yaxis": "y"
        },
        {
         "hovertemplate": "<b>%{hovertext}</b><br><br>model=750Li<br>year=%{x}<br>fuel_economy_score=%{y}<extra></extra>",
         "hovertext": [
          "750Li",
          "750Li",
          "750Li"
         ],
         "legendgroup": "750Li",
         "line": {
          "color": "#FF6692",
          "dash": "solid"
         },
         "marker": {
          "symbol": "circle"
         },
         "mode": "lines",
         "name": "750Li",
         "orientation": "v",
         "showlegend": true,
         "type": "scatter",
         "x": [
          2013,
          2014,
          2015
         ],
         "xaxis": "x",
         "y": [
          4,
          4,
          4
         ],
         "yaxis": "y"
        },
        {
         "hovertemplate": "<b>%{hovertext}</b><br><br>model=750Li xDrive<br>year=%{x}<br>fuel_economy_score=%{y}<extra></extra>",
         "hovertext": [
          "750Li xDrive",
          "750Li xDrive",
          "750Li xDrive"
         ],
         "legendgroup": "750Li xDrive",
         "line": {
          "color": "#B6E880",
          "dash": "solid"
         },
         "marker": {
          "symbol": "circle"
         },
         "mode": "lines",
         "name": "750Li xDrive",
         "orientation": "v",
         "showlegend": true,
         "type": "scatter",
         "x": [
          2013,
          2014,
          2015
         ],
         "xaxis": "x",
         "y": [
          4,
          4,
          4
         ],
         "yaxis": "y"
        },
        {
         "hovertemplate": "<b>%{hovertext}</b><br><br>model=750i<br>year=%{x}<br>fuel_economy_score=%{y}<extra></extra>",
         "hovertext": [
          "750i",
          "750i",
          "750i",
          "750i",
          "750i"
         ],
         "legendgroup": "750i",
         "line": {
          "color": "#FF97FF",
          "dash": "solid"
         },
         "marker": {
          "symbol": "circle"
         },
         "mode": "lines",
         "name": "750i",
         "orientation": "v",
         "showlegend": true,
         "type": "scatter",
         "x": [
          2013,
          2014,
          2015,
          2016,
          2017
         ],
         "xaxis": "x",
         "y": [
          4,
          5,
          5,
          4,
          4
         ],
         "yaxis": "y"
        },
        {
         "hovertemplate": "<b>%{hovertext}</b><br><br>model=750i xDrive<br>year=%{x}<br>fuel_economy_score=%{y}<extra></extra>",
         "hovertext": [
          "750i xDrive",
          "750i xDrive",
          "750i xDrive",
          "750i xDrive",
          "750i xDrive"
         ],
         "legendgroup": "750i xDrive",
         "line": {
          "color": "#FECB52",
          "dash": "solid"
         },
         "marker": {
          "symbol": "circle"
         },
         "mode": "lines",
         "name": "750i xDrive",
         "orientation": "v",
         "showlegend": true,
         "type": "scatter",
         "x": [
          2013,
          2014,
          2015,
          2016,
          2017
         ],
         "xaxis": "x",
         "y": [
          4,
          4,
          4,
          4,
          4
         ],
         "yaxis": "y"
        },
        {
         "hovertemplate": "<b>%{hovertext}</b><br><br>model=760Li<br>year=%{x}<br>fuel_economy_score=%{y}<extra></extra>",
         "hovertext": [
          "760Li",
          "760Li",
          "760Li"
         ],
         "legendgroup": "760Li",
         "line": {
          "color": "#636efa",
          "dash": "solid"
         },
         "marker": {
          "symbol": "circle"
         },
         "mode": "lines",
         "name": "760Li",
         "orientation": "v",
         "showlegend": true,
         "type": "scatter",
         "x": [
          2013,
          2014,
          2015
         ],
         "xaxis": "x",
         "y": [
          3,
          2,
          3
         ],
         "yaxis": "y"
        },
        {
         "hovertemplate": "<b>%{hovertext}</b><br><br>model=ActiveHybrid 3<br>year=%{x}<br>fuel_economy_score=%{y}<extra></extra>",
         "hovertext": [
          "ActiveHybrid 3",
          "ActiveHybrid 3",
          "ActiveHybrid 3"
         ],
         "legendgroup": "ActiveHybrid 3",
         "line": {
          "color": "#EF553B",
          "dash": "solid"
         },
         "marker": {
          "symbol": "circle"
         },
         "mode": "lines",
         "name": "ActiveHybrid 3",
         "orientation": "v",
         "showlegend": true,
         "type": "scatter",
         "x": [
          2013,
          2014,
          2015
         ],
         "xaxis": "x",
         "y": [
          7,
          7,
          7
         ],
         "yaxis": "y"
        },
        {
         "hovertemplate": "<b>%{hovertext}</b><br><br>model=ActiveHybrid 5<br>year=%{x}<br>fuel_economy_score=%{y}<extra></extra>",
         "hovertext": [
          "ActiveHybrid 5",
          "ActiveHybrid 5",
          "ActiveHybrid 5",
          "ActiveHybrid 5"
         ],
         "legendgroup": "ActiveHybrid 5",
         "line": {
          "color": "#00cc96",
          "dash": "solid"
         },
         "marker": {
          "symbol": "circle"
         },
         "mode": "lines",
         "name": "ActiveHybrid 5",
         "orientation": "v",
         "showlegend": true,
         "type": "scatter",
         "x": [
          2013,
          2014,
          2015,
          2016
         ],
         "xaxis": "x",
         "y": [
          7,
          7,
          6,
          6
         ],
         "yaxis": "y"
        },
        {
         "hovertemplate": "<b>%{hovertext}</b><br><br>model=ActiveHybrid 7L<br>year=%{x}<br>fuel_economy_score=%{y}<extra></extra>",
         "hovertext": [
          "ActiveHybrid 7L",
          "ActiveHybrid 7L",
          "ActiveHybrid 7L"
         ],
         "legendgroup": "ActiveHybrid 7L",
         "line": {
          "color": "#ab63fa",
          "dash": "solid"
         },
         "marker": {
          "symbol": "circle"
         },
         "mode": "lines",
         "name": "ActiveHybrid 7L",
         "orientation": "v",
         "showlegend": true,
         "type": "scatter",
         "x": [
          2013,
          2014,
          2015
         ],
         "xaxis": "x",
         "y": [
          6,
          6,
          6
         ],
         "yaxis": "y"
        },
        {
         "hovertemplate": "<b>%{hovertext}</b><br><br>model=Alpina B6 Gran Coupe xDrive<br>year=%{x}<br>fuel_economy_score=%{y}<extra></extra>",
         "hovertext": [
          "Alpina B6 Gran Coupe xDrive",
          "Alpina B6 Gran Coupe xDrive"
         ],
         "legendgroup": "Alpina B6 Gran Coupe xDrive",
         "line": {
          "color": "#FFA15A",
          "dash": "solid"
         },
         "marker": {
          "symbol": "circle"
         },
         "mode": "lines",
         "name": "Alpina B6 Gran Coupe xDrive",
         "orientation": "v",
         "showlegend": true,
         "type": "scatter",
         "x": [
          2015,
          2016
         ],
         "xaxis": "x",
         "y": [
          4,
          4
         ],
         "yaxis": "y"
        },
        {
         "hovertemplate": "<b>%{hovertext}</b><br><br>model=Alpina B6 xDrive Gran Coupe<br>year=%{x}<br>fuel_economy_score=%{y}<extra></extra>",
         "hovertext": [
          "Alpina B6 xDrive Gran Coupe"
         ],
         "legendgroup": "Alpina B6 xDrive Gran Coupe",
         "line": {
          "color": "#19d3f3",
          "dash": "solid"
         },
         "marker": {
          "symbol": "circle"
         },
         "mode": "lines",
         "name": "Alpina B6 xDrive Gran Coupe",
         "orientation": "v",
         "showlegend": true,
         "type": "scatter",
         "x": [
          2017
         ],
         "xaxis": "x",
         "y": [
          3
         ],
         "yaxis": "y"
        },
        {
         "hovertemplate": "<b>%{hovertext}</b><br><br>model=Alpina B7 LWB<br>year=%{x}<br>fuel_economy_score=%{y}<extra></extra>",
         "hovertext": [
          "Alpina B7 LWB",
          "Alpina B7 LWB",
          "Alpina B7 LWB"
         ],
         "legendgroup": "Alpina B7 LWB",
         "line": {
          "color": "#FF6692",
          "dash": "solid"
         },
         "marker": {
          "symbol": "circle"
         },
         "mode": "lines",
         "name": "Alpina B7 LWB",
         "orientation": "v",
         "showlegend": true,
         "type": "scatter",
         "x": [
          2013,
          2014,
          2015
         ],
         "xaxis": "x",
         "y": [
          4,
          4,
          4
         ],
         "yaxis": "y"
        },
        {
         "hovertemplate": "<b>%{hovertext}</b><br><br>model=Alpina B7 LWB xDrive<br>year=%{x}<br>fuel_economy_score=%{y}<extra></extra>",
         "hovertext": [
          "Alpina B7 LWB xDrive",
          "Alpina B7 LWB xDrive",
          "Alpina B7 LWB xDrive"
         ],
         "legendgroup": "Alpina B7 LWB xDrive",
         "line": {
          "color": "#B6E880",
          "dash": "solid"
         },
         "marker": {
          "symbol": "circle"
         },
         "mode": "lines",
         "name": "Alpina B7 LWB xDrive",
         "orientation": "v",
         "showlegend": true,
         "type": "scatter",
         "x": [
          2013,
          2014,
          2015
         ],
         "xaxis": "x",
         "y": [
          4,
          4,
          4
         ],
         "yaxis": "y"
        },
        {
         "hovertemplate": "<b>%{hovertext}</b><br><br>model=Alpina B7 SWB<br>year=%{x}<br>fuel_economy_score=%{y}<extra></extra>",
         "hovertext": [
          "Alpina B7 SWB",
          "Alpina B7 SWB",
          "Alpina B7 SWB"
         ],
         "legendgroup": "Alpina B7 SWB",
         "line": {
          "color": "#FF97FF",
          "dash": "solid"
         },
         "marker": {
          "symbol": "circle"
         },
         "mode": "lines",
         "name": "Alpina B7 SWB",
         "orientation": "v",
         "showlegend": true,
         "type": "scatter",
         "x": [
          2013,
          2014,
          2015
         ],
         "xaxis": "x",
         "y": [
          4,
          4,
          4
         ],
         "yaxis": "y"
        },
        {
         "hovertemplate": "<b>%{hovertext}</b><br><br>model=Alpina B7 SWB xDrive<br>year=%{x}<br>fuel_economy_score=%{y}<extra></extra>",
         "hovertext": [
          "Alpina B7 SWB xDrive",
          "Alpina B7 SWB xDrive",
          "Alpina B7 SWB xDrive"
         ],
         "legendgroup": "Alpina B7 SWB xDrive",
         "line": {
          "color": "#FECB52",
          "dash": "solid"
         },
         "marker": {
          "symbol": "circle"
         },
         "mode": "lines",
         "name": "Alpina B7 SWB xDrive",
         "orientation": "v",
         "showlegend": true,
         "type": "scatter",
         "x": [
          2013,
          2014,
          2015
         ],
         "xaxis": "x",
         "y": [
          4,
          4,
          4
         ],
         "yaxis": "y"
        },
        {
         "hovertemplate": "<b>%{hovertext}</b><br><br>model=Alpina B7 xDrive<br>year=%{x}<br>fuel_economy_score=%{y}<extra></extra>",
         "hovertext": [
          "Alpina B7 xDrive"
         ],
         "legendgroup": "Alpina B7 xDrive",
         "line": {
          "color": "#636efa",
          "dash": "solid"
         },
         "marker": {
          "symbol": "circle"
         },
         "mode": "lines",
         "name": "Alpina B7 xDrive",
         "orientation": "v",
         "showlegend": true,
         "type": "scatter",
         "x": [
          2017
         ],
         "xaxis": "x",
         "y": [
          3
         ],
         "yaxis": "y"
        },
        {
         "hovertemplate": "<b>%{hovertext}</b><br><br>model=M2<br>year=%{x}<br>fuel_economy_score=%{y}<extra></extra>",
         "hovertext": [
          "M2",
          "M2",
          "M2",
          "M2"
         ],
         "legendgroup": "M2",
         "line": {
          "color": "#EF553B",
          "dash": "solid"
         },
         "marker": {
          "symbol": "circle"
         },
         "mode": "lines",
         "name": "M2",
         "orientation": "v",
         "showlegend": true,
         "type": "scatter",
         "x": [
          2016,
          2016,
          2017,
          2017
         ],
         "xaxis": "x",
         "y": [
          5,
          5,
          5,
          4
         ],
         "yaxis": "y"
        },
        {
         "hovertemplate": "<b>%{hovertext}</b><br><br>model=M235i<br>year=%{x}<br>fuel_economy_score=%{y}<extra></extra>",
         "hovertext": [
          "M235i",
          "M235i",
          "M235i",
          "M235i",
          "M235i",
          "M235i"
         ],
         "legendgroup": "M235i",
         "line": {
          "color": "#00cc96",
          "dash": "solid"
         },
         "marker": {
          "symbol": "circle"
         },
         "mode": "lines",
         "name": "M235i",
         "orientation": "v",
         "showlegend": true,
         "type": "scatter",
         "x": [
          2014,
          2014,
          2015,
          2015,
          2016,
          2016
         ],
         "xaxis": "x",
         "y": [
          6,
          6,
          6,
          5,
          5,
          5
         ],
         "yaxis": "y"
        },
        {
         "hovertemplate": "<b>%{hovertext}</b><br><br>model=M235i Convertible<br>year=%{x}<br>fuel_economy_score=%{y}<extra></extra>",
         "hovertext": [
          "M235i Convertible",
          "M235i Convertible",
          "M235i Convertible",
          "M235i Convertible"
         ],
         "legendgroup": "M235i Convertible",
         "line": {
          "color": "#ab63fa",
          "dash": "solid"
         },
         "marker": {
          "symbol": "circle"
         },
         "mode": "lines",
         "name": "M235i Convertible",
         "orientation": "v",
         "showlegend": true,
         "type": "scatter",
         "x": [
          2015,
          2015,
          2016,
          2016
         ],
         "xaxis": "x",
         "y": [
          6,
          5,
          5,
          5
         ],
         "yaxis": "y"
        },
        {
         "hovertemplate": "<b>%{hovertext}</b><br><br>model=M235i xDrive<br>year=%{x}<br>fuel_economy_score=%{y}<extra></extra>",
         "hovertext": [
          "M235i xDrive",
          "M235i xDrive"
         ],
         "legendgroup": "M235i xDrive",
         "line": {
          "color": "#FFA15A",
          "dash": "solid"
         },
         "marker": {
          "symbol": "circle"
         },
         "mode": "lines",
         "name": "M235i xDrive",
         "orientation": "v",
         "showlegend": true,
         "type": "scatter",
         "x": [
          2015,
          2016
         ],
         "xaxis": "x",
         "y": [
          6,
          5
         ],
         "yaxis": "y"
        },
        {
         "hovertemplate": "<b>%{hovertext}</b><br><br>model=M235i xDrive Convertible<br>year=%{x}<br>fuel_economy_score=%{y}<extra></extra>",
         "hovertext": [
          "M235i xDrive Convertible"
         ],
         "legendgroup": "M235i xDrive Convertible",
         "line": {
          "color": "#19d3f3",
          "dash": "solid"
         },
         "marker": {
          "symbol": "circle"
         },
         "mode": "lines",
         "name": "M235i xDrive Convertible",
         "orientation": "v",
         "showlegend": true,
         "type": "scatter",
         "x": [
          2016
         ],
         "xaxis": "x",
         "y": [
          5
         ],
         "yaxis": "y"
        },
        {
         "hovertemplate": "<b>%{hovertext}</b><br><br>model=M240i Convertible<br>year=%{x}<br>fuel_economy_score=%{y}<extra></extra>",
         "hovertext": [
          "M240i Convertible",
          "M240i Convertible"
         ],
         "legendgroup": "M240i Convertible",
         "line": {
          "color": "#FF6692",
          "dash": "solid"
         },
         "marker": {
          "symbol": "circle"
         },
         "mode": "lines",
         "name": "M240i Convertible",
         "orientation": "v",
         "showlegend": true,
         "type": "scatter",
         "x": [
          2017,
          2017
         ],
         "xaxis": "x",
         "y": [
          5,
          5
         ],
         "yaxis": "y"
        },
        {
         "hovertemplate": "<b>%{hovertext}</b><br><br>model=M240i Coupe<br>year=%{x}<br>fuel_economy_score=%{y}<extra></extra>",
         "hovertext": [
          "M240i Coupe",
          "M240i Coupe"
         ],
         "legendgroup": "M240i Coupe",
         "line": {
          "color": "#B6E880",
          "dash": "solid"
         },
         "marker": {
          "symbol": "circle"
         },
         "mode": "lines",
         "name": "M240i Coupe",
         "orientation": "v",
         "showlegend": true,
         "type": "scatter",
         "x": [
          2017,
          2017
         ],
         "xaxis": "x",
         "y": [
          5,
          5
         ],
         "yaxis": "y"
        },
        {
         "hovertemplate": "<b>%{hovertext}</b><br><br>model=M240i xDrive Convertible<br>year=%{x}<br>fuel_economy_score=%{y}<extra></extra>",
         "hovertext": [
          "M240i xDrive Convertible"
         ],
         "legendgroup": "M240i xDrive Convertible",
         "line": {
          "color": "#FF97FF",
          "dash": "solid"
         },
         "marker": {
          "symbol": "circle"
         },
         "mode": "lines",
         "name": "M240i xDrive Convertible",
         "orientation": "v",
         "showlegend": true,
         "type": "scatter",
         "x": [
          2017
         ],
         "xaxis": "x",
         "y": [
          5
         ],
         "yaxis": "y"
        },
        {
         "hovertemplate": "<b>%{hovertext}</b><br><br>model=M240i xDrive Coupe<br>year=%{x}<br>fuel_economy_score=%{y}<extra></extra>",
         "hovertext": [
          "M240i xDrive Coupe"
         ],
         "legendgroup": "M240i xDrive Coupe",
         "line": {
          "color": "#FECB52",
          "dash": "solid"
         },
         "marker": {
          "symbol": "circle"
         },
         "mode": "lines",
         "name": "M240i xDrive Coupe",
         "orientation": "v",
         "showlegend": true,
         "type": "scatter",
         "x": [
          2017
         ],
         "xaxis": "x",
         "y": [
          5
         ],
         "yaxis": "y"
        },
        {
         "hovertemplate": "<b>%{hovertext}</b><br><br>model=M3<br>year=%{x}<br>fuel_economy_score=%{y}<extra></extra>",
         "hovertext": [
          "M3",
          "M3",
          "M3",
          "M3",
          "M3",
          "M3"
         ],
         "legendgroup": "M3",
         "line": {
          "color": "#636efa",
          "dash": "solid"
         },
         "marker": {
          "symbol": "circle"
         },
         "mode": "lines",
         "name": "M3",
         "orientation": "v",
         "showlegend": true,
         "type": "scatter",
         "x": [
          2015,
          2015,
          2016,
          2016,
          2017,
          2017
         ],
         "xaxis": "x",
         "y": [
          4,
          5,
          4,
          4,
          4,
          4
         ],
         "yaxis": "y"
        },
        {
         "hovertemplate": "<b>%{hovertext}</b><br><br>model=M3 Convertible<br>year=%{x}<br>fuel_economy_score=%{y}<extra></extra>",
         "hovertext": [
          "M3 Convertible",
          "M3 Convertible"
         ],
         "legendgroup": "M3 Convertible",
         "line": {
          "color": "#EF553B",
          "dash": "solid"
         },
         "marker": {
          "symbol": "circle"
         },
         "mode": "lines",
         "name": "M3 Convertible",
         "orientation": "v",
         "showlegend": true,
         "type": "scatter",
         "x": [
          2013,
          2013
         ],
         "xaxis": "x",
         "y": [
          3,
          3
         ],
         "yaxis": "y"
        },
        {
         "hovertemplate": "<b>%{hovertext}</b><br><br>model=M3 Coupe<br>year=%{x}<br>fuel_economy_score=%{y}<extra></extra>",
         "hovertext": [
          "M3 Coupe",
          "M3 Coupe"
         ],
         "legendgroup": "M3 Coupe",
         "line": {
          "color": "#00cc96",
          "dash": "solid"
         },
         "marker": {
          "symbol": "circle"
         },
         "mode": "lines",
         "name": "M3 Coupe",
         "orientation": "v",
         "showlegend": true,
         "type": "scatter",
         "x": [
          2013,
          2013
         ],
         "xaxis": "x",
         "y": [
          3,
          3
         ],
         "yaxis": "y"
        },
        {
         "hovertemplate": "<b>%{hovertext}</b><br><br>model=M4 Convertible<br>year=%{x}<br>fuel_economy_score=%{y}<extra></extra>",
         "hovertext": [
          "M4 Convertible",
          "M4 Convertible",
          "M4 Convertible",
          "M4 Convertible",
          "M4 Convertible",
          "M4 Convertible"
         ],
         "legendgroup": "M4 Convertible",
         "line": {
          "color": "#ab63fa",
          "dash": "solid"
         },
         "marker": {
          "symbol": "circle"
         },
         "mode": "lines",
         "name": "M4 Convertible",
         "orientation": "v",
         "showlegend": true,
         "type": "scatter",
         "x": [
          2015,
          2015,
          2016,
          2016,
          2017,
          2017
         ],
         "xaxis": "x",
         "y": [
          4,
          5,
          4,
          4,
          4,
          4
         ],
         "yaxis": "y"
        },
        {
         "hovertemplate": "<b>%{hovertext}</b><br><br>model=M4 Coupe<br>year=%{x}<br>fuel_economy_score=%{y}<extra></extra>",
         "hovertext": [
          "M4 Coupe",
          "M4 Coupe",
          "M4 Coupe",
          "M4 Coupe",
          "M4 Coupe",
          "M4 Coupe"
         ],
         "legendgroup": "M4 Coupe",
         "line": {
          "color": "#FFA15A",
          "dash": "solid"
         },
         "marker": {
          "symbol": "circle"
         },
         "mode": "lines",
         "name": "M4 Coupe",
         "orientation": "v",
         "showlegend": true,
         "type": "scatter",
         "x": [
          2015,
          2015,
          2016,
          2016,
          2017,
          2017
         ],
         "xaxis": "x",
         "y": [
          4,
          5,
          4,
          4,
          4,
          4
         ],
         "yaxis": "y"
        },
        {
         "hovertemplate": "<b>%{hovertext}</b><br><br>model=M4 GTS<br>year=%{x}<br>fuel_economy_score=%{y}<extra></extra>",
         "hovertext": [
          "M4 GTS"
         ],
         "legendgroup": "M4 GTS",
         "line": {
          "color": "#19d3f3",
          "dash": "solid"
         },
         "marker": {
          "symbol": "circle"
         },
         "mode": "lines",
         "name": "M4 GTS",
         "orientation": "v",
         "showlegend": true,
         "type": "scatter",
         "x": [
          2016
         ],
         "xaxis": "x",
         "y": [
          4
         ],
         "yaxis": "y"
        },
        {
         "hovertemplate": "<b>%{hovertext}</b><br><br>model=M5<br>year=%{x}<br>fuel_economy_score=%{y}<extra></extra>",
         "hovertext": [
          "M5",
          "M5",
          "M5",
          "M5",
          "M5",
          "M5",
          "M5",
          "M5"
         ],
         "legendgroup": "M5",
         "line": {
          "color": "#FF6692",
          "dash": "solid"
         },
         "marker": {
          "symbol": "circle"
         },
         "mode": "lines",
         "name": "M5",
         "orientation": "v",
         "showlegend": true,
         "type": "scatter",
         "x": [
          2013,
          2013,
          2014,
          2014,
          2015,
          2015,
          2016,
          2016
         ],
         "xaxis": "x",
         "y": [
          3,
          4,
          3,
          3,
          3,
          4,
          3,
          3
         ],
         "yaxis": "y"
        },
        {
         "hovertemplate": "<b>%{hovertext}</b><br><br>model=M6 Convertible<br>year=%{x}<br>fuel_economy_score=%{y}<extra></extra>",
         "hovertext": [
          "M6 Convertible",
          "M6 Convertible",
          "M6 Convertible",
          "M6 Convertible",
          "M6 Convertible",
          "M6 Convertible",
          "M6 Convertible",
          "M6 Convertible",
          "M6 Convertible",
          "M6 Convertible"
         ],
         "legendgroup": "M6 Convertible",
         "line": {
          "color": "#B6E880",
          "dash": "solid"
         },
         "marker": {
          "symbol": "circle"
         },
         "mode": "lines",
         "name": "M6 Convertible",
         "orientation": "v",
         "showlegend": true,
         "type": "scatter",
         "x": [
          2013,
          2013,
          2014,
          2014,
          2015,
          2015,
          2016,
          2016,
          2017,
          2017
         ],
         "xaxis": "x",
         "y": [
          3,
          4,
          3,
          3,
          3,
          4,
          3,
          3,
          2,
          3
         ],
         "yaxis": "y"
        },
        {
         "hovertemplate": "<b>%{hovertext}</b><br><br>model=M6 Coupe<br>year=%{x}<br>fuel_economy_score=%{y}<extra></extra>",
         "hovertext": [
          "M6 Coupe",
          "M6 Coupe",
          "M6 Coupe",
          "M6 Coupe",
          "M6 Coupe",
          "M6 Coupe",
          "M6 Coupe",
          "M6 Coupe",
          "M6 Coupe",
          "M6 Coupe"
         ],
         "legendgroup": "M6 Coupe",
         "line": {
          "color": "#FF97FF",
          "dash": "solid"
         },
         "marker": {
          "symbol": "circle"
         },
         "mode": "lines",
         "name": "M6 Coupe",
         "orientation": "v",
         "showlegend": true,
         "type": "scatter",
         "x": [
          2013,
          2013,
          2014,
          2014,
          2015,
          2015,
          2016,
          2016,
          2017,
          2017
         ],
         "xaxis": "x",
         "y": [
          3,
          4,
          3,
          3,
          3,
          4,
          3,
          3,
          2,
          3
         ],
         "yaxis": "y"
        },
        {
         "hovertemplate": "<b>%{hovertext}</b><br><br>model=M6 Gran Coupe<br>year=%{x}<br>fuel_economy_score=%{y}<extra></extra>",
         "hovertext": [
          "M6 Gran Coupe",
          "M6 Gran Coupe",
          "M6 Gran Coupe",
          "M6 Gran Coupe",
          "M6 Gran Coupe",
          "M6 Gran Coupe",
          "M6 Gran Coupe",
          "M6 Gran Coupe",
          "M6 Gran Coupe",
          "M6 Gran Coupe"
         ],
         "legendgroup": "M6 Gran Coupe",
         "line": {
          "color": "#FECB52",
          "dash": "solid"
         },
         "marker": {
          "symbol": "circle"
         },
         "mode": "lines",
         "name": "M6 Gran Coupe",
         "orientation": "v",
         "showlegend": true,
         "type": "scatter",
         "x": [
          2013,
          2013,
          2014,
          2014,
          2015,
          2015,
          2016,
          2016,
          2017,
          2017
         ],
         "xaxis": "x",
         "y": [
          3,
          4,
          3,
          3,
          3,
          4,
          3,
          3,
          2,
          3
         ],
         "yaxis": "y"
        },
        {
         "hovertemplate": "<b>%{hovertext}</b><br><br>model=M760i xDrive<br>year=%{x}<br>fuel_economy_score=%{y}<extra></extra>",
         "hovertext": [
          "M760i xDrive"
         ],
         "legendgroup": "M760i xDrive",
         "line": {
          "color": "#636efa",
          "dash": "solid"
         },
         "marker": {
          "symbol": "circle"
         },
         "mode": "lines",
         "name": "M760i xDrive",
         "orientation": "v",
         "showlegend": true,
         "type": "scatter",
         "x": [
          2017
         ],
         "xaxis": "x",
         "y": [
          2
         ],
         "yaxis": "y"
        },
        {
         "hovertemplate": "<b>%{hovertext}</b><br><br>model=X1 sDrive28i<br>year=%{x}<br>fuel_economy_score=%{y}<extra></extra>",
         "hovertext": [
          "X1 sDrive28i",
          "X1 sDrive28i",
          "X1 sDrive28i",
          "X1 sDrive28i"
         ],
         "legendgroup": "X1 sDrive28i",
         "line": {
          "color": "#EF553B",
          "dash": "solid"
         },
         "marker": {
          "symbol": "circle"
         },
         "mode": "lines",
         "name": "X1 sDrive28i",
         "orientation": "v",
         "showlegend": true,
         "type": "scatter",
         "x": [
          2013,
          2014,
          2015,
          2017
         ],
         "xaxis": "x",
         "y": [
          7,
          7,
          7,
          6
         ],
         "yaxis": "y"
        },
        {
         "hovertemplate": "<b>%{hovertext}</b><br><br>model=X1 xDrive28i<br>year=%{x}<br>fuel_economy_score=%{y}<extra></extra>",
         "hovertext": [
          "X1 xDrive28i",
          "X1 xDrive28i",
          "X1 xDrive28i",
          "X1 xDrive28i",
          "X1 xDrive28i"
         ],
         "legendgroup": "X1 xDrive28i",
         "line": {
          "color": "#00cc96",
          "dash": "solid"
         },
         "marker": {
          "symbol": "circle"
         },
         "mode": "lines",
         "name": "X1 xDrive28i",
         "orientation": "v",
         "showlegend": true,
         "type": "scatter",
         "x": [
          2013,
          2014,
          2015,
          2016,
          2017
         ],
         "xaxis": "x",
         "y": [
          7,
          7,
          6,
          6,
          5
         ],
         "yaxis": "y"
        },
        {
         "hovertemplate": "<b>%{hovertext}</b><br><br>model=X1 xDrive35i<br>year=%{x}<br>fuel_economy_score=%{y}<extra></extra>",
         "hovertext": [
          "X1 xDrive35i",
          "X1 xDrive35i",
          "X1 xDrive35i"
         ],
         "legendgroup": "X1 xDrive35i",
         "line": {
          "color": "#ab63fa",
          "dash": "solid"
         },
         "marker": {
          "symbol": "circle"
         },
         "mode": "lines",
         "name": "X1 xDrive35i",
         "orientation": "v",
         "showlegend": true,
         "type": "scatter",
         "x": [
          2013,
          2014,
          2015
         ],
         "xaxis": "x",
         "y": [
          5,
          5,
          5
         ],
         "yaxis": "y"
        },
        {
         "hovertemplate": "<b>%{hovertext}</b><br><br>model=X3 sDrive 28i<br>year=%{x}<br>fuel_economy_score=%{y}<extra></extra>",
         "hovertext": [
          "X3 sDrive 28i"
         ],
         "legendgroup": "X3 sDrive 28i",
         "line": {
          "color": "#FFA15A",
          "dash": "solid"
         },
         "marker": {
          "symbol": "circle"
         },
         "mode": "lines",
         "name": "X3 sDrive 28i",
         "orientation": "v",
         "showlegend": true,
         "type": "scatter",
         "x": [
          2016
         ],
         "xaxis": "x",
         "y": [
          5
         ],
         "yaxis": "y"
        },
        {
         "hovertemplate": "<b>%{hovertext}</b><br><br>model=X3 sDrive28i<br>year=%{x}<br>fuel_economy_score=%{y}<extra></extra>",
         "hovertext": [
          "X3 sDrive28i",
          "X3 sDrive28i"
         ],
         "legendgroup": "X3 sDrive28i",
         "line": {
          "color": "#19d3f3",
          "dash": "solid"
         },
         "marker": {
          "symbol": "circle"
         },
         "mode": "lines",
         "name": "X3 sDrive28i",
         "orientation": "v",
         "showlegend": true,
         "type": "scatter",
         "x": [
          2015,
          2017
         ],
         "xaxis": "x",
         "y": [
          6,
          5
         ],
         "yaxis": "y"
        },
        {
         "hovertemplate": "<b>%{hovertext}</b><br><br>model=X3 xDrive28d<br>year=%{x}<br>fuel_economy_score=%{y}<extra></extra>",
         "hovertext": [
          "X3 xDrive28d",
          "X3 xDrive28d"
         ],
         "legendgroup": "X3 xDrive28d",
         "line": {
          "color": "#FF6692",
          "dash": "solid"
         },
         "marker": {
          "symbol": "circle"
         },
         "mode": "lines",
         "name": "X3 xDrive28d",
         "orientation": "v",
         "showlegend": true,
         "type": "scatter",
         "x": [
          2015,
          2016
         ],
         "xaxis": "x",
         "y": [
          7,
          7
         ],
         "yaxis": "y"
        },
        {
         "hovertemplate": "<b>%{hovertext}</b><br><br>model=X3 xDrive28i<br>year=%{x}<br>fuel_economy_score=%{y}<extra></extra>",
         "hovertext": [
          "X3 xDrive28i",
          "X3 xDrive28i",
          "X3 xDrive28i",
          "X3 xDrive28i",
          "X3 xDrive28i"
         ],
         "legendgroup": "X3 xDrive28i",
         "line": {
          "color": "#B6E880",
          "dash": "solid"
         },
         "marker": {
          "symbol": "circle"
         },
         "mode": "lines",
         "name": "X3 xDrive28i",
         "orientation": "v",
         "showlegend": true,
         "type": "scatter",
         "x": [
          2013,
          2014,
          2015,
          2016,
          2017
         ],
         "xaxis": "x",
         "y": [
          6,
          6,
          6,
          5,
          5
         ],
         "yaxis": "y"
        },
        {
         "hovertemplate": "<b>%{hovertext}</b><br><br>model=X3 xDrive35i<br>year=%{x}<br>fuel_economy_score=%{y}<extra></extra>",
         "hovertext": [
          "X3 xDrive35i",
          "X3 xDrive35i",
          "X3 xDrive35i",
          "X3 xDrive35i",
          "X3 xDrive35i"
         ],
         "legendgroup": "X3 xDrive35i",
         "line": {
          "color": "#FF97FF",
          "dash": "solid"
         },
         "marker": {
          "symbol": "circle"
         },
         "mode": "lines",
         "name": "X3 xDrive35i",
         "orientation": "v",
         "showlegend": true,
         "type": "scatter",
         "x": [
          2013,
          2014,
          2015,
          2016,
          2017
         ],
         "xaxis": "x",
         "y": [
          5,
          5,
          5,
          5,
          4
         ],
         "yaxis": "y"
        },
        {
         "hovertemplate": "<b>%{hovertext}</b><br><br>model=X4 M40i<br>year=%{x}<br>fuel_economy_score=%{y}<extra></extra>",
         "hovertext": [
          "X4 M40i",
          "X4 M40i"
         ],
         "legendgroup": "X4 M40i",
         "line": {
          "color": "#FECB52",
          "dash": "solid"
         },
         "marker": {
          "symbol": "circle"
         },
         "mode": "lines",
         "name": "X4 M40i",
         "orientation": "v",
         "showlegend": true,
         "type": "scatter",
         "x": [
          2016,
          2017
         ],
         "xaxis": "x",
         "y": [
          5,
          4
         ],
         "yaxis": "y"
        },
        {
         "hovertemplate": "<b>%{hovertext}</b><br><br>model=X4 xDrive28i<br>year=%{x}<br>fuel_economy_score=%{y}<extra></extra>",
         "hovertext": [
          "X4 xDrive28i",
          "X4 xDrive28i",
          "X4 xDrive28i"
         ],
         "legendgroup": "X4 xDrive28i",
         "line": {
          "color": "#636efa",
          "dash": "solid"
         },
         "marker": {
          "symbol": "circle"
         },
         "mode": "lines",
         "name": "X4 xDrive28i",
         "orientation": "v",
         "showlegend": true,
         "type": "scatter",
         "x": [
          2015,
          2016,
          2017
         ],
         "xaxis": "x",
         "y": [
          5,
          5,
          5
         ],
         "yaxis": "y"
        },
        {
         "hovertemplate": "<b>%{hovertext}</b><br><br>model=X4 xDrive35i<br>year=%{x}<br>fuel_economy_score=%{y}<extra></extra>",
         "hovertext": [
          "X4 xDrive35i",
          "X4 xDrive35i"
         ],
         "legendgroup": "X4 xDrive35i",
         "line": {
          "color": "#EF553B",
          "dash": "solid"
         },
         "marker": {
          "symbol": "circle"
         },
         "mode": "lines",
         "name": "X4 xDrive35i",
         "orientation": "v",
         "showlegend": true,
         "type": "scatter",
         "x": [
          2015,
          2016
         ],
         "xaxis": "x",
         "y": [
          5,
          5
         ],
         "yaxis": "y"
        },
        {
         "hovertemplate": "<b>%{hovertext}</b><br><br>model=X5 M<br>year=%{x}<br>fuel_economy_score=%{y}<extra></extra>",
         "hovertext": [
          "X5 M",
          "X5 M",
          "X5 M",
          "X5 M"
         ],
         "legendgroup": "X5 M",
         "line": {
          "color": "#00cc96",
          "dash": "solid"
         },
         "marker": {
          "symbol": "circle"
         },
         "mode": "lines",
         "name": "X5 M",
         "orientation": "v",
         "showlegend": true,
         "type": "scatter",
         "x": [
          2013,
          2015,
          2016,
          2017
         ],
         "xaxis": "x",
         "y": [
          2,
          3,
          3,
          2
         ],
         "yaxis": "y"
        },
        {
         "hovertemplate": "<b>%{hovertext}</b><br><br>model=X5 sDrive35i<br>year=%{x}<br>fuel_economy_score=%{y}<extra></extra>",
         "hovertext": [
          "X5 sDrive35i",
          "X5 sDrive35i",
          "X5 sDrive35i",
          "X5 sDrive35i"
         ],
         "legendgroup": "X5 sDrive35i",
         "line": {
          "color": "#ab63fa",
          "dash": "solid"
         },
         "marker": {
          "symbol": "circle"
         },
         "mode": "lines",
         "name": "X5 sDrive35i",
         "orientation": "v",
         "showlegend": true,
         "type": "scatter",
         "x": [
          2014,
          2015,
          2016,
          2017
         ],
         "xaxis": "x",
         "y": [
          5,
          5,
          5,
          4
         ],
         "yaxis": "y"
        },
        {
         "hovertemplate": "<b>%{hovertext}</b><br><br>model=X5 xDrive 35d<br>year=%{x}<br>fuel_economy_score=%{y}<extra></extra>",
         "hovertext": [
          "X5 xDrive 35d"
         ],
         "legendgroup": "X5 xDrive 35d",
         "line": {
          "color": "#FFA15A",
          "dash": "solid"
         },
         "marker": {
          "symbol": "circle"
         },
         "mode": "lines",
         "name": "X5 xDrive 35d",
         "orientation": "v",
         "showlegend": true,
         "type": "scatter",
         "x": [
          2017
         ],
         "xaxis": "x",
         "y": [
          5
         ],
         "yaxis": "y"
        },
        {
         "hovertemplate": "<b>%{hovertext}</b><br><br>model=X5 xDrive35d<br>year=%{x}<br>fuel_economy_score=%{y}<extra></extra>",
         "hovertext": [
          "X5 xDrive35d",
          "X5 xDrive35d",
          "X5 xDrive35d",
          "X5 xDrive35d"
         ],
         "legendgroup": "X5 xDrive35d",
         "line": {
          "color": "#19d3f3",
          "dash": "solid"
         },
         "marker": {
          "symbol": "circle"
         },
         "mode": "lines",
         "name": "X5 xDrive35d",
         "orientation": "v",
         "showlegend": true,
         "type": "scatter",
         "x": [
          2013,
          2014,
          2015,
          2016
         ],
         "xaxis": "x",
         "y": [
          5,
          7,
          7,
          6
         ],
         "yaxis": "y"
        },
        {
         "hovertemplate": "<b>%{hovertext}</b><br><br>model=X5 xDrive35i<br>year=%{x}<br>fuel_economy_score=%{y}<extra></extra>",
         "hovertext": [
          "X5 xDrive35i",
          "X5 xDrive35i",
          "X5 xDrive35i",
          "X5 xDrive35i",
          "X5 xDrive35i"
         ],
         "legendgroup": "X5 xDrive35i",
         "line": {
          "color": "#FF6692",
          "dash": "solid"
         },
         "marker": {
          "symbol": "circle"
         },
         "mode": "lines",
         "name": "X5 xDrive35i",
         "orientation": "v",
         "showlegend": true,
         "type": "scatter",
         "x": [
          2013,
          2014,
          2015,
          2016,
          2017
         ],
         "xaxis": "x",
         "y": [
          4,
          5,
          5,
          4,
          4
         ],
         "yaxis": "y"
        },
        {
         "hovertemplate": "<b>%{hovertext}</b><br><br>model=X5 xDrive40e<br>year=%{x}<br>fuel_economy_score=%{y}<extra></extra>",
         "hovertext": [
          "X5 xDrive40e",
          "X5 xDrive40e"
         ],
         "legendgroup": "X5 xDrive40e",
         "line": {
          "color": "#B6E880",
          "dash": "solid"
         },
         "marker": {
          "symbol": "circle"
         },
         "mode": "lines",
         "name": "X5 xDrive40e",
         "orientation": "v",
         "showlegend": true,
         "type": "scatter",
         "x": [
          2016,
          2017
         ],
         "xaxis": "x",
         "y": [
          7,
          7
         ],
         "yaxis": "y"
        },
        {
         "hovertemplate": "<b>%{hovertext}</b><br><br>model=X5 xDrive50i<br>year=%{x}<br>fuel_economy_score=%{y}<extra></extra>",
         "hovertext": [
          "X5 xDrive50i",
          "X5 xDrive50i",
          "X5 xDrive50i",
          "X5 xDrive50i",
          "X5 xDrive50i"
         ],
         "legendgroup": "X5 xDrive50i",
         "line": {
          "color": "#FF97FF",
          "dash": "solid"
         },
         "marker": {
          "symbol": "circle"
         },
         "mode": "lines",
         "name": "X5 xDrive50i",
         "orientation": "v",
         "showlegend": true,
         "type": "scatter",
         "x": [
          2013,
          2014,
          2015,
          2016,
          2017
         ],
         "xaxis": "x",
         "y": [
          3,
          3,
          4,
          3,
          3
         ],
         "yaxis": "y"
        },
        {
         "hovertemplate": "<b>%{hovertext}</b><br><br>model=X6 M<br>year=%{x}<br>fuel_economy_score=%{y}<extra></extra>",
         "hovertext": [
          "X6 M",
          "X6 M",
          "X6 M",
          "X6 M",
          "X6 M"
         ],
         "legendgroup": "X6 M",
         "line": {
          "color": "#FECB52",
          "dash": "solid"
         },
         "marker": {
          "symbol": "circle"
         },
         "mode": "lines",
         "name": "X6 M",
         "orientation": "v",
         "showlegend": true,
         "type": "scatter",
         "x": [
          2013,
          2014,
          2015,
          2016,
          2017
         ],
         "xaxis": "x",
         "y": [
          2,
          2,
          3,
          3,
          2
         ],
         "yaxis": "y"
        },
        {
         "hovertemplate": "<b>%{hovertext}</b><br><br>model=X6 sDrive35i<br>year=%{x}<br>fuel_economy_score=%{y}<extra></extra>",
         "hovertext": [
          "X6 sDrive35i",
          "X6 sDrive35i",
          "X6 sDrive35i"
         ],
         "legendgroup": "X6 sDrive35i",
         "line": {
          "color": "#636efa",
          "dash": "solid"
         },
         "marker": {
          "symbol": "circle"
         },
         "mode": "lines",
         "name": "X6 sDrive35i",
         "orientation": "v",
         "showlegend": true,
         "type": "scatter",
         "x": [
          2015,
          2016,
          2017
         ],
         "xaxis": "x",
         "y": [
          5,
          5,
          4
         ],
         "yaxis": "y"
        },
        {
         "hovertemplate": "<b>%{hovertext}</b><br><br>model=X6 xDrive35i<br>year=%{x}<br>fuel_economy_score=%{y}<extra></extra>",
         "hovertext": [
          "X6 xDrive35i",
          "X6 xDrive35i",
          "X6 xDrive35i",
          "X6 xDrive35i",
          "X6 xDrive35i"
         ],
         "legendgroup": "X6 xDrive35i",
         "line": {
          "color": "#EF553B",
          "dash": "solid"
         },
         "marker": {
          "symbol": "circle"
         },
         "mode": "lines",
         "name": "X6 xDrive35i",
         "orientation": "v",
         "showlegend": true,
         "type": "scatter",
         "x": [
          2013,
          2014,
          2015,
          2016,
          2017
         ],
         "xaxis": "x",
         "y": [
          4,
          5,
          5,
          4,
          4
         ],
         "yaxis": "y"
        },
        {
         "hovertemplate": "<b>%{hovertext}</b><br><br>model=X6 xDrive50i<br>year=%{x}<br>fuel_economy_score=%{y}<extra></extra>",
         "hovertext": [
          "X6 xDrive50i",
          "X6 xDrive50i",
          "X6 xDrive50i",
          "X6 xDrive50i",
          "X6 xDrive50i"
         ],
         "legendgroup": "X6 xDrive50i",
         "line": {
          "color": "#00cc96",
          "dash": "solid"
         },
         "marker": {
          "symbol": "circle"
         },
         "mode": "lines",
         "name": "X6 xDrive50i",
         "orientation": "v",
         "showlegend": true,
         "type": "scatter",
         "x": [
          2013,
          2014,
          2015,
          2016,
          2017
         ],
         "xaxis": "x",
         "y": [
          3,
          3,
          4,
          3,
          3
         ],
         "yaxis": "y"
        },
        {
         "hovertemplate": "<b>%{hovertext}</b><br><br>model=Z4 sDrive28i<br>year=%{x}<br>fuel_economy_score=%{y}<extra></extra>",
         "hovertext": [
          "Z4 sDrive28i",
          "Z4 sDrive28i",
          "Z4 sDrive28i",
          "Z4 sDrive28i",
          "Z4 sDrive28i",
          "Z4 sDrive28i",
          "Z4 sDrive28i",
          "Z4 sDrive28i"
         ],
         "legendgroup": "Z4 sDrive28i",
         "line": {
          "color": "#ab63fa",
          "dash": "solid"
         },
         "marker": {
          "symbol": "circle"
         },
         "mode": "lines",
         "name": "Z4 sDrive28i",
         "orientation": "v",
         "showlegend": true,
         "type": "scatter",
         "x": [
          2013,
          2013,
          2014,
          2014,
          2015,
          2015,
          2016,
          2016
         ],
         "xaxis": "x",
         "y": [
          7,
          7,
          7,
          7,
          6,
          6,
          6,
          6
         ],
         "yaxis": "y"
        },
        {
         "hovertemplate": "<b>%{hovertext}</b><br><br>model=Z4 sDrive35i<br>year=%{x}<br>fuel_economy_score=%{y}<extra></extra>",
         "hovertext": [
          "Z4 sDrive35i",
          "Z4 sDrive35i",
          "Z4 sDrive35i",
          "Z4 sDrive35i",
          "Z4 sDrive35i",
          "Z4 sDrive35i"
         ],
         "legendgroup": "Z4 sDrive35i",
         "line": {
          "color": "#FFA15A",
          "dash": "solid"
         },
         "marker": {
          "symbol": "circle"
         },
         "mode": "lines",
         "name": "Z4 sDrive35i",
         "orientation": "v",
         "showlegend": true,
         "type": "scatter",
         "x": [
          2013,
          2013,
          2014,
          2014,
          2015,
          2016
         ],
         "xaxis": "x",
         "y": [
          4,
          5,
          5,
          5,
          5,
          4
         ],
         "yaxis": "y"
        },
        {
         "hovertemplate": "<b>%{hovertext}</b><br><br>model=Z4 sDrive35is<br>year=%{x}<br>fuel_economy_score=%{y}<extra></extra>",
         "hovertext": [
          "Z4 sDrive35is",
          "Z4 sDrive35is",
          "Z4 sDrive35is",
          "Z4 sDrive35is"
         ],
         "legendgroup": "Z4 sDrive35is",
         "line": {
          "color": "#19d3f3",
          "dash": "solid"
         },
         "marker": {
          "symbol": "circle"
         },
         "mode": "lines",
         "name": "Z4 sDrive35is",
         "orientation": "v",
         "showlegend": true,
         "type": "scatter",
         "x": [
          2013,
          2014,
          2015,
          2016
         ],
         "xaxis": "x",
         "y": [
          4,
          5,
          5,
          4
         ],
         "yaxis": "y"
        },
        {
         "hovertemplate": "<b>%{hovertext}</b><br><br>model=i3 BEV<br>year=%{x}<br>fuel_economy_score=%{y}<extra></extra>",
         "hovertext": [
          "i3 BEV",
          "i3 BEV",
          "i3 BEV"
         ],
         "legendgroup": "i3 BEV",
         "line": {
          "color": "#FF6692",
          "dash": "solid"
         },
         "marker": {
          "symbol": "circle"
         },
         "mode": "lines",
         "name": "i3 BEV",
         "orientation": "v",
         "showlegend": true,
         "type": "scatter",
         "x": [
          2014,
          2015,
          2016
         ],
         "xaxis": "x",
         "y": [
          10,
          10,
          10
         ],
         "yaxis": "y"
        },
        {
         "hovertemplate": "<b>%{hovertext}</b><br><br>model=i3 BEV (60  Amp-hour battery)<br>year=%{x}<br>fuel_economy_score=%{y}<extra></extra>",
         "hovertext": [
          "i3 BEV (60  Amp-hour battery)"
         ],
         "legendgroup": "i3 BEV (60  Amp-hour battery)",
         "line": {
          "color": "#B6E880",
          "dash": "solid"
         },
         "marker": {
          "symbol": "circle"
         },
         "mode": "lines",
         "name": "i3 BEV (60  Amp-hour battery)",
         "orientation": "v",
         "showlegend": true,
         "type": "scatter",
         "x": [
          2017
         ],
         "xaxis": "x",
         "y": [
          10
         ],
         "yaxis": "y"
        },
        {
         "hovertemplate": "<b>%{hovertext}</b><br><br>model=i3 BEV (94 Amp-hour battery)<br>year=%{x}<br>fuel_economy_score=%{y}<extra></extra>",
         "hovertext": [
          "i3 BEV (94 Amp-hour battery)"
         ],
         "legendgroup": "i3 BEV (94 Amp-hour battery)",
         "line": {
          "color": "#FF97FF",
          "dash": "solid"
         },
         "marker": {
          "symbol": "circle"
         },
         "mode": "lines",
         "name": "i3 BEV (94 Amp-hour battery)",
         "orientation": "v",
         "showlegend": true,
         "type": "scatter",
         "x": [
          2017
         ],
         "xaxis": "x",
         "y": [
          10
         ],
         "yaxis": "y"
        },
        {
         "hovertemplate": "<b>%{hovertext}</b><br><br>model=i3 REX<br>year=%{x}<br>fuel_economy_score=%{y}<extra></extra>",
         "hovertext": [
          "i3 REX",
          "i3 REX",
          "i3 REX"
         ],
         "legendgroup": "i3 REX",
         "line": {
          "color": "#FECB52",
          "dash": "solid"
         },
         "marker": {
          "symbol": "circle"
         },
         "mode": "lines",
         "name": "i3 REX",
         "orientation": "v",
         "showlegend": true,
         "type": "scatter",
         "x": [
          2014,
          2015,
          2016
         ],
         "xaxis": "x",
         "y": [
          10,
          10,
          10
         ],
         "yaxis": "y"
        },
        {
         "hovertemplate": "<b>%{hovertext}</b><br><br>model=i3 REX  (94 Amp-hour battery)<br>year=%{x}<br>fuel_economy_score=%{y}<extra></extra>",
         "hovertext": [
          "i3 REX  (94 Amp-hour battery)"
         ],
         "legendgroup": "i3 REX  (94 Amp-hour battery)",
         "line": {
          "color": "#636efa",
          "dash": "solid"
         },
         "marker": {
          "symbol": "circle"
         },
         "mode": "lines",
         "name": "i3 REX  (94 Amp-hour battery)",
         "orientation": "v",
         "showlegend": true,
         "type": "scatter",
         "x": [
          2017
         ],
         "xaxis": "x",
         "y": [
          10
         ],
         "yaxis": "y"
        },
        {
         "hovertemplate": "<b>%{hovertext}</b><br><br>model=i8<br>year=%{x}<br>fuel_economy_score=%{y}<extra></extra>",
         "hovertext": [
          "i8",
          "i8",
          "i8",
          "i8"
         ],
         "legendgroup": "i8",
         "line": {
          "color": "#EF553B",
          "dash": "solid"
         },
         "marker": {
          "symbol": "circle"
         },
         "mode": "lines",
         "name": "i8",
         "orientation": "v",
         "showlegend": true,
         "type": "scatter",
         "x": [
          2014,
          2015,
          2016,
          2017
         ],
         "xaxis": "x",
         "y": [
          9,
          9,
          8,
          8
         ],
         "yaxis": "y"
        }
       ],
       "layout": {
        "legend": {
         "title": {
          "text": "model"
         },
         "tracegroupgap": 0
        },
        "margin": {
         "t": 60
        },
        "template": {
         "data": {
          "bar": [
           {
            "error_x": {
             "color": "#2a3f5f"
            },
            "error_y": {
             "color": "#2a3f5f"
            },
            "marker": {
             "line": {
              "color": "#E5ECF6",
              "width": 0.5
             },
             "pattern": {
              "fillmode": "overlay",
              "size": 10,
              "solidity": 0.2
             }
            },
            "type": "bar"
           }
          ],
          "barpolar": [
           {
            "marker": {
             "line": {
              "color": "#E5ECF6",
              "width": 0.5
             },
             "pattern": {
              "fillmode": "overlay",
              "size": 10,
              "solidity": 0.2
             }
            },
            "type": "barpolar"
           }
          ],
          "carpet": [
           {
            "aaxis": {
             "endlinecolor": "#2a3f5f",
             "gridcolor": "white",
             "linecolor": "white",
             "minorgridcolor": "white",
             "startlinecolor": "#2a3f5f"
            },
            "baxis": {
             "endlinecolor": "#2a3f5f",
             "gridcolor": "white",
             "linecolor": "white",
             "minorgridcolor": "white",
             "startlinecolor": "#2a3f5f"
            },
            "type": "carpet"
           }
          ],
          "choropleth": [
           {
            "colorbar": {
             "outlinewidth": 0,
             "ticks": ""
            },
            "type": "choropleth"
           }
          ],
          "contour": [
           {
            "colorbar": {
             "outlinewidth": 0,
             "ticks": ""
            },
            "colorscale": [
             [
              0,
              "#0d0887"
             ],
             [
              0.1111111111111111,
              "#46039f"
             ],
             [
              0.2222222222222222,
              "#7201a8"
             ],
             [
              0.3333333333333333,
              "#9c179e"
             ],
             [
              0.4444444444444444,
              "#bd3786"
             ],
             [
              0.5555555555555556,
              "#d8576b"
             ],
             [
              0.6666666666666666,
              "#ed7953"
             ],
             [
              0.7777777777777778,
              "#fb9f3a"
             ],
             [
              0.8888888888888888,
              "#fdca26"
             ],
             [
              1,
              "#f0f921"
             ]
            ],
            "type": "contour"
           }
          ],
          "contourcarpet": [
           {
            "colorbar": {
             "outlinewidth": 0,
             "ticks": ""
            },
            "type": "contourcarpet"
           }
          ],
          "heatmap": [
           {
            "colorbar": {
             "outlinewidth": 0,
             "ticks": ""
            },
            "colorscale": [
             [
              0,
              "#0d0887"
             ],
             [
              0.1111111111111111,
              "#46039f"
             ],
             [
              0.2222222222222222,
              "#7201a8"
             ],
             [
              0.3333333333333333,
              "#9c179e"
             ],
             [
              0.4444444444444444,
              "#bd3786"
             ],
             [
              0.5555555555555556,
              "#d8576b"
             ],
             [
              0.6666666666666666,
              "#ed7953"
             ],
             [
              0.7777777777777778,
              "#fb9f3a"
             ],
             [
              0.8888888888888888,
              "#fdca26"
             ],
             [
              1,
              "#f0f921"
             ]
            ],
            "type": "heatmap"
           }
          ],
          "heatmapgl": [
           {
            "colorbar": {
             "outlinewidth": 0,
             "ticks": ""
            },
            "colorscale": [
             [
              0,
              "#0d0887"
             ],
             [
              0.1111111111111111,
              "#46039f"
             ],
             [
              0.2222222222222222,
              "#7201a8"
             ],
             [
              0.3333333333333333,
              "#9c179e"
             ],
             [
              0.4444444444444444,
              "#bd3786"
             ],
             [
              0.5555555555555556,
              "#d8576b"
             ],
             [
              0.6666666666666666,
              "#ed7953"
             ],
             [
              0.7777777777777778,
              "#fb9f3a"
             ],
             [
              0.8888888888888888,
              "#fdca26"
             ],
             [
              1,
              "#f0f921"
             ]
            ],
            "type": "heatmapgl"
           }
          ],
          "histogram": [
           {
            "marker": {
             "pattern": {
              "fillmode": "overlay",
              "size": 10,
              "solidity": 0.2
             }
            },
            "type": "histogram"
           }
          ],
          "histogram2d": [
           {
            "colorbar": {
             "outlinewidth": 0,
             "ticks": ""
            },
            "colorscale": [
             [
              0,
              "#0d0887"
             ],
             [
              0.1111111111111111,
              "#46039f"
             ],
             [
              0.2222222222222222,
              "#7201a8"
             ],
             [
              0.3333333333333333,
              "#9c179e"
             ],
             [
              0.4444444444444444,
              "#bd3786"
             ],
             [
              0.5555555555555556,
              "#d8576b"
             ],
             [
              0.6666666666666666,
              "#ed7953"
             ],
             [
              0.7777777777777778,
              "#fb9f3a"
             ],
             [
              0.8888888888888888,
              "#fdca26"
             ],
             [
              1,
              "#f0f921"
             ]
            ],
            "type": "histogram2d"
           }
          ],
          "histogram2dcontour": [
           {
            "colorbar": {
             "outlinewidth": 0,
             "ticks": ""
            },
            "colorscale": [
             [
              0,
              "#0d0887"
             ],
             [
              0.1111111111111111,
              "#46039f"
             ],
             [
              0.2222222222222222,
              "#7201a8"
             ],
             [
              0.3333333333333333,
              "#9c179e"
             ],
             [
              0.4444444444444444,
              "#bd3786"
             ],
             [
              0.5555555555555556,
              "#d8576b"
             ],
             [
              0.6666666666666666,
              "#ed7953"
             ],
             [
              0.7777777777777778,
              "#fb9f3a"
             ],
             [
              0.8888888888888888,
              "#fdca26"
             ],
             [
              1,
              "#f0f921"
             ]
            ],
            "type": "histogram2dcontour"
           }
          ],
          "mesh3d": [
           {
            "colorbar": {
             "outlinewidth": 0,
             "ticks": ""
            },
            "type": "mesh3d"
           }
          ],
          "parcoords": [
           {
            "line": {
             "colorbar": {
              "outlinewidth": 0,
              "ticks": ""
             }
            },
            "type": "parcoords"
           }
          ],
          "pie": [
           {
            "automargin": true,
            "type": "pie"
           }
          ],
          "scatter": [
           {
            "fillpattern": {
             "fillmode": "overlay",
             "size": 10,
             "solidity": 0.2
            },
            "type": "scatter"
           }
          ],
          "scatter3d": [
           {
            "line": {
             "colorbar": {
              "outlinewidth": 0,
              "ticks": ""
             }
            },
            "marker": {
             "colorbar": {
              "outlinewidth": 0,
              "ticks": ""
             }
            },
            "type": "scatter3d"
           }
          ],
          "scattercarpet": [
           {
            "marker": {
             "colorbar": {
              "outlinewidth": 0,
              "ticks": ""
             }
            },
            "type": "scattercarpet"
           }
          ],
          "scattergeo": [
           {
            "marker": {
             "colorbar": {
              "outlinewidth": 0,
              "ticks": ""
             }
            },
            "type": "scattergeo"
           }
          ],
          "scattergl": [
           {
            "marker": {
             "colorbar": {
              "outlinewidth": 0,
              "ticks": ""
             }
            },
            "type": "scattergl"
           }
          ],
          "scattermapbox": [
           {
            "marker": {
             "colorbar": {
              "outlinewidth": 0,
              "ticks": ""
             }
            },
            "type": "scattermapbox"
           }
          ],
          "scatterpolar": [
           {
            "marker": {
             "colorbar": {
              "outlinewidth": 0,
              "ticks": ""
             }
            },
            "type": "scatterpolar"
           }
          ],
          "scatterpolargl": [
           {
            "marker": {
             "colorbar": {
              "outlinewidth": 0,
              "ticks": ""
             }
            },
            "type": "scatterpolargl"
           }
          ],
          "scatterternary": [
           {
            "marker": {
             "colorbar": {
              "outlinewidth": 0,
              "ticks": ""
             }
            },
            "type": "scatterternary"
           }
          ],
          "surface": [
           {
            "colorbar": {
             "outlinewidth": 0,
             "ticks": ""
            },
            "colorscale": [
             [
              0,
              "#0d0887"
             ],
             [
              0.1111111111111111,
              "#46039f"
             ],
             [
              0.2222222222222222,
              "#7201a8"
             ],
             [
              0.3333333333333333,
              "#9c179e"
             ],
             [
              0.4444444444444444,
              "#bd3786"
             ],
             [
              0.5555555555555556,
              "#d8576b"
             ],
             [
              0.6666666666666666,
              "#ed7953"
             ],
             [
              0.7777777777777778,
              "#fb9f3a"
             ],
             [
              0.8888888888888888,
              "#fdca26"
             ],
             [
              1,
              "#f0f921"
             ]
            ],
            "type": "surface"
           }
          ],
          "table": [
           {
            "cells": {
             "fill": {
              "color": "#EBF0F8"
             },
             "line": {
              "color": "white"
             }
            },
            "header": {
             "fill": {
              "color": "#C8D4E3"
             },
             "line": {
              "color": "white"
             }
            },
            "type": "table"
           }
          ]
         },
         "layout": {
          "annotationdefaults": {
           "arrowcolor": "#2a3f5f",
           "arrowhead": 0,
           "arrowwidth": 1
          },
          "autotypenumbers": "strict",
          "coloraxis": {
           "colorbar": {
            "outlinewidth": 0,
            "ticks": ""
           }
          },
          "colorscale": {
           "diverging": [
            [
             0,
             "#8e0152"
            ],
            [
             0.1,
             "#c51b7d"
            ],
            [
             0.2,
             "#de77ae"
            ],
            [
             0.3,
             "#f1b6da"
            ],
            [
             0.4,
             "#fde0ef"
            ],
            [
             0.5,
             "#f7f7f7"
            ],
            [
             0.6,
             "#e6f5d0"
            ],
            [
             0.7,
             "#b8e186"
            ],
            [
             0.8,
             "#7fbc41"
            ],
            [
             0.9,
             "#4d9221"
            ],
            [
             1,
             "#276419"
            ]
           ],
           "sequential": [
            [
             0,
             "#0d0887"
            ],
            [
             0.1111111111111111,
             "#46039f"
            ],
            [
             0.2222222222222222,
             "#7201a8"
            ],
            [
             0.3333333333333333,
             "#9c179e"
            ],
            [
             0.4444444444444444,
             "#bd3786"
            ],
            [
             0.5555555555555556,
             "#d8576b"
            ],
            [
             0.6666666666666666,
             "#ed7953"
            ],
            [
             0.7777777777777778,
             "#fb9f3a"
            ],
            [
             0.8888888888888888,
             "#fdca26"
            ],
            [
             1,
             "#f0f921"
            ]
           ],
           "sequentialminus": [
            [
             0,
             "#0d0887"
            ],
            [
             0.1111111111111111,
             "#46039f"
            ],
            [
             0.2222222222222222,
             "#7201a8"
            ],
            [
             0.3333333333333333,
             "#9c179e"
            ],
            [
             0.4444444444444444,
             "#bd3786"
            ],
            [
             0.5555555555555556,
             "#d8576b"
            ],
            [
             0.6666666666666666,
             "#ed7953"
            ],
            [
             0.7777777777777778,
             "#fb9f3a"
            ],
            [
             0.8888888888888888,
             "#fdca26"
            ],
            [
             1,
             "#f0f921"
            ]
           ]
          },
          "colorway": [
           "#636efa",
           "#EF553B",
           "#00cc96",
           "#ab63fa",
           "#FFA15A",
           "#19d3f3",
           "#FF6692",
           "#B6E880",
           "#FF97FF",
           "#FECB52"
          ],
          "font": {
           "color": "#2a3f5f"
          },
          "geo": {
           "bgcolor": "white",
           "lakecolor": "white",
           "landcolor": "#E5ECF6",
           "showlakes": true,
           "showland": true,
           "subunitcolor": "white"
          },
          "hoverlabel": {
           "align": "left"
          },
          "hovermode": "closest",
          "mapbox": {
           "style": "light"
          },
          "paper_bgcolor": "white",
          "plot_bgcolor": "#E5ECF6",
          "polar": {
           "angularaxis": {
            "gridcolor": "white",
            "linecolor": "white",
            "ticks": ""
           },
           "bgcolor": "#E5ECF6",
           "radialaxis": {
            "gridcolor": "white",
            "linecolor": "white",
            "ticks": ""
           }
          },
          "scene": {
           "xaxis": {
            "backgroundcolor": "#E5ECF6",
            "gridcolor": "white",
            "gridwidth": 2,
            "linecolor": "white",
            "showbackground": true,
            "ticks": "",
            "zerolinecolor": "white"
           },
           "yaxis": {
            "backgroundcolor": "#E5ECF6",
            "gridcolor": "white",
            "gridwidth": 2,
            "linecolor": "white",
            "showbackground": true,
            "ticks": "",
            "zerolinecolor": "white"
           },
           "zaxis": {
            "backgroundcolor": "#E5ECF6",
            "gridcolor": "white",
            "gridwidth": 2,
            "linecolor": "white",
            "showbackground": true,
            "ticks": "",
            "zerolinecolor": "white"
           }
          },
          "shapedefaults": {
           "line": {
            "color": "#2a3f5f"
           }
          },
          "ternary": {
           "aaxis": {
            "gridcolor": "white",
            "linecolor": "white",
            "ticks": ""
           },
           "baxis": {
            "gridcolor": "white",
            "linecolor": "white",
            "ticks": ""
           },
           "bgcolor": "#E5ECF6",
           "caxis": {
            "gridcolor": "white",
            "linecolor": "white",
            "ticks": ""
           }
          },
          "title": {
           "x": 0.05
          },
          "xaxis": {
           "automargin": true,
           "gridcolor": "white",
           "linecolor": "white",
           "ticks": "",
           "title": {
            "standoff": 15
           },
           "zerolinecolor": "white",
           "zerolinewidth": 2
          },
          "yaxis": {
           "automargin": true,
           "gridcolor": "white",
           "linecolor": "white",
           "ticks": "",
           "title": {
            "standoff": 15
           },
           "zerolinecolor": "white",
           "zerolinewidth": 2
          }
         }
        },
        "xaxis": {
         "anchor": "y",
         "domain": [
          0,
          1
         ],
         "title": {
          "text": "year"
         }
        },
        "yaxis": {
         "anchor": "x",
         "domain": [
          0,
          1
         ],
         "title": {
          "text": "fuel_economy_score"
         }
        }
       }
      }
     },
     "metadata": {},
     "output_type": "display_data"
    }
   ],
   "source": [
    "temp = df[df['fuel_economy_score'] != -1][['make', 'model', 'year', 'fuel_economy_score']].sort_values(by=['model', 'year'])\n",
    "#most_recent_dates_idx = temp.groupby('model')['year'].idxmax()\n",
    "\n",
    "temp = temp[temp['make'] == 'BMW']\n",
    "fig = px.line(data_frame=temp, \n",
    "              x=\"year\", y=\"fuel_economy_score\", \n",
    "                 color=\"model\", \n",
    "                 hover_name=\"model\", \n",
    "                 )\n",
    "fig"
   ]
  },
  {
   "cell_type": "code",
   "execution_count": 56,
   "metadata": {},
   "outputs": [
    {
     "data": {
      "text/html": [
       "<div>\n",
       "<style scoped>\n",
       "    .dataframe tbody tr th:only-of-type {\n",
       "        vertical-align: middle;\n",
       "    }\n",
       "\n",
       "    .dataframe tbody tr th {\n",
       "        vertical-align: top;\n",
       "    }\n",
       "\n",
       "    .dataframe thead th {\n",
       "        text-align: right;\n",
       "    }\n",
       "</style>\n",
       "<table border=\"1\" class=\"dataframe\">\n",
       "  <thead>\n",
       "    <tr style=\"text-align: right;\">\n",
       "      <th></th>\n",
       "      <th>vehicle_id</th>\n",
       "      <th>year</th>\n",
       "      <th>make</th>\n",
       "      <th>model</th>\n",
       "      <th>class</th>\n",
       "      <th>drive</th>\n",
       "      <th>transmission</th>\n",
       "      <th>transmission_type</th>\n",
       "      <th>engine_index</th>\n",
       "      <th>engine_descriptor</th>\n",
       "      <th>engine_cylinders</th>\n",
       "      <th>engine_displacement</th>\n",
       "      <th>turbocharger</th>\n",
       "      <th>supercharger</th>\n",
       "      <th>fuel_type</th>\n",
       "      <th>fuel_type_1</th>\n",
       "      <th>fuel_type_2</th>\n",
       "      <th>city_mpg_ft1</th>\n",
       "      <th>unrounded_city_mpg_ft1</th>\n",
       "      <th>city_mpg_ft2</th>\n",
       "      <th>unrounded_city_mpg_ft2</th>\n",
       "      <th>city_gasoline_consumption_cd</th>\n",
       "      <th>city_electricity_consumption</th>\n",
       "      <th>city_utility_factor</th>\n",
       "      <th>highway_mpg_ft1</th>\n",
       "      <th>unrounded_highway_mpg_ft1</th>\n",
       "      <th>highway_mpg_ft2</th>\n",
       "      <th>unrounded_highway_mpg_ft2</th>\n",
       "      <th>highway_gasoline_consumption_cd</th>\n",
       "      <th>highway_electricity_consumption</th>\n",
       "      <th>highway_utility_factor</th>\n",
       "      <th>unadjusted_city_mpg_ft1</th>\n",
       "      <th>unadjusted_highway_mpg_ft1</th>\n",
       "      <th>unadjusted_city_mpg_ft2</th>\n",
       "      <th>unadjusted_highway_mpg_ft2</th>\n",
       "      <th>combined_mpg_ft1</th>\n",
       "      <th>unrounded_combined_mpg_ft1</th>\n",
       "      <th>combined_mpg_ft2</th>\n",
       "      <th>unrounded_combined_mpg_ft2</th>\n",
       "      <th>combined_electricity_consumption</th>\n",
       "      <th>combined_gasoline_consumption_cd</th>\n",
       "      <th>combined_utility_factor</th>\n",
       "      <th>annual_fuel_cost_ft1</th>\n",
       "      <th>annual_fuel_cost_ft2</th>\n",
       "      <th>gas_guzzler_tax</th>\n",
       "      <th>save_or_spend_5_year</th>\n",
       "      <th>annual_consumption_in_barrels_ft1</th>\n",
       "      <th>annual_consumption_in_barrels_ft2</th>\n",
       "      <th>tailpipe_co2_ft1</th>\n",
       "      <th>tailpipe_co2_in_grams_mile_ft1</th>\n",
       "      <th>tailpipe_co2_ft2</th>\n",
       "      <th>tailpipe_co2_in_grams_mile_ft2</th>\n",
       "      <th>fuel_economy_score</th>\n",
       "      <th>ghg_score</th>\n",
       "      <th>ghg_score_alt_fuel</th>\n",
       "      <th>my_mpg_data</th>\n",
       "      <th>x2d_passenger_volume</th>\n",
       "      <th>x2d_luggage_volume</th>\n",
       "      <th>x4d_passenger_volume</th>\n",
       "      <th>x4d_luggage_volume</th>\n",
       "      <th>hatchback_passenger_volume</th>\n",
       "      <th>hatchback_luggage_volume</th>\n",
       "      <th>start_stop_technology</th>\n",
       "      <th>alternative_fuel_technology</th>\n",
       "      <th>electric_motor</th>\n",
       "      <th>manufacturer_code</th>\n",
       "      <th>gasoline_electricity_blended_cd</th>\n",
       "      <th>vehicle_charger</th>\n",
       "      <th>alternate_charger</th>\n",
       "      <th>hours_to_charge_120v</th>\n",
       "      <th>hours_to_charge_240v</th>\n",
       "      <th>hours_to_charge_ac_240v</th>\n",
       "      <th>composite_city_mpg</th>\n",
       "      <th>composite_highway_mpg</th>\n",
       "      <th>composite_combined_mpg</th>\n",
       "      <th>range_ft1</th>\n",
       "      <th>city_range_ft1</th>\n",
       "      <th>highway_range_ft1</th>\n",
       "      <th>range_ft2</th>\n",
       "      <th>city_range_ft2</th>\n",
       "      <th>highway_range_ft2</th>\n",
       "    </tr>\n",
       "  </thead>\n",
       "  <tbody>\n",
       "    <tr>\n",
       "      <th>34</th>\n",
       "      <td>26607</td>\n",
       "      <td>1984</td>\n",
       "      <td>Audi</td>\n",
       "      <td>4000</td>\n",
       "      <td>Subcompact Cars</td>\n",
       "      <td>NaN</td>\n",
       "      <td>Automatic 3-Speed</td>\n",
       "      <td>NaN</td>\n",
       "      <td>64011</td>\n",
       "      <td>(FFS)</td>\n",
       "      <td>4.0</td>\n",
       "      <td>1.8</td>\n",
       "      <td>NaN</td>\n",
       "      <td>NaN</td>\n",
       "      <td>Regular</td>\n",
       "      <td>Regular Gasoline</td>\n",
       "      <td>NaN</td>\n",
       "      <td>19</td>\n",
       "      <td>0.0</td>\n",
       "      <td>0</td>\n",
       "      <td>0.0</td>\n",
       "      <td>0.0</td>\n",
       "      <td>0.0</td>\n",
       "      <td>0.0</td>\n",
       "      <td>24</td>\n",
       "      <td>0.0</td>\n",
       "      <td>0</td>\n",
       "      <td>0.0</td>\n",
       "      <td>0.0</td>\n",
       "      <td>0.0</td>\n",
       "      <td>0.0</td>\n",
       "      <td>24.0</td>\n",
       "      <td>33.0</td>\n",
       "      <td>0.0</td>\n",
       "      <td>0.0</td>\n",
       "      <td>21</td>\n",
       "      <td>0.0</td>\n",
       "      <td>0</td>\n",
       "      <td>0.0</td>\n",
       "      <td>0.0</td>\n",
       "      <td>0.0</td>\n",
       "      <td>0.0</td>\n",
       "      <td>1650</td>\n",
       "      <td>0</td>\n",
       "      <td>NaN</td>\n",
       "      <td>-1500</td>\n",
       "      <td>15.695714</td>\n",
       "      <td>0.0</td>\n",
       "      <td>-1</td>\n",
       "      <td>423.190476</td>\n",
       "      <td>-1</td>\n",
       "      <td>0.0</td>\n",
       "      <td>-1</td>\n",
       "      <td>-1</td>\n",
       "      <td>-1</td>\n",
       "      <td>N</td>\n",
       "      <td>87</td>\n",
       "      <td>12</td>\n",
       "      <td>86</td>\n",
       "      <td>12</td>\n",
       "      <td>0</td>\n",
       "      <td>0</td>\n",
       "      <td>NaN</td>\n",
       "      <td>NaN</td>\n",
       "      <td>NaN</td>\n",
       "      <td>NaN</td>\n",
       "      <td>False</td>\n",
       "      <td>NaN</td>\n",
       "      <td>NaN</td>\n",
       "      <td>0</td>\n",
       "      <td>0.0</td>\n",
       "      <td>0.0</td>\n",
       "      <td>0</td>\n",
       "      <td>0</td>\n",
       "      <td>0</td>\n",
       "      <td>0</td>\n",
       "      <td>0.0</td>\n",
       "      <td>0.0</td>\n",
       "      <td>NaN</td>\n",
       "      <td>0.0</td>\n",
       "      <td>0.0</td>\n",
       "    </tr>\n",
       "    <tr>\n",
       "      <th>35</th>\n",
       "      <td>27724</td>\n",
       "      <td>1984</td>\n",
       "      <td>Audi</td>\n",
       "      <td>4000</td>\n",
       "      <td>Subcompact Cars</td>\n",
       "      <td>NaN</td>\n",
       "      <td>Automatic 3-Speed</td>\n",
       "      <td>NaN</td>\n",
       "      <td>64016</td>\n",
       "      <td>(FFS) CA model</td>\n",
       "      <td>4.0</td>\n",
       "      <td>1.8</td>\n",
       "      <td>NaN</td>\n",
       "      <td>NaN</td>\n",
       "      <td>Regular</td>\n",
       "      <td>Regular Gasoline</td>\n",
       "      <td>NaN</td>\n",
       "      <td>19</td>\n",
       "      <td>0.0</td>\n",
       "      <td>0</td>\n",
       "      <td>0.0</td>\n",
       "      <td>0.0</td>\n",
       "      <td>0.0</td>\n",
       "      <td>0.0</td>\n",
       "      <td>24</td>\n",
       "      <td>0.0</td>\n",
       "      <td>0</td>\n",
       "      <td>0.0</td>\n",
       "      <td>0.0</td>\n",
       "      <td>0.0</td>\n",
       "      <td>0.0</td>\n",
       "      <td>24.0</td>\n",
       "      <td>33.0</td>\n",
       "      <td>0.0</td>\n",
       "      <td>0.0</td>\n",
       "      <td>21</td>\n",
       "      <td>0.0</td>\n",
       "      <td>0</td>\n",
       "      <td>0.0</td>\n",
       "      <td>0.0</td>\n",
       "      <td>0.0</td>\n",
       "      <td>0.0</td>\n",
       "      <td>1650</td>\n",
       "      <td>0</td>\n",
       "      <td>NaN</td>\n",
       "      <td>-1500</td>\n",
       "      <td>15.695714</td>\n",
       "      <td>0.0</td>\n",
       "      <td>-1</td>\n",
       "      <td>423.190476</td>\n",
       "      <td>-1</td>\n",
       "      <td>0.0</td>\n",
       "      <td>-1</td>\n",
       "      <td>-1</td>\n",
       "      <td>-1</td>\n",
       "      <td>N</td>\n",
       "      <td>87</td>\n",
       "      <td>12</td>\n",
       "      <td>86</td>\n",
       "      <td>12</td>\n",
       "      <td>0</td>\n",
       "      <td>0</td>\n",
       "      <td>NaN</td>\n",
       "      <td>NaN</td>\n",
       "      <td>NaN</td>\n",
       "      <td>NaN</td>\n",
       "      <td>False</td>\n",
       "      <td>NaN</td>\n",
       "      <td>NaN</td>\n",
       "      <td>0</td>\n",
       "      <td>0.0</td>\n",
       "      <td>0.0</td>\n",
       "      <td>0</td>\n",
       "      <td>0</td>\n",
       "      <td>0</td>\n",
       "      <td>0</td>\n",
       "      <td>0.0</td>\n",
       "      <td>0.0</td>\n",
       "      <td>NaN</td>\n",
       "      <td>0.0</td>\n",
       "      <td>0.0</td>\n",
       "    </tr>\n",
       "    <tr>\n",
       "      <th>36</th>\n",
       "      <td>26608</td>\n",
       "      <td>1984</td>\n",
       "      <td>Audi</td>\n",
       "      <td>4000</td>\n",
       "      <td>Subcompact Cars</td>\n",
       "      <td>NaN</td>\n",
       "      <td>Manual 5-Speed</td>\n",
       "      <td>NaN</td>\n",
       "      <td>64011</td>\n",
       "      <td>(FFS)</td>\n",
       "      <td>4.0</td>\n",
       "      <td>1.8</td>\n",
       "      <td>NaN</td>\n",
       "      <td>NaN</td>\n",
       "      <td>Regular</td>\n",
       "      <td>Regular Gasoline</td>\n",
       "      <td>NaN</td>\n",
       "      <td>21</td>\n",
       "      <td>0.0</td>\n",
       "      <td>0</td>\n",
       "      <td>0.0</td>\n",
       "      <td>0.0</td>\n",
       "      <td>0.0</td>\n",
       "      <td>0.0</td>\n",
       "      <td>29</td>\n",
       "      <td>0.0</td>\n",
       "      <td>0</td>\n",
       "      <td>0.0</td>\n",
       "      <td>0.0</td>\n",
       "      <td>0.0</td>\n",
       "      <td>0.0</td>\n",
       "      <td>27.0</td>\n",
       "      <td>40.0</td>\n",
       "      <td>0.0</td>\n",
       "      <td>0.0</td>\n",
       "      <td>24</td>\n",
       "      <td>0.0</td>\n",
       "      <td>0</td>\n",
       "      <td>0.0</td>\n",
       "      <td>0.0</td>\n",
       "      <td>0.0</td>\n",
       "      <td>0.0</td>\n",
       "      <td>1450</td>\n",
       "      <td>0</td>\n",
       "      <td>NaN</td>\n",
       "      <td>-500</td>\n",
       "      <td>13.733750</td>\n",
       "      <td>0.0</td>\n",
       "      <td>-1</td>\n",
       "      <td>370.291667</td>\n",
       "      <td>-1</td>\n",
       "      <td>0.0</td>\n",
       "      <td>-1</td>\n",
       "      <td>-1</td>\n",
       "      <td>-1</td>\n",
       "      <td>Y</td>\n",
       "      <td>87</td>\n",
       "      <td>12</td>\n",
       "      <td>86</td>\n",
       "      <td>12</td>\n",
       "      <td>0</td>\n",
       "      <td>0</td>\n",
       "      <td>NaN</td>\n",
       "      <td>NaN</td>\n",
       "      <td>NaN</td>\n",
       "      <td>NaN</td>\n",
       "      <td>False</td>\n",
       "      <td>NaN</td>\n",
       "      <td>NaN</td>\n",
       "      <td>0</td>\n",
       "      <td>0.0</td>\n",
       "      <td>0.0</td>\n",
       "      <td>0</td>\n",
       "      <td>0</td>\n",
       "      <td>0</td>\n",
       "      <td>0</td>\n",
       "      <td>0.0</td>\n",
       "      <td>0.0</td>\n",
       "      <td>NaN</td>\n",
       "      <td>0.0</td>\n",
       "      <td>0.0</td>\n",
       "    </tr>\n",
       "    <tr>\n",
       "      <th>37</th>\n",
       "      <td>27725</td>\n",
       "      <td>1984</td>\n",
       "      <td>Audi</td>\n",
       "      <td>4000</td>\n",
       "      <td>Subcompact Cars</td>\n",
       "      <td>NaN</td>\n",
       "      <td>Manual 5-Speed</td>\n",
       "      <td>NaN</td>\n",
       "      <td>64016</td>\n",
       "      <td>(FFS) CA model</td>\n",
       "      <td>4.0</td>\n",
       "      <td>1.8</td>\n",
       "      <td>NaN</td>\n",
       "      <td>NaN</td>\n",
       "      <td>Regular</td>\n",
       "      <td>Regular Gasoline</td>\n",
       "      <td>NaN</td>\n",
       "      <td>21</td>\n",
       "      <td>0.0</td>\n",
       "      <td>0</td>\n",
       "      <td>0.0</td>\n",
       "      <td>0.0</td>\n",
       "      <td>0.0</td>\n",
       "      <td>0.0</td>\n",
       "      <td>29</td>\n",
       "      <td>0.0</td>\n",
       "      <td>0</td>\n",
       "      <td>0.0</td>\n",
       "      <td>0.0</td>\n",
       "      <td>0.0</td>\n",
       "      <td>0.0</td>\n",
       "      <td>27.0</td>\n",
       "      <td>40.0</td>\n",
       "      <td>0.0</td>\n",
       "      <td>0.0</td>\n",
       "      <td>24</td>\n",
       "      <td>0.0</td>\n",
       "      <td>0</td>\n",
       "      <td>0.0</td>\n",
       "      <td>0.0</td>\n",
       "      <td>0.0</td>\n",
       "      <td>0.0</td>\n",
       "      <td>1450</td>\n",
       "      <td>0</td>\n",
       "      <td>NaN</td>\n",
       "      <td>-500</td>\n",
       "      <td>13.733750</td>\n",
       "      <td>0.0</td>\n",
       "      <td>-1</td>\n",
       "      <td>370.291667</td>\n",
       "      <td>-1</td>\n",
       "      <td>0.0</td>\n",
       "      <td>-1</td>\n",
       "      <td>-1</td>\n",
       "      <td>-1</td>\n",
       "      <td>N</td>\n",
       "      <td>87</td>\n",
       "      <td>12</td>\n",
       "      <td>86</td>\n",
       "      <td>12</td>\n",
       "      <td>0</td>\n",
       "      <td>0</td>\n",
       "      <td>NaN</td>\n",
       "      <td>NaN</td>\n",
       "      <td>NaN</td>\n",
       "      <td>NaN</td>\n",
       "      <td>False</td>\n",
       "      <td>NaN</td>\n",
       "      <td>NaN</td>\n",
       "      <td>0</td>\n",
       "      <td>0.0</td>\n",
       "      <td>0.0</td>\n",
       "      <td>0</td>\n",
       "      <td>0</td>\n",
       "      <td>0</td>\n",
       "      <td>0</td>\n",
       "      <td>0.0</td>\n",
       "      <td>0.0</td>\n",
       "      <td>NaN</td>\n",
       "      <td>0.0</td>\n",
       "      <td>0.0</td>\n",
       "    </tr>\n",
       "    <tr>\n",
       "      <th>38</th>\n",
       "      <td>26609</td>\n",
       "      <td>1984</td>\n",
       "      <td>Audi</td>\n",
       "      <td>4000 S quattro</td>\n",
       "      <td>Subcompact Cars</td>\n",
       "      <td>NaN</td>\n",
       "      <td>Manual 5-Speed</td>\n",
       "      <td>NaN</td>\n",
       "      <td>64061</td>\n",
       "      <td>(FFS)</td>\n",
       "      <td>5.0</td>\n",
       "      <td>2.2</td>\n",
       "      <td>NaN</td>\n",
       "      <td>NaN</td>\n",
       "      <td>Regular</td>\n",
       "      <td>Regular Gasoline</td>\n",
       "      <td>NaN</td>\n",
       "      <td>16</td>\n",
       "      <td>0.0</td>\n",
       "      <td>0</td>\n",
       "      <td>0.0</td>\n",
       "      <td>0.0</td>\n",
       "      <td>0.0</td>\n",
       "      <td>0.0</td>\n",
       "      <td>20</td>\n",
       "      <td>0.0</td>\n",
       "      <td>0</td>\n",
       "      <td>0.0</td>\n",
       "      <td>0.0</td>\n",
       "      <td>0.0</td>\n",
       "      <td>0.0</td>\n",
       "      <td>20.0</td>\n",
       "      <td>28.0</td>\n",
       "      <td>0.0</td>\n",
       "      <td>0.0</td>\n",
       "      <td>18</td>\n",
       "      <td>0.0</td>\n",
       "      <td>0</td>\n",
       "      <td>0.0</td>\n",
       "      <td>0.0</td>\n",
       "      <td>0.0</td>\n",
       "      <td>0.0</td>\n",
       "      <td>1950</td>\n",
       "      <td>0</td>\n",
       "      <td>NaN</td>\n",
       "      <td>-3000</td>\n",
       "      <td>18.311667</td>\n",
       "      <td>0.0</td>\n",
       "      <td>-1</td>\n",
       "      <td>493.722222</td>\n",
       "      <td>-1</td>\n",
       "      <td>0.0</td>\n",
       "      <td>-1</td>\n",
       "      <td>-1</td>\n",
       "      <td>-1</td>\n",
       "      <td>N</td>\n",
       "      <td>0</td>\n",
       "      <td>0</td>\n",
       "      <td>86</td>\n",
       "      <td>12</td>\n",
       "      <td>0</td>\n",
       "      <td>0</td>\n",
       "      <td>NaN</td>\n",
       "      <td>NaN</td>\n",
       "      <td>NaN</td>\n",
       "      <td>NaN</td>\n",
       "      <td>False</td>\n",
       "      <td>NaN</td>\n",
       "      <td>NaN</td>\n",
       "      <td>0</td>\n",
       "      <td>0.0</td>\n",
       "      <td>0.0</td>\n",
       "      <td>0</td>\n",
       "      <td>0</td>\n",
       "      <td>0</td>\n",
       "      <td>0</td>\n",
       "      <td>0.0</td>\n",
       "      <td>0.0</td>\n",
       "      <td>NaN</td>\n",
       "      <td>0.0</td>\n",
       "      <td>0.0</td>\n",
       "    </tr>\n",
       "  </tbody>\n",
       "</table>\n",
       "</div>"
      ],
      "text/plain": [
       "    vehicle_id  year  make           model            class drive  \\\n",
       "34       26607  1984  Audi            4000  Subcompact Cars   NaN   \n",
       "35       27724  1984  Audi            4000  Subcompact Cars   NaN   \n",
       "36       26608  1984  Audi            4000  Subcompact Cars   NaN   \n",
       "37       27725  1984  Audi            4000  Subcompact Cars   NaN   \n",
       "38       26609  1984  Audi  4000 S quattro  Subcompact Cars   NaN   \n",
       "\n",
       "         transmission transmission_type  engine_index engine_descriptor  \\\n",
       "34  Automatic 3-Speed               NaN         64011             (FFS)   \n",
       "35  Automatic 3-Speed               NaN         64016    (FFS) CA model   \n",
       "36     Manual 5-Speed               NaN         64011             (FFS)   \n",
       "37     Manual 5-Speed               NaN         64016    (FFS) CA model   \n",
       "38     Manual 5-Speed               NaN         64061             (FFS)   \n",
       "\n",
       "    engine_cylinders  engine_displacement turbocharger  supercharger  \\\n",
       "34               4.0                  1.8          NaN           NaN   \n",
       "35               4.0                  1.8          NaN           NaN   \n",
       "36               4.0                  1.8          NaN           NaN   \n",
       "37               4.0                  1.8          NaN           NaN   \n",
       "38               5.0                  2.2          NaN           NaN   \n",
       "\n",
       "   fuel_type       fuel_type_1  fuel_type_2  city_mpg_ft1  \\\n",
       "34   Regular  Regular Gasoline          NaN            19   \n",
       "35   Regular  Regular Gasoline          NaN            19   \n",
       "36   Regular  Regular Gasoline          NaN            21   \n",
       "37   Regular  Regular Gasoline          NaN            21   \n",
       "38   Regular  Regular Gasoline          NaN            16   \n",
       "\n",
       "    unrounded_city_mpg_ft1  city_mpg_ft2  unrounded_city_mpg_ft2  \\\n",
       "34                     0.0             0                     0.0   \n",
       "35                     0.0             0                     0.0   \n",
       "36                     0.0             0                     0.0   \n",
       "37                     0.0             0                     0.0   \n",
       "38                     0.0             0                     0.0   \n",
       "\n",
       "    city_gasoline_consumption_cd  city_electricity_consumption  \\\n",
       "34                           0.0                           0.0   \n",
       "35                           0.0                           0.0   \n",
       "36                           0.0                           0.0   \n",
       "37                           0.0                           0.0   \n",
       "38                           0.0                           0.0   \n",
       "\n",
       "    city_utility_factor  highway_mpg_ft1  unrounded_highway_mpg_ft1  \\\n",
       "34                  0.0               24                        0.0   \n",
       "35                  0.0               24                        0.0   \n",
       "36                  0.0               29                        0.0   \n",
       "37                  0.0               29                        0.0   \n",
       "38                  0.0               20                        0.0   \n",
       "\n",
       "    highway_mpg_ft2  unrounded_highway_mpg_ft2  \\\n",
       "34                0                        0.0   \n",
       "35                0                        0.0   \n",
       "36                0                        0.0   \n",
       "37                0                        0.0   \n",
       "38                0                        0.0   \n",
       "\n",
       "    highway_gasoline_consumption_cd  highway_electricity_consumption  \\\n",
       "34                              0.0                              0.0   \n",
       "35                              0.0                              0.0   \n",
       "36                              0.0                              0.0   \n",
       "37                              0.0                              0.0   \n",
       "38                              0.0                              0.0   \n",
       "\n",
       "    highway_utility_factor  unadjusted_city_mpg_ft1  \\\n",
       "34                     0.0                     24.0   \n",
       "35                     0.0                     24.0   \n",
       "36                     0.0                     27.0   \n",
       "37                     0.0                     27.0   \n",
       "38                     0.0                     20.0   \n",
       "\n",
       "    unadjusted_highway_mpg_ft1  unadjusted_city_mpg_ft2  \\\n",
       "34                        33.0                      0.0   \n",
       "35                        33.0                      0.0   \n",
       "36                        40.0                      0.0   \n",
       "37                        40.0                      0.0   \n",
       "38                        28.0                      0.0   \n",
       "\n",
       "    unadjusted_highway_mpg_ft2  combined_mpg_ft1  unrounded_combined_mpg_ft1  \\\n",
       "34                         0.0                21                         0.0   \n",
       "35                         0.0                21                         0.0   \n",
       "36                         0.0                24                         0.0   \n",
       "37                         0.0                24                         0.0   \n",
       "38                         0.0                18                         0.0   \n",
       "\n",
       "    combined_mpg_ft2  unrounded_combined_mpg_ft2  \\\n",
       "34                 0                         0.0   \n",
       "35                 0                         0.0   \n",
       "36                 0                         0.0   \n",
       "37                 0                         0.0   \n",
       "38                 0                         0.0   \n",
       "\n",
       "    combined_electricity_consumption  combined_gasoline_consumption_cd  \\\n",
       "34                               0.0                               0.0   \n",
       "35                               0.0                               0.0   \n",
       "36                               0.0                               0.0   \n",
       "37                               0.0                               0.0   \n",
       "38                               0.0                               0.0   \n",
       "\n",
       "    combined_utility_factor  annual_fuel_cost_ft1  annual_fuel_cost_ft2  \\\n",
       "34                      0.0                  1650                     0   \n",
       "35                      0.0                  1650                     0   \n",
       "36                      0.0                  1450                     0   \n",
       "37                      0.0                  1450                     0   \n",
       "38                      0.0                  1950                     0   \n",
       "\n",
       "   gas_guzzler_tax  save_or_spend_5_year  annual_consumption_in_barrels_ft1  \\\n",
       "34             NaN                 -1500                          15.695714   \n",
       "35             NaN                 -1500                          15.695714   \n",
       "36             NaN                  -500                          13.733750   \n",
       "37             NaN                  -500                          13.733750   \n",
       "38             NaN                 -3000                          18.311667   \n",
       "\n",
       "    annual_consumption_in_barrels_ft2  tailpipe_co2_ft1  \\\n",
       "34                                0.0                -1   \n",
       "35                                0.0                -1   \n",
       "36                                0.0                -1   \n",
       "37                                0.0                -1   \n",
       "38                                0.0                -1   \n",
       "\n",
       "    tailpipe_co2_in_grams_mile_ft1  tailpipe_co2_ft2  \\\n",
       "34                      423.190476                -1   \n",
       "35                      423.190476                -1   \n",
       "36                      370.291667                -1   \n",
       "37                      370.291667                -1   \n",
       "38                      493.722222                -1   \n",
       "\n",
       "    tailpipe_co2_in_grams_mile_ft2  fuel_economy_score  ghg_score  \\\n",
       "34                             0.0                  -1         -1   \n",
       "35                             0.0                  -1         -1   \n",
       "36                             0.0                  -1         -1   \n",
       "37                             0.0                  -1         -1   \n",
       "38                             0.0                  -1         -1   \n",
       "\n",
       "    ghg_score_alt_fuel my_mpg_data  x2d_passenger_volume  x2d_luggage_volume  \\\n",
       "34                  -1           N                    87                  12   \n",
       "35                  -1           N                    87                  12   \n",
       "36                  -1           Y                    87                  12   \n",
       "37                  -1           N                    87                  12   \n",
       "38                  -1           N                     0                   0   \n",
       "\n",
       "    x4d_passenger_volume  x4d_luggage_volume  hatchback_passenger_volume  \\\n",
       "34                    86                  12                           0   \n",
       "35                    86                  12                           0   \n",
       "36                    86                  12                           0   \n",
       "37                    86                  12                           0   \n",
       "38                    86                  12                           0   \n",
       "\n",
       "    hatchback_luggage_volume  start_stop_technology  \\\n",
       "34                         0                    NaN   \n",
       "35                         0                    NaN   \n",
       "36                         0                    NaN   \n",
       "37                         0                    NaN   \n",
       "38                         0                    NaN   \n",
       "\n",
       "   alternative_fuel_technology  electric_motor  manufacturer_code  \\\n",
       "34                         NaN             NaN                NaN   \n",
       "35                         NaN             NaN                NaN   \n",
       "36                         NaN             NaN                NaN   \n",
       "37                         NaN             NaN                NaN   \n",
       "38                         NaN             NaN                NaN   \n",
       "\n",
       "    gasoline_electricity_blended_cd  vehicle_charger  alternate_charger  \\\n",
       "34                            False              NaN                NaN   \n",
       "35                            False              NaN                NaN   \n",
       "36                            False              NaN                NaN   \n",
       "37                            False              NaN                NaN   \n",
       "38                            False              NaN                NaN   \n",
       "\n",
       "    hours_to_charge_120v  hours_to_charge_240v  hours_to_charge_ac_240v  \\\n",
       "34                     0                   0.0                      0.0   \n",
       "35                     0                   0.0                      0.0   \n",
       "36                     0                   0.0                      0.0   \n",
       "37                     0                   0.0                      0.0   \n",
       "38                     0                   0.0                      0.0   \n",
       "\n",
       "    composite_city_mpg  composite_highway_mpg  composite_combined_mpg  \\\n",
       "34                   0                      0                       0   \n",
       "35                   0                      0                       0   \n",
       "36                   0                      0                       0   \n",
       "37                   0                      0                       0   \n",
       "38                   0                      0                       0   \n",
       "\n",
       "    range_ft1  city_range_ft1  highway_range_ft1  range_ft2  city_range_ft2  \\\n",
       "34          0             0.0                0.0        NaN             0.0   \n",
       "35          0             0.0                0.0        NaN             0.0   \n",
       "36          0             0.0                0.0        NaN             0.0   \n",
       "37          0             0.0                0.0        NaN             0.0   \n",
       "38          0             0.0                0.0        NaN             0.0   \n",
       "\n",
       "    highway_range_ft2  \n",
       "34                0.0  \n",
       "35                0.0  \n",
       "36                0.0  \n",
       "37                0.0  \n",
       "38                0.0  "
      ]
     },
     "execution_count": 56,
     "metadata": {},
     "output_type": "execute_result"
    }
   ],
   "source": [
    "df.head()"
   ]
  },
  {
   "cell_type": "code",
   "execution_count": 58,
   "metadata": {},
   "outputs": [
    {
     "data": {
      "text/html": [
       "<div>\n",
       "<style scoped>\n",
       "    .dataframe tbody tr th:only-of-type {\n",
       "        vertical-align: middle;\n",
       "    }\n",
       "\n",
       "    .dataframe tbody tr th {\n",
       "        vertical-align: top;\n",
       "    }\n",
       "\n",
       "    .dataframe thead th {\n",
       "        text-align: right;\n",
       "    }\n",
       "</style>\n",
       "<table border=\"1\" class=\"dataframe\">\n",
       "  <thead>\n",
       "    <tr style=\"text-align: right;\">\n",
       "      <th></th>\n",
       "      <th>vehicle_id</th>\n",
       "      <th>year</th>\n",
       "      <th>make</th>\n",
       "      <th>model</th>\n",
       "      <th>class</th>\n",
       "      <th>drive</th>\n",
       "      <th>transmission</th>\n",
       "      <th>transmission_type</th>\n",
       "      <th>engine_index</th>\n",
       "      <th>engine_descriptor</th>\n",
       "      <th>engine_cylinders</th>\n",
       "      <th>engine_displacement</th>\n",
       "      <th>turbocharger</th>\n",
       "      <th>supercharger</th>\n",
       "      <th>fuel_type</th>\n",
       "      <th>fuel_type_1</th>\n",
       "      <th>fuel_type_2</th>\n",
       "      <th>city_mpg_ft1</th>\n",
       "      <th>unrounded_city_mpg_ft1</th>\n",
       "      <th>city_mpg_ft2</th>\n",
       "      <th>unrounded_city_mpg_ft2</th>\n",
       "      <th>city_gasoline_consumption_cd</th>\n",
       "      <th>city_electricity_consumption</th>\n",
       "      <th>city_utility_factor</th>\n",
       "      <th>highway_mpg_ft1</th>\n",
       "      <th>unrounded_highway_mpg_ft1</th>\n",
       "      <th>highway_mpg_ft2</th>\n",
       "      <th>unrounded_highway_mpg_ft2</th>\n",
       "      <th>highway_gasoline_consumption_cd</th>\n",
       "      <th>highway_electricity_consumption</th>\n",
       "      <th>highway_utility_factor</th>\n",
       "      <th>unadjusted_city_mpg_ft1</th>\n",
       "      <th>unadjusted_highway_mpg_ft1</th>\n",
       "      <th>unadjusted_city_mpg_ft2</th>\n",
       "      <th>unadjusted_highway_mpg_ft2</th>\n",
       "      <th>combined_mpg_ft1</th>\n",
       "      <th>unrounded_combined_mpg_ft1</th>\n",
       "      <th>combined_mpg_ft2</th>\n",
       "      <th>unrounded_combined_mpg_ft2</th>\n",
       "      <th>combined_electricity_consumption</th>\n",
       "      <th>combined_gasoline_consumption_cd</th>\n",
       "      <th>combined_utility_factor</th>\n",
       "      <th>annual_fuel_cost_ft1</th>\n",
       "      <th>annual_fuel_cost_ft2</th>\n",
       "      <th>gas_guzzler_tax</th>\n",
       "      <th>save_or_spend_5_year</th>\n",
       "      <th>annual_consumption_in_barrels_ft1</th>\n",
       "      <th>annual_consumption_in_barrels_ft2</th>\n",
       "      <th>tailpipe_co2_ft1</th>\n",
       "      <th>tailpipe_co2_in_grams_mile_ft1</th>\n",
       "      <th>tailpipe_co2_ft2</th>\n",
       "      <th>tailpipe_co2_in_grams_mile_ft2</th>\n",
       "      <th>fuel_economy_score</th>\n",
       "      <th>ghg_score</th>\n",
       "      <th>ghg_score_alt_fuel</th>\n",
       "      <th>my_mpg_data</th>\n",
       "      <th>x2d_passenger_volume</th>\n",
       "      <th>x2d_luggage_volume</th>\n",
       "      <th>x4d_passenger_volume</th>\n",
       "      <th>x4d_luggage_volume</th>\n",
       "      <th>hatchback_passenger_volume</th>\n",
       "      <th>hatchback_luggage_volume</th>\n",
       "      <th>start_stop_technology</th>\n",
       "      <th>alternative_fuel_technology</th>\n",
       "      <th>electric_motor</th>\n",
       "      <th>manufacturer_code</th>\n",
       "      <th>gasoline_electricity_blended_cd</th>\n",
       "      <th>vehicle_charger</th>\n",
       "      <th>alternate_charger</th>\n",
       "      <th>hours_to_charge_120v</th>\n",
       "      <th>hours_to_charge_240v</th>\n",
       "      <th>hours_to_charge_ac_240v</th>\n",
       "      <th>composite_city_mpg</th>\n",
       "      <th>composite_highway_mpg</th>\n",
       "      <th>composite_combined_mpg</th>\n",
       "      <th>range_ft1</th>\n",
       "      <th>city_range_ft1</th>\n",
       "      <th>highway_range_ft1</th>\n",
       "      <th>range_ft2</th>\n",
       "      <th>city_range_ft2</th>\n",
       "      <th>highway_range_ft2</th>\n",
       "    </tr>\n",
       "  </thead>\n",
       "  <tbody>\n",
       "    <tr>\n",
       "      <th>16448</th>\n",
       "      <td>30976</td>\n",
       "      <td>1998</td>\n",
       "      <td>Chevrolet</td>\n",
       "      <td>S10 Electric</td>\n",
       "      <td>Small Pickup Trucks 2WD</td>\n",
       "      <td>2-Wheel Drive</td>\n",
       "      <td>Automatic (A1)</td>\n",
       "      <td>NaN</td>\n",
       "      <td>0</td>\n",
       "      <td>Lead Acid</td>\n",
       "      <td>NaN</td>\n",
       "      <td>NaN</td>\n",
       "      <td>NaN</td>\n",
       "      <td>NaN</td>\n",
       "      <td>Electricity</td>\n",
       "      <td>Electricity</td>\n",
       "      <td>NaN</td>\n",
       "      <td>52</td>\n",
       "      <td>0.0</td>\n",
       "      <td>0</td>\n",
       "      <td>0.0</td>\n",
       "      <td>0.0</td>\n",
       "      <td>64.0</td>\n",
       "      <td>0.0</td>\n",
       "      <td>58</td>\n",
       "      <td>0.0</td>\n",
       "      <td>0</td>\n",
       "      <td>0.0</td>\n",
       "      <td>0.0</td>\n",
       "      <td>59.0</td>\n",
       "      <td>0.0</td>\n",
       "      <td>74.8889</td>\n",
       "      <td>82.1951</td>\n",
       "      <td>0.0</td>\n",
       "      <td>0.0</td>\n",
       "      <td>55</td>\n",
       "      <td>0.0</td>\n",
       "      <td>0</td>\n",
       "      <td>0.0</td>\n",
       "      <td>62.0</td>\n",
       "      <td>0.0</td>\n",
       "      <td>0.0</td>\n",
       "      <td>1200</td>\n",
       "      <td>0</td>\n",
       "      <td>NaN</td>\n",
       "      <td>750</td>\n",
       "      <td>0.372</td>\n",
       "      <td>0.0</td>\n",
       "      <td>0</td>\n",
       "      <td>0.0</td>\n",
       "      <td>-1</td>\n",
       "      <td>0.0</td>\n",
       "      <td>-1</td>\n",
       "      <td>-1</td>\n",
       "      <td>-1</td>\n",
       "      <td>N</td>\n",
       "      <td>0</td>\n",
       "      <td>0</td>\n",
       "      <td>0</td>\n",
       "      <td>0</td>\n",
       "      <td>0</td>\n",
       "      <td>0</td>\n",
       "      <td>NaN</td>\n",
       "      <td>EV</td>\n",
       "      <td>NaN</td>\n",
       "      <td>NaN</td>\n",
       "      <td>False</td>\n",
       "      <td>NaN</td>\n",
       "      <td>NaN</td>\n",
       "      <td>0</td>\n",
       "      <td>0.0</td>\n",
       "      <td>0.0</td>\n",
       "      <td>0</td>\n",
       "      <td>0</td>\n",
       "      <td>0</td>\n",
       "      <td>33</td>\n",
       "      <td>0.0</td>\n",
       "      <td>0.0</td>\n",
       "      <td>NaN</td>\n",
       "      <td>0.0</td>\n",
       "      <td>0.0</td>\n",
       "    </tr>\n",
       "    <tr>\n",
       "      <th>16449</th>\n",
       "      <td>30977</td>\n",
       "      <td>1998</td>\n",
       "      <td>Chevrolet</td>\n",
       "      <td>S10 Electric</td>\n",
       "      <td>Small Pickup Trucks 2WD</td>\n",
       "      <td>2-Wheel Drive</td>\n",
       "      <td>Automatic (A1)</td>\n",
       "      <td>NaN</td>\n",
       "      <td>0</td>\n",
       "      <td>NiMH</td>\n",
       "      <td>NaN</td>\n",
       "      <td>NaN</td>\n",
       "      <td>NaN</td>\n",
       "      <td>NaN</td>\n",
       "      <td>Electricity</td>\n",
       "      <td>Electricity</td>\n",
       "      <td>NaN</td>\n",
       "      <td>28</td>\n",
       "      <td>0.0</td>\n",
       "      <td>0</td>\n",
       "      <td>0.0</td>\n",
       "      <td>0.0</td>\n",
       "      <td>122.0</td>\n",
       "      <td>0.0</td>\n",
       "      <td>28</td>\n",
       "      <td>0.0</td>\n",
       "      <td>0</td>\n",
       "      <td>0.0</td>\n",
       "      <td>0.0</td>\n",
       "      <td>120.0</td>\n",
       "      <td>0.0</td>\n",
       "      <td>35.8511</td>\n",
       "      <td>39.1860</td>\n",
       "      <td>0.0</td>\n",
       "      <td>0.0</td>\n",
       "      <td>28</td>\n",
       "      <td>0.0</td>\n",
       "      <td>0</td>\n",
       "      <td>0.0</td>\n",
       "      <td>121.0</td>\n",
       "      <td>0.0</td>\n",
       "      <td>0.0</td>\n",
       "      <td>2350</td>\n",
       "      <td>0</td>\n",
       "      <td>NaN</td>\n",
       "      <td>-5000</td>\n",
       "      <td>0.726</td>\n",
       "      <td>0.0</td>\n",
       "      <td>0</td>\n",
       "      <td>0.0</td>\n",
       "      <td>-1</td>\n",
       "      <td>0.0</td>\n",
       "      <td>-1</td>\n",
       "      <td>-1</td>\n",
       "      <td>-1</td>\n",
       "      <td>N</td>\n",
       "      <td>0</td>\n",
       "      <td>0</td>\n",
       "      <td>0</td>\n",
       "      <td>0</td>\n",
       "      <td>0</td>\n",
       "      <td>0</td>\n",
       "      <td>NaN</td>\n",
       "      <td>EV</td>\n",
       "      <td>NaN</td>\n",
       "      <td>NaN</td>\n",
       "      <td>False</td>\n",
       "      <td>NaN</td>\n",
       "      <td>NaN</td>\n",
       "      <td>0</td>\n",
       "      <td>0.0</td>\n",
       "      <td>0.0</td>\n",
       "      <td>0</td>\n",
       "      <td>0</td>\n",
       "      <td>0</td>\n",
       "      <td>72</td>\n",
       "      <td>0.0</td>\n",
       "      <td>0.0</td>\n",
       "      <td>NaN</td>\n",
       "      <td>0.0</td>\n",
       "      <td>0.0</td>\n",
       "    </tr>\n",
       "    <tr>\n",
       "      <th>16711</th>\n",
       "      <td>30975</td>\n",
       "      <td>1998</td>\n",
       "      <td>Honda</td>\n",
       "      <td>EV Plus</td>\n",
       "      <td>Compact Cars</td>\n",
       "      <td>NaN</td>\n",
       "      <td>Automatic (A1)</td>\n",
       "      <td>NaN</td>\n",
       "      <td>0</td>\n",
       "      <td>NaN</td>\n",
       "      <td>NaN</td>\n",
       "      <td>NaN</td>\n",
       "      <td>NaN</td>\n",
       "      <td>NaN</td>\n",
       "      <td>Electricity</td>\n",
       "      <td>Electricity</td>\n",
       "      <td>NaN</td>\n",
       "      <td>49</td>\n",
       "      <td>0.0</td>\n",
       "      <td>0</td>\n",
       "      <td>0.0</td>\n",
       "      <td>0.0</td>\n",
       "      <td>69.0</td>\n",
       "      <td>0.0</td>\n",
       "      <td>46</td>\n",
       "      <td>0.0</td>\n",
       "      <td>0</td>\n",
       "      <td>0.0</td>\n",
       "      <td>0.0</td>\n",
       "      <td>73.0</td>\n",
       "      <td>0.0</td>\n",
       "      <td>68.7755</td>\n",
       "      <td>66.0784</td>\n",
       "      <td>0.0</td>\n",
       "      <td>0.0</td>\n",
       "      <td>48</td>\n",
       "      <td>0.0</td>\n",
       "      <td>0</td>\n",
       "      <td>0.0</td>\n",
       "      <td>71.0</td>\n",
       "      <td>0.0</td>\n",
       "      <td>0.0</td>\n",
       "      <td>1400</td>\n",
       "      <td>0</td>\n",
       "      <td>NaN</td>\n",
       "      <td>-250</td>\n",
       "      <td>0.426</td>\n",
       "      <td>0.0</td>\n",
       "      <td>0</td>\n",
       "      <td>0.0</td>\n",
       "      <td>-1</td>\n",
       "      <td>0.0</td>\n",
       "      <td>-1</td>\n",
       "      <td>-1</td>\n",
       "      <td>-1</td>\n",
       "      <td>N</td>\n",
       "      <td>0</td>\n",
       "      <td>0</td>\n",
       "      <td>0</td>\n",
       "      <td>0</td>\n",
       "      <td>0</td>\n",
       "      <td>0</td>\n",
       "      <td>NaN</td>\n",
       "      <td>EV</td>\n",
       "      <td>NaN</td>\n",
       "      <td>NaN</td>\n",
       "      <td>False</td>\n",
       "      <td>NaN</td>\n",
       "      <td>NaN</td>\n",
       "      <td>0</td>\n",
       "      <td>0.0</td>\n",
       "      <td>0.0</td>\n",
       "      <td>0</td>\n",
       "      <td>0</td>\n",
       "      <td>0</td>\n",
       "      <td>81</td>\n",
       "      <td>0.0</td>\n",
       "      <td>0.0</td>\n",
       "      <td>NaN</td>\n",
       "      <td>0.0</td>\n",
       "      <td>0.0</td>\n",
       "    </tr>\n",
       "    <tr>\n",
       "      <th>17433</th>\n",
       "      <td>30971</td>\n",
       "      <td>1999</td>\n",
       "      <td>Ford</td>\n",
       "      <td>Ranger Pickup 2WD</td>\n",
       "      <td>Standard Pickup Trucks 2WD</td>\n",
       "      <td>2-Wheel Drive</td>\n",
       "      <td>Automatic (A1)</td>\n",
       "      <td>NaN</td>\n",
       "      <td>0</td>\n",
       "      <td>Lead Acid</td>\n",
       "      <td>NaN</td>\n",
       "      <td>NaN</td>\n",
       "      <td>NaN</td>\n",
       "      <td>NaN</td>\n",
       "      <td>Electricity</td>\n",
       "      <td>Electricity</td>\n",
       "      <td>NaN</td>\n",
       "      <td>62</td>\n",
       "      <td>0.0</td>\n",
       "      <td>0</td>\n",
       "      <td>0.0</td>\n",
       "      <td>0.0</td>\n",
       "      <td>54.0</td>\n",
       "      <td>0.0</td>\n",
       "      <td>54</td>\n",
       "      <td>0.0</td>\n",
       "      <td>0</td>\n",
       "      <td>0.0</td>\n",
       "      <td>0.0</td>\n",
       "      <td>63.0</td>\n",
       "      <td>0.0</td>\n",
       "      <td>88.6842</td>\n",
       "      <td>76.5909</td>\n",
       "      <td>0.0</td>\n",
       "      <td>0.0</td>\n",
       "      <td>58</td>\n",
       "      <td>0.0</td>\n",
       "      <td>0</td>\n",
       "      <td>0.0</td>\n",
       "      <td>58.0</td>\n",
       "      <td>0.0</td>\n",
       "      <td>0.0</td>\n",
       "      <td>1150</td>\n",
       "      <td>0</td>\n",
       "      <td>NaN</td>\n",
       "      <td>1000</td>\n",
       "      <td>0.348</td>\n",
       "      <td>0.0</td>\n",
       "      <td>0</td>\n",
       "      <td>0.0</td>\n",
       "      <td>-1</td>\n",
       "      <td>0.0</td>\n",
       "      <td>-1</td>\n",
       "      <td>-1</td>\n",
       "      <td>-1</td>\n",
       "      <td>N</td>\n",
       "      <td>0</td>\n",
       "      <td>0</td>\n",
       "      <td>0</td>\n",
       "      <td>0</td>\n",
       "      <td>0</td>\n",
       "      <td>0</td>\n",
       "      <td>NaN</td>\n",
       "      <td>EV</td>\n",
       "      <td>NaN</td>\n",
       "      <td>NaN</td>\n",
       "      <td>False</td>\n",
       "      <td>NaN</td>\n",
       "      <td>NaN</td>\n",
       "      <td>0</td>\n",
       "      <td>0.0</td>\n",
       "      <td>0.0</td>\n",
       "      <td>0</td>\n",
       "      <td>0</td>\n",
       "      <td>0</td>\n",
       "      <td>50</td>\n",
       "      <td>0.0</td>\n",
       "      <td>0.0</td>\n",
       "      <td>NaN</td>\n",
       "      <td>0.0</td>\n",
       "      <td>0.0</td>\n",
       "    </tr>\n",
       "    <tr>\n",
       "      <th>17434</th>\n",
       "      <td>30972</td>\n",
       "      <td>1999</td>\n",
       "      <td>Ford</td>\n",
       "      <td>Ranger Pickup 2WD</td>\n",
       "      <td>Standard Pickup Trucks 2WD</td>\n",
       "      <td>2-Wheel Drive</td>\n",
       "      <td>Automatic (A1)</td>\n",
       "      <td>NaN</td>\n",
       "      <td>0</td>\n",
       "      <td>NiMH</td>\n",
       "      <td>NaN</td>\n",
       "      <td>NaN</td>\n",
       "      <td>NaN</td>\n",
       "      <td>NaN</td>\n",
       "      <td>Electricity</td>\n",
       "      <td>Electricity</td>\n",
       "      <td>NaN</td>\n",
       "      <td>50</td>\n",
       "      <td>0.0</td>\n",
       "      <td>0</td>\n",
       "      <td>0.0</td>\n",
       "      <td>0.0</td>\n",
       "      <td>67.0</td>\n",
       "      <td>0.0</td>\n",
       "      <td>44</td>\n",
       "      <td>0.0</td>\n",
       "      <td>0</td>\n",
       "      <td>0.0</td>\n",
       "      <td>0.0</td>\n",
       "      <td>77.0</td>\n",
       "      <td>0.0</td>\n",
       "      <td>71.7021</td>\n",
       "      <td>62.4074</td>\n",
       "      <td>0.0</td>\n",
       "      <td>0.0</td>\n",
       "      <td>47</td>\n",
       "      <td>0.0</td>\n",
       "      <td>0</td>\n",
       "      <td>0.0</td>\n",
       "      <td>72.0</td>\n",
       "      <td>0.0</td>\n",
       "      <td>0.0</td>\n",
       "      <td>1400</td>\n",
       "      <td>0</td>\n",
       "      <td>NaN</td>\n",
       "      <td>-250</td>\n",
       "      <td>0.432</td>\n",
       "      <td>0.0</td>\n",
       "      <td>0</td>\n",
       "      <td>0.0</td>\n",
       "      <td>-1</td>\n",
       "      <td>0.0</td>\n",
       "      <td>-1</td>\n",
       "      <td>-1</td>\n",
       "      <td>-1</td>\n",
       "      <td>N</td>\n",
       "      <td>0</td>\n",
       "      <td>0</td>\n",
       "      <td>0</td>\n",
       "      <td>0</td>\n",
       "      <td>0</td>\n",
       "      <td>0</td>\n",
       "      <td>NaN</td>\n",
       "      <td>EV</td>\n",
       "      <td>NaN</td>\n",
       "      <td>NaN</td>\n",
       "      <td>False</td>\n",
       "      <td>NaN</td>\n",
       "      <td>NaN</td>\n",
       "      <td>0</td>\n",
       "      <td>0.0</td>\n",
       "      <td>0.0</td>\n",
       "      <td>0</td>\n",
       "      <td>0</td>\n",
       "      <td>0</td>\n",
       "      <td>55</td>\n",
       "      <td>0.0</td>\n",
       "      <td>0.0</td>\n",
       "      <td>NaN</td>\n",
       "      <td>0.0</td>\n",
       "      <td>0.0</td>\n",
       "    </tr>\n",
       "    <tr>\n",
       "      <th>17514</th>\n",
       "      <td>30970</td>\n",
       "      <td>1999</td>\n",
       "      <td>Honda</td>\n",
       "      <td>EV Plus</td>\n",
       "      <td>Compact Cars</td>\n",
       "      <td>NaN</td>\n",
       "      <td>Automatic (A1)</td>\n",
       "      <td>NaN</td>\n",
       "      <td>0</td>\n",
       "      <td>NaN</td>\n",
       "      <td>NaN</td>\n",
       "      <td>NaN</td>\n",
       "      <td>NaN</td>\n",
       "      <td>NaN</td>\n",
       "      <td>Electricity</td>\n",
       "      <td>Electricity</td>\n",
       "      <td>NaN</td>\n",
       "      <td>49</td>\n",
       "      <td>0.0</td>\n",
       "      <td>0</td>\n",
       "      <td>0.0</td>\n",
       "      <td>0.0</td>\n",
       "      <td>69.0</td>\n",
       "      <td>0.0</td>\n",
       "      <td>46</td>\n",
       "      <td>0.0</td>\n",
       "      <td>0</td>\n",
       "      <td>0.0</td>\n",
       "      <td>0.0</td>\n",
       "      <td>73.0</td>\n",
       "      <td>0.0</td>\n",
       "      <td>68.7755</td>\n",
       "      <td>66.0784</td>\n",
       "      <td>0.0</td>\n",
       "      <td>0.0</td>\n",
       "      <td>48</td>\n",
       "      <td>0.0</td>\n",
       "      <td>0</td>\n",
       "      <td>0.0</td>\n",
       "      <td>71.0</td>\n",
       "      <td>0.0</td>\n",
       "      <td>0.0</td>\n",
       "      <td>1400</td>\n",
       "      <td>0</td>\n",
       "      <td>NaN</td>\n",
       "      <td>-250</td>\n",
       "      <td>0.426</td>\n",
       "      <td>0.0</td>\n",
       "      <td>0</td>\n",
       "      <td>0.0</td>\n",
       "      <td>-1</td>\n",
       "      <td>0.0</td>\n",
       "      <td>-1</td>\n",
       "      <td>-1</td>\n",
       "      <td>-1</td>\n",
       "      <td>N</td>\n",
       "      <td>0</td>\n",
       "      <td>0</td>\n",
       "      <td>0</td>\n",
       "      <td>0</td>\n",
       "      <td>0</td>\n",
       "      <td>0</td>\n",
       "      <td>NaN</td>\n",
       "      <td>EV</td>\n",
       "      <td>NaN</td>\n",
       "      <td>NaN</td>\n",
       "      <td>False</td>\n",
       "      <td>NaN</td>\n",
       "      <td>NaN</td>\n",
       "      <td>0</td>\n",
       "      <td>0.0</td>\n",
       "      <td>0.0</td>\n",
       "      <td>0</td>\n",
       "      <td>0</td>\n",
       "      <td>0</td>\n",
       "      <td>81</td>\n",
       "      <td>0.0</td>\n",
       "      <td>0.0</td>\n",
       "      <td>NaN</td>\n",
       "      <td>0.0</td>\n",
       "      <td>0.0</td>\n",
       "    </tr>\n",
       "    <tr>\n",
       "      <th>18295</th>\n",
       "      <td>30966</td>\n",
       "      <td>2000</td>\n",
       "      <td>Ford</td>\n",
       "      <td>Ranger Pickup 2WD</td>\n",
       "      <td>Standard Pickup Trucks 2WD</td>\n",
       "      <td>2-Wheel Drive</td>\n",
       "      <td>Automatic (A1)</td>\n",
       "      <td>NaN</td>\n",
       "      <td>0</td>\n",
       "      <td>Lead Acid</td>\n",
       "      <td>NaN</td>\n",
       "      <td>NaN</td>\n",
       "      <td>NaN</td>\n",
       "      <td>NaN</td>\n",
       "      <td>Electricity</td>\n",
       "      <td>Electricity</td>\n",
       "      <td>NaN</td>\n",
       "      <td>62</td>\n",
       "      <td>0.0</td>\n",
       "      <td>0</td>\n",
       "      <td>0.0</td>\n",
       "      <td>0.0</td>\n",
       "      <td>54.0</td>\n",
       "      <td>0.0</td>\n",
       "      <td>54</td>\n",
       "      <td>0.0</td>\n",
       "      <td>0</td>\n",
       "      <td>0.0</td>\n",
       "      <td>0.0</td>\n",
       "      <td>63.0</td>\n",
       "      <td>0.0</td>\n",
       "      <td>88.6842</td>\n",
       "      <td>76.5909</td>\n",
       "      <td>0.0</td>\n",
       "      <td>0.0</td>\n",
       "      <td>58</td>\n",
       "      <td>0.0</td>\n",
       "      <td>0</td>\n",
       "      <td>0.0</td>\n",
       "      <td>58.0</td>\n",
       "      <td>0.0</td>\n",
       "      <td>0.0</td>\n",
       "      <td>1150</td>\n",
       "      <td>0</td>\n",
       "      <td>NaN</td>\n",
       "      <td>1000</td>\n",
       "      <td>0.348</td>\n",
       "      <td>0.0</td>\n",
       "      <td>0</td>\n",
       "      <td>0.0</td>\n",
       "      <td>-1</td>\n",
       "      <td>0.0</td>\n",
       "      <td>-1</td>\n",
       "      <td>-1</td>\n",
       "      <td>-1</td>\n",
       "      <td>N</td>\n",
       "      <td>0</td>\n",
       "      <td>0</td>\n",
       "      <td>0</td>\n",
       "      <td>0</td>\n",
       "      <td>0</td>\n",
       "      <td>0</td>\n",
       "      <td>NaN</td>\n",
       "      <td>EV</td>\n",
       "      <td>NaN</td>\n",
       "      <td>NaN</td>\n",
       "      <td>False</td>\n",
       "      <td>NaN</td>\n",
       "      <td>NaN</td>\n",
       "      <td>0</td>\n",
       "      <td>0.0</td>\n",
       "      <td>0.0</td>\n",
       "      <td>0</td>\n",
       "      <td>0</td>\n",
       "      <td>0</td>\n",
       "      <td>50</td>\n",
       "      <td>0.0</td>\n",
       "      <td>0.0</td>\n",
       "      <td>NaN</td>\n",
       "      <td>0.0</td>\n",
       "      <td>0.0</td>\n",
       "    </tr>\n",
       "    <tr>\n",
       "      <th>18296</th>\n",
       "      <td>30967</td>\n",
       "      <td>2000</td>\n",
       "      <td>Ford</td>\n",
       "      <td>Ranger Pickup 2WD</td>\n",
       "      <td>Standard Pickup Trucks 2WD</td>\n",
       "      <td>2-Wheel Drive</td>\n",
       "      <td>Automatic (A1)</td>\n",
       "      <td>NaN</td>\n",
       "      <td>0</td>\n",
       "      <td>NiMH</td>\n",
       "      <td>NaN</td>\n",
       "      <td>NaN</td>\n",
       "      <td>NaN</td>\n",
       "      <td>NaN</td>\n",
       "      <td>Electricity</td>\n",
       "      <td>Electricity</td>\n",
       "      <td>NaN</td>\n",
       "      <td>59</td>\n",
       "      <td>0.0</td>\n",
       "      <td>0</td>\n",
       "      <td>0.0</td>\n",
       "      <td>0.0</td>\n",
       "      <td>57.0</td>\n",
       "      <td>0.0</td>\n",
       "      <td>52</td>\n",
       "      <td>0.0</td>\n",
       "      <td>0</td>\n",
       "      <td>0.0</td>\n",
       "      <td>0.0</td>\n",
       "      <td>64.0</td>\n",
       "      <td>0.0</td>\n",
       "      <td>84.2500</td>\n",
       "      <td>74.8889</td>\n",
       "      <td>0.0</td>\n",
       "      <td>0.0</td>\n",
       "      <td>56</td>\n",
       "      <td>0.0</td>\n",
       "      <td>0</td>\n",
       "      <td>0.0</td>\n",
       "      <td>60.0</td>\n",
       "      <td>0.0</td>\n",
       "      <td>0.0</td>\n",
       "      <td>1150</td>\n",
       "      <td>0</td>\n",
       "      <td>NaN</td>\n",
       "      <td>1000</td>\n",
       "      <td>0.360</td>\n",
       "      <td>0.0</td>\n",
       "      <td>0</td>\n",
       "      <td>0.0</td>\n",
       "      <td>-1</td>\n",
       "      <td>0.0</td>\n",
       "      <td>-1</td>\n",
       "      <td>-1</td>\n",
       "      <td>-1</td>\n",
       "      <td>N</td>\n",
       "      <td>0</td>\n",
       "      <td>0</td>\n",
       "      <td>0</td>\n",
       "      <td>0</td>\n",
       "      <td>0</td>\n",
       "      <td>0</td>\n",
       "      <td>NaN</td>\n",
       "      <td>EV</td>\n",
       "      <td>NaN</td>\n",
       "      <td>NaN</td>\n",
       "      <td>False</td>\n",
       "      <td>NaN</td>\n",
       "      <td>NaN</td>\n",
       "      <td>0</td>\n",
       "      <td>0.0</td>\n",
       "      <td>0.0</td>\n",
       "      <td>0</td>\n",
       "      <td>0</td>\n",
       "      <td>0</td>\n",
       "      <td>65</td>\n",
       "      <td>0.0</td>\n",
       "      <td>0.0</td>\n",
       "      <td>NaN</td>\n",
       "      <td>0.0</td>\n",
       "      <td>0.0</td>\n",
       "    </tr>\n",
       "    <tr>\n",
       "      <th>18561</th>\n",
       "      <td>16423</td>\n",
       "      <td>2000</td>\n",
       "      <td>Nissan</td>\n",
       "      <td>Altra EV</td>\n",
       "      <td>Midsize Station Wagons</td>\n",
       "      <td>NaN</td>\n",
       "      <td>NaN</td>\n",
       "      <td>NaN</td>\n",
       "      <td>0</td>\n",
       "      <td>NaN</td>\n",
       "      <td>NaN</td>\n",
       "      <td>NaN</td>\n",
       "      <td>NaN</td>\n",
       "      <td>NaN</td>\n",
       "      <td>Electricity</td>\n",
       "      <td>Electricity</td>\n",
       "      <td>NaN</td>\n",
       "      <td>81</td>\n",
       "      <td>0.0</td>\n",
       "      <td>0</td>\n",
       "      <td>0.0</td>\n",
       "      <td>0.0</td>\n",
       "      <td>41.0</td>\n",
       "      <td>0.0</td>\n",
       "      <td>91</td>\n",
       "      <td>0.0</td>\n",
       "      <td>0</td>\n",
       "      <td>0.0</td>\n",
       "      <td>0.0</td>\n",
       "      <td>37.0</td>\n",
       "      <td>0.0</td>\n",
       "      <td>116.2069</td>\n",
       "      <td>129.6154</td>\n",
       "      <td>0.0</td>\n",
       "      <td>0.0</td>\n",
       "      <td>85</td>\n",
       "      <td>0.0</td>\n",
       "      <td>0</td>\n",
       "      <td>0.0</td>\n",
       "      <td>40.0</td>\n",
       "      <td>0.0</td>\n",
       "      <td>0.0</td>\n",
       "      <td>800</td>\n",
       "      <td>0</td>\n",
       "      <td>NaN</td>\n",
       "      <td>2750</td>\n",
       "      <td>0.240</td>\n",
       "      <td>0.0</td>\n",
       "      <td>0</td>\n",
       "      <td>0.0</td>\n",
       "      <td>-1</td>\n",
       "      <td>0.0</td>\n",
       "      <td>-1</td>\n",
       "      <td>-1</td>\n",
       "      <td>-1</td>\n",
       "      <td>N</td>\n",
       "      <td>0</td>\n",
       "      <td>0</td>\n",
       "      <td>0</td>\n",
       "      <td>0</td>\n",
       "      <td>0</td>\n",
       "      <td>0</td>\n",
       "      <td>NaN</td>\n",
       "      <td>EV</td>\n",
       "      <td>NaN</td>\n",
       "      <td>NaN</td>\n",
       "      <td>False</td>\n",
       "      <td>NaN</td>\n",
       "      <td>NaN</td>\n",
       "      <td>0</td>\n",
       "      <td>0.0</td>\n",
       "      <td>0.0</td>\n",
       "      <td>0</td>\n",
       "      <td>0</td>\n",
       "      <td>0</td>\n",
       "      <td>90</td>\n",
       "      <td>0.0</td>\n",
       "      <td>0.0</td>\n",
       "      <td>NaN</td>\n",
       "      <td>0.0</td>\n",
       "      <td>0.0</td>\n",
       "    </tr>\n",
       "    <tr>\n",
       "      <th>18734</th>\n",
       "      <td>16424</td>\n",
       "      <td>2000</td>\n",
       "      <td>Toyota</td>\n",
       "      <td>RAV4 EV</td>\n",
       "      <td>Sport Utility Vehicle - 2WD</td>\n",
       "      <td>2-Wheel Drive</td>\n",
       "      <td>NaN</td>\n",
       "      <td>NaN</td>\n",
       "      <td>0</td>\n",
       "      <td>NaN</td>\n",
       "      <td>NaN</td>\n",
       "      <td>NaN</td>\n",
       "      <td>NaN</td>\n",
       "      <td>NaN</td>\n",
       "      <td>Electricity</td>\n",
       "      <td>Electricity</td>\n",
       "      <td>NaN</td>\n",
       "      <td>81</td>\n",
       "      <td>0.0</td>\n",
       "      <td>0</td>\n",
       "      <td>0.0</td>\n",
       "      <td>0.0</td>\n",
       "      <td>41.0</td>\n",
       "      <td>0.0</td>\n",
       "      <td>64</td>\n",
       "      <td>0.0</td>\n",
       "      <td>0</td>\n",
       "      <td>0.0</td>\n",
       "      <td>0.0</td>\n",
       "      <td>53.0</td>\n",
       "      <td>0.0</td>\n",
       "      <td>116.2069</td>\n",
       "      <td>91.0811</td>\n",
       "      <td>0.0</td>\n",
       "      <td>0.0</td>\n",
       "      <td>72</td>\n",
       "      <td>0.0</td>\n",
       "      <td>0</td>\n",
       "      <td>0.0</td>\n",
       "      <td>47.0</td>\n",
       "      <td>0.0</td>\n",
       "      <td>0.0</td>\n",
       "      <td>900</td>\n",
       "      <td>0</td>\n",
       "      <td>NaN</td>\n",
       "      <td>2250</td>\n",
       "      <td>0.282</td>\n",
       "      <td>0.0</td>\n",
       "      <td>0</td>\n",
       "      <td>0.0</td>\n",
       "      <td>-1</td>\n",
       "      <td>0.0</td>\n",
       "      <td>-1</td>\n",
       "      <td>-1</td>\n",
       "      <td>-1</td>\n",
       "      <td>N</td>\n",
       "      <td>0</td>\n",
       "      <td>0</td>\n",
       "      <td>0</td>\n",
       "      <td>0</td>\n",
       "      <td>0</td>\n",
       "      <td>0</td>\n",
       "      <td>NaN</td>\n",
       "      <td>EV</td>\n",
       "      <td>NaN</td>\n",
       "      <td>NaN</td>\n",
       "      <td>False</td>\n",
       "      <td>NaN</td>\n",
       "      <td>NaN</td>\n",
       "      <td>0</td>\n",
       "      <td>0.0</td>\n",
       "      <td>0.0</td>\n",
       "      <td>0</td>\n",
       "      <td>0</td>\n",
       "      <td>0</td>\n",
       "      <td>88</td>\n",
       "      <td>0.0</td>\n",
       "      <td>0.0</td>\n",
       "      <td>NaN</td>\n",
       "      <td>0.0</td>\n",
       "      <td>0.0</td>\n",
       "    </tr>\n",
       "  </tbody>\n",
       "</table>\n",
       "</div>"
      ],
      "text/plain": [
       "       vehicle_id  year       make              model  \\\n",
       "16448       30976  1998  Chevrolet       S10 Electric   \n",
       "16449       30977  1998  Chevrolet       S10 Electric   \n",
       "16711       30975  1998      Honda            EV Plus   \n",
       "17433       30971  1999       Ford  Ranger Pickup 2WD   \n",
       "17434       30972  1999       Ford  Ranger Pickup 2WD   \n",
       "17514       30970  1999      Honda            EV Plus   \n",
       "18295       30966  2000       Ford  Ranger Pickup 2WD   \n",
       "18296       30967  2000       Ford  Ranger Pickup 2WD   \n",
       "18561       16423  2000     Nissan           Altra EV   \n",
       "18734       16424  2000     Toyota            RAV4 EV   \n",
       "\n",
       "                             class          drive    transmission  \\\n",
       "16448      Small Pickup Trucks 2WD  2-Wheel Drive  Automatic (A1)   \n",
       "16449      Small Pickup Trucks 2WD  2-Wheel Drive  Automatic (A1)   \n",
       "16711                 Compact Cars            NaN  Automatic (A1)   \n",
       "17433   Standard Pickup Trucks 2WD  2-Wheel Drive  Automatic (A1)   \n",
       "17434   Standard Pickup Trucks 2WD  2-Wheel Drive  Automatic (A1)   \n",
       "17514                 Compact Cars            NaN  Automatic (A1)   \n",
       "18295   Standard Pickup Trucks 2WD  2-Wheel Drive  Automatic (A1)   \n",
       "18296   Standard Pickup Trucks 2WD  2-Wheel Drive  Automatic (A1)   \n",
       "18561       Midsize Station Wagons            NaN             NaN   \n",
       "18734  Sport Utility Vehicle - 2WD  2-Wheel Drive             NaN   \n",
       "\n",
       "      transmission_type  engine_index engine_descriptor  engine_cylinders  \\\n",
       "16448               NaN             0         Lead Acid               NaN   \n",
       "16449               NaN             0              NiMH               NaN   \n",
       "16711               NaN             0               NaN               NaN   \n",
       "17433               NaN             0         Lead Acid               NaN   \n",
       "17434               NaN             0              NiMH               NaN   \n",
       "17514               NaN             0               NaN               NaN   \n",
       "18295               NaN             0         Lead Acid               NaN   \n",
       "18296               NaN             0              NiMH               NaN   \n",
       "18561               NaN             0               NaN               NaN   \n",
       "18734               NaN             0               NaN               NaN   \n",
       "\n",
       "       engine_displacement turbocharger  supercharger    fuel_type  \\\n",
       "16448                  NaN          NaN           NaN  Electricity   \n",
       "16449                  NaN          NaN           NaN  Electricity   \n",
       "16711                  NaN          NaN           NaN  Electricity   \n",
       "17433                  NaN          NaN           NaN  Electricity   \n",
       "17434                  NaN          NaN           NaN  Electricity   \n",
       "17514                  NaN          NaN           NaN  Electricity   \n",
       "18295                  NaN          NaN           NaN  Electricity   \n",
       "18296                  NaN          NaN           NaN  Electricity   \n",
       "18561                  NaN          NaN           NaN  Electricity   \n",
       "18734                  NaN          NaN           NaN  Electricity   \n",
       "\n",
       "       fuel_type_1  fuel_type_2  city_mpg_ft1  unrounded_city_mpg_ft1  \\\n",
       "16448  Electricity          NaN            52                     0.0   \n",
       "16449  Electricity          NaN            28                     0.0   \n",
       "16711  Electricity          NaN            49                     0.0   \n",
       "17433  Electricity          NaN            62                     0.0   \n",
       "17434  Electricity          NaN            50                     0.0   \n",
       "17514  Electricity          NaN            49                     0.0   \n",
       "18295  Electricity          NaN            62                     0.0   \n",
       "18296  Electricity          NaN            59                     0.0   \n",
       "18561  Electricity          NaN            81                     0.0   \n",
       "18734  Electricity          NaN            81                     0.0   \n",
       "\n",
       "       city_mpg_ft2  unrounded_city_mpg_ft2  city_gasoline_consumption_cd  \\\n",
       "16448             0                     0.0                           0.0   \n",
       "16449             0                     0.0                           0.0   \n",
       "16711             0                     0.0                           0.0   \n",
       "17433             0                     0.0                           0.0   \n",
       "17434             0                     0.0                           0.0   \n",
       "17514             0                     0.0                           0.0   \n",
       "18295             0                     0.0                           0.0   \n",
       "18296             0                     0.0                           0.0   \n",
       "18561             0                     0.0                           0.0   \n",
       "18734             0                     0.0                           0.0   \n",
       "\n",
       "       city_electricity_consumption  city_utility_factor  highway_mpg_ft1  \\\n",
       "16448                          64.0                  0.0               58   \n",
       "16449                         122.0                  0.0               28   \n",
       "16711                          69.0                  0.0               46   \n",
       "17433                          54.0                  0.0               54   \n",
       "17434                          67.0                  0.0               44   \n",
       "17514                          69.0                  0.0               46   \n",
       "18295                          54.0                  0.0               54   \n",
       "18296                          57.0                  0.0               52   \n",
       "18561                          41.0                  0.0               91   \n",
       "18734                          41.0                  0.0               64   \n",
       "\n",
       "       unrounded_highway_mpg_ft1  highway_mpg_ft2  unrounded_highway_mpg_ft2  \\\n",
       "16448                        0.0                0                        0.0   \n",
       "16449                        0.0                0                        0.0   \n",
       "16711                        0.0                0                        0.0   \n",
       "17433                        0.0                0                        0.0   \n",
       "17434                        0.0                0                        0.0   \n",
       "17514                        0.0                0                        0.0   \n",
       "18295                        0.0                0                        0.0   \n",
       "18296                        0.0                0                        0.0   \n",
       "18561                        0.0                0                        0.0   \n",
       "18734                        0.0                0                        0.0   \n",
       "\n",
       "       highway_gasoline_consumption_cd  highway_electricity_consumption  \\\n",
       "16448                              0.0                             59.0   \n",
       "16449                              0.0                            120.0   \n",
       "16711                              0.0                             73.0   \n",
       "17433                              0.0                             63.0   \n",
       "17434                              0.0                             77.0   \n",
       "17514                              0.0                             73.0   \n",
       "18295                              0.0                             63.0   \n",
       "18296                              0.0                             64.0   \n",
       "18561                              0.0                             37.0   \n",
       "18734                              0.0                             53.0   \n",
       "\n",
       "       highway_utility_factor  unadjusted_city_mpg_ft1  \\\n",
       "16448                     0.0                  74.8889   \n",
       "16449                     0.0                  35.8511   \n",
       "16711                     0.0                  68.7755   \n",
       "17433                     0.0                  88.6842   \n",
       "17434                     0.0                  71.7021   \n",
       "17514                     0.0                  68.7755   \n",
       "18295                     0.0                  88.6842   \n",
       "18296                     0.0                  84.2500   \n",
       "18561                     0.0                 116.2069   \n",
       "18734                     0.0                 116.2069   \n",
       "\n",
       "       unadjusted_highway_mpg_ft1  unadjusted_city_mpg_ft2  \\\n",
       "16448                     82.1951                      0.0   \n",
       "16449                     39.1860                      0.0   \n",
       "16711                     66.0784                      0.0   \n",
       "17433                     76.5909                      0.0   \n",
       "17434                     62.4074                      0.0   \n",
       "17514                     66.0784                      0.0   \n",
       "18295                     76.5909                      0.0   \n",
       "18296                     74.8889                      0.0   \n",
       "18561                    129.6154                      0.0   \n",
       "18734                     91.0811                      0.0   \n",
       "\n",
       "       unadjusted_highway_mpg_ft2  combined_mpg_ft1  \\\n",
       "16448                         0.0                55   \n",
       "16449                         0.0                28   \n",
       "16711                         0.0                48   \n",
       "17433                         0.0                58   \n",
       "17434                         0.0                47   \n",
       "17514                         0.0                48   \n",
       "18295                         0.0                58   \n",
       "18296                         0.0                56   \n",
       "18561                         0.0                85   \n",
       "18734                         0.0                72   \n",
       "\n",
       "       unrounded_combined_mpg_ft1  combined_mpg_ft2  \\\n",
       "16448                         0.0                 0   \n",
       "16449                         0.0                 0   \n",
       "16711                         0.0                 0   \n",
       "17433                         0.0                 0   \n",
       "17434                         0.0                 0   \n",
       "17514                         0.0                 0   \n",
       "18295                         0.0                 0   \n",
       "18296                         0.0                 0   \n",
       "18561                         0.0                 0   \n",
       "18734                         0.0                 0   \n",
       "\n",
       "       unrounded_combined_mpg_ft2  combined_electricity_consumption  \\\n",
       "16448                         0.0                              62.0   \n",
       "16449                         0.0                             121.0   \n",
       "16711                         0.0                              71.0   \n",
       "17433                         0.0                              58.0   \n",
       "17434                         0.0                              72.0   \n",
       "17514                         0.0                              71.0   \n",
       "18295                         0.0                              58.0   \n",
       "18296                         0.0                              60.0   \n",
       "18561                         0.0                              40.0   \n",
       "18734                         0.0                              47.0   \n",
       "\n",
       "       combined_gasoline_consumption_cd  combined_utility_factor  \\\n",
       "16448                               0.0                      0.0   \n",
       "16449                               0.0                      0.0   \n",
       "16711                               0.0                      0.0   \n",
       "17433                               0.0                      0.0   \n",
       "17434                               0.0                      0.0   \n",
       "17514                               0.0                      0.0   \n",
       "18295                               0.0                      0.0   \n",
       "18296                               0.0                      0.0   \n",
       "18561                               0.0                      0.0   \n",
       "18734                               0.0                      0.0   \n",
       "\n",
       "       annual_fuel_cost_ft1  annual_fuel_cost_ft2 gas_guzzler_tax  \\\n",
       "16448                  1200                     0             NaN   \n",
       "16449                  2350                     0             NaN   \n",
       "16711                  1400                     0             NaN   \n",
       "17433                  1150                     0             NaN   \n",
       "17434                  1400                     0             NaN   \n",
       "17514                  1400                     0             NaN   \n",
       "18295                  1150                     0             NaN   \n",
       "18296                  1150                     0             NaN   \n",
       "18561                   800                     0             NaN   \n",
       "18734                   900                     0             NaN   \n",
       "\n",
       "       save_or_spend_5_year  annual_consumption_in_barrels_ft1  \\\n",
       "16448                   750                              0.372   \n",
       "16449                 -5000                              0.726   \n",
       "16711                  -250                              0.426   \n",
       "17433                  1000                              0.348   \n",
       "17434                  -250                              0.432   \n",
       "17514                  -250                              0.426   \n",
       "18295                  1000                              0.348   \n",
       "18296                  1000                              0.360   \n",
       "18561                  2750                              0.240   \n",
       "18734                  2250                              0.282   \n",
       "\n",
       "       annual_consumption_in_barrels_ft2  tailpipe_co2_ft1  \\\n",
       "16448                                0.0                 0   \n",
       "16449                                0.0                 0   \n",
       "16711                                0.0                 0   \n",
       "17433                                0.0                 0   \n",
       "17434                                0.0                 0   \n",
       "17514                                0.0                 0   \n",
       "18295                                0.0                 0   \n",
       "18296                                0.0                 0   \n",
       "18561                                0.0                 0   \n",
       "18734                                0.0                 0   \n",
       "\n",
       "       tailpipe_co2_in_grams_mile_ft1  tailpipe_co2_ft2  \\\n",
       "16448                             0.0                -1   \n",
       "16449                             0.0                -1   \n",
       "16711                             0.0                -1   \n",
       "17433                             0.0                -1   \n",
       "17434                             0.0                -1   \n",
       "17514                             0.0                -1   \n",
       "18295                             0.0                -1   \n",
       "18296                             0.0                -1   \n",
       "18561                             0.0                -1   \n",
       "18734                             0.0                -1   \n",
       "\n",
       "       tailpipe_co2_in_grams_mile_ft2  fuel_economy_score  ghg_score  \\\n",
       "16448                             0.0                  -1         -1   \n",
       "16449                             0.0                  -1         -1   \n",
       "16711                             0.0                  -1         -1   \n",
       "17433                             0.0                  -1         -1   \n",
       "17434                             0.0                  -1         -1   \n",
       "17514                             0.0                  -1         -1   \n",
       "18295                             0.0                  -1         -1   \n",
       "18296                             0.0                  -1         -1   \n",
       "18561                             0.0                  -1         -1   \n",
       "18734                             0.0                  -1         -1   \n",
       "\n",
       "       ghg_score_alt_fuel my_mpg_data  x2d_passenger_volume  \\\n",
       "16448                  -1           N                     0   \n",
       "16449                  -1           N                     0   \n",
       "16711                  -1           N                     0   \n",
       "17433                  -1           N                     0   \n",
       "17434                  -1           N                     0   \n",
       "17514                  -1           N                     0   \n",
       "18295                  -1           N                     0   \n",
       "18296                  -1           N                     0   \n",
       "18561                  -1           N                     0   \n",
       "18734                  -1           N                     0   \n",
       "\n",
       "       x2d_luggage_volume  x4d_passenger_volume  x4d_luggage_volume  \\\n",
       "16448                   0                     0                   0   \n",
       "16449                   0                     0                   0   \n",
       "16711                   0                     0                   0   \n",
       "17433                   0                     0                   0   \n",
       "17434                   0                     0                   0   \n",
       "17514                   0                     0                   0   \n",
       "18295                   0                     0                   0   \n",
       "18296                   0                     0                   0   \n",
       "18561                   0                     0                   0   \n",
       "18734                   0                     0                   0   \n",
       "\n",
       "       hatchback_passenger_volume  hatchback_luggage_volume  \\\n",
       "16448                           0                         0   \n",
       "16449                           0                         0   \n",
       "16711                           0                         0   \n",
       "17433                           0                         0   \n",
       "17434                           0                         0   \n",
       "17514                           0                         0   \n",
       "18295                           0                         0   \n",
       "18296                           0                         0   \n",
       "18561                           0                         0   \n",
       "18734                           0                         0   \n",
       "\n",
       "       start_stop_technology alternative_fuel_technology  electric_motor  \\\n",
       "16448                    NaN                          EV             NaN   \n",
       "16449                    NaN                          EV             NaN   \n",
       "16711                    NaN                          EV             NaN   \n",
       "17433                    NaN                          EV             NaN   \n",
       "17434                    NaN                          EV             NaN   \n",
       "17514                    NaN                          EV             NaN   \n",
       "18295                    NaN                          EV             NaN   \n",
       "18296                    NaN                          EV             NaN   \n",
       "18561                    NaN                          EV             NaN   \n",
       "18734                    NaN                          EV             NaN   \n",
       "\n",
       "       manufacturer_code  gasoline_electricity_blended_cd  vehicle_charger  \\\n",
       "16448                NaN                            False              NaN   \n",
       "16449                NaN                            False              NaN   \n",
       "16711                NaN                            False              NaN   \n",
       "17433                NaN                            False              NaN   \n",
       "17434                NaN                            False              NaN   \n",
       "17514                NaN                            False              NaN   \n",
       "18295                NaN                            False              NaN   \n",
       "18296                NaN                            False              NaN   \n",
       "18561                NaN                            False              NaN   \n",
       "18734                NaN                            False              NaN   \n",
       "\n",
       "       alternate_charger  hours_to_charge_120v  hours_to_charge_240v  \\\n",
       "16448                NaN                     0                   0.0   \n",
       "16449                NaN                     0                   0.0   \n",
       "16711                NaN                     0                   0.0   \n",
       "17433                NaN                     0                   0.0   \n",
       "17434                NaN                     0                   0.0   \n",
       "17514                NaN                     0                   0.0   \n",
       "18295                NaN                     0                   0.0   \n",
       "18296                NaN                     0                   0.0   \n",
       "18561                NaN                     0                   0.0   \n",
       "18734                NaN                     0                   0.0   \n",
       "\n",
       "       hours_to_charge_ac_240v  composite_city_mpg  composite_highway_mpg  \\\n",
       "16448                      0.0                   0                      0   \n",
       "16449                      0.0                   0                      0   \n",
       "16711                      0.0                   0                      0   \n",
       "17433                      0.0                   0                      0   \n",
       "17434                      0.0                   0                      0   \n",
       "17514                      0.0                   0                      0   \n",
       "18295                      0.0                   0                      0   \n",
       "18296                      0.0                   0                      0   \n",
       "18561                      0.0                   0                      0   \n",
       "18734                      0.0                   0                      0   \n",
       "\n",
       "       composite_combined_mpg  range_ft1  city_range_ft1  highway_range_ft1  \\\n",
       "16448                       0         33             0.0                0.0   \n",
       "16449                       0         72             0.0                0.0   \n",
       "16711                       0         81             0.0                0.0   \n",
       "17433                       0         50             0.0                0.0   \n",
       "17434                       0         55             0.0                0.0   \n",
       "17514                       0         81             0.0                0.0   \n",
       "18295                       0         50             0.0                0.0   \n",
       "18296                       0         65             0.0                0.0   \n",
       "18561                       0         90             0.0                0.0   \n",
       "18734                       0         88             0.0                0.0   \n",
       "\n",
       "       range_ft2  city_range_ft2  highway_range_ft2  \n",
       "16448        NaN             0.0                0.0  \n",
       "16449        NaN             0.0                0.0  \n",
       "16711        NaN             0.0                0.0  \n",
       "17433        NaN             0.0                0.0  \n",
       "17434        NaN             0.0                0.0  \n",
       "17514        NaN             0.0                0.0  \n",
       "18295        NaN             0.0                0.0  \n",
       "18296        NaN             0.0                0.0  \n",
       "18561        NaN             0.0                0.0  \n",
       "18734        NaN             0.0                0.0  "
      ]
     },
     "execution_count": 58,
     "metadata": {},
     "output_type": "execute_result"
    }
   ],
   "source": [
    "df[df['fuel_type'] == 'Electricity'].head(10)"
   ]
  },
  {
   "cell_type": "code",
   "execution_count": 68,
   "metadata": {},
   "outputs": [
    {
     "data": {
      "text/html": [
       "<div>\n",
       "<style scoped>\n",
       "    .dataframe tbody tr th:only-of-type {\n",
       "        vertical-align: middle;\n",
       "    }\n",
       "\n",
       "    .dataframe tbody tr th {\n",
       "        vertical-align: top;\n",
       "    }\n",
       "\n",
       "    .dataframe thead th {\n",
       "        text-align: right;\n",
       "    }\n",
       "</style>\n",
       "<table border=\"1\" class=\"dataframe\">\n",
       "  <thead>\n",
       "    <tr style=\"text-align: right;\">\n",
       "      <th></th>\n",
       "      <th>vehicle_id</th>\n",
       "      <th>year</th>\n",
       "      <th>make</th>\n",
       "      <th>model</th>\n",
       "      <th>class</th>\n",
       "      <th>drive</th>\n",
       "      <th>transmission</th>\n",
       "      <th>transmission_type</th>\n",
       "      <th>engine_index</th>\n",
       "      <th>engine_descriptor</th>\n",
       "      <th>engine_cylinders</th>\n",
       "      <th>engine_displacement</th>\n",
       "      <th>turbocharger</th>\n",
       "      <th>supercharger</th>\n",
       "      <th>fuel_type</th>\n",
       "      <th>fuel_type_1</th>\n",
       "      <th>fuel_type_2</th>\n",
       "      <th>city_mpg_ft1</th>\n",
       "      <th>unrounded_city_mpg_ft1</th>\n",
       "      <th>city_mpg_ft2</th>\n",
       "      <th>unrounded_city_mpg_ft2</th>\n",
       "      <th>city_gasoline_consumption_cd</th>\n",
       "      <th>city_electricity_consumption</th>\n",
       "      <th>city_utility_factor</th>\n",
       "      <th>highway_mpg_ft1</th>\n",
       "      <th>unrounded_highway_mpg_ft1</th>\n",
       "      <th>highway_mpg_ft2</th>\n",
       "      <th>unrounded_highway_mpg_ft2</th>\n",
       "      <th>highway_gasoline_consumption_cd</th>\n",
       "      <th>highway_electricity_consumption</th>\n",
       "      <th>highway_utility_factor</th>\n",
       "      <th>unadjusted_city_mpg_ft1</th>\n",
       "      <th>unadjusted_highway_mpg_ft1</th>\n",
       "      <th>unadjusted_city_mpg_ft2</th>\n",
       "      <th>unadjusted_highway_mpg_ft2</th>\n",
       "      <th>combined_mpg_ft1</th>\n",
       "      <th>unrounded_combined_mpg_ft1</th>\n",
       "      <th>combined_mpg_ft2</th>\n",
       "      <th>unrounded_combined_mpg_ft2</th>\n",
       "      <th>combined_electricity_consumption</th>\n",
       "      <th>combined_gasoline_consumption_cd</th>\n",
       "      <th>combined_utility_factor</th>\n",
       "      <th>annual_fuel_cost_ft1</th>\n",
       "      <th>annual_fuel_cost_ft2</th>\n",
       "      <th>gas_guzzler_tax</th>\n",
       "      <th>save_or_spend_5_year</th>\n",
       "      <th>annual_consumption_in_barrels_ft1</th>\n",
       "      <th>annual_consumption_in_barrels_ft2</th>\n",
       "      <th>tailpipe_co2_ft1</th>\n",
       "      <th>tailpipe_co2_in_grams_mile_ft1</th>\n",
       "      <th>tailpipe_co2_ft2</th>\n",
       "      <th>tailpipe_co2_in_grams_mile_ft2</th>\n",
       "      <th>fuel_economy_score</th>\n",
       "      <th>ghg_score</th>\n",
       "      <th>ghg_score_alt_fuel</th>\n",
       "      <th>my_mpg_data</th>\n",
       "      <th>x2d_passenger_volume</th>\n",
       "      <th>x2d_luggage_volume</th>\n",
       "      <th>x4d_passenger_volume</th>\n",
       "      <th>x4d_luggage_volume</th>\n",
       "      <th>hatchback_passenger_volume</th>\n",
       "      <th>hatchback_luggage_volume</th>\n",
       "      <th>start_stop_technology</th>\n",
       "      <th>alternative_fuel_technology</th>\n",
       "      <th>electric_motor</th>\n",
       "      <th>manufacturer_code</th>\n",
       "      <th>gasoline_electricity_blended_cd</th>\n",
       "      <th>vehicle_charger</th>\n",
       "      <th>alternate_charger</th>\n",
       "      <th>hours_to_charge_120v</th>\n",
       "      <th>hours_to_charge_240v</th>\n",
       "      <th>hours_to_charge_ac_240v</th>\n",
       "      <th>composite_city_mpg</th>\n",
       "      <th>composite_highway_mpg</th>\n",
       "      <th>composite_combined_mpg</th>\n",
       "      <th>range_ft1</th>\n",
       "      <th>city_range_ft1</th>\n",
       "      <th>highway_range_ft1</th>\n",
       "      <th>range_ft2</th>\n",
       "      <th>city_range_ft2</th>\n",
       "      <th>highway_range_ft2</th>\n",
       "    </tr>\n",
       "  </thead>\n",
       "  <tbody>\n",
       "    <tr>\n",
       "      <th>18087</th>\n",
       "      <td>16403</td>\n",
       "      <td>2000</td>\n",
       "      <td>Chevrolet</td>\n",
       "      <td>Cavalier (Bi-fuel CNG)</td>\n",
       "      <td>Subcompact Cars</td>\n",
       "      <td>Front-Wheel Drive</td>\n",
       "      <td>Automatic 3-Speed</td>\n",
       "      <td>NaN</td>\n",
       "      <td>0</td>\n",
       "      <td>NONE</td>\n",
       "      <td>4.0</td>\n",
       "      <td>2.2</td>\n",
       "      <td>NaN</td>\n",
       "      <td>NaN</td>\n",
       "      <td>Gasoline or natural gas</td>\n",
       "      <td>Regular Gasoline</td>\n",
       "      <td>NaN</td>\n",
       "      <td>20</td>\n",
       "      <td>0.0</td>\n",
       "      <td>18</td>\n",
       "      <td>0.0</td>\n",
       "      <td>0.0</td>\n",
       "      <td>0.0</td>\n",
       "      <td>0.0</td>\n",
       "      <td>25</td>\n",
       "      <td>0.0</td>\n",
       "      <td>25</td>\n",
       "      <td>0.0</td>\n",
       "      <td>0.0</td>\n",
       "      <td>0.0</td>\n",
       "      <td>0.0</td>\n",
       "      <td>24.5984</td>\n",
       "      <td>35.3000</td>\n",
       "      <td>22.5446</td>\n",
       "      <td>34.6154</td>\n",
       "      <td>22</td>\n",
       "      <td>0.0</td>\n",
       "      <td>20</td>\n",
       "      <td>0.0</td>\n",
       "      <td>0.0</td>\n",
       "      <td>0.0</td>\n",
       "      <td>0.0</td>\n",
       "      <td>1600</td>\n",
       "      <td>1550</td>\n",
       "      <td>NaN</td>\n",
       "      <td>-1250</td>\n",
       "      <td>14.982273</td>\n",
       "      <td>0.093000</td>\n",
       "      <td>-1</td>\n",
       "      <td>403.954545</td>\n",
       "      <td>-1</td>\n",
       "      <td>354.476250</td>\n",
       "      <td>-1</td>\n",
       "      <td>-1</td>\n",
       "      <td>-1</td>\n",
       "      <td>Y</td>\n",
       "      <td>0</td>\n",
       "      <td>0</td>\n",
       "      <td>92</td>\n",
       "      <td>7</td>\n",
       "      <td>0</td>\n",
       "      <td>0</td>\n",
       "      <td>NaN</td>\n",
       "      <td>Bifuel (CNG)</td>\n",
       "      <td>NaN</td>\n",
       "      <td>NaN</td>\n",
       "      <td>False</td>\n",
       "      <td>NaN</td>\n",
       "      <td>NaN</td>\n",
       "      <td>0</td>\n",
       "      <td>0.0</td>\n",
       "      <td>0.0</td>\n",
       "      <td>0</td>\n",
       "      <td>0</td>\n",
       "      <td>0</td>\n",
       "      <td>0</td>\n",
       "      <td>0.0</td>\n",
       "      <td>0.0</td>\n",
       "      <td>NaN</td>\n",
       "      <td>0.0</td>\n",
       "      <td>0.0</td>\n",
       "    </tr>\n",
       "    <tr>\n",
       "      <th>18260</th>\n",
       "      <td>16417</td>\n",
       "      <td>2000</td>\n",
       "      <td>Ford</td>\n",
       "      <td>Explorer 2WD</td>\n",
       "      <td>Sport Utility Vehicle - 2WD</td>\n",
       "      <td>Rear-Wheel Drive</td>\n",
       "      <td>Automatic 5-Speed</td>\n",
       "      <td>CLKUP</td>\n",
       "      <td>0</td>\n",
       "      <td>FLEX-FUEL</td>\n",
       "      <td>6.0</td>\n",
       "      <td>4.0</td>\n",
       "      <td>NaN</td>\n",
       "      <td>NaN</td>\n",
       "      <td>Gasoline or E85</td>\n",
       "      <td>Regular Gasoline</td>\n",
       "      <td>NaN</td>\n",
       "      <td>14</td>\n",
       "      <td>0.0</td>\n",
       "      <td>10</td>\n",
       "      <td>0.0</td>\n",
       "      <td>0.0</td>\n",
       "      <td>0.0</td>\n",
       "      <td>0.0</td>\n",
       "      <td>17</td>\n",
       "      <td>0.0</td>\n",
       "      <td>12</td>\n",
       "      <td>0.0</td>\n",
       "      <td>0.0</td>\n",
       "      <td>0.0</td>\n",
       "      <td>0.0</td>\n",
       "      <td>17.4000</td>\n",
       "      <td>23.2000</td>\n",
       "      <td>12.6000</td>\n",
       "      <td>17.0000</td>\n",
       "      <td>15</td>\n",
       "      <td>0.0</td>\n",
       "      <td>11</td>\n",
       "      <td>0.0</td>\n",
       "      <td>0.0</td>\n",
       "      <td>0.0</td>\n",
       "      <td>0.0</td>\n",
       "      <td>2350</td>\n",
       "      <td>2650</td>\n",
       "      <td>NaN</td>\n",
       "      <td>-5000</td>\n",
       "      <td>21.974000</td>\n",
       "      <td>6.810000</td>\n",
       "      <td>-1</td>\n",
       "      <td>592.466667</td>\n",
       "      <td>-1</td>\n",
       "      <td>563.818182</td>\n",
       "      <td>-1</td>\n",
       "      <td>-1</td>\n",
       "      <td>-1</td>\n",
       "      <td>N</td>\n",
       "      <td>0</td>\n",
       "      <td>0</td>\n",
       "      <td>0</td>\n",
       "      <td>0</td>\n",
       "      <td>0</td>\n",
       "      <td>0</td>\n",
       "      <td>NaN</td>\n",
       "      <td>FFV</td>\n",
       "      <td>NaN</td>\n",
       "      <td>NaN</td>\n",
       "      <td>False</td>\n",
       "      <td>NaN</td>\n",
       "      <td>NaN</td>\n",
       "      <td>0</td>\n",
       "      <td>0.0</td>\n",
       "      <td>0.0</td>\n",
       "      <td>0</td>\n",
       "      <td>0</td>\n",
       "      <td>0</td>\n",
       "      <td>0</td>\n",
       "      <td>0.0</td>\n",
       "      <td>0.0</td>\n",
       "      <td>NaN</td>\n",
       "      <td>0.0</td>\n",
       "      <td>0.0</td>\n",
       "    </tr>\n",
       "    <tr>\n",
       "      <th>18291</th>\n",
       "      <td>16411</td>\n",
       "      <td>2000</td>\n",
       "      <td>Ford</td>\n",
       "      <td>Ranger 2WD FFV</td>\n",
       "      <td>Standard Pickup Trucks 2WD</td>\n",
       "      <td>Rear-Wheel Drive</td>\n",
       "      <td>Automatic 4-Speed</td>\n",
       "      <td>CLKUP</td>\n",
       "      <td>0</td>\n",
       "      <td>FLEX-FUEL</td>\n",
       "      <td>6.0</td>\n",
       "      <td>3.0</td>\n",
       "      <td>NaN</td>\n",
       "      <td>NaN</td>\n",
       "      <td>Gasoline or E85</td>\n",
       "      <td>Regular Gasoline</td>\n",
       "      <td>NaN</td>\n",
       "      <td>15</td>\n",
       "      <td>0.0</td>\n",
       "      <td>11</td>\n",
       "      <td>0.0</td>\n",
       "      <td>0.0</td>\n",
       "      <td>0.0</td>\n",
       "      <td>0.0</td>\n",
       "      <td>20</td>\n",
       "      <td>0.0</td>\n",
       "      <td>15</td>\n",
       "      <td>0.0</td>\n",
       "      <td>0.0</td>\n",
       "      <td>0.0</td>\n",
       "      <td>0.0</td>\n",
       "      <td>18.4714</td>\n",
       "      <td>28.3722</td>\n",
       "      <td>13.3899</td>\n",
       "      <td>20.3779</td>\n",
       "      <td>17</td>\n",
       "      <td>0.0</td>\n",
       "      <td>12</td>\n",
       "      <td>0.0</td>\n",
       "      <td>0.0</td>\n",
       "      <td>0.0</td>\n",
       "      <td>0.0</td>\n",
       "      <td>2050</td>\n",
       "      <td>2400</td>\n",
       "      <td>NaN</td>\n",
       "      <td>-3500</td>\n",
       "      <td>19.388824</td>\n",
       "      <td>6.242500</td>\n",
       "      <td>-1</td>\n",
       "      <td>522.764706</td>\n",
       "      <td>-1</td>\n",
       "      <td>516.833333</td>\n",
       "      <td>-1</td>\n",
       "      <td>-1</td>\n",
       "      <td>-1</td>\n",
       "      <td>Y</td>\n",
       "      <td>0</td>\n",
       "      <td>0</td>\n",
       "      <td>0</td>\n",
       "      <td>0</td>\n",
       "      <td>0</td>\n",
       "      <td>0</td>\n",
       "      <td>NaN</td>\n",
       "      <td>FFV</td>\n",
       "      <td>NaN</td>\n",
       "      <td>NaN</td>\n",
       "      <td>False</td>\n",
       "      <td>NaN</td>\n",
       "      <td>NaN</td>\n",
       "      <td>0</td>\n",
       "      <td>0.0</td>\n",
       "      <td>0.0</td>\n",
       "      <td>0</td>\n",
       "      <td>0</td>\n",
       "      <td>0</td>\n",
       "      <td>0</td>\n",
       "      <td>0.0</td>\n",
       "      <td>0.0</td>\n",
       "      <td>NaN</td>\n",
       "      <td>0.0</td>\n",
       "      <td>0.0</td>\n",
       "    </tr>\n",
       "    <tr>\n",
       "      <th>18292</th>\n",
       "      <td>16412</td>\n",
       "      <td>2000</td>\n",
       "      <td>Ford</td>\n",
       "      <td>Ranger 2WD FFV</td>\n",
       "      <td>Standard Pickup Trucks 2WD</td>\n",
       "      <td>Rear-Wheel Drive</td>\n",
       "      <td>Manual 5-Speed</td>\n",
       "      <td>NaN</td>\n",
       "      <td>0</td>\n",
       "      <td>FLEX-FUEL</td>\n",
       "      <td>6.0</td>\n",
       "      <td>3.0</td>\n",
       "      <td>NaN</td>\n",
       "      <td>NaN</td>\n",
       "      <td>Gasoline or E85</td>\n",
       "      <td>Regular Gasoline</td>\n",
       "      <td>NaN</td>\n",
       "      <td>16</td>\n",
       "      <td>0.0</td>\n",
       "      <td>12</td>\n",
       "      <td>0.0</td>\n",
       "      <td>0.0</td>\n",
       "      <td>0.0</td>\n",
       "      <td>0.0</td>\n",
       "      <td>21</td>\n",
       "      <td>0.0</td>\n",
       "      <td>16</td>\n",
       "      <td>0.0</td>\n",
       "      <td>0.0</td>\n",
       "      <td>0.0</td>\n",
       "      <td>0.0</td>\n",
       "      <td>19.5097</td>\n",
       "      <td>29.2301</td>\n",
       "      <td>14.5524</td>\n",
       "      <td>21.6378</td>\n",
       "      <td>18</td>\n",
       "      <td>0.0</td>\n",
       "      <td>13</td>\n",
       "      <td>0.0</td>\n",
       "      <td>0.0</td>\n",
       "      <td>0.0</td>\n",
       "      <td>0.0</td>\n",
       "      <td>1950</td>\n",
       "      <td>2250</td>\n",
       "      <td>NaN</td>\n",
       "      <td>-3000</td>\n",
       "      <td>18.311667</td>\n",
       "      <td>5.762308</td>\n",
       "      <td>-1</td>\n",
       "      <td>493.722222</td>\n",
       "      <td>-1</td>\n",
       "      <td>477.076923</td>\n",
       "      <td>-1</td>\n",
       "      <td>-1</td>\n",
       "      <td>-1</td>\n",
       "      <td>Y</td>\n",
       "      <td>0</td>\n",
       "      <td>0</td>\n",
       "      <td>0</td>\n",
       "      <td>0</td>\n",
       "      <td>0</td>\n",
       "      <td>0</td>\n",
       "      <td>NaN</td>\n",
       "      <td>FFV</td>\n",
       "      <td>NaN</td>\n",
       "      <td>NaN</td>\n",
       "      <td>False</td>\n",
       "      <td>NaN</td>\n",
       "      <td>NaN</td>\n",
       "      <td>0</td>\n",
       "      <td>0.0</td>\n",
       "      <td>0.0</td>\n",
       "      <td>0</td>\n",
       "      <td>0</td>\n",
       "      <td>0</td>\n",
       "      <td>0</td>\n",
       "      <td>0.0</td>\n",
       "      <td>0.0</td>\n",
       "      <td>NaN</td>\n",
       "      <td>0.0</td>\n",
       "      <td>0.0</td>\n",
       "    </tr>\n",
       "    <tr>\n",
       "      <th>18293</th>\n",
       "      <td>16418</td>\n",
       "      <td>2000</td>\n",
       "      <td>Ford</td>\n",
       "      <td>Ranger 4WD FFV</td>\n",
       "      <td>Standard Pickup Trucks 4WD</td>\n",
       "      <td>4-Wheel or All-Wheel Drive</td>\n",
       "      <td>Automatic 4-Speed</td>\n",
       "      <td>CLKUP</td>\n",
       "      <td>0</td>\n",
       "      <td>FLEX-FUEL</td>\n",
       "      <td>6.0</td>\n",
       "      <td>3.0</td>\n",
       "      <td>NaN</td>\n",
       "      <td>NaN</td>\n",
       "      <td>Gasoline or E85</td>\n",
       "      <td>Regular Gasoline</td>\n",
       "      <td>NaN</td>\n",
       "      <td>14</td>\n",
       "      <td>0.0</td>\n",
       "      <td>11</td>\n",
       "      <td>0.0</td>\n",
       "      <td>0.0</td>\n",
       "      <td>0.0</td>\n",
       "      <td>0.0</td>\n",
       "      <td>18</td>\n",
       "      <td>0.0</td>\n",
       "      <td>14</td>\n",
       "      <td>0.0</td>\n",
       "      <td>0.0</td>\n",
       "      <td>0.0</td>\n",
       "      <td>0.0</td>\n",
       "      <td>16.8767</td>\n",
       "      <td>24.3738</td>\n",
       "      <td>0.0000</td>\n",
       "      <td>0.0000</td>\n",
       "      <td>15</td>\n",
       "      <td>0.0</td>\n",
       "      <td>12</td>\n",
       "      <td>0.0</td>\n",
       "      <td>0.0</td>\n",
       "      <td>0.0</td>\n",
       "      <td>0.0</td>\n",
       "      <td>2350</td>\n",
       "      <td>2400</td>\n",
       "      <td>NaN</td>\n",
       "      <td>-5000</td>\n",
       "      <td>21.974000</td>\n",
       "      <td>6.242500</td>\n",
       "      <td>-1</td>\n",
       "      <td>592.466667</td>\n",
       "      <td>-1</td>\n",
       "      <td>516.833333</td>\n",
       "      <td>-1</td>\n",
       "      <td>-1</td>\n",
       "      <td>-1</td>\n",
       "      <td>Y</td>\n",
       "      <td>0</td>\n",
       "      <td>0</td>\n",
       "      <td>0</td>\n",
       "      <td>0</td>\n",
       "      <td>0</td>\n",
       "      <td>0</td>\n",
       "      <td>NaN</td>\n",
       "      <td>FFV</td>\n",
       "      <td>NaN</td>\n",
       "      <td>NaN</td>\n",
       "      <td>False</td>\n",
       "      <td>NaN</td>\n",
       "      <td>NaN</td>\n",
       "      <td>0</td>\n",
       "      <td>0.0</td>\n",
       "      <td>0.0</td>\n",
       "      <td>0</td>\n",
       "      <td>0</td>\n",
       "      <td>0</td>\n",
       "      <td>0</td>\n",
       "      <td>0.0</td>\n",
       "      <td>0.0</td>\n",
       "      <td>NaN</td>\n",
       "      <td>0.0</td>\n",
       "      <td>0.0</td>\n",
       "    </tr>\n",
       "  </tbody>\n",
       "</table>\n",
       "</div>"
      ],
      "text/plain": [
       "       vehicle_id  year       make                   model  \\\n",
       "18087       16403  2000  Chevrolet  Cavalier (Bi-fuel CNG)   \n",
       "18260       16417  2000       Ford            Explorer 2WD   \n",
       "18291       16411  2000       Ford          Ranger 2WD FFV   \n",
       "18292       16412  2000       Ford          Ranger 2WD FFV   \n",
       "18293       16418  2000       Ford          Ranger 4WD FFV   \n",
       "\n",
       "                             class                       drive  \\\n",
       "18087              Subcompact Cars           Front-Wheel Drive   \n",
       "18260  Sport Utility Vehicle - 2WD            Rear-Wheel Drive   \n",
       "18291   Standard Pickup Trucks 2WD            Rear-Wheel Drive   \n",
       "18292   Standard Pickup Trucks 2WD            Rear-Wheel Drive   \n",
       "18293   Standard Pickup Trucks 4WD  4-Wheel or All-Wheel Drive   \n",
       "\n",
       "            transmission transmission_type  engine_index engine_descriptor  \\\n",
       "18087  Automatic 3-Speed               NaN             0              NONE   \n",
       "18260  Automatic 5-Speed             CLKUP             0         FLEX-FUEL   \n",
       "18291  Automatic 4-Speed             CLKUP             0         FLEX-FUEL   \n",
       "18292     Manual 5-Speed               NaN             0         FLEX-FUEL   \n",
       "18293  Automatic 4-Speed             CLKUP             0         FLEX-FUEL   \n",
       "\n",
       "       engine_cylinders  engine_displacement turbocharger  supercharger  \\\n",
       "18087               4.0                  2.2          NaN           NaN   \n",
       "18260               6.0                  4.0          NaN           NaN   \n",
       "18291               6.0                  3.0          NaN           NaN   \n",
       "18292               6.0                  3.0          NaN           NaN   \n",
       "18293               6.0                  3.0          NaN           NaN   \n",
       "\n",
       "                     fuel_type       fuel_type_1  fuel_type_2  city_mpg_ft1  \\\n",
       "18087  Gasoline or natural gas  Regular Gasoline          NaN            20   \n",
       "18260          Gasoline or E85  Regular Gasoline          NaN            14   \n",
       "18291          Gasoline or E85  Regular Gasoline          NaN            15   \n",
       "18292          Gasoline or E85  Regular Gasoline          NaN            16   \n",
       "18293          Gasoline or E85  Regular Gasoline          NaN            14   \n",
       "\n",
       "       unrounded_city_mpg_ft1  city_mpg_ft2  unrounded_city_mpg_ft2  \\\n",
       "18087                     0.0            18                     0.0   \n",
       "18260                     0.0            10                     0.0   \n",
       "18291                     0.0            11                     0.0   \n",
       "18292                     0.0            12                     0.0   \n",
       "18293                     0.0            11                     0.0   \n",
       "\n",
       "       city_gasoline_consumption_cd  city_electricity_consumption  \\\n",
       "18087                           0.0                           0.0   \n",
       "18260                           0.0                           0.0   \n",
       "18291                           0.0                           0.0   \n",
       "18292                           0.0                           0.0   \n",
       "18293                           0.0                           0.0   \n",
       "\n",
       "       city_utility_factor  highway_mpg_ft1  unrounded_highway_mpg_ft1  \\\n",
       "18087                  0.0               25                        0.0   \n",
       "18260                  0.0               17                        0.0   \n",
       "18291                  0.0               20                        0.0   \n",
       "18292                  0.0               21                        0.0   \n",
       "18293                  0.0               18                        0.0   \n",
       "\n",
       "       highway_mpg_ft2  unrounded_highway_mpg_ft2  \\\n",
       "18087               25                        0.0   \n",
       "18260               12                        0.0   \n",
       "18291               15                        0.0   \n",
       "18292               16                        0.0   \n",
       "18293               14                        0.0   \n",
       "\n",
       "       highway_gasoline_consumption_cd  highway_electricity_consumption  \\\n",
       "18087                              0.0                              0.0   \n",
       "18260                              0.0                              0.0   \n",
       "18291                              0.0                              0.0   \n",
       "18292                              0.0                              0.0   \n",
       "18293                              0.0                              0.0   \n",
       "\n",
       "       highway_utility_factor  unadjusted_city_mpg_ft1  \\\n",
       "18087                     0.0                  24.5984   \n",
       "18260                     0.0                  17.4000   \n",
       "18291                     0.0                  18.4714   \n",
       "18292                     0.0                  19.5097   \n",
       "18293                     0.0                  16.8767   \n",
       "\n",
       "       unadjusted_highway_mpg_ft1  unadjusted_city_mpg_ft2  \\\n",
       "18087                     35.3000                  22.5446   \n",
       "18260                     23.2000                  12.6000   \n",
       "18291                     28.3722                  13.3899   \n",
       "18292                     29.2301                  14.5524   \n",
       "18293                     24.3738                   0.0000   \n",
       "\n",
       "       unadjusted_highway_mpg_ft2  combined_mpg_ft1  \\\n",
       "18087                     34.6154                22   \n",
       "18260                     17.0000                15   \n",
       "18291                     20.3779                17   \n",
       "18292                     21.6378                18   \n",
       "18293                      0.0000                15   \n",
       "\n",
       "       unrounded_combined_mpg_ft1  combined_mpg_ft2  \\\n",
       "18087                         0.0                20   \n",
       "18260                         0.0                11   \n",
       "18291                         0.0                12   \n",
       "18292                         0.0                13   \n",
       "18293                         0.0                12   \n",
       "\n",
       "       unrounded_combined_mpg_ft2  combined_electricity_consumption  \\\n",
       "18087                         0.0                               0.0   \n",
       "18260                         0.0                               0.0   \n",
       "18291                         0.0                               0.0   \n",
       "18292                         0.0                               0.0   \n",
       "18293                         0.0                               0.0   \n",
       "\n",
       "       combined_gasoline_consumption_cd  combined_utility_factor  \\\n",
       "18087                               0.0                      0.0   \n",
       "18260                               0.0                      0.0   \n",
       "18291                               0.0                      0.0   \n",
       "18292                               0.0                      0.0   \n",
       "18293                               0.0                      0.0   \n",
       "\n",
       "       annual_fuel_cost_ft1  annual_fuel_cost_ft2 gas_guzzler_tax  \\\n",
       "18087                  1600                  1550             NaN   \n",
       "18260                  2350                  2650             NaN   \n",
       "18291                  2050                  2400             NaN   \n",
       "18292                  1950                  2250             NaN   \n",
       "18293                  2350                  2400             NaN   \n",
       "\n",
       "       save_or_spend_5_year  annual_consumption_in_barrels_ft1  \\\n",
       "18087                 -1250                          14.982273   \n",
       "18260                 -5000                          21.974000   \n",
       "18291                 -3500                          19.388824   \n",
       "18292                 -3000                          18.311667   \n",
       "18293                 -5000                          21.974000   \n",
       "\n",
       "       annual_consumption_in_barrels_ft2  tailpipe_co2_ft1  \\\n",
       "18087                           0.093000                -1   \n",
       "18260                           6.810000                -1   \n",
       "18291                           6.242500                -1   \n",
       "18292                           5.762308                -1   \n",
       "18293                           6.242500                -1   \n",
       "\n",
       "       tailpipe_co2_in_grams_mile_ft1  tailpipe_co2_ft2  \\\n",
       "18087                      403.954545                -1   \n",
       "18260                      592.466667                -1   \n",
       "18291                      522.764706                -1   \n",
       "18292                      493.722222                -1   \n",
       "18293                      592.466667                -1   \n",
       "\n",
       "       tailpipe_co2_in_grams_mile_ft2  fuel_economy_score  ghg_score  \\\n",
       "18087                      354.476250                  -1         -1   \n",
       "18260                      563.818182                  -1         -1   \n",
       "18291                      516.833333                  -1         -1   \n",
       "18292                      477.076923                  -1         -1   \n",
       "18293                      516.833333                  -1         -1   \n",
       "\n",
       "       ghg_score_alt_fuel my_mpg_data  x2d_passenger_volume  \\\n",
       "18087                  -1           Y                     0   \n",
       "18260                  -1           N                     0   \n",
       "18291                  -1           Y                     0   \n",
       "18292                  -1           Y                     0   \n",
       "18293                  -1           Y                     0   \n",
       "\n",
       "       x2d_luggage_volume  x4d_passenger_volume  x4d_luggage_volume  \\\n",
       "18087                   0                    92                   7   \n",
       "18260                   0                     0                   0   \n",
       "18291                   0                     0                   0   \n",
       "18292                   0                     0                   0   \n",
       "18293                   0                     0                   0   \n",
       "\n",
       "       hatchback_passenger_volume  hatchback_luggage_volume  \\\n",
       "18087                           0                         0   \n",
       "18260                           0                         0   \n",
       "18291                           0                         0   \n",
       "18292                           0                         0   \n",
       "18293                           0                         0   \n",
       "\n",
       "       start_stop_technology alternative_fuel_technology  electric_motor  \\\n",
       "18087                    NaN                Bifuel (CNG)             NaN   \n",
       "18260                    NaN                         FFV             NaN   \n",
       "18291                    NaN                         FFV             NaN   \n",
       "18292                    NaN                         FFV             NaN   \n",
       "18293                    NaN                         FFV             NaN   \n",
       "\n",
       "       manufacturer_code  gasoline_electricity_blended_cd  vehicle_charger  \\\n",
       "18087                NaN                            False              NaN   \n",
       "18260                NaN                            False              NaN   \n",
       "18291                NaN                            False              NaN   \n",
       "18292                NaN                            False              NaN   \n",
       "18293                NaN                            False              NaN   \n",
       "\n",
       "       alternate_charger  hours_to_charge_120v  hours_to_charge_240v  \\\n",
       "18087                NaN                     0                   0.0   \n",
       "18260                NaN                     0                   0.0   \n",
       "18291                NaN                     0                   0.0   \n",
       "18292                NaN                     0                   0.0   \n",
       "18293                NaN                     0                   0.0   \n",
       "\n",
       "       hours_to_charge_ac_240v  composite_city_mpg  composite_highway_mpg  \\\n",
       "18087                      0.0                   0                      0   \n",
       "18260                      0.0                   0                      0   \n",
       "18291                      0.0                   0                      0   \n",
       "18292                      0.0                   0                      0   \n",
       "18293                      0.0                   0                      0   \n",
       "\n",
       "       composite_combined_mpg  range_ft1  city_range_ft1  highway_range_ft1  \\\n",
       "18087                       0          0             0.0                0.0   \n",
       "18260                       0          0             0.0                0.0   \n",
       "18291                       0          0             0.0                0.0   \n",
       "18292                       0          0             0.0                0.0   \n",
       "18293                       0          0             0.0                0.0   \n",
       "\n",
       "       range_ft2  city_range_ft2  highway_range_ft2  \n",
       "18087        NaN             0.0                0.0  \n",
       "18260        NaN             0.0                0.0  \n",
       "18291        NaN             0.0                0.0  \n",
       "18292        NaN             0.0                0.0  \n",
       "18293        NaN             0.0                0.0  "
      ]
     },
     "execution_count": 68,
     "metadata": {},
     "output_type": "execute_result"
    }
   ],
   "source": [
    "df[(df['city_mpg_ft1'] != 0.0) & (df['city_mpg_ft2'] != 0.0)].head()"
   ]
  },
  {
   "cell_type": "code",
   "execution_count": 76,
   "metadata": {},
   "outputs": [
    {
     "data": {
      "text/plain": [
       "['Regular Gasoline',\n",
       " 'Diesel',\n",
       " 'Premium Gasoline',\n",
       " 'Natural Gas',\n",
       " 'Electricity']"
      ]
     },
     "execution_count": 76,
     "metadata": {},
     "output_type": "execute_result"
    }
   ],
   "source": [
    "#list(df['fuel_type_1'].unique()) + [' '] + \n",
    "list(df['fuel_type_1'].unique())"
   ]
  },
  {
   "cell_type": "code",
   "execution_count": null,
   "metadata": {},
   "outputs": [],
   "source": []
  }
 ],
 "metadata": {
  "kernelspec": {
   "display_name": "base",
   "language": "python",
   "name": "python3"
  },
  "language_info": {
   "codemirror_mode": {
    "name": "ipython",
    "version": 3
   },
   "file_extension": ".py",
   "mimetype": "text/x-python",
   "name": "python",
   "nbconvert_exporter": "python",
   "pygments_lexer": "ipython3",
   "version": "3.9.13"
  },
  "orig_nbformat": 4
 },
 "nbformat": 4,
 "nbformat_minor": 2
}
